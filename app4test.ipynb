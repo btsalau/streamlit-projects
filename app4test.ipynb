{
 "cells": [
  {
   "cell_type": "code",
   "execution_count": 26,
   "metadata": {},
   "outputs": [],
   "source": [
    "import requests\n",
    "from requests_html import HTMLSession, HTML\n",
    "import pandas as pd\n",
    "import yfinance as yf\n",
    "import plotly.express as px\n",
    "import plotly.graph_objects as go"
   ]
  },
  {
   "cell_type": "code",
   "execution_count": 2,
   "metadata": {},
   "outputs": [],
   "source": [
    "url1 = 'https://en.wikipedia.org/wiki/S%26P_500_Dividend_Aristocrats'\n",
    "url2 = 'https://en.wikipedia.org/wiki/List_of_S%26P_500_companies'"
   ]
  },
  {
   "cell_type": "code",
   "execution_count": 3,
   "metadata": {},
   "outputs": [],
   "source": [
    "s = HTMLSession()\n",
    "r = s.get(url2)"
   ]
  },
  {
   "cell_type": "code",
   "execution_count": 4,
   "metadata": {},
   "outputs": [
    {
     "data": {
      "text/plain": [
       "<HTML url='https://en.wikipedia.org/wiki/List_of_S%26P_500_companies'>"
      ]
     },
     "execution_count": 4,
     "metadata": {},
     "output_type": "execute_result"
    }
   ],
   "source": [
    "r.html"
   ]
  },
  {
   "cell_type": "code",
   "execution_count": 6,
   "metadata": {},
   "outputs": [
    {
     "data": {
      "text/plain": [
       "<Element 'table' class=('wikitable', 'sortable') id='constituents'>"
      ]
     },
     "execution_count": 6,
     "metadata": {},
     "output_type": "execute_result"
    }
   ],
   "source": [
    "table = r.html.find('table', first=True)\n",
    "table"
   ]
  },
  {
   "cell_type": "code",
   "execution_count": 7,
   "metadata": {},
   "outputs": [],
   "source": [
    "rows = table.find('tr')"
   ]
  },
  {
   "cell_type": "code",
   "execution_count": 8,
   "metadata": {},
   "outputs": [],
   "source": [
    "rows\n",
    "row = rows[-1]"
   ]
  },
  {
   "cell_type": "code",
   "execution_count": 9,
   "metadata": {},
   "outputs": [
    {
     "data": {
      "text/plain": [
       "504"
      ]
     },
     "execution_count": 9,
     "metadata": {},
     "output_type": "execute_result"
    }
   ],
   "source": [
    "len(rows)"
   ]
  },
  {
   "cell_type": "code",
   "execution_count": 10,
   "metadata": {},
   "outputs": [
    {
     "data": {
      "text/plain": [
       "<Element 'tr' >"
      ]
     },
     "execution_count": 10,
     "metadata": {},
     "output_type": "execute_result"
    }
   ],
   "source": [
    "row"
   ]
  },
  {
   "cell_type": "code",
   "execution_count": 11,
   "metadata": {},
   "outputs": [
    {
     "name": "stdout",
     "output_type": "stream",
     "text": [
      "ZTS\n",
      "Zoetis\n",
      "reports\n",
      "Health Care\n",
      "Pharmaceuticals\n",
      "Parsippany, New Jersey\n",
      "2013-06-21\n",
      "0001555280\n",
      "1952\n"
     ]
    }
   ],
   "source": [
    "for i in row.find('td'):\n",
    "    print(i.text)\n"
   ]
  },
  {
   "cell_type": "code",
   "execution_count": 12,
   "metadata": {},
   "outputs": [],
   "source": [
    "table_details = [[c.text.strip() for c in row.find('td')] for row in rows[1:]]"
   ]
  },
  {
   "cell_type": "code",
   "execution_count": null,
   "metadata": {},
   "outputs": [],
   "source": [
    "table_details"
   ]
  },
  {
   "cell_type": "code",
   "execution_count": 14,
   "metadata": {},
   "outputs": [],
   "source": [
    "columns = [\n",
    "    'Symbol', 'Security', 'SEC Filings', \n",
    "    'GICS Sector', 'GICS Sub-Industry', \n",
    "    'Headquartes Location', 'Date First Added',\n",
    "    'CIK', 'Founded']"
   ]
  },
  {
   "cell_type": "code",
   "execution_count": 15,
   "metadata": {},
   "outputs": [
    {
     "data": {
      "text/html": [
       "<div>\n",
       "<style scoped>\n",
       "    .dataframe tbody tr th:only-of-type {\n",
       "        vertical-align: middle;\n",
       "    }\n",
       "\n",
       "    .dataframe tbody tr th {\n",
       "        vertical-align: top;\n",
       "    }\n",
       "\n",
       "    .dataframe thead th {\n",
       "        text-align: right;\n",
       "    }\n",
       "</style>\n",
       "<table border=\"1\" class=\"dataframe\">\n",
       "  <thead>\n",
       "    <tr style=\"text-align: right;\">\n",
       "      <th></th>\n",
       "      <th>Symbol</th>\n",
       "      <th>Security</th>\n",
       "      <th>SEC Filings</th>\n",
       "      <th>GICS Sector</th>\n",
       "      <th>GICS Sub-Industry</th>\n",
       "      <th>Headquartes Location</th>\n",
       "      <th>Date First Added</th>\n",
       "      <th>CIK</th>\n",
       "      <th>Founded</th>\n",
       "    </tr>\n",
       "  </thead>\n",
       "  <tbody>\n",
       "    <tr>\n",
       "      <th>0</th>\n",
       "      <td>MMM</td>\n",
       "      <td>3M</td>\n",
       "      <td>reports</td>\n",
       "      <td>Industrials</td>\n",
       "      <td>Industrial Conglomerates</td>\n",
       "      <td>Saint Paul, Minnesota</td>\n",
       "      <td>1976-08-09</td>\n",
       "      <td>0000066740</td>\n",
       "      <td>1902</td>\n",
       "    </tr>\n",
       "    <tr>\n",
       "      <th>1</th>\n",
       "      <td>AOS</td>\n",
       "      <td>A. O. Smith</td>\n",
       "      <td>reports</td>\n",
       "      <td>Industrials</td>\n",
       "      <td>Building Products</td>\n",
       "      <td>Milwaukee, Wisconsin</td>\n",
       "      <td>2017-07-26</td>\n",
       "      <td>0000091142</td>\n",
       "      <td>1916</td>\n",
       "    </tr>\n",
       "    <tr>\n",
       "      <th>2</th>\n",
       "      <td>ABT</td>\n",
       "      <td>Abbott</td>\n",
       "      <td>reports</td>\n",
       "      <td>Health Care</td>\n",
       "      <td>Health Care Equipment</td>\n",
       "      <td>North Chicago, Illinois</td>\n",
       "      <td>1964-03-31</td>\n",
       "      <td>0000001800</td>\n",
       "      <td>1888</td>\n",
       "    </tr>\n",
       "    <tr>\n",
       "      <th>3</th>\n",
       "      <td>ABBV</td>\n",
       "      <td>AbbVie</td>\n",
       "      <td>reports</td>\n",
       "      <td>Health Care</td>\n",
       "      <td>Pharmaceuticals</td>\n",
       "      <td>North Chicago, Illinois</td>\n",
       "      <td>2012-12-31</td>\n",
       "      <td>0001551152</td>\n",
       "      <td>2013 (1888)</td>\n",
       "    </tr>\n",
       "    <tr>\n",
       "      <th>4</th>\n",
       "      <td>ABMD</td>\n",
       "      <td>Abiomed</td>\n",
       "      <td>reports</td>\n",
       "      <td>Health Care</td>\n",
       "      <td>Health Care Equipment</td>\n",
       "      <td>Danvers, Massachusetts</td>\n",
       "      <td>2018-05-31</td>\n",
       "      <td>0000815094</td>\n",
       "      <td>1981</td>\n",
       "    </tr>\n",
       "    <tr>\n",
       "      <th>...</th>\n",
       "      <td>...</td>\n",
       "      <td>...</td>\n",
       "      <td>...</td>\n",
       "      <td>...</td>\n",
       "      <td>...</td>\n",
       "      <td>...</td>\n",
       "      <td>...</td>\n",
       "      <td>...</td>\n",
       "      <td>...</td>\n",
       "    </tr>\n",
       "    <tr>\n",
       "      <th>498</th>\n",
       "      <td>YUM</td>\n",
       "      <td>Yum! Brands</td>\n",
       "      <td>reports</td>\n",
       "      <td>Consumer Discretionary</td>\n",
       "      <td>Restaurants</td>\n",
       "      <td>Louisville, Kentucky</td>\n",
       "      <td>1997-10-06</td>\n",
       "      <td>0001041061</td>\n",
       "      <td>1997</td>\n",
       "    </tr>\n",
       "    <tr>\n",
       "      <th>499</th>\n",
       "      <td>ZBRA</td>\n",
       "      <td>Zebra Technologies</td>\n",
       "      <td>reports</td>\n",
       "      <td>Information Technology</td>\n",
       "      <td>Electronic Equipment &amp; Instruments</td>\n",
       "      <td>Lincolnshire, Illinois</td>\n",
       "      <td>2019-12-23</td>\n",
       "      <td>0000877212</td>\n",
       "      <td>1969</td>\n",
       "    </tr>\n",
       "    <tr>\n",
       "      <th>500</th>\n",
       "      <td>ZBH</td>\n",
       "      <td>Zimmer Biomet</td>\n",
       "      <td>reports</td>\n",
       "      <td>Health Care</td>\n",
       "      <td>Health Care Equipment</td>\n",
       "      <td>Warsaw, Indiana</td>\n",
       "      <td>2001-08-07</td>\n",
       "      <td>0001136869</td>\n",
       "      <td>1927</td>\n",
       "    </tr>\n",
       "    <tr>\n",
       "      <th>501</th>\n",
       "      <td>ZION</td>\n",
       "      <td>Zions Bancorporation</td>\n",
       "      <td>reports</td>\n",
       "      <td>Financials</td>\n",
       "      <td>Regional Banks</td>\n",
       "      <td>Salt Lake City, Utah</td>\n",
       "      <td>2001-06-22</td>\n",
       "      <td>0000109380</td>\n",
       "      <td>1873</td>\n",
       "    </tr>\n",
       "    <tr>\n",
       "      <th>502</th>\n",
       "      <td>ZTS</td>\n",
       "      <td>Zoetis</td>\n",
       "      <td>reports</td>\n",
       "      <td>Health Care</td>\n",
       "      <td>Pharmaceuticals</td>\n",
       "      <td>Parsippany, New Jersey</td>\n",
       "      <td>2013-06-21</td>\n",
       "      <td>0001555280</td>\n",
       "      <td>1952</td>\n",
       "    </tr>\n",
       "  </tbody>\n",
       "</table>\n",
       "<p>503 rows × 9 columns</p>\n",
       "</div>"
      ],
      "text/plain": [
       "    Symbol              Security SEC Filings             GICS Sector  \\\n",
       "0      MMM                    3M     reports             Industrials   \n",
       "1      AOS           A. O. Smith     reports             Industrials   \n",
       "2      ABT                Abbott     reports             Health Care   \n",
       "3     ABBV                AbbVie     reports             Health Care   \n",
       "4     ABMD               Abiomed     reports             Health Care   \n",
       "..     ...                   ...         ...                     ...   \n",
       "498    YUM           Yum! Brands     reports  Consumer Discretionary   \n",
       "499   ZBRA    Zebra Technologies     reports  Information Technology   \n",
       "500    ZBH         Zimmer Biomet     reports             Health Care   \n",
       "501   ZION  Zions Bancorporation     reports              Financials   \n",
       "502    ZTS                Zoetis     reports             Health Care   \n",
       "\n",
       "                      GICS Sub-Industry     Headquartes Location  \\\n",
       "0              Industrial Conglomerates    Saint Paul, Minnesota   \n",
       "1                     Building Products     Milwaukee, Wisconsin   \n",
       "2                 Health Care Equipment  North Chicago, Illinois   \n",
       "3                       Pharmaceuticals  North Chicago, Illinois   \n",
       "4                 Health Care Equipment   Danvers, Massachusetts   \n",
       "..                                  ...                      ...   \n",
       "498                         Restaurants     Louisville, Kentucky   \n",
       "499  Electronic Equipment & Instruments   Lincolnshire, Illinois   \n",
       "500               Health Care Equipment          Warsaw, Indiana   \n",
       "501                      Regional Banks     Salt Lake City, Utah   \n",
       "502                     Pharmaceuticals   Parsippany, New Jersey   \n",
       "\n",
       "    Date First Added         CIK      Founded  \n",
       "0         1976-08-09  0000066740         1902  \n",
       "1         2017-07-26  0000091142         1916  \n",
       "2         1964-03-31  0000001800         1888  \n",
       "3         2012-12-31  0001551152  2013 (1888)  \n",
       "4         2018-05-31  0000815094         1981  \n",
       "..               ...         ...          ...  \n",
       "498       1997-10-06  0001041061         1997  \n",
       "499       2019-12-23  0000877212         1969  \n",
       "500       2001-08-07  0001136869         1927  \n",
       "501       2001-06-22  0000109380         1873  \n",
       "502       2013-06-21  0001555280         1952  \n",
       "\n",
       "[503 rows x 9 columns]"
      ]
     },
     "execution_count": 15,
     "metadata": {},
     "output_type": "execute_result"
    }
   ],
   "source": [
    "df = pd.DataFrame(table_details, columns=columns)\n",
    "df"
   ]
  },
  {
   "cell_type": "code",
   "execution_count": 16,
   "metadata": {},
   "outputs": [],
   "source": [
    "def ticker_info(tickers):\n",
    "    data = yf.download(  # or pdr.get_data_yahoo(...\n",
    "        # tickers list or string as well\n",
    "        tickers = tickers,\n",
    "\n",
    "        # use \"period\" instead of start/end\n",
    "        # valid periods: 1d,5d,1mo,3mo,6mo,1y,2y,5y,10y,ytd,max\n",
    "        # (optional, default is '1mo')\n",
    "        period = \"ytd\",\n",
    "\n",
    "        # fetch data by interval (including intraday if period < 60 days)\n",
    "        # valid intervals: 1m,2m,5m,15m,30m,60m,90m,1h,1d,5d,1wk,1mo,3mo\n",
    "        # (optional, default is '1d')\n",
    "        interval = \"1d\",\n",
    "\n",
    "        # Whether to ignore timezone when aligning ticker data from \n",
    "        # different timezones. Default is True. False may be useful for \n",
    "        # minute/hourly data.\n",
    "        ignore_tz = False,\n",
    "\n",
    "        # group by ticker (to access via data['SPY'])\n",
    "        # (optional, default is 'column')\n",
    "        group_by = 'ticker',\n",
    "\n",
    "        # adjust all OHLC automatically\n",
    "        # (optional, default is False)\n",
    "        auto_adjust = True,\n",
    "\n",
    "        # download pre/post regular market hours data\n",
    "        # (optional, default is False)\n",
    "        prepost = True,\n",
    "\n",
    "        \n",
    "        # use threads for mass downloading? (True/False/Integer)\n",
    "        # (optional, default is True)\n",
    "        threads = True,\n",
    "\n",
    "        # proxy URL scheme use use when downloading?\n",
    "        # (optional, default is None)\n",
    "        proxy = None\n",
    "    )\n",
    "\n",
    "    return data"
   ]
  },
  {
   "cell_type": "code",
   "execution_count": 19,
   "metadata": {},
   "outputs": [
    {
     "data": {
      "text/plain": [
       "0     MMM\n",
       "1     AOS\n",
       "2     ABT\n",
       "3    ABBV\n",
       "4    ABMD\n",
       "5     ACN\n",
       "Name: Symbol, dtype: object"
      ]
     },
     "execution_count": 19,
     "metadata": {},
     "output_type": "execute_result"
    }
   ],
   "source": [
    "df.loc[:5, 'Symbol']"
   ]
  },
  {
   "cell_type": "code",
   "execution_count": 20,
   "metadata": {},
   "outputs": [
    {
     "name": "stdout",
     "output_type": "stream",
     "text": [
      "[*********************100%***********************]  6 of 6 completed\n"
     ]
    }
   ],
   "source": [
    "test = ticker_info(list(df.loc[:5, 'Symbol']))"
   ]
  },
  {
   "cell_type": "code",
   "execution_count": 25,
   "metadata": {},
   "outputs": [
    {
     "data": {
      "text/html": [
       "<div>\n",
       "<style scoped>\n",
       "    .dataframe tbody tr th:only-of-type {\n",
       "        vertical-align: middle;\n",
       "    }\n",
       "\n",
       "    .dataframe tbody tr th {\n",
       "        vertical-align: top;\n",
       "    }\n",
       "\n",
       "    .dataframe thead th {\n",
       "        text-align: right;\n",
       "    }\n",
       "</style>\n",
       "<table border=\"1\" class=\"dataframe\">\n",
       "  <thead>\n",
       "    <tr style=\"text-align: right;\">\n",
       "      <th></th>\n",
       "      <th>Open</th>\n",
       "      <th>High</th>\n",
       "      <th>Low</th>\n",
       "      <th>Close</th>\n",
       "      <th>Volume</th>\n",
       "    </tr>\n",
       "    <tr>\n",
       "      <th>Date</th>\n",
       "      <th></th>\n",
       "      <th></th>\n",
       "      <th></th>\n",
       "      <th></th>\n",
       "      <th></th>\n",
       "    </tr>\n",
       "  </thead>\n",
       "  <tbody>\n",
       "    <tr>\n",
       "      <th>2022-01-03 00:00:00-05:00</th>\n",
       "      <td>173.069700</td>\n",
       "      <td>173.817018</td>\n",
       "      <td>170.662708</td>\n",
       "      <td>172.506775</td>\n",
       "      <td>1930700</td>\n",
       "    </tr>\n",
       "    <tr>\n",
       "      <th>2022-01-04 00:00:00-05:00</th>\n",
       "      <td>173.224972</td>\n",
       "      <td>175.923119</td>\n",
       "      <td>172.788225</td>\n",
       "      <td>174.923447</td>\n",
       "      <td>2522200</td>\n",
       "    </tr>\n",
       "    <tr>\n",
       "      <th>2022-01-05 00:00:00-05:00</th>\n",
       "      <td>171.914746</td>\n",
       "      <td>176.427830</td>\n",
       "      <td>171.788569</td>\n",
       "      <td>174.205261</td>\n",
       "      <td>2952400</td>\n",
       "    </tr>\n",
       "    <tr>\n",
       "      <th>2022-01-06 00:00:00-05:00</th>\n",
       "      <td>175.554333</td>\n",
       "      <td>175.942550</td>\n",
       "      <td>172.312662</td>\n",
       "      <td>172.759125</td>\n",
       "      <td>2505400</td>\n",
       "    </tr>\n",
       "    <tr>\n",
       "      <th>2022-01-07 00:00:00-05:00</th>\n",
       "      <td>172.885297</td>\n",
       "      <td>175.175812</td>\n",
       "      <td>172.002087</td>\n",
       "      <td>174.651703</td>\n",
       "      <td>2800200</td>\n",
       "    </tr>\n",
       "    <tr>\n",
       "      <th>...</th>\n",
       "      <td>...</td>\n",
       "      <td>...</td>\n",
       "      <td>...</td>\n",
       "      <td>...</td>\n",
       "      <td>...</td>\n",
       "    </tr>\n",
       "    <tr>\n",
       "      <th>2022-10-19 00:00:00-04:00</th>\n",
       "      <td>115.099998</td>\n",
       "      <td>115.680000</td>\n",
       "      <td>113.239998</td>\n",
       "      <td>114.199997</td>\n",
       "      <td>2578600</td>\n",
       "    </tr>\n",
       "    <tr>\n",
       "      <th>2022-10-20 00:00:00-04:00</th>\n",
       "      <td>113.980003</td>\n",
       "      <td>115.650002</td>\n",
       "      <td>112.889999</td>\n",
       "      <td>113.110001</td>\n",
       "      <td>3142900</td>\n",
       "    </tr>\n",
       "    <tr>\n",
       "      <th>2022-10-21 00:00:00-04:00</th>\n",
       "      <td>113.150002</td>\n",
       "      <td>116.940002</td>\n",
       "      <td>113.050003</td>\n",
       "      <td>116.809998</td>\n",
       "      <td>3342000</td>\n",
       "    </tr>\n",
       "    <tr>\n",
       "      <th>2022-10-24 00:00:00-04:00</th>\n",
       "      <td>117.529999</td>\n",
       "      <td>119.139999</td>\n",
       "      <td>117.190002</td>\n",
       "      <td>118.379997</td>\n",
       "      <td>3394100</td>\n",
       "    </tr>\n",
       "    <tr>\n",
       "      <th>2022-10-25 00:00:00-04:00</th>\n",
       "      <td>113.510002</td>\n",
       "      <td>118.599998</td>\n",
       "      <td>113.150002</td>\n",
       "      <td>118.500000</td>\n",
       "      <td>5010100</td>\n",
       "    </tr>\n",
       "  </tbody>\n",
       "</table>\n",
       "<p>205 rows × 5 columns</p>\n",
       "</div>"
      ],
      "text/plain": [
       "                                 Open        High         Low       Close  \\\n",
       "Date                                                                        \n",
       "2022-01-03 00:00:00-05:00  173.069700  173.817018  170.662708  172.506775   \n",
       "2022-01-04 00:00:00-05:00  173.224972  175.923119  172.788225  174.923447   \n",
       "2022-01-05 00:00:00-05:00  171.914746  176.427830  171.788569  174.205261   \n",
       "2022-01-06 00:00:00-05:00  175.554333  175.942550  172.312662  172.759125   \n",
       "2022-01-07 00:00:00-05:00  172.885297  175.175812  172.002087  174.651703   \n",
       "...                               ...         ...         ...         ...   \n",
       "2022-10-19 00:00:00-04:00  115.099998  115.680000  113.239998  114.199997   \n",
       "2022-10-20 00:00:00-04:00  113.980003  115.650002  112.889999  113.110001   \n",
       "2022-10-21 00:00:00-04:00  113.150002  116.940002  113.050003  116.809998   \n",
       "2022-10-24 00:00:00-04:00  117.529999  119.139999  117.190002  118.379997   \n",
       "2022-10-25 00:00:00-04:00  113.510002  118.599998  113.150002  118.500000   \n",
       "\n",
       "                            Volume  \n",
       "Date                                \n",
       "2022-01-03 00:00:00-05:00  1930700  \n",
       "2022-01-04 00:00:00-05:00  2522200  \n",
       "2022-01-05 00:00:00-05:00  2952400  \n",
       "2022-01-06 00:00:00-05:00  2505400  \n",
       "2022-01-07 00:00:00-05:00  2800200  \n",
       "...                            ...  \n",
       "2022-10-19 00:00:00-04:00  2578600  \n",
       "2022-10-20 00:00:00-04:00  3142900  \n",
       "2022-10-21 00:00:00-04:00  3342000  \n",
       "2022-10-24 00:00:00-04:00  3394100  \n",
       "2022-10-25 00:00:00-04:00  5010100  \n",
       "\n",
       "[205 rows x 5 columns]"
      ]
     },
     "execution_count": 25,
     "metadata": {},
     "output_type": "execute_result"
    }
   ],
   "source": [
    "test['MMM+---------------------------']"
   ]
  },
  {
   "cell_type": "code",
   "execution_count": null,
   "metadata": {},
   "outputs": [],
   "source": [
    "# push one of those columns into yfinance\n",
    "# exploe the data"
   ]
  },
  {
   "cell_type": "code",
   "execution_count": 28,
   "metadata": {},
   "outputs": [
    {
     "data": {
      "text/plain": [
       "array([[1.73069700e+02, 1.73817018e+02, 1.70662708e+02, 1.72506775e+02,\n",
       "        1.93070000e+06],\n",
       "       [1.73224972e+02, 1.75923119e+02, 1.72788225e+02, 1.74923447e+02,\n",
       "        2.52220000e+06],\n",
       "       [1.71914746e+02, 1.76427830e+02, 1.71788569e+02, 1.74205261e+02,\n",
       "        2.95240000e+06],\n",
       "       ...,\n",
       "       [1.13150002e+02, 1.16940002e+02, 1.13050003e+02, 1.16809998e+02,\n",
       "        3.34200000e+06],\n",
       "       [1.17529999e+02, 1.19139999e+02, 1.17190002e+02, 1.18379997e+02,\n",
       "        3.39410000e+06],\n",
       "       [1.13510002e+02, 1.18599998e+02, 1.13150002e+02, 1.18500000e+02,\n",
       "        5.01010000e+06]])"
      ]
     },
     "execution_count": 28,
     "metadata": {},
     "output_type": "execute_result"
    }
   ],
   "source": [
    "test['MMM']"
   ]
  },
  {
   "cell_type": "code",
   "execution_count": 32,
   "metadata": {},
   "outputs": [
    {
     "data": {
      "application/vnd.plotly.v1+json": {
       "config": {
        "plotlyServerURL": "https://plot.ly"
       },
       "data": [
        {
         "hovertemplate": "Date=%{x}<br>Open=%{y}<extra></extra>",
         "legendgroup": "",
         "line": {
          "color": "#636efa",
          "dash": "solid"
         },
         "marker": {
          "symbol": "circle"
         },
         "mode": "lines",
         "name": "",
         "orientation": "v",
         "showlegend": false,
         "type": "scatter",
         "x": [
          "2022-01-03T00:00:00-05:00",
          "2022-01-04T00:00:00-05:00",
          "2022-01-05T00:00:00-05:00",
          "2022-01-06T00:00:00-05:00",
          "2022-01-07T00:00:00-05:00",
          "2022-01-10T00:00:00-05:00",
          "2022-01-11T00:00:00-05:00",
          "2022-01-12T00:00:00-05:00",
          "2022-01-13T00:00:00-05:00",
          "2022-01-14T00:00:00-05:00",
          "2022-01-18T00:00:00-05:00",
          "2022-01-19T00:00:00-05:00",
          "2022-01-20T00:00:00-05:00",
          "2022-01-21T00:00:00-05:00",
          "2022-01-24T00:00:00-05:00",
          "2022-01-25T00:00:00-05:00",
          "2022-01-26T00:00:00-05:00",
          "2022-01-27T00:00:00-05:00",
          "2022-01-28T00:00:00-05:00",
          "2022-01-31T00:00:00-05:00",
          "2022-02-01T00:00:00-05:00",
          "2022-02-02T00:00:00-05:00",
          "2022-02-03T00:00:00-05:00",
          "2022-02-04T00:00:00-05:00",
          "2022-02-07T00:00:00-05:00",
          "2022-02-08T00:00:00-05:00",
          "2022-02-09T00:00:00-05:00",
          "2022-02-10T00:00:00-05:00",
          "2022-02-11T00:00:00-05:00",
          "2022-02-14T00:00:00-05:00",
          "2022-02-15T00:00:00-05:00",
          "2022-02-16T00:00:00-05:00",
          "2022-02-17T00:00:00-05:00",
          "2022-02-18T00:00:00-05:00",
          "2022-02-22T00:00:00-05:00",
          "2022-02-23T00:00:00-05:00",
          "2022-02-24T00:00:00-05:00",
          "2022-02-25T00:00:00-05:00",
          "2022-02-28T00:00:00-05:00",
          "2022-03-01T00:00:00-05:00",
          "2022-03-02T00:00:00-05:00",
          "2022-03-03T00:00:00-05:00",
          "2022-03-04T00:00:00-05:00",
          "2022-03-07T00:00:00-05:00",
          "2022-03-08T00:00:00-05:00",
          "2022-03-09T00:00:00-05:00",
          "2022-03-10T00:00:00-05:00",
          "2022-03-11T00:00:00-05:00",
          "2022-03-14T00:00:00-04:00",
          "2022-03-15T00:00:00-04:00",
          "2022-03-16T00:00:00-04:00",
          "2022-03-17T00:00:00-04:00",
          "2022-03-18T00:00:00-04:00",
          "2022-03-21T00:00:00-04:00",
          "2022-03-22T00:00:00-04:00",
          "2022-03-23T00:00:00-04:00",
          "2022-03-24T00:00:00-04:00",
          "2022-03-25T00:00:00-04:00",
          "2022-03-28T00:00:00-04:00",
          "2022-03-29T00:00:00-04:00",
          "2022-03-30T00:00:00-04:00",
          "2022-03-31T00:00:00-04:00",
          "2022-04-01T00:00:00-04:00",
          "2022-04-04T00:00:00-04:00",
          "2022-04-05T00:00:00-04:00",
          "2022-04-06T00:00:00-04:00",
          "2022-04-07T00:00:00-04:00",
          "2022-04-08T00:00:00-04:00",
          "2022-04-11T00:00:00-04:00",
          "2022-04-12T00:00:00-04:00",
          "2022-04-13T00:00:00-04:00",
          "2022-04-14T00:00:00-04:00",
          "2022-04-18T00:00:00-04:00",
          "2022-04-19T00:00:00-04:00",
          "2022-04-20T00:00:00-04:00",
          "2022-04-21T00:00:00-04:00",
          "2022-04-22T00:00:00-04:00",
          "2022-04-25T00:00:00-04:00",
          "2022-04-26T00:00:00-04:00",
          "2022-04-27T00:00:00-04:00",
          "2022-04-28T00:00:00-04:00",
          "2022-04-29T00:00:00-04:00",
          "2022-05-02T00:00:00-04:00",
          "2022-05-03T00:00:00-04:00",
          "2022-05-04T00:00:00-04:00",
          "2022-05-05T00:00:00-04:00",
          "2022-05-06T00:00:00-04:00",
          "2022-05-09T00:00:00-04:00",
          "2022-05-10T00:00:00-04:00",
          "2022-05-11T00:00:00-04:00",
          "2022-05-12T00:00:00-04:00",
          "2022-05-13T00:00:00-04:00",
          "2022-05-16T00:00:00-04:00",
          "2022-05-17T00:00:00-04:00",
          "2022-05-18T00:00:00-04:00",
          "2022-05-19T00:00:00-04:00",
          "2022-05-20T00:00:00-04:00",
          "2022-05-23T00:00:00-04:00",
          "2022-05-24T00:00:00-04:00",
          "2022-05-25T00:00:00-04:00",
          "2022-05-26T00:00:00-04:00",
          "2022-05-27T00:00:00-04:00",
          "2022-05-31T00:00:00-04:00",
          "2022-06-01T00:00:00-04:00",
          "2022-06-02T00:00:00-04:00",
          "2022-06-03T00:00:00-04:00",
          "2022-06-06T00:00:00-04:00",
          "2022-06-07T00:00:00-04:00",
          "2022-06-08T00:00:00-04:00",
          "2022-06-09T00:00:00-04:00",
          "2022-06-10T00:00:00-04:00",
          "2022-06-13T00:00:00-04:00",
          "2022-06-14T00:00:00-04:00",
          "2022-06-15T00:00:00-04:00",
          "2022-06-16T00:00:00-04:00",
          "2022-06-17T00:00:00-04:00",
          "2022-06-21T00:00:00-04:00",
          "2022-06-22T00:00:00-04:00",
          "2022-06-23T00:00:00-04:00",
          "2022-06-24T00:00:00-04:00",
          "2022-06-27T00:00:00-04:00",
          "2022-06-28T00:00:00-04:00",
          "2022-06-29T00:00:00-04:00",
          "2022-06-30T00:00:00-04:00",
          "2022-07-01T00:00:00-04:00",
          "2022-07-05T00:00:00-04:00",
          "2022-07-06T00:00:00-04:00",
          "2022-07-07T00:00:00-04:00",
          "2022-07-08T00:00:00-04:00",
          "2022-07-11T00:00:00-04:00",
          "2022-07-12T00:00:00-04:00",
          "2022-07-13T00:00:00-04:00",
          "2022-07-14T00:00:00-04:00",
          "2022-07-15T00:00:00-04:00",
          "2022-07-18T00:00:00-04:00",
          "2022-07-19T00:00:00-04:00",
          "2022-07-20T00:00:00-04:00",
          "2022-07-21T00:00:00-04:00",
          "2022-07-22T00:00:00-04:00",
          "2022-07-25T00:00:00-04:00",
          "2022-07-26T00:00:00-04:00",
          "2022-07-27T00:00:00-04:00",
          "2022-07-28T00:00:00-04:00",
          "2022-07-29T00:00:00-04:00",
          "2022-08-01T00:00:00-04:00",
          "2022-08-02T00:00:00-04:00",
          "2022-08-03T00:00:00-04:00",
          "2022-08-04T00:00:00-04:00",
          "2022-08-05T00:00:00-04:00",
          "2022-08-08T00:00:00-04:00",
          "2022-08-09T00:00:00-04:00",
          "2022-08-10T00:00:00-04:00",
          "2022-08-11T00:00:00-04:00",
          "2022-08-12T00:00:00-04:00",
          "2022-08-15T00:00:00-04:00",
          "2022-08-16T00:00:00-04:00",
          "2022-08-17T00:00:00-04:00",
          "2022-08-18T00:00:00-04:00",
          "2022-08-19T00:00:00-04:00",
          "2022-08-22T00:00:00-04:00",
          "2022-08-23T00:00:00-04:00",
          "2022-08-24T00:00:00-04:00",
          "2022-08-25T00:00:00-04:00",
          "2022-08-26T00:00:00-04:00",
          "2022-08-29T00:00:00-04:00",
          "2022-08-30T00:00:00-04:00",
          "2022-08-31T00:00:00-04:00",
          "2022-09-01T00:00:00-04:00",
          "2022-09-02T00:00:00-04:00",
          "2022-09-06T00:00:00-04:00",
          "2022-09-07T00:00:00-04:00",
          "2022-09-08T00:00:00-04:00",
          "2022-09-09T00:00:00-04:00",
          "2022-09-12T00:00:00-04:00",
          "2022-09-13T00:00:00-04:00",
          "2022-09-14T00:00:00-04:00",
          "2022-09-15T00:00:00-04:00",
          "2022-09-16T00:00:00-04:00",
          "2022-09-19T00:00:00-04:00",
          "2022-09-20T00:00:00-04:00",
          "2022-09-21T00:00:00-04:00",
          "2022-09-22T00:00:00-04:00",
          "2022-09-23T00:00:00-04:00",
          "2022-09-26T00:00:00-04:00",
          "2022-09-27T00:00:00-04:00",
          "2022-09-28T00:00:00-04:00",
          "2022-09-29T00:00:00-04:00",
          "2022-09-30T00:00:00-04:00",
          "2022-10-03T00:00:00-04:00",
          "2022-10-04T00:00:00-04:00",
          "2022-10-05T00:00:00-04:00",
          "2022-10-06T00:00:00-04:00",
          "2022-10-07T00:00:00-04:00",
          "2022-10-10T00:00:00-04:00",
          "2022-10-11T00:00:00-04:00",
          "2022-10-12T00:00:00-04:00",
          "2022-10-13T00:00:00-04:00",
          "2022-10-14T00:00:00-04:00",
          "2022-10-17T00:00:00-04:00",
          "2022-10-18T00:00:00-04:00",
          "2022-10-19T00:00:00-04:00",
          "2022-10-20T00:00:00-04:00",
          "2022-10-21T00:00:00-04:00",
          "2022-10-24T00:00:00-04:00",
          "2022-10-25T00:00:00-04:00"
         ],
         "xaxis": "x",
         "y": [
          173.0696996363398,
          173.22497226752782,
          171.9147463814622,
          175.5543333111812,
          172.88529710788026,
          174.16640692746984,
          172.75910934297775,
          173.72966650675355,
          174.58375145360654,
          175.53490108884213,
          172.93380692455142,
          174.53523320539284,
          173.322033130933,
          168.29455277325926,
          166.7998782942483,
          168.4207231418317,
          169.14863034162644,
          164.12116028489345,
          163.43206003449995,
          157.90958041581374,
          160.71449944917103,
          162.85944018305798,
          161.36477172122457,
          158.9675060761324,
          156.01701998317245,
          156.67697175742975,
          158.73456811485445,
          157.2399118361037,
          155.44439143666017,
          154.65823869794295,
          154.04678592488622,
          152.3774180910033,
          147.82376754668243,
          145.22692034877625,
          145.22692324572245,
          143.8060009059311,
          139.24930663050995,
          141.51295290048662,
          146.29505267193852,
          145.5992974802427,
          142.68888429259556,
          145.54050837705216,
          143.22785016298585,
          142.81628031933815,
          142.3262991782615,
          144.89372915487758,
          142.42428919777575,
          140.59181248994759,
          138.61233380140692,
          141.96372609222436,
          141.8559272891863,
          142.39489856337144,
          144.1195895831781,
          145.7070827919092,
          146.45184671273498,
          146.68704809833176,
          145.148524042712,
          146.27545986278906,
          146.92221427146492,
          147.9707476334981,
          148.29413545620127,
          147.4317914493534,
          146.62823304773423,
          146.06967050231665,
          145.66788762960502,
          144.37437089518275,
          146.39303970677156,
          147.97075600726345,
          147.431780015084,
          148.30391427844617,
          145.54051302516694,
          145.66788174414557,
          144.49196289858475,
          143.9040053491683,
          147.78455744332493,
          148.93109004745466,
          147.77478006972123,
          145.72669033924768,
          142.49289646648515,
          141.8755434449734,
          141.84613363812196,
          144.34498009600418,
          141.61094117958862,
          143.2768485797162,
          146.010880111504,
          150.09721911436358,
          146.2754642229679,
          145.46211320019313,
          150.91056969967852,
          146.98102195742112,
          143.64921876391787,
          147.19660317942225,
          146.22645358960347,
          148.94088967658752,
          148.5489012251147,
          144.71487362300672,
          146.0412623873728,
          143.1113259303447,
          142.8836672442612,
          143.95269258574606,
          145.2494004664062,
          146.70445920354715,
          146.76385546316854,
          147.81307566751636,
          146.021474765324,
          145.50674901137222,
          144.90294149709044,
          143.96260042734278,
          144.0813720496328,
          144.0318845613451,
          140.5575423205554,
          135.3410696162305,
          135.2915651060627,
          134.38092066082228,
          131.20353977586325,
          129.44161786720295,
          129.01598067148308,
          127.4619313147462,
          128.8873145754306,
          130.19389397212112,
          133.04465005131354,
          132.5002287284889,
          128.6794416249922,
          127.40254224105614,
          128.0954366193047,
          125.6901179792649,
          128.18451453803968,
          128.80811676783736,
          128.50126945821222,
          127.42233128181331,
          127.84796683317829,
          126.6997500016641,
          125.6901155666827,
          128.5507521881993,
          128.8675059350878,
          129.07537396733528,
          130.77790060909714,
          131.68855000499556,
          133.28219858850127,
          132.63880742979728,
          142.05219419269622,
          138.20170670051397,
          138.4788649319777,
          139.3400322113178,
          140.70600185120458,
          141.1415373319415,
          140.4585496789036,
          142.03241415555948,
          145.51663661780842,
          146.52628440380332,
          146.80343792332317,
          148.35750026722036,
          148.47626731244463,
          148.84251270953362,
          149.85215186464268,
          148.94150074843725,
          146.93212295680215,
          145.90267448303464,
          144.61000061035156,
          143.27999877929688,
          141,
          140.91000366210938,
          141.07000732421875,
          143.63999938964844,
          128.7899932861328,
          126.88999938964844,
          124.8499984741211,
          124.30000305175781,
          126.02999877929688,
          121.36000061035156,
          116.63999938964844,
          118.38999938964844,
          121.2699966430664,
          124.31999969482422,
          122.11000061035156,
          120.58999633789062,
          117.81999969482422,
          114.69999694824219,
          116.01000213623047,
          115.30000305175781,
          116.83000183105469,
          114.16000366210938,
          113.7300033569336,
          112.76000213623047,
          114.12999725341797,
          113.51000213623047,
          112.95999908447266,
          112,
          111.69000244140625,
          114.73999786376953,
          114.33999633789062,
          114.3499984741211,
          110.37000274658203,
          108.52999877929688,
          108.5,
          108.56999969482422,
          107.5,
          114.26000213623047,
          115.30999755859375,
          115.73999786376953,
          115.0999984741211,
          113.9800033569336,
          113.1500015258789,
          117.52999877929688,
          113.51000213623047
         ],
         "yaxis": "y"
        }
       ],
       "layout": {
        "legend": {
         "tracegroupgap": 0
        },
        "margin": {
         "t": 60
        },
        "template": {
         "data": {
          "bar": [
           {
            "error_x": {
             "color": "#2a3f5f"
            },
            "error_y": {
             "color": "#2a3f5f"
            },
            "marker": {
             "line": {
              "color": "#E5ECF6",
              "width": 0.5
             },
             "pattern": {
              "fillmode": "overlay",
              "size": 10,
              "solidity": 0.2
             }
            },
            "type": "bar"
           }
          ],
          "barpolar": [
           {
            "marker": {
             "line": {
              "color": "#E5ECF6",
              "width": 0.5
             },
             "pattern": {
              "fillmode": "overlay",
              "size": 10,
              "solidity": 0.2
             }
            },
            "type": "barpolar"
           }
          ],
          "carpet": [
           {
            "aaxis": {
             "endlinecolor": "#2a3f5f",
             "gridcolor": "white",
             "linecolor": "white",
             "minorgridcolor": "white",
             "startlinecolor": "#2a3f5f"
            },
            "baxis": {
             "endlinecolor": "#2a3f5f",
             "gridcolor": "white",
             "linecolor": "white",
             "minorgridcolor": "white",
             "startlinecolor": "#2a3f5f"
            },
            "type": "carpet"
           }
          ],
          "choropleth": [
           {
            "colorbar": {
             "outlinewidth": 0,
             "ticks": ""
            },
            "type": "choropleth"
           }
          ],
          "contour": [
           {
            "colorbar": {
             "outlinewidth": 0,
             "ticks": ""
            },
            "colorscale": [
             [
              0,
              "#0d0887"
             ],
             [
              0.1111111111111111,
              "#46039f"
             ],
             [
              0.2222222222222222,
              "#7201a8"
             ],
             [
              0.3333333333333333,
              "#9c179e"
             ],
             [
              0.4444444444444444,
              "#bd3786"
             ],
             [
              0.5555555555555556,
              "#d8576b"
             ],
             [
              0.6666666666666666,
              "#ed7953"
             ],
             [
              0.7777777777777778,
              "#fb9f3a"
             ],
             [
              0.8888888888888888,
              "#fdca26"
             ],
             [
              1,
              "#f0f921"
             ]
            ],
            "type": "contour"
           }
          ],
          "contourcarpet": [
           {
            "colorbar": {
             "outlinewidth": 0,
             "ticks": ""
            },
            "type": "contourcarpet"
           }
          ],
          "heatmap": [
           {
            "colorbar": {
             "outlinewidth": 0,
             "ticks": ""
            },
            "colorscale": [
             [
              0,
              "#0d0887"
             ],
             [
              0.1111111111111111,
              "#46039f"
             ],
             [
              0.2222222222222222,
              "#7201a8"
             ],
             [
              0.3333333333333333,
              "#9c179e"
             ],
             [
              0.4444444444444444,
              "#bd3786"
             ],
             [
              0.5555555555555556,
              "#d8576b"
             ],
             [
              0.6666666666666666,
              "#ed7953"
             ],
             [
              0.7777777777777778,
              "#fb9f3a"
             ],
             [
              0.8888888888888888,
              "#fdca26"
             ],
             [
              1,
              "#f0f921"
             ]
            ],
            "type": "heatmap"
           }
          ],
          "heatmapgl": [
           {
            "colorbar": {
             "outlinewidth": 0,
             "ticks": ""
            },
            "colorscale": [
             [
              0,
              "#0d0887"
             ],
             [
              0.1111111111111111,
              "#46039f"
             ],
             [
              0.2222222222222222,
              "#7201a8"
             ],
             [
              0.3333333333333333,
              "#9c179e"
             ],
             [
              0.4444444444444444,
              "#bd3786"
             ],
             [
              0.5555555555555556,
              "#d8576b"
             ],
             [
              0.6666666666666666,
              "#ed7953"
             ],
             [
              0.7777777777777778,
              "#fb9f3a"
             ],
             [
              0.8888888888888888,
              "#fdca26"
             ],
             [
              1,
              "#f0f921"
             ]
            ],
            "type": "heatmapgl"
           }
          ],
          "histogram": [
           {
            "marker": {
             "pattern": {
              "fillmode": "overlay",
              "size": 10,
              "solidity": 0.2
             }
            },
            "type": "histogram"
           }
          ],
          "histogram2d": [
           {
            "colorbar": {
             "outlinewidth": 0,
             "ticks": ""
            },
            "colorscale": [
             [
              0,
              "#0d0887"
             ],
             [
              0.1111111111111111,
              "#46039f"
             ],
             [
              0.2222222222222222,
              "#7201a8"
             ],
             [
              0.3333333333333333,
              "#9c179e"
             ],
             [
              0.4444444444444444,
              "#bd3786"
             ],
             [
              0.5555555555555556,
              "#d8576b"
             ],
             [
              0.6666666666666666,
              "#ed7953"
             ],
             [
              0.7777777777777778,
              "#fb9f3a"
             ],
             [
              0.8888888888888888,
              "#fdca26"
             ],
             [
              1,
              "#f0f921"
             ]
            ],
            "type": "histogram2d"
           }
          ],
          "histogram2dcontour": [
           {
            "colorbar": {
             "outlinewidth": 0,
             "ticks": ""
            },
            "colorscale": [
             [
              0,
              "#0d0887"
             ],
             [
              0.1111111111111111,
              "#46039f"
             ],
             [
              0.2222222222222222,
              "#7201a8"
             ],
             [
              0.3333333333333333,
              "#9c179e"
             ],
             [
              0.4444444444444444,
              "#bd3786"
             ],
             [
              0.5555555555555556,
              "#d8576b"
             ],
             [
              0.6666666666666666,
              "#ed7953"
             ],
             [
              0.7777777777777778,
              "#fb9f3a"
             ],
             [
              0.8888888888888888,
              "#fdca26"
             ],
             [
              1,
              "#f0f921"
             ]
            ],
            "type": "histogram2dcontour"
           }
          ],
          "mesh3d": [
           {
            "colorbar": {
             "outlinewidth": 0,
             "ticks": ""
            },
            "type": "mesh3d"
           }
          ],
          "parcoords": [
           {
            "line": {
             "colorbar": {
              "outlinewidth": 0,
              "ticks": ""
             }
            },
            "type": "parcoords"
           }
          ],
          "pie": [
           {
            "automargin": true,
            "type": "pie"
           }
          ],
          "scatter": [
           {
            "fillpattern": {
             "fillmode": "overlay",
             "size": 10,
             "solidity": 0.2
            },
            "type": "scatter"
           }
          ],
          "scatter3d": [
           {
            "line": {
             "colorbar": {
              "outlinewidth": 0,
              "ticks": ""
             }
            },
            "marker": {
             "colorbar": {
              "outlinewidth": 0,
              "ticks": ""
             }
            },
            "type": "scatter3d"
           }
          ],
          "scattercarpet": [
           {
            "marker": {
             "colorbar": {
              "outlinewidth": 0,
              "ticks": ""
             }
            },
            "type": "scattercarpet"
           }
          ],
          "scattergeo": [
           {
            "marker": {
             "colorbar": {
              "outlinewidth": 0,
              "ticks": ""
             }
            },
            "type": "scattergeo"
           }
          ],
          "scattergl": [
           {
            "marker": {
             "colorbar": {
              "outlinewidth": 0,
              "ticks": ""
             }
            },
            "type": "scattergl"
           }
          ],
          "scattermapbox": [
           {
            "marker": {
             "colorbar": {
              "outlinewidth": 0,
              "ticks": ""
             }
            },
            "type": "scattermapbox"
           }
          ],
          "scatterpolar": [
           {
            "marker": {
             "colorbar": {
              "outlinewidth": 0,
              "ticks": ""
             }
            },
            "type": "scatterpolar"
           }
          ],
          "scatterpolargl": [
           {
            "marker": {
             "colorbar": {
              "outlinewidth": 0,
              "ticks": ""
             }
            },
            "type": "scatterpolargl"
           }
          ],
          "scatterternary": [
           {
            "marker": {
             "colorbar": {
              "outlinewidth": 0,
              "ticks": ""
             }
            },
            "type": "scatterternary"
           }
          ],
          "surface": [
           {
            "colorbar": {
             "outlinewidth": 0,
             "ticks": ""
            },
            "colorscale": [
             [
              0,
              "#0d0887"
             ],
             [
              0.1111111111111111,
              "#46039f"
             ],
             [
              0.2222222222222222,
              "#7201a8"
             ],
             [
              0.3333333333333333,
              "#9c179e"
             ],
             [
              0.4444444444444444,
              "#bd3786"
             ],
             [
              0.5555555555555556,
              "#d8576b"
             ],
             [
              0.6666666666666666,
              "#ed7953"
             ],
             [
              0.7777777777777778,
              "#fb9f3a"
             ],
             [
              0.8888888888888888,
              "#fdca26"
             ],
             [
              1,
              "#f0f921"
             ]
            ],
            "type": "surface"
           }
          ],
          "table": [
           {
            "cells": {
             "fill": {
              "color": "#EBF0F8"
             },
             "line": {
              "color": "white"
             }
            },
            "header": {
             "fill": {
              "color": "#C8D4E3"
             },
             "line": {
              "color": "white"
             }
            },
            "type": "table"
           }
          ]
         },
         "layout": {
          "annotationdefaults": {
           "arrowcolor": "#2a3f5f",
           "arrowhead": 0,
           "arrowwidth": 1
          },
          "autotypenumbers": "strict",
          "coloraxis": {
           "colorbar": {
            "outlinewidth": 0,
            "ticks": ""
           }
          },
          "colorscale": {
           "diverging": [
            [
             0,
             "#8e0152"
            ],
            [
             0.1,
             "#c51b7d"
            ],
            [
             0.2,
             "#de77ae"
            ],
            [
             0.3,
             "#f1b6da"
            ],
            [
             0.4,
             "#fde0ef"
            ],
            [
             0.5,
             "#f7f7f7"
            ],
            [
             0.6,
             "#e6f5d0"
            ],
            [
             0.7,
             "#b8e186"
            ],
            [
             0.8,
             "#7fbc41"
            ],
            [
             0.9,
             "#4d9221"
            ],
            [
             1,
             "#276419"
            ]
           ],
           "sequential": [
            [
             0,
             "#0d0887"
            ],
            [
             0.1111111111111111,
             "#46039f"
            ],
            [
             0.2222222222222222,
             "#7201a8"
            ],
            [
             0.3333333333333333,
             "#9c179e"
            ],
            [
             0.4444444444444444,
             "#bd3786"
            ],
            [
             0.5555555555555556,
             "#d8576b"
            ],
            [
             0.6666666666666666,
             "#ed7953"
            ],
            [
             0.7777777777777778,
             "#fb9f3a"
            ],
            [
             0.8888888888888888,
             "#fdca26"
            ],
            [
             1,
             "#f0f921"
            ]
           ],
           "sequentialminus": [
            [
             0,
             "#0d0887"
            ],
            [
             0.1111111111111111,
             "#46039f"
            ],
            [
             0.2222222222222222,
             "#7201a8"
            ],
            [
             0.3333333333333333,
             "#9c179e"
            ],
            [
             0.4444444444444444,
             "#bd3786"
            ],
            [
             0.5555555555555556,
             "#d8576b"
            ],
            [
             0.6666666666666666,
             "#ed7953"
            ],
            [
             0.7777777777777778,
             "#fb9f3a"
            ],
            [
             0.8888888888888888,
             "#fdca26"
            ],
            [
             1,
             "#f0f921"
            ]
           ]
          },
          "colorway": [
           "#636efa",
           "#EF553B",
           "#00cc96",
           "#ab63fa",
           "#FFA15A",
           "#19d3f3",
           "#FF6692",
           "#B6E880",
           "#FF97FF",
           "#FECB52"
          ],
          "font": {
           "color": "#2a3f5f"
          },
          "geo": {
           "bgcolor": "white",
           "lakecolor": "white",
           "landcolor": "#E5ECF6",
           "showlakes": true,
           "showland": true,
           "subunitcolor": "white"
          },
          "hoverlabel": {
           "align": "left"
          },
          "hovermode": "closest",
          "mapbox": {
           "style": "light"
          },
          "paper_bgcolor": "white",
          "plot_bgcolor": "#E5ECF6",
          "polar": {
           "angularaxis": {
            "gridcolor": "white",
            "linecolor": "white",
            "ticks": ""
           },
           "bgcolor": "#E5ECF6",
           "radialaxis": {
            "gridcolor": "white",
            "linecolor": "white",
            "ticks": ""
           }
          },
          "scene": {
           "xaxis": {
            "backgroundcolor": "#E5ECF6",
            "gridcolor": "white",
            "gridwidth": 2,
            "linecolor": "white",
            "showbackground": true,
            "ticks": "",
            "zerolinecolor": "white"
           },
           "yaxis": {
            "backgroundcolor": "#E5ECF6",
            "gridcolor": "white",
            "gridwidth": 2,
            "linecolor": "white",
            "showbackground": true,
            "ticks": "",
            "zerolinecolor": "white"
           },
           "zaxis": {
            "backgroundcolor": "#E5ECF6",
            "gridcolor": "white",
            "gridwidth": 2,
            "linecolor": "white",
            "showbackground": true,
            "ticks": "",
            "zerolinecolor": "white"
           }
          },
          "shapedefaults": {
           "line": {
            "color": "#2a3f5f"
           }
          },
          "ternary": {
           "aaxis": {
            "gridcolor": "white",
            "linecolor": "white",
            "ticks": ""
           },
           "baxis": {
            "gridcolor": "white",
            "linecolor": "white",
            "ticks": ""
           },
           "bgcolor": "#E5ECF6",
           "caxis": {
            "gridcolor": "white",
            "linecolor": "white",
            "ticks": ""
           }
          },
          "title": {
           "x": 0.05
          },
          "xaxis": {
           "automargin": true,
           "gridcolor": "white",
           "linecolor": "white",
           "ticks": "",
           "title": {
            "standoff": 15
           },
           "zerolinecolor": "white",
           "zerolinewidth": 2
          },
          "yaxis": {
           "automargin": true,
           "gridcolor": "white",
           "linecolor": "white",
           "ticks": "",
           "title": {
            "standoff": 15
           },
           "zerolinecolor": "white",
           "zerolinewidth": 2
          }
         }
        },
        "xaxis": {
         "anchor": "y",
         "domain": [
          0,
          1
         ],
         "title": {
          "text": "Date"
         }
        },
        "yaxis": {
         "anchor": "x",
         "domain": [
          0,
          1
         ],
         "title": {
          "text": "Open"
         }
        }
       }
      }
     },
     "metadata": {},
     "output_type": "display_data"
    }
   ],
   "source": [
    "fig = px.line(test['MMM'], x=test['MMM'].index, y=\"Open\")\n",
    "fig.show()"
   ]
  },
  {
   "cell_type": "code",
   "execution_count": 33,
   "metadata": {},
   "outputs": [
    {
     "data": {
      "application/vnd.plotly.v1+json": {
       "config": {
        "plotlyServerURL": "https://plot.ly"
       },
       "data": [
        {
         "hovertemplate": "Date=%{x}<br>Open=%{y}<extra></extra>",
         "legendgroup": "",
         "line": {
          "color": "#636efa",
          "dash": "solid"
         },
         "marker": {
          "symbol": "circle"
         },
         "mode": "lines",
         "name": "",
         "orientation": "v",
         "showlegend": false,
         "type": "scatter",
         "x": [
          "2022-01-03T00:00:00-05:00",
          "2022-01-04T00:00:00-05:00",
          "2022-01-05T00:00:00-05:00",
          "2022-01-06T00:00:00-05:00",
          "2022-01-07T00:00:00-05:00",
          "2022-01-10T00:00:00-05:00",
          "2022-01-11T00:00:00-05:00",
          "2022-01-12T00:00:00-05:00",
          "2022-01-13T00:00:00-05:00",
          "2022-01-14T00:00:00-05:00",
          "2022-01-18T00:00:00-05:00",
          "2022-01-19T00:00:00-05:00",
          "2022-01-20T00:00:00-05:00",
          "2022-01-21T00:00:00-05:00",
          "2022-01-24T00:00:00-05:00",
          "2022-01-25T00:00:00-05:00",
          "2022-01-26T00:00:00-05:00",
          "2022-01-27T00:00:00-05:00",
          "2022-01-28T00:00:00-05:00",
          "2022-01-31T00:00:00-05:00",
          "2022-02-01T00:00:00-05:00",
          "2022-02-02T00:00:00-05:00",
          "2022-02-03T00:00:00-05:00",
          "2022-02-04T00:00:00-05:00",
          "2022-02-07T00:00:00-05:00",
          "2022-02-08T00:00:00-05:00",
          "2022-02-09T00:00:00-05:00",
          "2022-02-10T00:00:00-05:00",
          "2022-02-11T00:00:00-05:00",
          "2022-02-14T00:00:00-05:00",
          "2022-02-15T00:00:00-05:00",
          "2022-02-16T00:00:00-05:00",
          "2022-02-17T00:00:00-05:00",
          "2022-02-18T00:00:00-05:00",
          "2022-02-22T00:00:00-05:00",
          "2022-02-23T00:00:00-05:00",
          "2022-02-24T00:00:00-05:00",
          "2022-02-25T00:00:00-05:00",
          "2022-02-28T00:00:00-05:00",
          "2022-03-01T00:00:00-05:00",
          "2022-03-02T00:00:00-05:00",
          "2022-03-03T00:00:00-05:00",
          "2022-03-04T00:00:00-05:00",
          "2022-03-07T00:00:00-05:00",
          "2022-03-08T00:00:00-05:00",
          "2022-03-09T00:00:00-05:00",
          "2022-03-10T00:00:00-05:00",
          "2022-03-11T00:00:00-05:00",
          "2022-03-14T00:00:00-04:00",
          "2022-03-15T00:00:00-04:00",
          "2022-03-16T00:00:00-04:00",
          "2022-03-17T00:00:00-04:00",
          "2022-03-18T00:00:00-04:00",
          "2022-03-21T00:00:00-04:00",
          "2022-03-22T00:00:00-04:00",
          "2022-03-23T00:00:00-04:00",
          "2022-03-24T00:00:00-04:00",
          "2022-03-25T00:00:00-04:00",
          "2022-03-28T00:00:00-04:00",
          "2022-03-29T00:00:00-04:00",
          "2022-03-30T00:00:00-04:00",
          "2022-03-31T00:00:00-04:00",
          "2022-04-01T00:00:00-04:00",
          "2022-04-04T00:00:00-04:00",
          "2022-04-05T00:00:00-04:00",
          "2022-04-06T00:00:00-04:00",
          "2022-04-07T00:00:00-04:00",
          "2022-04-08T00:00:00-04:00",
          "2022-04-11T00:00:00-04:00",
          "2022-04-12T00:00:00-04:00",
          "2022-04-13T00:00:00-04:00",
          "2022-04-14T00:00:00-04:00",
          "2022-04-18T00:00:00-04:00",
          "2022-04-19T00:00:00-04:00",
          "2022-04-20T00:00:00-04:00",
          "2022-04-21T00:00:00-04:00",
          "2022-04-22T00:00:00-04:00",
          "2022-04-25T00:00:00-04:00",
          "2022-04-26T00:00:00-04:00",
          "2022-04-27T00:00:00-04:00",
          "2022-04-28T00:00:00-04:00",
          "2022-04-29T00:00:00-04:00",
          "2022-05-02T00:00:00-04:00",
          "2022-05-03T00:00:00-04:00",
          "2022-05-04T00:00:00-04:00",
          "2022-05-05T00:00:00-04:00",
          "2022-05-06T00:00:00-04:00",
          "2022-05-09T00:00:00-04:00",
          "2022-05-10T00:00:00-04:00",
          "2022-05-11T00:00:00-04:00",
          "2022-05-12T00:00:00-04:00",
          "2022-05-13T00:00:00-04:00",
          "2022-05-16T00:00:00-04:00",
          "2022-05-17T00:00:00-04:00",
          "2022-05-18T00:00:00-04:00",
          "2022-05-19T00:00:00-04:00",
          "2022-05-20T00:00:00-04:00",
          "2022-05-23T00:00:00-04:00",
          "2022-05-24T00:00:00-04:00",
          "2022-05-25T00:00:00-04:00",
          "2022-05-26T00:00:00-04:00",
          "2022-05-27T00:00:00-04:00",
          "2022-05-31T00:00:00-04:00",
          "2022-06-01T00:00:00-04:00",
          "2022-06-02T00:00:00-04:00",
          "2022-06-03T00:00:00-04:00",
          "2022-06-06T00:00:00-04:00",
          "2022-06-07T00:00:00-04:00",
          "2022-06-08T00:00:00-04:00",
          "2022-06-09T00:00:00-04:00",
          "2022-06-10T00:00:00-04:00",
          "2022-06-13T00:00:00-04:00",
          "2022-06-14T00:00:00-04:00",
          "2022-06-15T00:00:00-04:00",
          "2022-06-16T00:00:00-04:00",
          "2022-06-17T00:00:00-04:00",
          "2022-06-21T00:00:00-04:00",
          "2022-06-22T00:00:00-04:00",
          "2022-06-23T00:00:00-04:00",
          "2022-06-24T00:00:00-04:00",
          "2022-06-27T00:00:00-04:00",
          "2022-06-28T00:00:00-04:00",
          "2022-06-29T00:00:00-04:00",
          "2022-06-30T00:00:00-04:00",
          "2022-07-01T00:00:00-04:00",
          "2022-07-05T00:00:00-04:00",
          "2022-07-06T00:00:00-04:00",
          "2022-07-07T00:00:00-04:00",
          "2022-07-08T00:00:00-04:00",
          "2022-07-11T00:00:00-04:00",
          "2022-07-12T00:00:00-04:00",
          "2022-07-13T00:00:00-04:00",
          "2022-07-14T00:00:00-04:00",
          "2022-07-15T00:00:00-04:00",
          "2022-07-18T00:00:00-04:00",
          "2022-07-19T00:00:00-04:00",
          "2022-07-20T00:00:00-04:00",
          "2022-07-21T00:00:00-04:00",
          "2022-07-22T00:00:00-04:00",
          "2022-07-25T00:00:00-04:00",
          "2022-07-26T00:00:00-04:00",
          "2022-07-27T00:00:00-04:00",
          "2022-07-28T00:00:00-04:00",
          "2022-07-29T00:00:00-04:00",
          "2022-08-01T00:00:00-04:00",
          "2022-08-02T00:00:00-04:00",
          "2022-08-03T00:00:00-04:00",
          "2022-08-04T00:00:00-04:00",
          "2022-08-05T00:00:00-04:00",
          "2022-08-08T00:00:00-04:00",
          "2022-08-09T00:00:00-04:00",
          "2022-08-10T00:00:00-04:00",
          "2022-08-11T00:00:00-04:00",
          "2022-08-12T00:00:00-04:00",
          "2022-08-15T00:00:00-04:00",
          "2022-08-16T00:00:00-04:00",
          "2022-08-17T00:00:00-04:00",
          "2022-08-18T00:00:00-04:00",
          "2022-08-19T00:00:00-04:00",
          "2022-08-22T00:00:00-04:00",
          "2022-08-23T00:00:00-04:00",
          "2022-08-24T00:00:00-04:00",
          "2022-08-25T00:00:00-04:00",
          "2022-08-26T00:00:00-04:00",
          "2022-08-29T00:00:00-04:00",
          "2022-08-30T00:00:00-04:00",
          "2022-08-31T00:00:00-04:00",
          "2022-09-01T00:00:00-04:00",
          "2022-09-02T00:00:00-04:00",
          "2022-09-06T00:00:00-04:00",
          "2022-09-07T00:00:00-04:00",
          "2022-09-08T00:00:00-04:00",
          "2022-09-09T00:00:00-04:00",
          "2022-09-12T00:00:00-04:00",
          "2022-09-13T00:00:00-04:00",
          "2022-09-14T00:00:00-04:00",
          "2022-09-15T00:00:00-04:00",
          "2022-09-16T00:00:00-04:00",
          "2022-09-19T00:00:00-04:00",
          "2022-09-20T00:00:00-04:00",
          "2022-09-21T00:00:00-04:00",
          "2022-09-22T00:00:00-04:00",
          "2022-09-23T00:00:00-04:00",
          "2022-09-26T00:00:00-04:00",
          "2022-09-27T00:00:00-04:00",
          "2022-09-28T00:00:00-04:00",
          "2022-09-29T00:00:00-04:00",
          "2022-09-30T00:00:00-04:00",
          "2022-10-03T00:00:00-04:00",
          "2022-10-04T00:00:00-04:00",
          "2022-10-05T00:00:00-04:00",
          "2022-10-06T00:00:00-04:00",
          "2022-10-07T00:00:00-04:00",
          "2022-10-10T00:00:00-04:00",
          "2022-10-11T00:00:00-04:00",
          "2022-10-12T00:00:00-04:00",
          "2022-10-13T00:00:00-04:00",
          "2022-10-14T00:00:00-04:00",
          "2022-10-17T00:00:00-04:00",
          "2022-10-18T00:00:00-04:00",
          "2022-10-19T00:00:00-04:00",
          "2022-10-20T00:00:00-04:00",
          "2022-10-21T00:00:00-04:00",
          "2022-10-24T00:00:00-04:00",
          "2022-10-25T00:00:00-04:00"
         ],
         "xaxis": "x",
         "y": [
          84.74856531471394,
          82.70488126646052,
          83.92912429673429,
          82.83323900517942,
          83.25777038195378,
          81.90519213203797,
          82.35933403928004,
          83.16890492070304,
          83.0306839284622,
          80.95739631310005,
          78.48918297379522,
          80.04909668636392,
          79.02230993270594,
          77.23533770409998,
          74.63876066055705,
          76.10982176744827,
          75.6359271022797,
          76.03084417999548,
          74.71713032130003,
          74.56848058138344,
          76.23327317739535,
          74.70721781115554,
          73.84509704290089,
          73.06225537795461,
          72.94333473904038,
          73.36944628040247,
          74.40002867321014,
          72.58659499704827,
          71.84339434138775,
          70.52543815886256,
          71.48665513332641,
          71.52629233753288,
          71.20919403020817,
          70.25788966341655,
          70.1587937590297,
          69.76240861134093,
          65.83827820981914,
          67.30487059685044,
          67.7012454493015,
          67.89943255168596,
          66.70039361003371,
          68.71200201867558,
          67.14632303963069,
          67.85980214488143,
          67.06704714592705,
          67.20577858515517,
          66.07610248704624,
          66.57157809646286,
          65.65991141185582,
          65.51126564588574,
          65.92745908258846,
          66.30402302398579,
          67.55260128661675,
          67.34450924675627,
          67.73097314192275,
          66.61121304152272,
          65.00588121967137,
          65.88782346356342,
          66.19502114192731,
          66.75985396774162,
          66.51212502234122,
          65.64008228530966,
          64.03476485030848,
          65.22388446346376,
          66.04637359433235,
          64.05457699539141,
          63.70774771506967,
          62.88526248678429,
          62.0132363598301,
          63.251910936537264,
          63.816750474780164,
          64.52032136291221,
          63.103270671157745,
          63.15281909481116,
          65.40226078627178,
          66.35356549047273,
          65.18425327038268,
          63.995127470475005,
          63.50955375974426,
          62.03305246096376,
          61.97204322943707,
          59.46370209286018,
          58.06022375989918,
          58.92619993308673,
          58.39864696385261,
          60.67805780720953,
          58.44841937573881,
          58.42851083910539,
          59.98129600961593,
          58.74703022670946,
          56.786140376633895,
          59.0954129967657,
          59.25466982098355,
          59.69263732579795,
          59.07550188155471,
          56.96530973405914,
          58.62758619080424,
          58.22943643189537,
          58.05026768215782,
          57.70188933703904,
          58.43846296266732,
          59.55328847894728,
          60.349585192003815,
          59.931525639827385,
          60.76764056261755,
          60.3197211619675,
          61.29519119638185,
          60.906992268873836,
          61.0861607463039,
          60.54866314365816,
          59.573191738165555,
          56.49748106573378,
          55.800723196250054,
          55.5817393679088,
          54.66599072868198,
          53.37200418187191,
          53.232653315819014,
          51.799315142910125,
          52.78473533158104,
          54.437057610111985,
          55.78081373621676,
          55.681276578759565,
          55.014374381327144,
          53.54122181323871,
          54.74562375305761,
          54.91483529003843,
          57.731748588542246,
          58.0005021475265,
          59.23476195332949,
          56.35813090866535,
          56.56716320194908,
          54.86506880751626,
          53.750250302064394,
          55.113910331342105,
          56.46762169548787,
          56.009751862875845,
          57.244013212415034,
          57.67202584857934,
          58.77689124961305,
          58.60767934200858,
          58.49818936418178,
          59.015783412557326,
          61.88999938964844,
          61.20000076293945,
          61.97999954223633,
          61.65999984741211,
          60.709999084472656,
          61.36000061035156,
          60.5099983215332,
          60.9900016784668,
          61.16999816894531,
          61.33000183105469,
          62.130001068115234,
          62.56999969482422,
          63.54999923706055,
          63.689998626708984,
          63.66999816894531,
          64.54000091552734,
          63.779998779296875,
          61.75,
          61.209999084472656,
          60.68000030517578,
          61.2599983215332,
          61.27000045776367,
          57.90999984741211,
          58,
          57.43000030517578,
          56.04999923706055,
          57.22999954223633,
          56.33000183105469,
          55.81999969482422,
          56.68000030517578,
          57.20000076293945,
          56.70000076293945,
          54.869998931884766,
          54.099998474121094,
          52.27000045776367,
          52.459999084472656,
          51.560001373291016,
          51.9900016784668,
          51.81999969482422,
          50.90999984741211,
          50,
          49.70000076293945,
          50.099998474121094,
          49.7400016784668,
          49.849998474121094,
          48.7400016784668,
          49.040000915527344,
          51.38999938964844,
          51.54999923706055,
          51.209999084472656,
          50.2400016784668,
          49.900001525878906,
          49.58000183105469,
          49.2400016784668,
          47.529998779296875,
          49.150001525878906,
          50.08000183105469,
          52.619998931884766,
          51.20000076293945,
          50.84000015258789,
          49.06999969482422,
          50.40999984741211,
          50.86000061035156
         ],
         "yaxis": "y"
        }
       ],
       "layout": {
        "legend": {
         "tracegroupgap": 0
        },
        "margin": {
         "t": 60
        },
        "template": {
         "data": {
          "bar": [
           {
            "error_x": {
             "color": "#2a3f5f"
            },
            "error_y": {
             "color": "#2a3f5f"
            },
            "marker": {
             "line": {
              "color": "#E5ECF6",
              "width": 0.5
             },
             "pattern": {
              "fillmode": "overlay",
              "size": 10,
              "solidity": 0.2
             }
            },
            "type": "bar"
           }
          ],
          "barpolar": [
           {
            "marker": {
             "line": {
              "color": "#E5ECF6",
              "width": 0.5
             },
             "pattern": {
              "fillmode": "overlay",
              "size": 10,
              "solidity": 0.2
             }
            },
            "type": "barpolar"
           }
          ],
          "carpet": [
           {
            "aaxis": {
             "endlinecolor": "#2a3f5f",
             "gridcolor": "white",
             "linecolor": "white",
             "minorgridcolor": "white",
             "startlinecolor": "#2a3f5f"
            },
            "baxis": {
             "endlinecolor": "#2a3f5f",
             "gridcolor": "white",
             "linecolor": "white",
             "minorgridcolor": "white",
             "startlinecolor": "#2a3f5f"
            },
            "type": "carpet"
           }
          ],
          "choropleth": [
           {
            "colorbar": {
             "outlinewidth": 0,
             "ticks": ""
            },
            "type": "choropleth"
           }
          ],
          "contour": [
           {
            "colorbar": {
             "outlinewidth": 0,
             "ticks": ""
            },
            "colorscale": [
             [
              0,
              "#0d0887"
             ],
             [
              0.1111111111111111,
              "#46039f"
             ],
             [
              0.2222222222222222,
              "#7201a8"
             ],
             [
              0.3333333333333333,
              "#9c179e"
             ],
             [
              0.4444444444444444,
              "#bd3786"
             ],
             [
              0.5555555555555556,
              "#d8576b"
             ],
             [
              0.6666666666666666,
              "#ed7953"
             ],
             [
              0.7777777777777778,
              "#fb9f3a"
             ],
             [
              0.8888888888888888,
              "#fdca26"
             ],
             [
              1,
              "#f0f921"
             ]
            ],
            "type": "contour"
           }
          ],
          "contourcarpet": [
           {
            "colorbar": {
             "outlinewidth": 0,
             "ticks": ""
            },
            "type": "contourcarpet"
           }
          ],
          "heatmap": [
           {
            "colorbar": {
             "outlinewidth": 0,
             "ticks": ""
            },
            "colorscale": [
             [
              0,
              "#0d0887"
             ],
             [
              0.1111111111111111,
              "#46039f"
             ],
             [
              0.2222222222222222,
              "#7201a8"
             ],
             [
              0.3333333333333333,
              "#9c179e"
             ],
             [
              0.4444444444444444,
              "#bd3786"
             ],
             [
              0.5555555555555556,
              "#d8576b"
             ],
             [
              0.6666666666666666,
              "#ed7953"
             ],
             [
              0.7777777777777778,
              "#fb9f3a"
             ],
             [
              0.8888888888888888,
              "#fdca26"
             ],
             [
              1,
              "#f0f921"
             ]
            ],
            "type": "heatmap"
           }
          ],
          "heatmapgl": [
           {
            "colorbar": {
             "outlinewidth": 0,
             "ticks": ""
            },
            "colorscale": [
             [
              0,
              "#0d0887"
             ],
             [
              0.1111111111111111,
              "#46039f"
             ],
             [
              0.2222222222222222,
              "#7201a8"
             ],
             [
              0.3333333333333333,
              "#9c179e"
             ],
             [
              0.4444444444444444,
              "#bd3786"
             ],
             [
              0.5555555555555556,
              "#d8576b"
             ],
             [
              0.6666666666666666,
              "#ed7953"
             ],
             [
              0.7777777777777778,
              "#fb9f3a"
             ],
             [
              0.8888888888888888,
              "#fdca26"
             ],
             [
              1,
              "#f0f921"
             ]
            ],
            "type": "heatmapgl"
           }
          ],
          "histogram": [
           {
            "marker": {
             "pattern": {
              "fillmode": "overlay",
              "size": 10,
              "solidity": 0.2
             }
            },
            "type": "histogram"
           }
          ],
          "histogram2d": [
           {
            "colorbar": {
             "outlinewidth": 0,
             "ticks": ""
            },
            "colorscale": [
             [
              0,
              "#0d0887"
             ],
             [
              0.1111111111111111,
              "#46039f"
             ],
             [
              0.2222222222222222,
              "#7201a8"
             ],
             [
              0.3333333333333333,
              "#9c179e"
             ],
             [
              0.4444444444444444,
              "#bd3786"
             ],
             [
              0.5555555555555556,
              "#d8576b"
             ],
             [
              0.6666666666666666,
              "#ed7953"
             ],
             [
              0.7777777777777778,
              "#fb9f3a"
             ],
             [
              0.8888888888888888,
              "#fdca26"
             ],
             [
              1,
              "#f0f921"
             ]
            ],
            "type": "histogram2d"
           }
          ],
          "histogram2dcontour": [
           {
            "colorbar": {
             "outlinewidth": 0,
             "ticks": ""
            },
            "colorscale": [
             [
              0,
              "#0d0887"
             ],
             [
              0.1111111111111111,
              "#46039f"
             ],
             [
              0.2222222222222222,
              "#7201a8"
             ],
             [
              0.3333333333333333,
              "#9c179e"
             ],
             [
              0.4444444444444444,
              "#bd3786"
             ],
             [
              0.5555555555555556,
              "#d8576b"
             ],
             [
              0.6666666666666666,
              "#ed7953"
             ],
             [
              0.7777777777777778,
              "#fb9f3a"
             ],
             [
              0.8888888888888888,
              "#fdca26"
             ],
             [
              1,
              "#f0f921"
             ]
            ],
            "type": "histogram2dcontour"
           }
          ],
          "mesh3d": [
           {
            "colorbar": {
             "outlinewidth": 0,
             "ticks": ""
            },
            "type": "mesh3d"
           }
          ],
          "parcoords": [
           {
            "line": {
             "colorbar": {
              "outlinewidth": 0,
              "ticks": ""
             }
            },
            "type": "parcoords"
           }
          ],
          "pie": [
           {
            "automargin": true,
            "type": "pie"
           }
          ],
          "scatter": [
           {
            "fillpattern": {
             "fillmode": "overlay",
             "size": 10,
             "solidity": 0.2
            },
            "type": "scatter"
           }
          ],
          "scatter3d": [
           {
            "line": {
             "colorbar": {
              "outlinewidth": 0,
              "ticks": ""
             }
            },
            "marker": {
             "colorbar": {
              "outlinewidth": 0,
              "ticks": ""
             }
            },
            "type": "scatter3d"
           }
          ],
          "scattercarpet": [
           {
            "marker": {
             "colorbar": {
              "outlinewidth": 0,
              "ticks": ""
             }
            },
            "type": "scattercarpet"
           }
          ],
          "scattergeo": [
           {
            "marker": {
             "colorbar": {
              "outlinewidth": 0,
              "ticks": ""
             }
            },
            "type": "scattergeo"
           }
          ],
          "scattergl": [
           {
            "marker": {
             "colorbar": {
              "outlinewidth": 0,
              "ticks": ""
             }
            },
            "type": "scattergl"
           }
          ],
          "scattermapbox": [
           {
            "marker": {
             "colorbar": {
              "outlinewidth": 0,
              "ticks": ""
             }
            },
            "type": "scattermapbox"
           }
          ],
          "scatterpolar": [
           {
            "marker": {
             "colorbar": {
              "outlinewidth": 0,
              "ticks": ""
             }
            },
            "type": "scatterpolar"
           }
          ],
          "scatterpolargl": [
           {
            "marker": {
             "colorbar": {
              "outlinewidth": 0,
              "ticks": ""
             }
            },
            "type": "scatterpolargl"
           }
          ],
          "scatterternary": [
           {
            "marker": {
             "colorbar": {
              "outlinewidth": 0,
              "ticks": ""
             }
            },
            "type": "scatterternary"
           }
          ],
          "surface": [
           {
            "colorbar": {
             "outlinewidth": 0,
             "ticks": ""
            },
            "colorscale": [
             [
              0,
              "#0d0887"
             ],
             [
              0.1111111111111111,
              "#46039f"
             ],
             [
              0.2222222222222222,
              "#7201a8"
             ],
             [
              0.3333333333333333,
              "#9c179e"
             ],
             [
              0.4444444444444444,
              "#bd3786"
             ],
             [
              0.5555555555555556,
              "#d8576b"
             ],
             [
              0.6666666666666666,
              "#ed7953"
             ],
             [
              0.7777777777777778,
              "#fb9f3a"
             ],
             [
              0.8888888888888888,
              "#fdca26"
             ],
             [
              1,
              "#f0f921"
             ]
            ],
            "type": "surface"
           }
          ],
          "table": [
           {
            "cells": {
             "fill": {
              "color": "#EBF0F8"
             },
             "line": {
              "color": "white"
             }
            },
            "header": {
             "fill": {
              "color": "#C8D4E3"
             },
             "line": {
              "color": "white"
             }
            },
            "type": "table"
           }
          ]
         },
         "layout": {
          "annotationdefaults": {
           "arrowcolor": "#2a3f5f",
           "arrowhead": 0,
           "arrowwidth": 1
          },
          "autotypenumbers": "strict",
          "coloraxis": {
           "colorbar": {
            "outlinewidth": 0,
            "ticks": ""
           }
          },
          "colorscale": {
           "diverging": [
            [
             0,
             "#8e0152"
            ],
            [
             0.1,
             "#c51b7d"
            ],
            [
             0.2,
             "#de77ae"
            ],
            [
             0.3,
             "#f1b6da"
            ],
            [
             0.4,
             "#fde0ef"
            ],
            [
             0.5,
             "#f7f7f7"
            ],
            [
             0.6,
             "#e6f5d0"
            ],
            [
             0.7,
             "#b8e186"
            ],
            [
             0.8,
             "#7fbc41"
            ],
            [
             0.9,
             "#4d9221"
            ],
            [
             1,
             "#276419"
            ]
           ],
           "sequential": [
            [
             0,
             "#0d0887"
            ],
            [
             0.1111111111111111,
             "#46039f"
            ],
            [
             0.2222222222222222,
             "#7201a8"
            ],
            [
             0.3333333333333333,
             "#9c179e"
            ],
            [
             0.4444444444444444,
             "#bd3786"
            ],
            [
             0.5555555555555556,
             "#d8576b"
            ],
            [
             0.6666666666666666,
             "#ed7953"
            ],
            [
             0.7777777777777778,
             "#fb9f3a"
            ],
            [
             0.8888888888888888,
             "#fdca26"
            ],
            [
             1,
             "#f0f921"
            ]
           ],
           "sequentialminus": [
            [
             0,
             "#0d0887"
            ],
            [
             0.1111111111111111,
             "#46039f"
            ],
            [
             0.2222222222222222,
             "#7201a8"
            ],
            [
             0.3333333333333333,
             "#9c179e"
            ],
            [
             0.4444444444444444,
             "#bd3786"
            ],
            [
             0.5555555555555556,
             "#d8576b"
            ],
            [
             0.6666666666666666,
             "#ed7953"
            ],
            [
             0.7777777777777778,
             "#fb9f3a"
            ],
            [
             0.8888888888888888,
             "#fdca26"
            ],
            [
             1,
             "#f0f921"
            ]
           ]
          },
          "colorway": [
           "#636efa",
           "#EF553B",
           "#00cc96",
           "#ab63fa",
           "#FFA15A",
           "#19d3f3",
           "#FF6692",
           "#B6E880",
           "#FF97FF",
           "#FECB52"
          ],
          "font": {
           "color": "#2a3f5f"
          },
          "geo": {
           "bgcolor": "white",
           "lakecolor": "white",
           "landcolor": "#E5ECF6",
           "showlakes": true,
           "showland": true,
           "subunitcolor": "white"
          },
          "hoverlabel": {
           "align": "left"
          },
          "hovermode": "closest",
          "mapbox": {
           "style": "light"
          },
          "paper_bgcolor": "white",
          "plot_bgcolor": "#E5ECF6",
          "polar": {
           "angularaxis": {
            "gridcolor": "white",
            "linecolor": "white",
            "ticks": ""
           },
           "bgcolor": "#E5ECF6",
           "radialaxis": {
            "gridcolor": "white",
            "linecolor": "white",
            "ticks": ""
           }
          },
          "scene": {
           "xaxis": {
            "backgroundcolor": "#E5ECF6",
            "gridcolor": "white",
            "gridwidth": 2,
            "linecolor": "white",
            "showbackground": true,
            "ticks": "",
            "zerolinecolor": "white"
           },
           "yaxis": {
            "backgroundcolor": "#E5ECF6",
            "gridcolor": "white",
            "gridwidth": 2,
            "linecolor": "white",
            "showbackground": true,
            "ticks": "",
            "zerolinecolor": "white"
           },
           "zaxis": {
            "backgroundcolor": "#E5ECF6",
            "gridcolor": "white",
            "gridwidth": 2,
            "linecolor": "white",
            "showbackground": true,
            "ticks": "",
            "zerolinecolor": "white"
           }
          },
          "shapedefaults": {
           "line": {
            "color": "#2a3f5f"
           }
          },
          "ternary": {
           "aaxis": {
            "gridcolor": "white",
            "linecolor": "white",
            "ticks": ""
           },
           "baxis": {
            "gridcolor": "white",
            "linecolor": "white",
            "ticks": ""
           },
           "bgcolor": "#E5ECF6",
           "caxis": {
            "gridcolor": "white",
            "linecolor": "white",
            "ticks": ""
           }
          },
          "title": {
           "x": 0.05
          },
          "xaxis": {
           "automargin": true,
           "gridcolor": "white",
           "linecolor": "white",
           "ticks": "",
           "title": {
            "standoff": 15
           },
           "zerolinecolor": "white",
           "zerolinewidth": 2
          },
          "yaxis": {
           "automargin": true,
           "gridcolor": "white",
           "linecolor": "white",
           "ticks": "",
           "title": {
            "standoff": 15
           },
           "zerolinecolor": "white",
           "zerolinewidth": 2
          }
         }
        },
        "xaxis": {
         "anchor": "y",
         "domain": [
          0,
          1
         ],
         "title": {
          "text": "Date"
         }
        },
        "yaxis": {
         "anchor": "x",
         "domain": [
          0,
          1
         ],
         "title": {
          "text": "Open"
         }
        }
       }
      }
     },
     "metadata": {},
     "output_type": "display_data"
    }
   ],
   "source": [
    "fig = px.line(test['AOS'], x=test['AOS'].index, y=\"Open\")\n",
    "fig.show()"
   ]
  },
  {
   "cell_type": "code",
   "execution_count": 38,
   "metadata": {},
   "outputs": [
    {
     "data": {
      "application/vnd.plotly.v1+json": {
       "config": {
        "plotlyServerURL": "https://plot.ly"
       },
       "data": [
        {
         "mode": "lines",
         "name": "AOS",
         "type": "scatter",
         "x": [
          "2022-01-03T00:00:00-05:00",
          "2022-01-04T00:00:00-05:00",
          "2022-01-05T00:00:00-05:00",
          "2022-01-06T00:00:00-05:00",
          "2022-01-07T00:00:00-05:00",
          "2022-01-10T00:00:00-05:00",
          "2022-01-11T00:00:00-05:00",
          "2022-01-12T00:00:00-05:00",
          "2022-01-13T00:00:00-05:00",
          "2022-01-14T00:00:00-05:00",
          "2022-01-18T00:00:00-05:00",
          "2022-01-19T00:00:00-05:00",
          "2022-01-20T00:00:00-05:00",
          "2022-01-21T00:00:00-05:00",
          "2022-01-24T00:00:00-05:00",
          "2022-01-25T00:00:00-05:00",
          "2022-01-26T00:00:00-05:00",
          "2022-01-27T00:00:00-05:00",
          "2022-01-28T00:00:00-05:00",
          "2022-01-31T00:00:00-05:00",
          "2022-02-01T00:00:00-05:00",
          "2022-02-02T00:00:00-05:00",
          "2022-02-03T00:00:00-05:00",
          "2022-02-04T00:00:00-05:00",
          "2022-02-07T00:00:00-05:00",
          "2022-02-08T00:00:00-05:00",
          "2022-02-09T00:00:00-05:00",
          "2022-02-10T00:00:00-05:00",
          "2022-02-11T00:00:00-05:00",
          "2022-02-14T00:00:00-05:00",
          "2022-02-15T00:00:00-05:00",
          "2022-02-16T00:00:00-05:00",
          "2022-02-17T00:00:00-05:00",
          "2022-02-18T00:00:00-05:00",
          "2022-02-22T00:00:00-05:00",
          "2022-02-23T00:00:00-05:00",
          "2022-02-24T00:00:00-05:00",
          "2022-02-25T00:00:00-05:00",
          "2022-02-28T00:00:00-05:00",
          "2022-03-01T00:00:00-05:00",
          "2022-03-02T00:00:00-05:00",
          "2022-03-03T00:00:00-05:00",
          "2022-03-04T00:00:00-05:00",
          "2022-03-07T00:00:00-05:00",
          "2022-03-08T00:00:00-05:00",
          "2022-03-09T00:00:00-05:00",
          "2022-03-10T00:00:00-05:00",
          "2022-03-11T00:00:00-05:00",
          "2022-03-14T00:00:00-04:00",
          "2022-03-15T00:00:00-04:00",
          "2022-03-16T00:00:00-04:00",
          "2022-03-17T00:00:00-04:00",
          "2022-03-18T00:00:00-04:00",
          "2022-03-21T00:00:00-04:00",
          "2022-03-22T00:00:00-04:00",
          "2022-03-23T00:00:00-04:00",
          "2022-03-24T00:00:00-04:00",
          "2022-03-25T00:00:00-04:00",
          "2022-03-28T00:00:00-04:00",
          "2022-03-29T00:00:00-04:00",
          "2022-03-30T00:00:00-04:00",
          "2022-03-31T00:00:00-04:00",
          "2022-04-01T00:00:00-04:00",
          "2022-04-04T00:00:00-04:00",
          "2022-04-05T00:00:00-04:00",
          "2022-04-06T00:00:00-04:00",
          "2022-04-07T00:00:00-04:00",
          "2022-04-08T00:00:00-04:00",
          "2022-04-11T00:00:00-04:00",
          "2022-04-12T00:00:00-04:00",
          "2022-04-13T00:00:00-04:00",
          "2022-04-14T00:00:00-04:00",
          "2022-04-18T00:00:00-04:00",
          "2022-04-19T00:00:00-04:00",
          "2022-04-20T00:00:00-04:00",
          "2022-04-21T00:00:00-04:00",
          "2022-04-22T00:00:00-04:00",
          "2022-04-25T00:00:00-04:00",
          "2022-04-26T00:00:00-04:00",
          "2022-04-27T00:00:00-04:00",
          "2022-04-28T00:00:00-04:00",
          "2022-04-29T00:00:00-04:00",
          "2022-05-02T00:00:00-04:00",
          "2022-05-03T00:00:00-04:00",
          "2022-05-04T00:00:00-04:00",
          "2022-05-05T00:00:00-04:00",
          "2022-05-06T00:00:00-04:00",
          "2022-05-09T00:00:00-04:00",
          "2022-05-10T00:00:00-04:00",
          "2022-05-11T00:00:00-04:00",
          "2022-05-12T00:00:00-04:00",
          "2022-05-13T00:00:00-04:00",
          "2022-05-16T00:00:00-04:00",
          "2022-05-17T00:00:00-04:00",
          "2022-05-18T00:00:00-04:00",
          "2022-05-19T00:00:00-04:00",
          "2022-05-20T00:00:00-04:00",
          "2022-05-23T00:00:00-04:00",
          "2022-05-24T00:00:00-04:00",
          "2022-05-25T00:00:00-04:00",
          "2022-05-26T00:00:00-04:00",
          "2022-05-27T00:00:00-04:00",
          "2022-05-31T00:00:00-04:00",
          "2022-06-01T00:00:00-04:00",
          "2022-06-02T00:00:00-04:00",
          "2022-06-03T00:00:00-04:00",
          "2022-06-06T00:00:00-04:00",
          "2022-06-07T00:00:00-04:00",
          "2022-06-08T00:00:00-04:00",
          "2022-06-09T00:00:00-04:00",
          "2022-06-10T00:00:00-04:00",
          "2022-06-13T00:00:00-04:00",
          "2022-06-14T00:00:00-04:00",
          "2022-06-15T00:00:00-04:00",
          "2022-06-16T00:00:00-04:00",
          "2022-06-17T00:00:00-04:00",
          "2022-06-21T00:00:00-04:00",
          "2022-06-22T00:00:00-04:00",
          "2022-06-23T00:00:00-04:00",
          "2022-06-24T00:00:00-04:00",
          "2022-06-27T00:00:00-04:00",
          "2022-06-28T00:00:00-04:00",
          "2022-06-29T00:00:00-04:00",
          "2022-06-30T00:00:00-04:00",
          "2022-07-01T00:00:00-04:00",
          "2022-07-05T00:00:00-04:00",
          "2022-07-06T00:00:00-04:00",
          "2022-07-07T00:00:00-04:00",
          "2022-07-08T00:00:00-04:00",
          "2022-07-11T00:00:00-04:00",
          "2022-07-12T00:00:00-04:00",
          "2022-07-13T00:00:00-04:00",
          "2022-07-14T00:00:00-04:00",
          "2022-07-15T00:00:00-04:00",
          "2022-07-18T00:00:00-04:00",
          "2022-07-19T00:00:00-04:00",
          "2022-07-20T00:00:00-04:00",
          "2022-07-21T00:00:00-04:00",
          "2022-07-22T00:00:00-04:00",
          "2022-07-25T00:00:00-04:00",
          "2022-07-26T00:00:00-04:00",
          "2022-07-27T00:00:00-04:00",
          "2022-07-28T00:00:00-04:00",
          "2022-07-29T00:00:00-04:00",
          "2022-08-01T00:00:00-04:00",
          "2022-08-02T00:00:00-04:00",
          "2022-08-03T00:00:00-04:00",
          "2022-08-04T00:00:00-04:00",
          "2022-08-05T00:00:00-04:00",
          "2022-08-08T00:00:00-04:00",
          "2022-08-09T00:00:00-04:00",
          "2022-08-10T00:00:00-04:00",
          "2022-08-11T00:00:00-04:00",
          "2022-08-12T00:00:00-04:00",
          "2022-08-15T00:00:00-04:00",
          "2022-08-16T00:00:00-04:00",
          "2022-08-17T00:00:00-04:00",
          "2022-08-18T00:00:00-04:00",
          "2022-08-19T00:00:00-04:00",
          "2022-08-22T00:00:00-04:00",
          "2022-08-23T00:00:00-04:00",
          "2022-08-24T00:00:00-04:00",
          "2022-08-25T00:00:00-04:00",
          "2022-08-26T00:00:00-04:00",
          "2022-08-29T00:00:00-04:00",
          "2022-08-30T00:00:00-04:00",
          "2022-08-31T00:00:00-04:00",
          "2022-09-01T00:00:00-04:00",
          "2022-09-02T00:00:00-04:00",
          "2022-09-06T00:00:00-04:00",
          "2022-09-07T00:00:00-04:00",
          "2022-09-08T00:00:00-04:00",
          "2022-09-09T00:00:00-04:00",
          "2022-09-12T00:00:00-04:00",
          "2022-09-13T00:00:00-04:00",
          "2022-09-14T00:00:00-04:00",
          "2022-09-15T00:00:00-04:00",
          "2022-09-16T00:00:00-04:00",
          "2022-09-19T00:00:00-04:00",
          "2022-09-20T00:00:00-04:00",
          "2022-09-21T00:00:00-04:00",
          "2022-09-22T00:00:00-04:00",
          "2022-09-23T00:00:00-04:00",
          "2022-09-26T00:00:00-04:00",
          "2022-09-27T00:00:00-04:00",
          "2022-09-28T00:00:00-04:00",
          "2022-09-29T00:00:00-04:00",
          "2022-09-30T00:00:00-04:00",
          "2022-10-03T00:00:00-04:00",
          "2022-10-04T00:00:00-04:00",
          "2022-10-05T00:00:00-04:00",
          "2022-10-06T00:00:00-04:00",
          "2022-10-07T00:00:00-04:00",
          "2022-10-10T00:00:00-04:00",
          "2022-10-11T00:00:00-04:00",
          "2022-10-12T00:00:00-04:00",
          "2022-10-13T00:00:00-04:00",
          "2022-10-14T00:00:00-04:00",
          "2022-10-17T00:00:00-04:00",
          "2022-10-18T00:00:00-04:00",
          "2022-10-19T00:00:00-04:00",
          "2022-10-20T00:00:00-04:00",
          "2022-10-21T00:00:00-04:00",
          "2022-10-24T00:00:00-04:00",
          "2022-10-25T00:00:00-04:00"
         ],
         "y": [
          84.74856531471394,
          82.70488126646052,
          83.92912429673429,
          82.83323900517942,
          83.25777038195378,
          81.90519213203797,
          82.35933403928004,
          83.16890492070304,
          83.0306839284622,
          80.95739631310005,
          78.48918297379522,
          80.04909668636392,
          79.02230993270594,
          77.23533770409998,
          74.63876066055705,
          76.10982176744827,
          75.6359271022797,
          76.03084417999548,
          74.71713032130003,
          74.56848058138344,
          76.23327317739535,
          74.70721781115554,
          73.84509704290089,
          73.06225537795461,
          72.94333473904038,
          73.36944628040247,
          74.40002867321014,
          72.58659499704827,
          71.84339434138775,
          70.52543815886256,
          71.48665513332641,
          71.52629233753288,
          71.20919403020817,
          70.25788966341655,
          70.1587937590297,
          69.76240861134093,
          65.83827820981914,
          67.30487059685044,
          67.7012454493015,
          67.89943255168596,
          66.70039361003371,
          68.71200201867558,
          67.14632303963069,
          67.85980214488143,
          67.06704714592705,
          67.20577858515517,
          66.07610248704624,
          66.57157809646286,
          65.65991141185582,
          65.51126564588574,
          65.92745908258846,
          66.30402302398579,
          67.55260128661675,
          67.34450924675627,
          67.73097314192275,
          66.61121304152272,
          65.00588121967137,
          65.88782346356342,
          66.19502114192731,
          66.75985396774162,
          66.51212502234122,
          65.64008228530966,
          64.03476485030848,
          65.22388446346376,
          66.04637359433235,
          64.05457699539141,
          63.70774771506967,
          62.88526248678429,
          62.0132363598301,
          63.251910936537264,
          63.816750474780164,
          64.52032136291221,
          63.103270671157745,
          63.15281909481116,
          65.40226078627178,
          66.35356549047273,
          65.18425327038268,
          63.995127470475005,
          63.50955375974426,
          62.03305246096376,
          61.97204322943707,
          59.46370209286018,
          58.06022375989918,
          58.92619993308673,
          58.39864696385261,
          60.67805780720953,
          58.44841937573881,
          58.42851083910539,
          59.98129600961593,
          58.74703022670946,
          56.786140376633895,
          59.0954129967657,
          59.25466982098355,
          59.69263732579795,
          59.07550188155471,
          56.96530973405914,
          58.62758619080424,
          58.22943643189537,
          58.05026768215782,
          57.70188933703904,
          58.43846296266732,
          59.55328847894728,
          60.349585192003815,
          59.931525639827385,
          60.76764056261755,
          60.3197211619675,
          61.29519119638185,
          60.906992268873836,
          61.0861607463039,
          60.54866314365816,
          59.573191738165555,
          56.49748106573378,
          55.800723196250054,
          55.5817393679088,
          54.66599072868198,
          53.37200418187191,
          53.232653315819014,
          51.799315142910125,
          52.78473533158104,
          54.437057610111985,
          55.78081373621676,
          55.681276578759565,
          55.014374381327144,
          53.54122181323871,
          54.74562375305761,
          54.91483529003843,
          57.731748588542246,
          58.0005021475265,
          59.23476195332949,
          56.35813090866535,
          56.56716320194908,
          54.86506880751626,
          53.750250302064394,
          55.113910331342105,
          56.46762169548787,
          56.009751862875845,
          57.244013212415034,
          57.67202584857934,
          58.77689124961305,
          58.60767934200858,
          58.49818936418178,
          59.015783412557326,
          61.88999938964844,
          61.20000076293945,
          61.97999954223633,
          61.65999984741211,
          60.709999084472656,
          61.36000061035156,
          60.5099983215332,
          60.9900016784668,
          61.16999816894531,
          61.33000183105469,
          62.130001068115234,
          62.56999969482422,
          63.54999923706055,
          63.689998626708984,
          63.66999816894531,
          64.54000091552734,
          63.779998779296875,
          61.75,
          61.209999084472656,
          60.68000030517578,
          61.2599983215332,
          61.27000045776367,
          57.90999984741211,
          58,
          57.43000030517578,
          56.04999923706055,
          57.22999954223633,
          56.33000183105469,
          55.81999969482422,
          56.68000030517578,
          57.20000076293945,
          56.70000076293945,
          54.869998931884766,
          54.099998474121094,
          52.27000045776367,
          52.459999084472656,
          51.560001373291016,
          51.9900016784668,
          51.81999969482422,
          50.90999984741211,
          50,
          49.70000076293945,
          50.099998474121094,
          49.7400016784668,
          49.849998474121094,
          48.7400016784668,
          49.040000915527344,
          51.38999938964844,
          51.54999923706055,
          51.209999084472656,
          50.2400016784668,
          49.900001525878906,
          49.58000183105469,
          49.2400016784668,
          47.529998779296875,
          49.150001525878906,
          50.08000183105469,
          52.619998931884766,
          51.20000076293945,
          50.84000015258789,
          49.06999969482422,
          50.40999984741211,
          50.86000061035156
         ]
        },
        {
         "mode": "lines",
         "name": "MMM",
         "type": "scatter",
         "x": [
          "2022-01-03T00:00:00-05:00",
          "2022-01-04T00:00:00-05:00",
          "2022-01-05T00:00:00-05:00",
          "2022-01-06T00:00:00-05:00",
          "2022-01-07T00:00:00-05:00",
          "2022-01-10T00:00:00-05:00",
          "2022-01-11T00:00:00-05:00",
          "2022-01-12T00:00:00-05:00",
          "2022-01-13T00:00:00-05:00",
          "2022-01-14T00:00:00-05:00",
          "2022-01-18T00:00:00-05:00",
          "2022-01-19T00:00:00-05:00",
          "2022-01-20T00:00:00-05:00",
          "2022-01-21T00:00:00-05:00",
          "2022-01-24T00:00:00-05:00",
          "2022-01-25T00:00:00-05:00",
          "2022-01-26T00:00:00-05:00",
          "2022-01-27T00:00:00-05:00",
          "2022-01-28T00:00:00-05:00",
          "2022-01-31T00:00:00-05:00",
          "2022-02-01T00:00:00-05:00",
          "2022-02-02T00:00:00-05:00",
          "2022-02-03T00:00:00-05:00",
          "2022-02-04T00:00:00-05:00",
          "2022-02-07T00:00:00-05:00",
          "2022-02-08T00:00:00-05:00",
          "2022-02-09T00:00:00-05:00",
          "2022-02-10T00:00:00-05:00",
          "2022-02-11T00:00:00-05:00",
          "2022-02-14T00:00:00-05:00",
          "2022-02-15T00:00:00-05:00",
          "2022-02-16T00:00:00-05:00",
          "2022-02-17T00:00:00-05:00",
          "2022-02-18T00:00:00-05:00",
          "2022-02-22T00:00:00-05:00",
          "2022-02-23T00:00:00-05:00",
          "2022-02-24T00:00:00-05:00",
          "2022-02-25T00:00:00-05:00",
          "2022-02-28T00:00:00-05:00",
          "2022-03-01T00:00:00-05:00",
          "2022-03-02T00:00:00-05:00",
          "2022-03-03T00:00:00-05:00",
          "2022-03-04T00:00:00-05:00",
          "2022-03-07T00:00:00-05:00",
          "2022-03-08T00:00:00-05:00",
          "2022-03-09T00:00:00-05:00",
          "2022-03-10T00:00:00-05:00",
          "2022-03-11T00:00:00-05:00",
          "2022-03-14T00:00:00-04:00",
          "2022-03-15T00:00:00-04:00",
          "2022-03-16T00:00:00-04:00",
          "2022-03-17T00:00:00-04:00",
          "2022-03-18T00:00:00-04:00",
          "2022-03-21T00:00:00-04:00",
          "2022-03-22T00:00:00-04:00",
          "2022-03-23T00:00:00-04:00",
          "2022-03-24T00:00:00-04:00",
          "2022-03-25T00:00:00-04:00",
          "2022-03-28T00:00:00-04:00",
          "2022-03-29T00:00:00-04:00",
          "2022-03-30T00:00:00-04:00",
          "2022-03-31T00:00:00-04:00",
          "2022-04-01T00:00:00-04:00",
          "2022-04-04T00:00:00-04:00",
          "2022-04-05T00:00:00-04:00",
          "2022-04-06T00:00:00-04:00",
          "2022-04-07T00:00:00-04:00",
          "2022-04-08T00:00:00-04:00",
          "2022-04-11T00:00:00-04:00",
          "2022-04-12T00:00:00-04:00",
          "2022-04-13T00:00:00-04:00",
          "2022-04-14T00:00:00-04:00",
          "2022-04-18T00:00:00-04:00",
          "2022-04-19T00:00:00-04:00",
          "2022-04-20T00:00:00-04:00",
          "2022-04-21T00:00:00-04:00",
          "2022-04-22T00:00:00-04:00",
          "2022-04-25T00:00:00-04:00",
          "2022-04-26T00:00:00-04:00",
          "2022-04-27T00:00:00-04:00",
          "2022-04-28T00:00:00-04:00",
          "2022-04-29T00:00:00-04:00",
          "2022-05-02T00:00:00-04:00",
          "2022-05-03T00:00:00-04:00",
          "2022-05-04T00:00:00-04:00",
          "2022-05-05T00:00:00-04:00",
          "2022-05-06T00:00:00-04:00",
          "2022-05-09T00:00:00-04:00",
          "2022-05-10T00:00:00-04:00",
          "2022-05-11T00:00:00-04:00",
          "2022-05-12T00:00:00-04:00",
          "2022-05-13T00:00:00-04:00",
          "2022-05-16T00:00:00-04:00",
          "2022-05-17T00:00:00-04:00",
          "2022-05-18T00:00:00-04:00",
          "2022-05-19T00:00:00-04:00",
          "2022-05-20T00:00:00-04:00",
          "2022-05-23T00:00:00-04:00",
          "2022-05-24T00:00:00-04:00",
          "2022-05-25T00:00:00-04:00",
          "2022-05-26T00:00:00-04:00",
          "2022-05-27T00:00:00-04:00",
          "2022-05-31T00:00:00-04:00",
          "2022-06-01T00:00:00-04:00",
          "2022-06-02T00:00:00-04:00",
          "2022-06-03T00:00:00-04:00",
          "2022-06-06T00:00:00-04:00",
          "2022-06-07T00:00:00-04:00",
          "2022-06-08T00:00:00-04:00",
          "2022-06-09T00:00:00-04:00",
          "2022-06-10T00:00:00-04:00",
          "2022-06-13T00:00:00-04:00",
          "2022-06-14T00:00:00-04:00",
          "2022-06-15T00:00:00-04:00",
          "2022-06-16T00:00:00-04:00",
          "2022-06-17T00:00:00-04:00",
          "2022-06-21T00:00:00-04:00",
          "2022-06-22T00:00:00-04:00",
          "2022-06-23T00:00:00-04:00",
          "2022-06-24T00:00:00-04:00",
          "2022-06-27T00:00:00-04:00",
          "2022-06-28T00:00:00-04:00",
          "2022-06-29T00:00:00-04:00",
          "2022-06-30T00:00:00-04:00",
          "2022-07-01T00:00:00-04:00",
          "2022-07-05T00:00:00-04:00",
          "2022-07-06T00:00:00-04:00",
          "2022-07-07T00:00:00-04:00",
          "2022-07-08T00:00:00-04:00",
          "2022-07-11T00:00:00-04:00",
          "2022-07-12T00:00:00-04:00",
          "2022-07-13T00:00:00-04:00",
          "2022-07-14T00:00:00-04:00",
          "2022-07-15T00:00:00-04:00",
          "2022-07-18T00:00:00-04:00",
          "2022-07-19T00:00:00-04:00",
          "2022-07-20T00:00:00-04:00",
          "2022-07-21T00:00:00-04:00",
          "2022-07-22T00:00:00-04:00",
          "2022-07-25T00:00:00-04:00",
          "2022-07-26T00:00:00-04:00",
          "2022-07-27T00:00:00-04:00",
          "2022-07-28T00:00:00-04:00",
          "2022-07-29T00:00:00-04:00",
          "2022-08-01T00:00:00-04:00",
          "2022-08-02T00:00:00-04:00",
          "2022-08-03T00:00:00-04:00",
          "2022-08-04T00:00:00-04:00",
          "2022-08-05T00:00:00-04:00",
          "2022-08-08T00:00:00-04:00",
          "2022-08-09T00:00:00-04:00",
          "2022-08-10T00:00:00-04:00",
          "2022-08-11T00:00:00-04:00",
          "2022-08-12T00:00:00-04:00",
          "2022-08-15T00:00:00-04:00",
          "2022-08-16T00:00:00-04:00",
          "2022-08-17T00:00:00-04:00",
          "2022-08-18T00:00:00-04:00",
          "2022-08-19T00:00:00-04:00",
          "2022-08-22T00:00:00-04:00",
          "2022-08-23T00:00:00-04:00",
          "2022-08-24T00:00:00-04:00",
          "2022-08-25T00:00:00-04:00",
          "2022-08-26T00:00:00-04:00",
          "2022-08-29T00:00:00-04:00",
          "2022-08-30T00:00:00-04:00",
          "2022-08-31T00:00:00-04:00",
          "2022-09-01T00:00:00-04:00",
          "2022-09-02T00:00:00-04:00",
          "2022-09-06T00:00:00-04:00",
          "2022-09-07T00:00:00-04:00",
          "2022-09-08T00:00:00-04:00",
          "2022-09-09T00:00:00-04:00",
          "2022-09-12T00:00:00-04:00",
          "2022-09-13T00:00:00-04:00",
          "2022-09-14T00:00:00-04:00",
          "2022-09-15T00:00:00-04:00",
          "2022-09-16T00:00:00-04:00",
          "2022-09-19T00:00:00-04:00",
          "2022-09-20T00:00:00-04:00",
          "2022-09-21T00:00:00-04:00",
          "2022-09-22T00:00:00-04:00",
          "2022-09-23T00:00:00-04:00",
          "2022-09-26T00:00:00-04:00",
          "2022-09-27T00:00:00-04:00",
          "2022-09-28T00:00:00-04:00",
          "2022-09-29T00:00:00-04:00",
          "2022-09-30T00:00:00-04:00",
          "2022-10-03T00:00:00-04:00",
          "2022-10-04T00:00:00-04:00",
          "2022-10-05T00:00:00-04:00",
          "2022-10-06T00:00:00-04:00",
          "2022-10-07T00:00:00-04:00",
          "2022-10-10T00:00:00-04:00",
          "2022-10-11T00:00:00-04:00",
          "2022-10-12T00:00:00-04:00",
          "2022-10-13T00:00:00-04:00",
          "2022-10-14T00:00:00-04:00",
          "2022-10-17T00:00:00-04:00",
          "2022-10-18T00:00:00-04:00",
          "2022-10-19T00:00:00-04:00",
          "2022-10-20T00:00:00-04:00",
          "2022-10-21T00:00:00-04:00",
          "2022-10-24T00:00:00-04:00",
          "2022-10-25T00:00:00-04:00"
         ],
         "y": [
          173.0696996363398,
          173.22497226752782,
          171.9147463814622,
          175.5543333111812,
          172.88529710788026,
          174.16640692746984,
          172.75910934297775,
          173.72966650675355,
          174.58375145360654,
          175.53490108884213,
          172.93380692455142,
          174.53523320539284,
          173.322033130933,
          168.29455277325926,
          166.7998782942483,
          168.4207231418317,
          169.14863034162644,
          164.12116028489345,
          163.43206003449995,
          157.90958041581374,
          160.71449944917103,
          162.85944018305798,
          161.36477172122457,
          158.9675060761324,
          156.01701998317245,
          156.67697175742975,
          158.73456811485445,
          157.2399118361037,
          155.44439143666017,
          154.65823869794295,
          154.04678592488622,
          152.3774180910033,
          147.82376754668243,
          145.22692034877625,
          145.22692324572245,
          143.8060009059311,
          139.24930663050995,
          141.51295290048662,
          146.29505267193852,
          145.5992974802427,
          142.68888429259556,
          145.54050837705216,
          143.22785016298585,
          142.81628031933815,
          142.3262991782615,
          144.89372915487758,
          142.42428919777575,
          140.59181248994759,
          138.61233380140692,
          141.96372609222436,
          141.8559272891863,
          142.39489856337144,
          144.1195895831781,
          145.7070827919092,
          146.45184671273498,
          146.68704809833176,
          145.148524042712,
          146.27545986278906,
          146.92221427146492,
          147.9707476334981,
          148.29413545620127,
          147.4317914493534,
          146.62823304773423,
          146.06967050231665,
          145.66788762960502,
          144.37437089518275,
          146.39303970677156,
          147.97075600726345,
          147.431780015084,
          148.30391427844617,
          145.54051302516694,
          145.66788174414557,
          144.49196289858475,
          143.9040053491683,
          147.78455744332493,
          148.93109004745466,
          147.77478006972123,
          145.72669033924768,
          142.49289646648515,
          141.8755434449734,
          141.84613363812196,
          144.34498009600418,
          141.61094117958862,
          143.2768485797162,
          146.010880111504,
          150.09721911436358,
          146.2754642229679,
          145.46211320019313,
          150.91056969967852,
          146.98102195742112,
          143.64921876391787,
          147.19660317942225,
          146.22645358960347,
          148.94088967658752,
          148.5489012251147,
          144.71487362300672,
          146.0412623873728,
          143.1113259303447,
          142.8836672442612,
          143.95269258574606,
          145.2494004664062,
          146.70445920354715,
          146.76385546316854,
          147.81307566751636,
          146.021474765324,
          145.50674901137222,
          144.90294149709044,
          143.96260042734278,
          144.0813720496328,
          144.0318845613451,
          140.5575423205554,
          135.3410696162305,
          135.2915651060627,
          134.38092066082228,
          131.20353977586325,
          129.44161786720295,
          129.01598067148308,
          127.4619313147462,
          128.8873145754306,
          130.19389397212112,
          133.04465005131354,
          132.5002287284889,
          128.6794416249922,
          127.40254224105614,
          128.0954366193047,
          125.6901179792649,
          128.18451453803968,
          128.80811676783736,
          128.50126945821222,
          127.42233128181331,
          127.84796683317829,
          126.6997500016641,
          125.6901155666827,
          128.5507521881993,
          128.8675059350878,
          129.07537396733528,
          130.77790060909714,
          131.68855000499556,
          133.28219858850127,
          132.63880742979728,
          142.05219419269622,
          138.20170670051397,
          138.4788649319777,
          139.3400322113178,
          140.70600185120458,
          141.1415373319415,
          140.4585496789036,
          142.03241415555948,
          145.51663661780842,
          146.52628440380332,
          146.80343792332317,
          148.35750026722036,
          148.47626731244463,
          148.84251270953362,
          149.85215186464268,
          148.94150074843725,
          146.93212295680215,
          145.90267448303464,
          144.61000061035156,
          143.27999877929688,
          141,
          140.91000366210938,
          141.07000732421875,
          143.63999938964844,
          128.7899932861328,
          126.88999938964844,
          124.8499984741211,
          124.30000305175781,
          126.02999877929688,
          121.36000061035156,
          116.63999938964844,
          118.38999938964844,
          121.2699966430664,
          124.31999969482422,
          122.11000061035156,
          120.58999633789062,
          117.81999969482422,
          114.69999694824219,
          116.01000213623047,
          115.30000305175781,
          116.83000183105469,
          114.16000366210938,
          113.7300033569336,
          112.76000213623047,
          114.12999725341797,
          113.51000213623047,
          112.95999908447266,
          112,
          111.69000244140625,
          114.73999786376953,
          114.33999633789062,
          114.3499984741211,
          110.37000274658203,
          108.52999877929688,
          108.5,
          108.56999969482422,
          107.5,
          114.26000213623047,
          115.30999755859375,
          115.73999786376953,
          115.0999984741211,
          113.9800033569336,
          113.1500015258789,
          117.52999877929688,
          113.51000213623047
         ]
        }
       ],
       "layout": {
        "template": {
         "data": {
          "bar": [
           {
            "error_x": {
             "color": "#2a3f5f"
            },
            "error_y": {
             "color": "#2a3f5f"
            },
            "marker": {
             "line": {
              "color": "#E5ECF6",
              "width": 0.5
             },
             "pattern": {
              "fillmode": "overlay",
              "size": 10,
              "solidity": 0.2
             }
            },
            "type": "bar"
           }
          ],
          "barpolar": [
           {
            "marker": {
             "line": {
              "color": "#E5ECF6",
              "width": 0.5
             },
             "pattern": {
              "fillmode": "overlay",
              "size": 10,
              "solidity": 0.2
             }
            },
            "type": "barpolar"
           }
          ],
          "carpet": [
           {
            "aaxis": {
             "endlinecolor": "#2a3f5f",
             "gridcolor": "white",
             "linecolor": "white",
             "minorgridcolor": "white",
             "startlinecolor": "#2a3f5f"
            },
            "baxis": {
             "endlinecolor": "#2a3f5f",
             "gridcolor": "white",
             "linecolor": "white",
             "minorgridcolor": "white",
             "startlinecolor": "#2a3f5f"
            },
            "type": "carpet"
           }
          ],
          "choropleth": [
           {
            "colorbar": {
             "outlinewidth": 0,
             "ticks": ""
            },
            "type": "choropleth"
           }
          ],
          "contour": [
           {
            "colorbar": {
             "outlinewidth": 0,
             "ticks": ""
            },
            "colorscale": [
             [
              0,
              "#0d0887"
             ],
             [
              0.1111111111111111,
              "#46039f"
             ],
             [
              0.2222222222222222,
              "#7201a8"
             ],
             [
              0.3333333333333333,
              "#9c179e"
             ],
             [
              0.4444444444444444,
              "#bd3786"
             ],
             [
              0.5555555555555556,
              "#d8576b"
             ],
             [
              0.6666666666666666,
              "#ed7953"
             ],
             [
              0.7777777777777778,
              "#fb9f3a"
             ],
             [
              0.8888888888888888,
              "#fdca26"
             ],
             [
              1,
              "#f0f921"
             ]
            ],
            "type": "contour"
           }
          ],
          "contourcarpet": [
           {
            "colorbar": {
             "outlinewidth": 0,
             "ticks": ""
            },
            "type": "contourcarpet"
           }
          ],
          "heatmap": [
           {
            "colorbar": {
             "outlinewidth": 0,
             "ticks": ""
            },
            "colorscale": [
             [
              0,
              "#0d0887"
             ],
             [
              0.1111111111111111,
              "#46039f"
             ],
             [
              0.2222222222222222,
              "#7201a8"
             ],
             [
              0.3333333333333333,
              "#9c179e"
             ],
             [
              0.4444444444444444,
              "#bd3786"
             ],
             [
              0.5555555555555556,
              "#d8576b"
             ],
             [
              0.6666666666666666,
              "#ed7953"
             ],
             [
              0.7777777777777778,
              "#fb9f3a"
             ],
             [
              0.8888888888888888,
              "#fdca26"
             ],
             [
              1,
              "#f0f921"
             ]
            ],
            "type": "heatmap"
           }
          ],
          "heatmapgl": [
           {
            "colorbar": {
             "outlinewidth": 0,
             "ticks": ""
            },
            "colorscale": [
             [
              0,
              "#0d0887"
             ],
             [
              0.1111111111111111,
              "#46039f"
             ],
             [
              0.2222222222222222,
              "#7201a8"
             ],
             [
              0.3333333333333333,
              "#9c179e"
             ],
             [
              0.4444444444444444,
              "#bd3786"
             ],
             [
              0.5555555555555556,
              "#d8576b"
             ],
             [
              0.6666666666666666,
              "#ed7953"
             ],
             [
              0.7777777777777778,
              "#fb9f3a"
             ],
             [
              0.8888888888888888,
              "#fdca26"
             ],
             [
              1,
              "#f0f921"
             ]
            ],
            "type": "heatmapgl"
           }
          ],
          "histogram": [
           {
            "marker": {
             "pattern": {
              "fillmode": "overlay",
              "size": 10,
              "solidity": 0.2
             }
            },
            "type": "histogram"
           }
          ],
          "histogram2d": [
           {
            "colorbar": {
             "outlinewidth": 0,
             "ticks": ""
            },
            "colorscale": [
             [
              0,
              "#0d0887"
             ],
             [
              0.1111111111111111,
              "#46039f"
             ],
             [
              0.2222222222222222,
              "#7201a8"
             ],
             [
              0.3333333333333333,
              "#9c179e"
             ],
             [
              0.4444444444444444,
              "#bd3786"
             ],
             [
              0.5555555555555556,
              "#d8576b"
             ],
             [
              0.6666666666666666,
              "#ed7953"
             ],
             [
              0.7777777777777778,
              "#fb9f3a"
             ],
             [
              0.8888888888888888,
              "#fdca26"
             ],
             [
              1,
              "#f0f921"
             ]
            ],
            "type": "histogram2d"
           }
          ],
          "histogram2dcontour": [
           {
            "colorbar": {
             "outlinewidth": 0,
             "ticks": ""
            },
            "colorscale": [
             [
              0,
              "#0d0887"
             ],
             [
              0.1111111111111111,
              "#46039f"
             ],
             [
              0.2222222222222222,
              "#7201a8"
             ],
             [
              0.3333333333333333,
              "#9c179e"
             ],
             [
              0.4444444444444444,
              "#bd3786"
             ],
             [
              0.5555555555555556,
              "#d8576b"
             ],
             [
              0.6666666666666666,
              "#ed7953"
             ],
             [
              0.7777777777777778,
              "#fb9f3a"
             ],
             [
              0.8888888888888888,
              "#fdca26"
             ],
             [
              1,
              "#f0f921"
             ]
            ],
            "type": "histogram2dcontour"
           }
          ],
          "mesh3d": [
           {
            "colorbar": {
             "outlinewidth": 0,
             "ticks": ""
            },
            "type": "mesh3d"
           }
          ],
          "parcoords": [
           {
            "line": {
             "colorbar": {
              "outlinewidth": 0,
              "ticks": ""
             }
            },
            "type": "parcoords"
           }
          ],
          "pie": [
           {
            "automargin": true,
            "type": "pie"
           }
          ],
          "scatter": [
           {
            "fillpattern": {
             "fillmode": "overlay",
             "size": 10,
             "solidity": 0.2
            },
            "type": "scatter"
           }
          ],
          "scatter3d": [
           {
            "line": {
             "colorbar": {
              "outlinewidth": 0,
              "ticks": ""
             }
            },
            "marker": {
             "colorbar": {
              "outlinewidth": 0,
              "ticks": ""
             }
            },
            "type": "scatter3d"
           }
          ],
          "scattercarpet": [
           {
            "marker": {
             "colorbar": {
              "outlinewidth": 0,
              "ticks": ""
             }
            },
            "type": "scattercarpet"
           }
          ],
          "scattergeo": [
           {
            "marker": {
             "colorbar": {
              "outlinewidth": 0,
              "ticks": ""
             }
            },
            "type": "scattergeo"
           }
          ],
          "scattergl": [
           {
            "marker": {
             "colorbar": {
              "outlinewidth": 0,
              "ticks": ""
             }
            },
            "type": "scattergl"
           }
          ],
          "scattermapbox": [
           {
            "marker": {
             "colorbar": {
              "outlinewidth": 0,
              "ticks": ""
             }
            },
            "type": "scattermapbox"
           }
          ],
          "scatterpolar": [
           {
            "marker": {
             "colorbar": {
              "outlinewidth": 0,
              "ticks": ""
             }
            },
            "type": "scatterpolar"
           }
          ],
          "scatterpolargl": [
           {
            "marker": {
             "colorbar": {
              "outlinewidth": 0,
              "ticks": ""
             }
            },
            "type": "scatterpolargl"
           }
          ],
          "scatterternary": [
           {
            "marker": {
             "colorbar": {
              "outlinewidth": 0,
              "ticks": ""
             }
            },
            "type": "scatterternary"
           }
          ],
          "surface": [
           {
            "colorbar": {
             "outlinewidth": 0,
             "ticks": ""
            },
            "colorscale": [
             [
              0,
              "#0d0887"
             ],
             [
              0.1111111111111111,
              "#46039f"
             ],
             [
              0.2222222222222222,
              "#7201a8"
             ],
             [
              0.3333333333333333,
              "#9c179e"
             ],
             [
              0.4444444444444444,
              "#bd3786"
             ],
             [
              0.5555555555555556,
              "#d8576b"
             ],
             [
              0.6666666666666666,
              "#ed7953"
             ],
             [
              0.7777777777777778,
              "#fb9f3a"
             ],
             [
              0.8888888888888888,
              "#fdca26"
             ],
             [
              1,
              "#f0f921"
             ]
            ],
            "type": "surface"
           }
          ],
          "table": [
           {
            "cells": {
             "fill": {
              "color": "#EBF0F8"
             },
             "line": {
              "color": "white"
             }
            },
            "header": {
             "fill": {
              "color": "#C8D4E3"
             },
             "line": {
              "color": "white"
             }
            },
            "type": "table"
           }
          ]
         },
         "layout": {
          "annotationdefaults": {
           "arrowcolor": "#2a3f5f",
           "arrowhead": 0,
           "arrowwidth": 1
          },
          "autotypenumbers": "strict",
          "coloraxis": {
           "colorbar": {
            "outlinewidth": 0,
            "ticks": ""
           }
          },
          "colorscale": {
           "diverging": [
            [
             0,
             "#8e0152"
            ],
            [
             0.1,
             "#c51b7d"
            ],
            [
             0.2,
             "#de77ae"
            ],
            [
             0.3,
             "#f1b6da"
            ],
            [
             0.4,
             "#fde0ef"
            ],
            [
             0.5,
             "#f7f7f7"
            ],
            [
             0.6,
             "#e6f5d0"
            ],
            [
             0.7,
             "#b8e186"
            ],
            [
             0.8,
             "#7fbc41"
            ],
            [
             0.9,
             "#4d9221"
            ],
            [
             1,
             "#276419"
            ]
           ],
           "sequential": [
            [
             0,
             "#0d0887"
            ],
            [
             0.1111111111111111,
             "#46039f"
            ],
            [
             0.2222222222222222,
             "#7201a8"
            ],
            [
             0.3333333333333333,
             "#9c179e"
            ],
            [
             0.4444444444444444,
             "#bd3786"
            ],
            [
             0.5555555555555556,
             "#d8576b"
            ],
            [
             0.6666666666666666,
             "#ed7953"
            ],
            [
             0.7777777777777778,
             "#fb9f3a"
            ],
            [
             0.8888888888888888,
             "#fdca26"
            ],
            [
             1,
             "#f0f921"
            ]
           ],
           "sequentialminus": [
            [
             0,
             "#0d0887"
            ],
            [
             0.1111111111111111,
             "#46039f"
            ],
            [
             0.2222222222222222,
             "#7201a8"
            ],
            [
             0.3333333333333333,
             "#9c179e"
            ],
            [
             0.4444444444444444,
             "#bd3786"
            ],
            [
             0.5555555555555556,
             "#d8576b"
            ],
            [
             0.6666666666666666,
             "#ed7953"
            ],
            [
             0.7777777777777778,
             "#fb9f3a"
            ],
            [
             0.8888888888888888,
             "#fdca26"
            ],
            [
             1,
             "#f0f921"
            ]
           ]
          },
          "colorway": [
           "#636efa",
           "#EF553B",
           "#00cc96",
           "#ab63fa",
           "#FFA15A",
           "#19d3f3",
           "#FF6692",
           "#B6E880",
           "#FF97FF",
           "#FECB52"
          ],
          "font": {
           "color": "#2a3f5f"
          },
          "geo": {
           "bgcolor": "white",
           "lakecolor": "white",
           "landcolor": "#E5ECF6",
           "showlakes": true,
           "showland": true,
           "subunitcolor": "white"
          },
          "hoverlabel": {
           "align": "left"
          },
          "hovermode": "closest",
          "mapbox": {
           "style": "light"
          },
          "paper_bgcolor": "white",
          "plot_bgcolor": "#E5ECF6",
          "polar": {
           "angularaxis": {
            "gridcolor": "white",
            "linecolor": "white",
            "ticks": ""
           },
           "bgcolor": "#E5ECF6",
           "radialaxis": {
            "gridcolor": "white",
            "linecolor": "white",
            "ticks": ""
           }
          },
          "scene": {
           "xaxis": {
            "backgroundcolor": "#E5ECF6",
            "gridcolor": "white",
            "gridwidth": 2,
            "linecolor": "white",
            "showbackground": true,
            "ticks": "",
            "zerolinecolor": "white"
           },
           "yaxis": {
            "backgroundcolor": "#E5ECF6",
            "gridcolor": "white",
            "gridwidth": 2,
            "linecolor": "white",
            "showbackground": true,
            "ticks": "",
            "zerolinecolor": "white"
           },
           "zaxis": {
            "backgroundcolor": "#E5ECF6",
            "gridcolor": "white",
            "gridwidth": 2,
            "linecolor": "white",
            "showbackground": true,
            "ticks": "",
            "zerolinecolor": "white"
           }
          },
          "shapedefaults": {
           "line": {
            "color": "#2a3f5f"
           }
          },
          "ternary": {
           "aaxis": {
            "gridcolor": "white",
            "linecolor": "white",
            "ticks": ""
           },
           "baxis": {
            "gridcolor": "white",
            "linecolor": "white",
            "ticks": ""
           },
           "bgcolor": "#E5ECF6",
           "caxis": {
            "gridcolor": "white",
            "linecolor": "white",
            "ticks": ""
           }
          },
          "title": {
           "x": 0.05
          },
          "xaxis": {
           "automargin": true,
           "gridcolor": "white",
           "linecolor": "white",
           "ticks": "",
           "title": {
            "standoff": 15
           },
           "zerolinecolor": "white",
           "zerolinewidth": 2
          },
          "yaxis": {
           "automargin": true,
           "gridcolor": "white",
           "linecolor": "white",
           "ticks": "",
           "title": {
            "standoff": 15
           },
           "zerolinecolor": "white",
           "zerolinewidth": 2
          }
         }
        }
       }
      }
     },
     "metadata": {},
     "output_type": "display_data"
    }
   ],
   "source": [
    "fig = go.Figure()\n",
    "\n",
    "fig.add_trace(go.Scatter(\n",
    "    name=\"AOS\",\n",
    "    mode='lines',\n",
    "    x=test['AOS'].index ,\n",
    "    y=test['AOS'][\"Open\"]\n",
    "))\n",
    "\n",
    "fig.add_trace(go.Scatter(\n",
    "    name=\"MMM\",\n",
    "    mode='lines',\n",
    "    x=test['MMM'].index ,\n",
    "    y=test['MMM'][\"Open\"]\n",
    "))\n",
    "\n",
    "fig.show()"
   ]
  },
  {
   "cell_type": "code",
   "execution_count": 37,
   "metadata": {},
   "outputs": [
    {
     "data": {
      "text/plain": [
       "Date\n",
       "2022-01-03 00:00:00-05:00    173.069700\n",
       "2022-01-04 00:00:00-05:00    173.224972\n",
       "2022-01-05 00:00:00-05:00    171.914746\n",
       "2022-01-06 00:00:00-05:00    175.554333\n",
       "2022-01-07 00:00:00-05:00    172.885297\n",
       "                                ...    \n",
       "2022-10-19 00:00:00-04:00    115.099998\n",
       "2022-10-20 00:00:00-04:00    113.980003\n",
       "2022-10-21 00:00:00-04:00    113.150002\n",
       "2022-10-24 00:00:00-04:00    117.529999\n",
       "2022-10-25 00:00:00-04:00    113.510002\n",
       "Name: Open, Length: 205, dtype: float64"
      ]
     },
     "execution_count": 37,
     "metadata": {},
     "output_type": "execute_result"
    }
   ],
   "source": [
    "test['MMM'][\"Open\"]"
   ]
  }
 ],
 "metadata": {
  "kernelspec": {
   "display_name": "Python 3.10.6 ('bulkenv')",
   "language": "python",
   "name": "python3"
  },
  "language_info": {
   "codemirror_mode": {
    "name": "ipython",
    "version": 3
   },
   "file_extension": ".py",
   "mimetype": "text/x-python",
   "name": "python",
   "nbconvert_exporter": "python",
   "pygments_lexer": "ipython3",
   "version": "3.10.6"
  },
  "orig_nbformat": 4,
  "vscode": {
   "interpreter": {
    "hash": "cc5465cf5904b5ae53dbe7fef49c06f7e9de627182621c3de1ab98783b77d35d"
   }
  }
 },
 "nbformat": 4,
 "nbformat_minor": 2
}
