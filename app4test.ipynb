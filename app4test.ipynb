{
 "cells": [
  {
   "cell_type": "code",
   "execution_count": 2,
   "metadata": {},
   "outputs": [],
   "source": [
    "import requests\n",
    "from requests_html import HTMLSession, HTML\n",
    "import pandas as pd\n",
    "import yfinance as yf\n",
    "import plotly.express as px\n",
    "import plotly.graph_objects as go\n",
    "from tqdm import tqdm\n",
    "import time"
   ]
  },
  {
   "cell_type": "code",
   "execution_count": null,
   "metadata": {},
   "outputs": [],
   "source": [
    "# what do we want?\n",
    "    # dashboard\n",
    "    # allows you to filter by industry\n",
    "    # dashboard shows only top 5 of cap valuation\n",
    "    # what do we wwanna ssee on dashboard? candlestick of top 5 stocks\n",
    "    # opeing price of top 5 stocks"
   ]
  },
  {
   "cell_type": "code",
   "execution_count": 3,
   "metadata": {},
   "outputs": [],
   "source": [
    "url1 = 'https://en.wikipedia.org/wiki/S%26P_500_Dividend_Aristocrats'\n",
    "url2 = 'https://en.wikipedia.org/wiki/List_of_S%26P_500_companies'"
   ]
  },
  {
   "cell_type": "code",
   "execution_count": 4,
   "metadata": {},
   "outputs": [],
   "source": [
    "s = HTMLSession()\n",
    "r = s.get(url2)"
   ]
  },
  {
   "cell_type": "code",
   "execution_count": 5,
   "metadata": {},
   "outputs": [
    {
     "data": {
      "text/plain": [
       "<HTML url='https://en.wikipedia.org/wiki/List_of_S%26P_500_companies'>"
      ]
     },
     "execution_count": 5,
     "metadata": {},
     "output_type": "execute_result"
    }
   ],
   "source": [
    "r.html"
   ]
  },
  {
   "cell_type": "code",
   "execution_count": 6,
   "metadata": {},
   "outputs": [
    {
     "data": {
      "text/plain": [
       "<Element 'table' class=('wikitable', 'sortable') id='constituents'>"
      ]
     },
     "execution_count": 6,
     "metadata": {},
     "output_type": "execute_result"
    }
   ],
   "source": [
    "table = r.html.find('table', first=True)\n",
    "table"
   ]
  },
  {
   "cell_type": "code",
   "execution_count": 7,
   "metadata": {},
   "outputs": [],
   "source": [
    "rows = table.find('tr')\n",
    "len(rows)"
   ]
  },
  {
   "cell_type": "code",
   "execution_count": 8,
   "metadata": {},
   "outputs": [],
   "source": [
    "row = rows[-1]\n",
    "row"
   ]
  },
  {
   "cell_type": "code",
   "execution_count": 11,
   "metadata": {},
   "outputs": [
    {
     "name": "stdout",
     "output_type": "stream",
     "text": [
      "ZTS\n",
      "Zoetis\n",
      "reports\n",
      "Health Care\n",
      "Pharmaceuticals\n",
      "Parsippany, New Jersey\n",
      "2013-06-21\n",
      "0001555280\n",
      "1952\n"
     ]
    }
   ],
   "source": [
    "for i in row.find('td'):\n",
    "    print(i.text)\n"
   ]
  },
  {
   "cell_type": "code",
   "execution_count": 12,
   "metadata": {},
   "outputs": [],
   "source": [
    "table_details = [[c.text.strip() for c in row.find('td')] for row in rows[1:]]\n",
    "table_details[:5]"
   ]
  },
  {
   "cell_type": "code",
   "execution_count": 14,
   "metadata": {},
   "outputs": [],
   "source": [
    "columns = [\n",
    "    'Symbol', 'Security', 'SEC Filings', \n",
    "    'GICS Sector', 'GICS Sub-Industry', \n",
    "    'Headquarters Location', 'Date First Added',\n",
    "    'CIK', 'Founded']"
   ]
  },
  {
   "cell_type": "code",
   "execution_count": 15,
   "metadata": {},
   "outputs": [
    {
     "data": {
      "text/html": [
       "<div>\n",
       "<style scoped>\n",
       "    .dataframe tbody tr th:only-of-type {\n",
       "        vertical-align: middle;\n",
       "    }\n",
       "\n",
       "    .dataframe tbody tr th {\n",
       "        vertical-align: top;\n",
       "    }\n",
       "\n",
       "    .dataframe thead th {\n",
       "        text-align: right;\n",
       "    }\n",
       "</style>\n",
       "<table border=\"1\" class=\"dataframe\">\n",
       "  <thead>\n",
       "    <tr style=\"text-align: right;\">\n",
       "      <th></th>\n",
       "      <th>Symbol</th>\n",
       "      <th>Security</th>\n",
       "      <th>SEC Filings</th>\n",
       "      <th>GICS Sector</th>\n",
       "      <th>GICS Sub-Industry</th>\n",
       "      <th>Headquartes Location</th>\n",
       "      <th>Date First Added</th>\n",
       "      <th>CIK</th>\n",
       "      <th>Founded</th>\n",
       "    </tr>\n",
       "  </thead>\n",
       "  <tbody>\n",
       "    <tr>\n",
       "      <th>0</th>\n",
       "      <td>MMM</td>\n",
       "      <td>3M</td>\n",
       "      <td>reports</td>\n",
       "      <td>Industrials</td>\n",
       "      <td>Industrial Conglomerates</td>\n",
       "      <td>Saint Paul, Minnesota</td>\n",
       "      <td>1976-08-09</td>\n",
       "      <td>0000066740</td>\n",
       "      <td>1902</td>\n",
       "    </tr>\n",
       "    <tr>\n",
       "      <th>1</th>\n",
       "      <td>AOS</td>\n",
       "      <td>A. O. Smith</td>\n",
       "      <td>reports</td>\n",
       "      <td>Industrials</td>\n",
       "      <td>Building Products</td>\n",
       "      <td>Milwaukee, Wisconsin</td>\n",
       "      <td>2017-07-26</td>\n",
       "      <td>0000091142</td>\n",
       "      <td>1916</td>\n",
       "    </tr>\n",
       "    <tr>\n",
       "      <th>2</th>\n",
       "      <td>ABT</td>\n",
       "      <td>Abbott</td>\n",
       "      <td>reports</td>\n",
       "      <td>Health Care</td>\n",
       "      <td>Health Care Equipment</td>\n",
       "      <td>North Chicago, Illinois</td>\n",
       "      <td>1964-03-31</td>\n",
       "      <td>0000001800</td>\n",
       "      <td>1888</td>\n",
       "    </tr>\n",
       "    <tr>\n",
       "      <th>3</th>\n",
       "      <td>ABBV</td>\n",
       "      <td>AbbVie</td>\n",
       "      <td>reports</td>\n",
       "      <td>Health Care</td>\n",
       "      <td>Pharmaceuticals</td>\n",
       "      <td>North Chicago, Illinois</td>\n",
       "      <td>2012-12-31</td>\n",
       "      <td>0001551152</td>\n",
       "      <td>2013 (1888)</td>\n",
       "    </tr>\n",
       "    <tr>\n",
       "      <th>4</th>\n",
       "      <td>ABMD</td>\n",
       "      <td>Abiomed</td>\n",
       "      <td>reports</td>\n",
       "      <td>Health Care</td>\n",
       "      <td>Health Care Equipment</td>\n",
       "      <td>Danvers, Massachusetts</td>\n",
       "      <td>2018-05-31</td>\n",
       "      <td>0000815094</td>\n",
       "      <td>1981</td>\n",
       "    </tr>\n",
       "    <tr>\n",
       "      <th>...</th>\n",
       "      <td>...</td>\n",
       "      <td>...</td>\n",
       "      <td>...</td>\n",
       "      <td>...</td>\n",
       "      <td>...</td>\n",
       "      <td>...</td>\n",
       "      <td>...</td>\n",
       "      <td>...</td>\n",
       "      <td>...</td>\n",
       "    </tr>\n",
       "    <tr>\n",
       "      <th>497</th>\n",
       "      <td>YUM</td>\n",
       "      <td>Yum! Brands</td>\n",
       "      <td>reports</td>\n",
       "      <td>Consumer Discretionary</td>\n",
       "      <td>Restaurants</td>\n",
       "      <td>Louisville, Kentucky</td>\n",
       "      <td>1997-10-06</td>\n",
       "      <td>0001041061</td>\n",
       "      <td>1997</td>\n",
       "    </tr>\n",
       "    <tr>\n",
       "      <th>498</th>\n",
       "      <td>ZBRA</td>\n",
       "      <td>Zebra Technologies</td>\n",
       "      <td>reports</td>\n",
       "      <td>Information Technology</td>\n",
       "      <td>Electronic Equipment &amp; Instruments</td>\n",
       "      <td>Lincolnshire, Illinois</td>\n",
       "      <td>2019-12-23</td>\n",
       "      <td>0000877212</td>\n",
       "      <td>1969</td>\n",
       "    </tr>\n",
       "    <tr>\n",
       "      <th>499</th>\n",
       "      <td>ZBH</td>\n",
       "      <td>Zimmer Biomet</td>\n",
       "      <td>reports</td>\n",
       "      <td>Health Care</td>\n",
       "      <td>Health Care Equipment</td>\n",
       "      <td>Warsaw, Indiana</td>\n",
       "      <td>2001-08-07</td>\n",
       "      <td>0001136869</td>\n",
       "      <td>1927</td>\n",
       "    </tr>\n",
       "    <tr>\n",
       "      <th>500</th>\n",
       "      <td>ZION</td>\n",
       "      <td>Zions Bancorporation</td>\n",
       "      <td>reports</td>\n",
       "      <td>Financials</td>\n",
       "      <td>Regional Banks</td>\n",
       "      <td>Salt Lake City, Utah</td>\n",
       "      <td>2001-06-22</td>\n",
       "      <td>0000109380</td>\n",
       "      <td>1873</td>\n",
       "    </tr>\n",
       "    <tr>\n",
       "      <th>501</th>\n",
       "      <td>ZTS</td>\n",
       "      <td>Zoetis</td>\n",
       "      <td>reports</td>\n",
       "      <td>Health Care</td>\n",
       "      <td>Pharmaceuticals</td>\n",
       "      <td>Parsippany, New Jersey</td>\n",
       "      <td>2013-06-21</td>\n",
       "      <td>0001555280</td>\n",
       "      <td>1952</td>\n",
       "    </tr>\n",
       "  </tbody>\n",
       "</table>\n",
       "<p>502 rows × 9 columns</p>\n",
       "</div>"
      ],
      "text/plain": [
       "    Symbol              Security SEC Filings             GICS Sector  \\\n",
       "0      MMM                    3M     reports             Industrials   \n",
       "1      AOS           A. O. Smith     reports             Industrials   \n",
       "2      ABT                Abbott     reports             Health Care   \n",
       "3     ABBV                AbbVie     reports             Health Care   \n",
       "4     ABMD               Abiomed     reports             Health Care   \n",
       "..     ...                   ...         ...                     ...   \n",
       "497    YUM           Yum! Brands     reports  Consumer Discretionary   \n",
       "498   ZBRA    Zebra Technologies     reports  Information Technology   \n",
       "499    ZBH         Zimmer Biomet     reports             Health Care   \n",
       "500   ZION  Zions Bancorporation     reports              Financials   \n",
       "501    ZTS                Zoetis     reports             Health Care   \n",
       "\n",
       "                      GICS Sub-Industry     Headquartes Location  \\\n",
       "0              Industrial Conglomerates    Saint Paul, Minnesota   \n",
       "1                     Building Products     Milwaukee, Wisconsin   \n",
       "2                 Health Care Equipment  North Chicago, Illinois   \n",
       "3                       Pharmaceuticals  North Chicago, Illinois   \n",
       "4                 Health Care Equipment   Danvers, Massachusetts   \n",
       "..                                  ...                      ...   \n",
       "497                         Restaurants     Louisville, Kentucky   \n",
       "498  Electronic Equipment & Instruments   Lincolnshire, Illinois   \n",
       "499               Health Care Equipment          Warsaw, Indiana   \n",
       "500                      Regional Banks     Salt Lake City, Utah   \n",
       "501                     Pharmaceuticals   Parsippany, New Jersey   \n",
       "\n",
       "    Date First Added         CIK      Founded  \n",
       "0         1976-08-09  0000066740         1902  \n",
       "1         2017-07-26  0000091142         1916  \n",
       "2         1964-03-31  0000001800         1888  \n",
       "3         2012-12-31  0001551152  2013 (1888)  \n",
       "4         2018-05-31  0000815094         1981  \n",
       "..               ...         ...          ...  \n",
       "497       1997-10-06  0001041061         1997  \n",
       "498       2019-12-23  0000877212         1969  \n",
       "499       2001-08-07  0001136869         1927  \n",
       "500       2001-06-22  0000109380         1873  \n",
       "501       2013-06-21  0001555280         1952  \n",
       "\n",
       "[502 rows x 9 columns]"
      ]
     },
     "execution_count": 15,
     "metadata": {},
     "output_type": "execute_result"
    }
   ],
   "source": [
    "df = pd.DataFrame(table_details, columns=columns)\n",
    "df"
   ]
  },
  {
   "cell_type": "code",
   "execution_count": 96,
   "metadata": {},
   "outputs": [],
   "source": [
    "def ticker_history(tickers):\n",
    "    data = yf.download(  # or pdr.get_data_yahoo(...\n",
    "        # tickers list or string as well\n",
    "        tickers = tickers,\n",
    "\n",
    "        # use \"period\" instead of start/end\n",
    "        # valid periods: 1d,5d,1mo,3mo,6mo,1y,2y,5y,10y,ytd,max\n",
    "        # (optional, default is '1mo')\n",
    "        period = \"ytd\",\n",
    "\n",
    "        # fetch data by interval (including intraday if period < 60 days)\n",
    "        # valid intervals: 1m,2m,5m,15m,30m,60m,90m,1h,1d,5d,1wk,1mo,3mo\n",
    "        # (optional, default is '1d')\n",
    "        interval = \"1d\",\n",
    "\n",
    "        # Whether to ignore timezone when aligning ticker data from \n",
    "        # different timezones. Default is True. False may be useful for \n",
    "        # minute/hourly data.\n",
    "        ignore_tz = False,\n",
    "\n",
    "        # group by ticker (to access via data['SPY'])\n",
    "        # (optional, default is 'column')\n",
    "        group_by = 'ticker',\n",
    "\n",
    "        # adjust all OHLC automatically\n",
    "        # (optional, default is False)\n",
    "        auto_adjust = True,\n",
    "\n",
    "        # download pre/post regular market hours data\n",
    "        # (optional, default is False)\n",
    "        prepost = True,\n",
    "\n",
    "        # use threads for mass downloading? (True/False/Integer)\n",
    "        # (optional, default is True)\n",
    "        threads = True,\n",
    "\n",
    "        # proxy URL scheme use use when downloading?\n",
    "        # (optional, default is None)\n",
    "        proxy = None\n",
    "    )\n",
    "\n",
    "    return data"
   ]
  },
  {
   "cell_type": "code",
   "execution_count": 17,
   "metadata": {},
   "outputs": [
    {
     "data": {
      "text/plain": [
       "0     MMM\n",
       "1     AOS\n",
       "2     ABT\n",
       "3    ABBV\n",
       "4    ABMD\n",
       "5     ACN\n",
       "Name: Symbol, dtype: object"
      ]
     },
     "execution_count": 17,
     "metadata": {},
     "output_type": "execute_result"
    }
   ],
   "source": [
    "df.loc[:5, 'Symbol']"
   ]
  },
  {
   "cell_type": "code",
   "execution_count": 18,
   "metadata": {},
   "outputs": [
    {
     "name": "stdout",
     "output_type": "stream",
     "text": [
      "[*********************100%***********************]  6 of 6 completed\n"
     ]
    }
   ],
   "source": [
    "test = ticker_history(list(df.loc[:5, 'Symbol']))"
   ]
  },
  {
   "cell_type": "code",
   "execution_count": 19,
   "metadata": {},
   "outputs": [
    {
     "data": {
      "text/html": [
       "<div>\n",
       "<style scoped>\n",
       "    .dataframe tbody tr th:only-of-type {\n",
       "        vertical-align: middle;\n",
       "    }\n",
       "\n",
       "    .dataframe tbody tr th {\n",
       "        vertical-align: top;\n",
       "    }\n",
       "\n",
       "    .dataframe thead th {\n",
       "        text-align: right;\n",
       "    }\n",
       "</style>\n",
       "<table border=\"1\" class=\"dataframe\">\n",
       "  <thead>\n",
       "    <tr style=\"text-align: right;\">\n",
       "      <th></th>\n",
       "      <th>Open</th>\n",
       "      <th>High</th>\n",
       "      <th>Low</th>\n",
       "      <th>Close</th>\n",
       "      <th>Volume</th>\n",
       "    </tr>\n",
       "    <tr>\n",
       "      <th>Date</th>\n",
       "      <th></th>\n",
       "      <th></th>\n",
       "      <th></th>\n",
       "      <th></th>\n",
       "      <th></th>\n",
       "    </tr>\n",
       "  </thead>\n",
       "  <tbody>\n",
       "    <tr>\n",
       "      <th>2022-01-03 00:00:00-05:00</th>\n",
       "      <td>173.069715</td>\n",
       "      <td>173.817033</td>\n",
       "      <td>170.662723</td>\n",
       "      <td>172.506790</td>\n",
       "      <td>1930700</td>\n",
       "    </tr>\n",
       "    <tr>\n",
       "      <th>2022-01-04 00:00:00-05:00</th>\n",
       "      <td>173.224972</td>\n",
       "      <td>175.923119</td>\n",
       "      <td>172.788225</td>\n",
       "      <td>174.923447</td>\n",
       "      <td>2522200</td>\n",
       "    </tr>\n",
       "    <tr>\n",
       "      <th>2022-01-05 00:00:00-05:00</th>\n",
       "      <td>171.914746</td>\n",
       "      <td>176.427830</td>\n",
       "      <td>171.788569</td>\n",
       "      <td>174.205261</td>\n",
       "      <td>2952400</td>\n",
       "    </tr>\n",
       "    <tr>\n",
       "      <th>2022-01-06 00:00:00-05:00</th>\n",
       "      <td>175.554318</td>\n",
       "      <td>175.942535</td>\n",
       "      <td>172.312647</td>\n",
       "      <td>172.759109</td>\n",
       "      <td>2505400</td>\n",
       "    </tr>\n",
       "    <tr>\n",
       "      <th>2022-01-07 00:00:00-05:00</th>\n",
       "      <td>172.885282</td>\n",
       "      <td>175.175797</td>\n",
       "      <td>172.002072</td>\n",
       "      <td>174.651688</td>\n",
       "      <td>2800200</td>\n",
       "    </tr>\n",
       "    <tr>\n",
       "      <th>...</th>\n",
       "      <td>...</td>\n",
       "      <td>...</td>\n",
       "      <td>...</td>\n",
       "      <td>...</td>\n",
       "      <td>...</td>\n",
       "    </tr>\n",
       "    <tr>\n",
       "      <th>2022-10-24 00:00:00-04:00</th>\n",
       "      <td>117.529999</td>\n",
       "      <td>119.139999</td>\n",
       "      <td>117.190002</td>\n",
       "      <td>118.379997</td>\n",
       "      <td>3394100</td>\n",
       "    </tr>\n",
       "    <tr>\n",
       "      <th>2022-10-25 00:00:00-04:00</th>\n",
       "      <td>113.510002</td>\n",
       "      <td>118.599998</td>\n",
       "      <td>113.150002</td>\n",
       "      <td>118.500000</td>\n",
       "      <td>5014700</td>\n",
       "    </tr>\n",
       "    <tr>\n",
       "      <th>2022-10-26 00:00:00-04:00</th>\n",
       "      <td>119.589996</td>\n",
       "      <td>123.290001</td>\n",
       "      <td>119.589996</td>\n",
       "      <td>122.699997</td>\n",
       "      <td>4628000</td>\n",
       "    </tr>\n",
       "    <tr>\n",
       "      <th>2022-10-27 00:00:00-04:00</th>\n",
       "      <td>123.489998</td>\n",
       "      <td>124.449997</td>\n",
       "      <td>122.029999</td>\n",
       "      <td>122.800003</td>\n",
       "      <td>3716500</td>\n",
       "    </tr>\n",
       "    <tr>\n",
       "      <th>2022-10-28 00:00:00-04:00</th>\n",
       "      <td>122.980003</td>\n",
       "      <td>126.669998</td>\n",
       "      <td>122.510002</td>\n",
       "      <td>126.599998</td>\n",
       "      <td>3812100</td>\n",
       "    </tr>\n",
       "  </tbody>\n",
       "</table>\n",
       "<p>208 rows × 5 columns</p>\n",
       "</div>"
      ],
      "text/plain": [
       "                                 Open        High         Low       Close  \\\n",
       "Date                                                                        \n",
       "2022-01-03 00:00:00-05:00  173.069715  173.817033  170.662723  172.506790   \n",
       "2022-01-04 00:00:00-05:00  173.224972  175.923119  172.788225  174.923447   \n",
       "2022-01-05 00:00:00-05:00  171.914746  176.427830  171.788569  174.205261   \n",
       "2022-01-06 00:00:00-05:00  175.554318  175.942535  172.312647  172.759109   \n",
       "2022-01-07 00:00:00-05:00  172.885282  175.175797  172.002072  174.651688   \n",
       "...                               ...         ...         ...         ...   \n",
       "2022-10-24 00:00:00-04:00  117.529999  119.139999  117.190002  118.379997   \n",
       "2022-10-25 00:00:00-04:00  113.510002  118.599998  113.150002  118.500000   \n",
       "2022-10-26 00:00:00-04:00  119.589996  123.290001  119.589996  122.699997   \n",
       "2022-10-27 00:00:00-04:00  123.489998  124.449997  122.029999  122.800003   \n",
       "2022-10-28 00:00:00-04:00  122.980003  126.669998  122.510002  126.599998   \n",
       "\n",
       "                            Volume  \n",
       "Date                                \n",
       "2022-01-03 00:00:00-05:00  1930700  \n",
       "2022-01-04 00:00:00-05:00  2522200  \n",
       "2022-01-05 00:00:00-05:00  2952400  \n",
       "2022-01-06 00:00:00-05:00  2505400  \n",
       "2022-01-07 00:00:00-05:00  2800200  \n",
       "...                            ...  \n",
       "2022-10-24 00:00:00-04:00  3394100  \n",
       "2022-10-25 00:00:00-04:00  5014700  \n",
       "2022-10-26 00:00:00-04:00  4628000  \n",
       "2022-10-27 00:00:00-04:00  3716500  \n",
       "2022-10-28 00:00:00-04:00  3812100  \n",
       "\n",
       "[208 rows x 5 columns]"
      ]
     },
     "execution_count": 19,
     "metadata": {},
     "output_type": "execute_result"
    }
   ],
   "source": [
    "test['MMM']"
   ]
  },
  {
   "cell_type": "code",
   "execution_count": 20,
   "metadata": {},
   "outputs": [],
   "source": [
    "# push one of those columns into yfinance - symbol\n",
    "# exploe the data"
   ]
  },
  {
   "cell_type": "code",
   "execution_count": 25,
   "metadata": {},
   "outputs": [
    {
     "data": {
      "text/plain": [
       "Date\n",
       "2022-01-03 00:00:00-05:00    173.069715\n",
       "2022-01-04 00:00:00-05:00    173.224972\n",
       "2022-01-05 00:00:00-05:00    171.914746\n",
       "2022-01-06 00:00:00-05:00    175.554318\n",
       "2022-01-07 00:00:00-05:00    172.885282\n",
       "                                ...    \n",
       "2022-10-24 00:00:00-04:00    117.529999\n",
       "2022-10-25 00:00:00-04:00    113.510002\n",
       "2022-10-26 00:00:00-04:00    119.589996\n",
       "2022-10-27 00:00:00-04:00    123.489998\n",
       "2022-10-28 00:00:00-04:00    122.980003\n",
       "Name: Open, Length: 208, dtype: float64"
      ]
     },
     "execution_count": 25,
     "metadata": {},
     "output_type": "execute_result"
    }
   ],
   "source": [
    "test['MMM'][\"Open\"]"
   ]
  },
  {
   "cell_type": "code",
   "execution_count": 26,
   "metadata": {},
   "outputs": [],
   "source": [
    "# we need a dataframe\n",
    "# dataframe columns: name, industry, market capital"
   ]
  },
  {
   "cell_type": "code",
   "execution_count": 27,
   "metadata": {},
   "outputs": [
    {
     "data": {
      "text/plain": [
       "{'zip': '55144-1000',\n",
       " 'sector': 'Industrials',\n",
       " 'fullTimeEmployees': 95000,\n",
       " 'longBusinessSummary': '3M Company operates as a diversified technology company worldwide. It operates through four segments: Safety and Industrial; Transportation and Electronics; Health Care; and Consumer. The Safety and Industrial segment offers industrial abrasives and finishing for metalworking applications; autobody repair solutions; closure systems for personal hygiene products, masking, and packaging materials; electrical products and materials for construction and maintenance, power distribution, and electrical original equipment manufacturers; structural adhesives and tapes; respiratory, hearing, eye, and fall protection solutions; and natural and color-coated mineral granules for shingles. The Transportation and Electronics segment provides ceramic solutions; attachment tapes, films, sound, and temperature management for transportation vehicles; premium large format graphic films for advertising and fleet signage; light management films and electronics assembly solutions; packaging and interconnection solutions; and reflective signage for highway, and vehicle safety. The Healthcare segment offers food safety indicator solutions; health care procedure coding and reimbursement software; skin, wound care, and infection prevention products and solutions; dentistry and orthodontia solutions; and filtration and purification systems. The Consumer segment provides consumer bandages, braces, supports and consumer respirators; cleaning products for the home; retail abrasives, paint accessories, car care DIY products, picture hanging, and consumer air quality solutions; and stationery products. It offers its products through e-commerce and traditional wholesalers, retailers, jobbers, distributors, and dealers. The company was founded in 1902 and is based in St. Paul, Minnesota.',\n",
       " 'city': 'Saint Paul',\n",
       " 'phone': '651 733 1110',\n",
       " 'state': 'MN',\n",
       " 'country': 'United States',\n",
       " 'companyOfficers': [],\n",
       " 'website': 'https://www.3m.com',\n",
       " 'maxAge': 1,\n",
       " 'address1': '3M Center',\n",
       " 'industry': 'Conglomerates',\n",
       " 'ebitdaMargins': 0.20048,\n",
       " 'profitMargins': 0.18913999,\n",
       " 'grossMargins': 0.44353,\n",
       " 'operatingCashflow': 5673999872,\n",
       " 'revenueGrowth': -0.036,\n",
       " 'operatingMargins': 0.14645,\n",
       " 'ebitda': 6968999936,\n",
       " 'targetLowPrice': 110,\n",
       " 'recommendationKey': 'hold',\n",
       " 'grossProfits': 16579000000,\n",
       " 'freeCashflow': 2674249984,\n",
       " 'targetMedianPrice': 126,\n",
       " 'currentPrice': 126.6,\n",
       " 'earningsGrowth': 1.763,\n",
       " 'currentRatio': 1.561,\n",
       " 'returnOnAssets': 0.06737,\n",
       " 'numberOfAnalystOpinions': 18,\n",
       " 'targetMeanPrice': 131.13,\n",
       " 'debtToEquity': 117.484,\n",
       " 'returnOnEquity': 0.45931998,\n",
       " 'targetHighPrice': 210,\n",
       " 'totalCash': 3588999936,\n",
       " 'totalDebt': 16631000064,\n",
       " 'totalRevenue': 34761998336,\n",
       " 'totalCashPerShare': 6.493,\n",
       " 'financialCurrency': 'USD',\n",
       " 'revenuePerShare': 60.794,\n",
       " 'quickRatio': 0.871,\n",
       " 'recommendationMean': 3.2,\n",
       " 'exchange': 'NYQ',\n",
       " 'shortName': '3M Company',\n",
       " 'longName': '3M Company',\n",
       " 'exchangeTimezoneName': 'America/New_York',\n",
       " 'exchangeTimezoneShortName': 'EDT',\n",
       " 'isEsgPopulated': False,\n",
       " 'gmtOffSetMilliseconds': '-14400000',\n",
       " 'quoteType': 'EQUITY',\n",
       " 'symbol': 'MMM',\n",
       " 'messageBoardId': 'finmb_289194',\n",
       " 'market': 'us_market',\n",
       " 'annualHoldingsTurnover': None,\n",
       " 'enterpriseToRevenue': 2.39,\n",
       " 'beta3Year': None,\n",
       " 'enterpriseToEbitda': 11.924,\n",
       " '52WeekChange': -0.2950217,\n",
       " 'morningStarRiskRating': None,\n",
       " 'forwardEps': 10.56,\n",
       " 'revenueQuarterlyGrowth': None,\n",
       " 'sharesOutstanding': 552742976,\n",
       " 'fundInceptionDate': None,\n",
       " 'annualReportExpenseRatio': None,\n",
       " 'totalAssets': None,\n",
       " 'bookValue': 25.473,\n",
       " 'sharesShort': 14641662,\n",
       " 'sharesPercentSharesOut': 0.026400002,\n",
       " 'fundFamily': None,\n",
       " 'lastFiscalYearEnd': 1640908800,\n",
       " 'heldPercentInstitutions': 0.66955,\n",
       " 'netIncomeToCommon': 6575000064,\n",
       " 'trailingEps': 11.46,\n",
       " 'lastDividendValue': 1.49,\n",
       " 'SandP52WeekChange': -0.1544562,\n",
       " 'priceToBook': 4.9699683,\n",
       " 'heldPercentInsiders': 0.00124,\n",
       " 'nextFiscalYearEnd': 1703980800,\n",
       " 'yield': None,\n",
       " 'mostRecentQuarter': 1664496000,\n",
       " 'shortRatio': 3.97,\n",
       " 'sharesShortPreviousMonthDate': 1663200000,\n",
       " 'floatShares': 548337554,\n",
       " 'beta': 0.986735,\n",
       " 'enterpriseValue': 83095257088,\n",
       " 'priceHint': 2,\n",
       " 'threeYearAverageReturn': None,\n",
       " 'lastSplitDate': 1064880000,\n",
       " 'lastSplitFactor': '2:1',\n",
       " 'legalType': None,\n",
       " 'lastDividendDate': 1660867200,\n",
       " 'morningStarOverallRating': None,\n",
       " 'earningsQuarterlyGrowth': 1.691,\n",
       " 'priceToSalesTrailing12Months': 2.013039,\n",
       " 'dateShortInterest': 1665705600,\n",
       " 'pegRatio': 30,\n",
       " 'ytdReturn': None,\n",
       " 'forwardPE': 11.988636,\n",
       " 'lastCapGain': None,\n",
       " 'shortPercentOfFloat': 0.026500002,\n",
       " 'sharesShortPriorMonth': 19250841,\n",
       " 'impliedSharesOutstanding': 0,\n",
       " 'category': None,\n",
       " 'fiveYearAverageReturn': None,\n",
       " 'previousClose': 122.8,\n",
       " 'regularMarketOpen': 122.98,\n",
       " 'twoHundredDayAverage': 140.43445,\n",
       " 'trailingAnnualDividendYield': 0.048452765,\n",
       " 'payoutRatio': 0.51919997,\n",
       " 'volume24Hr': None,\n",
       " 'regularMarketDayHigh': 126.67,\n",
       " 'navPrice': None,\n",
       " 'averageDailyVolume10Day': 3519640,\n",
       " 'regularMarketPreviousClose': 122.8,\n",
       " 'fiftyDayAverage': 119.53,\n",
       " 'trailingAnnualDividendRate': 5.95,\n",
       " 'open': 122.98,\n",
       " 'toCurrency': None,\n",
       " 'averageVolume10days': 3519640,\n",
       " 'expireDate': None,\n",
       " 'algorithm': None,\n",
       " 'dividendRate': 5.96,\n",
       " 'exDividendDate': 1660867200,\n",
       " 'circulatingSupply': None,\n",
       " 'startDate': None,\n",
       " 'regularMarketDayLow': 122.51,\n",
       " 'currency': 'USD',\n",
       " 'trailingPE': 11.04712,\n",
       " 'regularMarketVolume': 3599469,\n",
       " 'lastMarket': None,\n",
       " 'maxSupply': None,\n",
       " 'openInterest': None,\n",
       " 'marketCap': 69977260032,\n",
       " 'volumeAllCurrencies': None,\n",
       " 'strikePrice': None,\n",
       " 'averageVolume': 9616367,\n",
       " 'dayLow': 122.51,\n",
       " 'ask': 128,\n",
       " 'askSize': 1400,\n",
       " 'volume': 3599469,\n",
       " 'fiftyTwoWeekHigh': 186.3,\n",
       " 'fromCurrency': None,\n",
       " 'fiveYearAvgDividendYield': 3.24,\n",
       " 'fiftyTwoWeekLow': 107.07,\n",
       " 'bid': 126.39,\n",
       " 'tradeable': False,\n",
       " 'dividendYield': 0.0471,\n",
       " 'bidSize': 900,\n",
       " 'dayHigh': 126.67,\n",
       " 'coinMarketCapLink': None,\n",
       " 'regularMarketPrice': 126.6,\n",
       " 'preMarketPrice': None,\n",
       " 'logo_url': 'https://logo.clearbit.com/3m.com'}"
      ]
     },
     "execution_count": 27,
     "metadata": {},
     "output_type": "execute_result"
    }
   ],
   "source": [
    "mmm = yf.Ticker(\"MMM\")\n",
    "mmm.info.keys()"
   ]
  },
  {
   "cell_type": "code",
   "execution_count": 28,
   "metadata": {},
   "outputs": [
    {
     "data": {
      "text/plain": [
       "69977260032"
      ]
     },
     "execution_count": 28,
     "metadata": {},
     "output_type": "execute_result"
    }
   ],
   "source": [
    "mmm.info['marketCap']"
   ]
  },
  {
   "cell_type": "code",
   "execution_count": 29,
   "metadata": {},
   "outputs": [
    {
     "name": "stderr",
     "output_type": "stream",
     "text": [
      "100%|██████████| 502/502 [39:21<00:00,  4.71s/it]  \n"
     ]
    }
   ],
   "source": [
    "empt = list()\n",
    "\n",
    "for ticker in tqdm(df['Symbol'].tolist()):\n",
    "    ticker_info = yf.Ticker(ticker)\n",
    "    # i hindsight, i should have probably relied on the get method\n",
    "    try:\n",
    "        name = ticker_info.info['longName']\n",
    "    except KeyError:\n",
    "        name = ticker_info.info['shortName']\n",
    "    except:\n",
    "        name = None\n",
    "    \n",
    "    try:\n",
    "        sector = ticker_info.info['sector']\n",
    "    except KeyError:\n",
    "        sector = None\n",
    "\n",
    "    try:\n",
    "        business_summary = ticker_info.info['longBusinessSummary']\n",
    "    except KeyError:\n",
    "        business_summary = None\n",
    "\n",
    "    try:\n",
    "        industry = ticker_info.info['industry']\n",
    "    except KeyError:\n",
    "        industry = None\n",
    "\n",
    "    try:\n",
    "        market_capitalization = ticker_info.info['marketCap']  \n",
    "    except KeyError:\n",
    "        market_capitalization = None\n",
    "\n",
    "\n",
    "    ticker_details = {\n",
    "        'ticker': ticker,\n",
    "        'name': name,\n",
    "        'sector': sector,\n",
    "        'business_summary': business_summary,\n",
    "        'industry': industry,\n",
    "        'market_capitalization': market_capitalization,\n",
    "    }\n",
    "\n",
    "    empt.append(ticker_details)\n",
    "\n",
    "    time.sleep(2)"
   ]
  },
  {
   "cell_type": "code",
   "execution_count": 31,
   "metadata": {},
   "outputs": [
    {
     "data": {
      "text/html": [
       "<div>\n",
       "<style scoped>\n",
       "    .dataframe tbody tr th:only-of-type {\n",
       "        vertical-align: middle;\n",
       "    }\n",
       "\n",
       "    .dataframe tbody tr th {\n",
       "        vertical-align: top;\n",
       "    }\n",
       "\n",
       "    .dataframe thead th {\n",
       "        text-align: right;\n",
       "    }\n",
       "</style>\n",
       "<table border=\"1\" class=\"dataframe\">\n",
       "  <thead>\n",
       "    <tr style=\"text-align: right;\">\n",
       "      <th></th>\n",
       "      <th>ticker</th>\n",
       "      <th>name</th>\n",
       "      <th>sector</th>\n",
       "      <th>business_summary</th>\n",
       "      <th>industry</th>\n",
       "      <th>market_capitalization</th>\n",
       "    </tr>\n",
       "  </thead>\n",
       "  <tbody>\n",
       "    <tr>\n",
       "      <th>0</th>\n",
       "      <td>MMM</td>\n",
       "      <td>3M Company</td>\n",
       "      <td>Industrials</td>\n",
       "      <td>3M Company operates as a diversified technolog...</td>\n",
       "      <td>Conglomerates</td>\n",
       "      <td>6.997726e+10</td>\n",
       "    </tr>\n",
       "    <tr>\n",
       "      <th>1</th>\n",
       "      <td>AOS</td>\n",
       "      <td>A. O. Smith Corporation</td>\n",
       "      <td>Industrials</td>\n",
       "      <td>A. O. Smith Corporation manufactures and marke...</td>\n",
       "      <td>Specialty Industrial Machinery</td>\n",
       "      <td>8.398882e+09</td>\n",
       "    </tr>\n",
       "    <tr>\n",
       "      <th>2</th>\n",
       "      <td>ABT</td>\n",
       "      <td>Abbott Laboratories</td>\n",
       "      <td>Healthcare</td>\n",
       "      <td>Abbott Laboratories, together with its subsidi...</td>\n",
       "      <td>Medical Devices</td>\n",
       "      <td>1.742289e+11</td>\n",
       "    </tr>\n",
       "    <tr>\n",
       "      <th>3</th>\n",
       "      <td>ABBV</td>\n",
       "      <td>AbbVie Inc.</td>\n",
       "      <td>Healthcare</td>\n",
       "      <td>AbbVie Inc. discovers, develops, manufactures,...</td>\n",
       "      <td>Drug Manufacturers—General</td>\n",
       "      <td>2.609892e+11</td>\n",
       "    </tr>\n",
       "    <tr>\n",
       "      <th>4</th>\n",
       "      <td>ABMD</td>\n",
       "      <td>Abiomed, Inc.</td>\n",
       "      <td>Healthcare</td>\n",
       "      <td>Abiomed, Inc. engages in the research, develop...</td>\n",
       "      <td>Medical Devices</td>\n",
       "      <td>1.173164e+10</td>\n",
       "    </tr>\n",
       "    <tr>\n",
       "      <th>...</th>\n",
       "      <td>...</td>\n",
       "      <td>...</td>\n",
       "      <td>...</td>\n",
       "      <td>...</td>\n",
       "      <td>...</td>\n",
       "      <td>...</td>\n",
       "    </tr>\n",
       "    <tr>\n",
       "      <th>497</th>\n",
       "      <td>YUM</td>\n",
       "      <td>Yum! Brands, Inc.</td>\n",
       "      <td>Consumer Cyclical</td>\n",
       "      <td>YUM! Brands, Inc., together with its subsidiar...</td>\n",
       "      <td>Restaurants</td>\n",
       "      <td>3.455452e+10</td>\n",
       "    </tr>\n",
       "    <tr>\n",
       "      <th>498</th>\n",
       "      <td>ZBRA</td>\n",
       "      <td>Zebra Technologies Corporation</td>\n",
       "      <td>Technology</td>\n",
       "      <td>Zebra Technologies Corporation, together with ...</td>\n",
       "      <td>Communication Equipment</td>\n",
       "      <td>1.539115e+10</td>\n",
       "    </tr>\n",
       "    <tr>\n",
       "      <th>499</th>\n",
       "      <td>ZBH</td>\n",
       "      <td>Zimmer Biomet Holdings, Inc.</td>\n",
       "      <td>Healthcare</td>\n",
       "      <td>Zimmer Biomet Holdings, Inc., together with it...</td>\n",
       "      <td>Medical Devices</td>\n",
       "      <td>2.370479e+10</td>\n",
       "    </tr>\n",
       "    <tr>\n",
       "      <th>500</th>\n",
       "      <td>ZION</td>\n",
       "      <td>Zions Bancorporation, National Association</td>\n",
       "      <td>Financial Services</td>\n",
       "      <td>Zions Bancorporation, National Association pro...</td>\n",
       "      <td>Banks—Regional</td>\n",
       "      <td>8.064103e+09</td>\n",
       "    </tr>\n",
       "    <tr>\n",
       "      <th>501</th>\n",
       "      <td>ZTS</td>\n",
       "      <td>Zoetis Inc.</td>\n",
       "      <td>Healthcare</td>\n",
       "      <td>Zoetis Inc. discovers, develops, manufactures,...</td>\n",
       "      <td>Drug Manufacturers—Specialty &amp; Generic</td>\n",
       "      <td>7.252075e+10</td>\n",
       "    </tr>\n",
       "  </tbody>\n",
       "</table>\n",
       "<p>502 rows × 6 columns</p>\n",
       "</div>"
      ],
      "text/plain": [
       "    ticker                                        name              sector  \\\n",
       "0      MMM                                  3M Company         Industrials   \n",
       "1      AOS                     A. O. Smith Corporation         Industrials   \n",
       "2      ABT                         Abbott Laboratories          Healthcare   \n",
       "3     ABBV                                 AbbVie Inc.          Healthcare   \n",
       "4     ABMD                               Abiomed, Inc.          Healthcare   \n",
       "..     ...                                         ...                 ...   \n",
       "497    YUM                           Yum! Brands, Inc.   Consumer Cyclical   \n",
       "498   ZBRA              Zebra Technologies Corporation          Technology   \n",
       "499    ZBH                Zimmer Biomet Holdings, Inc.          Healthcare   \n",
       "500   ZION  Zions Bancorporation, National Association  Financial Services   \n",
       "501    ZTS                                 Zoetis Inc.          Healthcare   \n",
       "\n",
       "                                      business_summary  \\\n",
       "0    3M Company operates as a diversified technolog...   \n",
       "1    A. O. Smith Corporation manufactures and marke...   \n",
       "2    Abbott Laboratories, together with its subsidi...   \n",
       "3    AbbVie Inc. discovers, develops, manufactures,...   \n",
       "4    Abiomed, Inc. engages in the research, develop...   \n",
       "..                                                 ...   \n",
       "497  YUM! Brands, Inc., together with its subsidiar...   \n",
       "498  Zebra Technologies Corporation, together with ...   \n",
       "499  Zimmer Biomet Holdings, Inc., together with it...   \n",
       "500  Zions Bancorporation, National Association pro...   \n",
       "501  Zoetis Inc. discovers, develops, manufactures,...   \n",
       "\n",
       "                                   industry  market_capitalization  \n",
       "0                             Conglomerates           6.997726e+10  \n",
       "1            Specialty Industrial Machinery           8.398882e+09  \n",
       "2                           Medical Devices           1.742289e+11  \n",
       "3                Drug Manufacturers—General           2.609892e+11  \n",
       "4                           Medical Devices           1.173164e+10  \n",
       "..                                      ...                    ...  \n",
       "497                             Restaurants           3.455452e+10  \n",
       "498                 Communication Equipment           1.539115e+10  \n",
       "499                         Medical Devices           2.370479e+10  \n",
       "500                          Banks—Regional           8.064103e+09  \n",
       "501  Drug Manufacturers—Specialty & Generic           7.252075e+10  \n",
       "\n",
       "[502 rows x 6 columns]"
      ]
     },
     "execution_count": 31,
     "metadata": {},
     "output_type": "execute_result"
    }
   ],
   "source": [
    "df2 = pd.DataFrame(empt)\n",
    "df2\n",
    "# should convert to csv"
   ]
  },
  {
   "cell_type": "code",
   "execution_count": 37,
   "metadata": {},
   "outputs": [
    {
     "data": {
      "text/html": [
       "<div>\n",
       "<style scoped>\n",
       "    .dataframe tbody tr th:only-of-type {\n",
       "        vertical-align: middle;\n",
       "    }\n",
       "\n",
       "    .dataframe tbody tr th {\n",
       "        vertical-align: top;\n",
       "    }\n",
       "\n",
       "    .dataframe thead th {\n",
       "        text-align: right;\n",
       "    }\n",
       "</style>\n",
       "<table border=\"1\" class=\"dataframe\">\n",
       "  <thead>\n",
       "    <tr style=\"text-align: right;\">\n",
       "      <th></th>\n",
       "      <th>ticker</th>\n",
       "      <th>name</th>\n",
       "      <th>sector</th>\n",
       "      <th>business_summary</th>\n",
       "      <th>industry</th>\n",
       "      <th>market_capitalization</th>\n",
       "    </tr>\n",
       "  </thead>\n",
       "  <tbody>\n",
       "    <tr>\n",
       "      <th>0</th>\n",
       "      <td>MMM</td>\n",
       "      <td>3M Company</td>\n",
       "      <td>Industrials</td>\n",
       "      <td>3M Company operates as a diversified technolog...</td>\n",
       "      <td>Conglomerates</td>\n",
       "      <td>6.997726e+10</td>\n",
       "    </tr>\n",
       "    <tr>\n",
       "      <th>1</th>\n",
       "      <td>AOS</td>\n",
       "      <td>A. O. Smith Corporation</td>\n",
       "      <td>Industrials</td>\n",
       "      <td>A. O. Smith Corporation manufactures and marke...</td>\n",
       "      <td>Specialty Industrial Machinery</td>\n",
       "      <td>8.398882e+09</td>\n",
       "    </tr>\n",
       "    <tr>\n",
       "      <th>2</th>\n",
       "      <td>ABT</td>\n",
       "      <td>Abbott Laboratories</td>\n",
       "      <td>Healthcare</td>\n",
       "      <td>Abbott Laboratories, together with its subsidi...</td>\n",
       "      <td>Medical Devices</td>\n",
       "      <td>1.742289e+11</td>\n",
       "    </tr>\n",
       "    <tr>\n",
       "      <th>3</th>\n",
       "      <td>ABBV</td>\n",
       "      <td>AbbVie Inc.</td>\n",
       "      <td>Healthcare</td>\n",
       "      <td>AbbVie Inc. discovers, develops, manufactures,...</td>\n",
       "      <td>Drug Manufacturers—General</td>\n",
       "      <td>2.609892e+11</td>\n",
       "    </tr>\n",
       "    <tr>\n",
       "      <th>4</th>\n",
       "      <td>ABMD</td>\n",
       "      <td>Abiomed, Inc.</td>\n",
       "      <td>Healthcare</td>\n",
       "      <td>Abiomed, Inc. engages in the research, develop...</td>\n",
       "      <td>Medical Devices</td>\n",
       "      <td>1.173164e+10</td>\n",
       "    </tr>\n",
       "  </tbody>\n",
       "</table>\n",
       "</div>"
      ],
      "text/plain": [
       "  ticker                     name       sector  \\\n",
       "0    MMM               3M Company  Industrials   \n",
       "1    AOS  A. O. Smith Corporation  Industrials   \n",
       "2    ABT      Abbott Laboratories   Healthcare   \n",
       "3   ABBV              AbbVie Inc.   Healthcare   \n",
       "4   ABMD            Abiomed, Inc.   Healthcare   \n",
       "\n",
       "                                    business_summary  \\\n",
       "0  3M Company operates as a diversified technolog...   \n",
       "1  A. O. Smith Corporation manufactures and marke...   \n",
       "2  Abbott Laboratories, together with its subsidi...   \n",
       "3  AbbVie Inc. discovers, develops, manufactures,...   \n",
       "4  Abiomed, Inc. engages in the research, develop...   \n",
       "\n",
       "                         industry  market_capitalization  \n",
       "0                   Conglomerates           6.997726e+10  \n",
       "1  Specialty Industrial Machinery           8.398882e+09  \n",
       "2                 Medical Devices           1.742289e+11  \n",
       "3      Drug Manufacturers—General           2.609892e+11  \n",
       "4                 Medical Devices           1.173164e+10  "
      ]
     },
     "execution_count": 37,
     "metadata": {},
     "output_type": "execute_result"
    }
   ],
   "source": [
    "df2.head()"
   ]
  },
  {
   "cell_type": "code",
   "execution_count": 34,
   "metadata": {},
   "outputs": [
    {
     "data": {
      "text/plain": [
       "array(['Industrials', 'Healthcare', 'Technology',\n",
       "       'Communication Services', 'Consumer Defensive',\n",
       "       'Consumer Cyclical', 'Utilities', 'Financial Services',\n",
       "       'Basic Materials', 'Real Estate', 'Energy', None], dtype=object)"
      ]
     },
     "execution_count": 34,
     "metadata": {},
     "output_type": "execute_result"
    }
   ],
   "source": [
    "df2.sector.unique()"
   ]
  },
  {
   "cell_type": "code",
   "execution_count": 36,
   "metadata": {},
   "outputs": [
    {
     "data": {
      "text/plain": [
       "array(['Industrials', 'Health Care', 'Information Technology',\n",
       "       'Communication Services', 'Consumer Staples',\n",
       "       'Consumer Discretionary', 'Utilities', 'Financials', 'Materials',\n",
       "       'Real Estate', 'Energy'], dtype=object)"
      ]
     },
     "execution_count": 36,
     "metadata": {},
     "output_type": "execute_result"
    }
   ],
   "source": [
    "df['GICS Sector'].unique()"
   ]
  },
  {
   "cell_type": "code",
   "execution_count": 38,
   "metadata": {},
   "outputs": [
    {
     "data": {
      "text/html": [
       "<div>\n",
       "<style scoped>\n",
       "    .dataframe tbody tr th:only-of-type {\n",
       "        vertical-align: middle;\n",
       "    }\n",
       "\n",
       "    .dataframe tbody tr th {\n",
       "        vertical-align: top;\n",
       "    }\n",
       "\n",
       "    .dataframe thead th {\n",
       "        text-align: right;\n",
       "    }\n",
       "</style>\n",
       "<table border=\"1\" class=\"dataframe\">\n",
       "  <thead>\n",
       "    <tr style=\"text-align: right;\">\n",
       "      <th></th>\n",
       "      <th>Symbol</th>\n",
       "      <th>Security</th>\n",
       "      <th>SEC Filings</th>\n",
       "      <th>GICS Sector</th>\n",
       "      <th>GICS Sub-Industry</th>\n",
       "      <th>Headquartes Location</th>\n",
       "      <th>Date First Added</th>\n",
       "      <th>CIK</th>\n",
       "      <th>Founded</th>\n",
       "    </tr>\n",
       "  </thead>\n",
       "  <tbody>\n",
       "    <tr>\n",
       "      <th>0</th>\n",
       "      <td>MMM</td>\n",
       "      <td>3M</td>\n",
       "      <td>reports</td>\n",
       "      <td>Industrials</td>\n",
       "      <td>Industrial Conglomerates</td>\n",
       "      <td>Saint Paul, Minnesota</td>\n",
       "      <td>1976-08-09</td>\n",
       "      <td>0000066740</td>\n",
       "      <td>1902</td>\n",
       "    </tr>\n",
       "    <tr>\n",
       "      <th>1</th>\n",
       "      <td>AOS</td>\n",
       "      <td>A. O. Smith</td>\n",
       "      <td>reports</td>\n",
       "      <td>Industrials</td>\n",
       "      <td>Building Products</td>\n",
       "      <td>Milwaukee, Wisconsin</td>\n",
       "      <td>2017-07-26</td>\n",
       "      <td>0000091142</td>\n",
       "      <td>1916</td>\n",
       "    </tr>\n",
       "    <tr>\n",
       "      <th>2</th>\n",
       "      <td>ABT</td>\n",
       "      <td>Abbott</td>\n",
       "      <td>reports</td>\n",
       "      <td>Health Care</td>\n",
       "      <td>Health Care Equipment</td>\n",
       "      <td>North Chicago, Illinois</td>\n",
       "      <td>1964-03-31</td>\n",
       "      <td>0000001800</td>\n",
       "      <td>1888</td>\n",
       "    </tr>\n",
       "    <tr>\n",
       "      <th>3</th>\n",
       "      <td>ABBV</td>\n",
       "      <td>AbbVie</td>\n",
       "      <td>reports</td>\n",
       "      <td>Health Care</td>\n",
       "      <td>Pharmaceuticals</td>\n",
       "      <td>North Chicago, Illinois</td>\n",
       "      <td>2012-12-31</td>\n",
       "      <td>0001551152</td>\n",
       "      <td>2013 (1888)</td>\n",
       "    </tr>\n",
       "    <tr>\n",
       "      <th>4</th>\n",
       "      <td>ABMD</td>\n",
       "      <td>Abiomed</td>\n",
       "      <td>reports</td>\n",
       "      <td>Health Care</td>\n",
       "      <td>Health Care Equipment</td>\n",
       "      <td>Danvers, Massachusetts</td>\n",
       "      <td>2018-05-31</td>\n",
       "      <td>0000815094</td>\n",
       "      <td>1981</td>\n",
       "    </tr>\n",
       "  </tbody>\n",
       "</table>\n",
       "</div>"
      ],
      "text/plain": [
       "  Symbol     Security SEC Filings  GICS Sector         GICS Sub-Industry  \\\n",
       "0    MMM           3M     reports  Industrials  Industrial Conglomerates   \n",
       "1    AOS  A. O. Smith     reports  Industrials         Building Products   \n",
       "2    ABT       Abbott     reports  Health Care     Health Care Equipment   \n",
       "3   ABBV       AbbVie     reports  Health Care           Pharmaceuticals   \n",
       "4   ABMD      Abiomed     reports  Health Care     Health Care Equipment   \n",
       "\n",
       "      Headquartes Location Date First Added         CIK      Founded  \n",
       "0    Saint Paul, Minnesota       1976-08-09  0000066740         1902  \n",
       "1     Milwaukee, Wisconsin       2017-07-26  0000091142         1916  \n",
       "2  North Chicago, Illinois       1964-03-31  0000001800         1888  \n",
       "3  North Chicago, Illinois       2012-12-31  0001551152  2013 (1888)  \n",
       "4   Danvers, Massachusetts       2018-05-31  0000815094         1981  "
      ]
     },
     "execution_count": 38,
     "metadata": {},
     "output_type": "execute_result"
    }
   ],
   "source": [
    "df.head()"
   ]
  },
  {
   "cell_type": "code",
   "execution_count": 88,
   "metadata": {},
   "outputs": [
    {
     "data": {
      "text/plain": [
       "ticker                    0\n",
       "name                      0\n",
       "sector                    2\n",
       "business_summary          2\n",
       "industry                  2\n",
       "market_capitalization    10\n",
       "dtype: int64"
      ]
     },
     "execution_count": 88,
     "metadata": {},
     "output_type": "execute_result"
    }
   ],
   "source": [
    "df2.isna().sum()"
   ]
  },
  {
   "cell_type": "code",
   "execution_count": 89,
   "metadata": {},
   "outputs": [
    {
     "data": {
      "text/html": [
       "<div>\n",
       "<style scoped>\n",
       "    .dataframe tbody tr th:only-of-type {\n",
       "        vertical-align: middle;\n",
       "    }\n",
       "\n",
       "    .dataframe tbody tr th {\n",
       "        vertical-align: top;\n",
       "    }\n",
       "\n",
       "    .dataframe thead th {\n",
       "        text-align: right;\n",
       "    }\n",
       "</style>\n",
       "<table border=\"1\" class=\"dataframe\">\n",
       "  <thead>\n",
       "    <tr style=\"text-align: right;\">\n",
       "      <th></th>\n",
       "      <th>ticker</th>\n",
       "      <th>name</th>\n",
       "      <th>sector</th>\n",
       "      <th>business_summary</th>\n",
       "      <th>industry</th>\n",
       "      <th>market_capitalization</th>\n",
       "    </tr>\n",
       "  </thead>\n",
       "  <tbody>\n",
       "    <tr>\n",
       "      <th>58</th>\n",
       "      <td>BALL</td>\n",
       "      <td>Ball Corporation</td>\n",
       "      <td>Consumer Cyclical</td>\n",
       "      <td>Ball Corporation supplies aluminum packaging p...</td>\n",
       "      <td>Packaging &amp; Containers</td>\n",
       "      <td>NaN</td>\n",
       "    </tr>\n",
       "    <tr>\n",
       "      <th>64</th>\n",
       "      <td>BRK.B</td>\n",
       "      <td>Berkshire Hathaway</td>\n",
       "      <td>None</td>\n",
       "      <td>None</td>\n",
       "      <td>None</td>\n",
       "      <td>NaN</td>\n",
       "    </tr>\n",
       "    <tr>\n",
       "      <th>80</th>\n",
       "      <td>BF.B</td>\n",
       "      <td>Brown–Forman</td>\n",
       "      <td>None</td>\n",
       "      <td>None</td>\n",
       "      <td>None</td>\n",
       "      <td>NaN</td>\n",
       "    </tr>\n",
       "    <tr>\n",
       "      <th>126</th>\n",
       "      <td>CEG</td>\n",
       "      <td>Constellation Energy Corporation</td>\n",
       "      <td>Utilities</td>\n",
       "      <td>Constellation Energy Corporation generates and...</td>\n",
       "      <td>Utilities—Renewable</td>\n",
       "      <td>NaN</td>\n",
       "    </tr>\n",
       "    <tr>\n",
       "      <th>169</th>\n",
       "      <td>ELV</td>\n",
       "      <td>Elevance Health Inc.</td>\n",
       "      <td>Healthcare</td>\n",
       "      <td>Elevance Health Inc. operates as a health bene...</td>\n",
       "      <td>Healthcare Plans</td>\n",
       "      <td>NaN</td>\n",
       "    </tr>\n",
       "    <tr>\n",
       "      <th>361</th>\n",
       "      <td>PARA</td>\n",
       "      <td>Paramount Global</td>\n",
       "      <td>Communication Services</td>\n",
       "      <td>Paramount Global operates as a media and enter...</td>\n",
       "      <td>Entertainment</td>\n",
       "      <td>NaN</td>\n",
       "    </tr>\n",
       "    <tr>\n",
       "      <th>425</th>\n",
       "      <td>SBUX</td>\n",
       "      <td>Starbucks Corporation</td>\n",
       "      <td>Consumer Cyclical</td>\n",
       "      <td>Starbucks Corporation, together with its subsi...</td>\n",
       "      <td>Restaurants</td>\n",
       "      <td>NaN</td>\n",
       "    </tr>\n",
       "    <tr>\n",
       "      <th>474</th>\n",
       "      <td>V</td>\n",
       "      <td>Visa Inc.</td>\n",
       "      <td>Financial Services</td>\n",
       "      <td>Visa Inc. operates as a payments technology co...</td>\n",
       "      <td>Credit Services</td>\n",
       "      <td>NaN</td>\n",
       "    </tr>\n",
       "    <tr>\n",
       "      <th>480</th>\n",
       "      <td>WBD</td>\n",
       "      <td>Warner Bros. Discovery, Inc.</td>\n",
       "      <td>Communication Services</td>\n",
       "      <td>Warner Bros. Discovery, Inc., a media company,...</td>\n",
       "      <td>Entertainment</td>\n",
       "      <td>NaN</td>\n",
       "    </tr>\n",
       "    <tr>\n",
       "      <th>492</th>\n",
       "      <td>WTW</td>\n",
       "      <td>Willis Towers Watson Public Limited Company</td>\n",
       "      <td>Financial Services</td>\n",
       "      <td>Willis Towers Watson Public Limited Company op...</td>\n",
       "      <td>Insurance Brokers</td>\n",
       "      <td>NaN</td>\n",
       "    </tr>\n",
       "  </tbody>\n",
       "</table>\n",
       "</div>"
      ],
      "text/plain": [
       "    ticker                                         name  \\\n",
       "58    BALL                             Ball Corporation   \n",
       "64   BRK.B                           Berkshire Hathaway   \n",
       "80    BF.B                                 Brown–Forman   \n",
       "126    CEG             Constellation Energy Corporation   \n",
       "169    ELV                         Elevance Health Inc.   \n",
       "361   PARA                             Paramount Global   \n",
       "425   SBUX                        Starbucks Corporation   \n",
       "474      V                                    Visa Inc.   \n",
       "480    WBD                 Warner Bros. Discovery, Inc.   \n",
       "492    WTW  Willis Towers Watson Public Limited Company   \n",
       "\n",
       "                     sector  \\\n",
       "58        Consumer Cyclical   \n",
       "64                     None   \n",
       "80                     None   \n",
       "126               Utilities   \n",
       "169              Healthcare   \n",
       "361  Communication Services   \n",
       "425       Consumer Cyclical   \n",
       "474      Financial Services   \n",
       "480  Communication Services   \n",
       "492      Financial Services   \n",
       "\n",
       "                                      business_summary  \\\n",
       "58   Ball Corporation supplies aluminum packaging p...   \n",
       "64                                                None   \n",
       "80                                                None   \n",
       "126  Constellation Energy Corporation generates and...   \n",
       "169  Elevance Health Inc. operates as a health bene...   \n",
       "361  Paramount Global operates as a media and enter...   \n",
       "425  Starbucks Corporation, together with its subsi...   \n",
       "474  Visa Inc. operates as a payments technology co...   \n",
       "480  Warner Bros. Discovery, Inc., a media company,...   \n",
       "492  Willis Towers Watson Public Limited Company op...   \n",
       "\n",
       "                   industry  market_capitalization  \n",
       "58   Packaging & Containers                    NaN  \n",
       "64                     None                    NaN  \n",
       "80                     None                    NaN  \n",
       "126     Utilities—Renewable                    NaN  \n",
       "169        Healthcare Plans                    NaN  \n",
       "361           Entertainment                    NaN  \n",
       "425             Restaurants                    NaN  \n",
       "474         Credit Services                    NaN  \n",
       "480           Entertainment                    NaN  \n",
       "492       Insurance Brokers                    NaN  "
      ]
     },
     "execution_count": 89,
     "metadata": {},
     "output_type": "execute_result"
    }
   ],
   "source": [
    "df2[df2.market_capitalization.isna()]"
   ]
  },
  {
   "cell_type": "code",
   "execution_count": 80,
   "metadata": {},
   "outputs": [
    {
     "data": {
      "text/html": [
       "<div>\n",
       "<style scoped>\n",
       "    .dataframe tbody tr th:only-of-type {\n",
       "        vertical-align: middle;\n",
       "    }\n",
       "\n",
       "    .dataframe tbody tr th {\n",
       "        vertical-align: top;\n",
       "    }\n",
       "\n",
       "    .dataframe thead th {\n",
       "        text-align: right;\n",
       "    }\n",
       "</style>\n",
       "<table border=\"1\" class=\"dataframe\">\n",
       "  <thead>\n",
       "    <tr style=\"text-align: right;\">\n",
       "      <th></th>\n",
       "      <th>ticker</th>\n",
       "      <th>name</th>\n",
       "      <th>sector</th>\n",
       "      <th>business_summary</th>\n",
       "      <th>industry</th>\n",
       "      <th>market_capitalization</th>\n",
       "    </tr>\n",
       "  </thead>\n",
       "  <tbody>\n",
       "    <tr>\n",
       "      <th>17</th>\n",
       "      <td>ALB</td>\n",
       "      <td>None</td>\n",
       "      <td>Basic Materials</td>\n",
       "      <td>Albemarle Corporation develops, manufactures, ...</td>\n",
       "      <td>Specialty Chemicals</td>\n",
       "      <td>3.281486e+10</td>\n",
       "    </tr>\n",
       "    <tr>\n",
       "      <th>64</th>\n",
       "      <td>BRK.B</td>\n",
       "      <td>None</td>\n",
       "      <td>None</td>\n",
       "      <td>None</td>\n",
       "      <td>None</td>\n",
       "      <td>NaN</td>\n",
       "    </tr>\n",
       "    <tr>\n",
       "      <th>80</th>\n",
       "      <td>BF.B</td>\n",
       "      <td>None</td>\n",
       "      <td>None</td>\n",
       "      <td>None</td>\n",
       "      <td>None</td>\n",
       "      <td>NaN</td>\n",
       "    </tr>\n",
       "    <tr>\n",
       "      <th>227</th>\n",
       "      <td>PEAK</td>\n",
       "      <td>None</td>\n",
       "      <td>Real Estate</td>\n",
       "      <td>Healthpeak Properties, Inc. is a fully integra...</td>\n",
       "      <td>REIT—Healthcare Facilities</td>\n",
       "      <td>1.282584e+10</td>\n",
       "    </tr>\n",
       "    <tr>\n",
       "      <th>262</th>\n",
       "      <td>JKHY</td>\n",
       "      <td>None</td>\n",
       "      <td>Technology</td>\n",
       "      <td>Jack Henry &amp; Associates, Inc. provides technol...</td>\n",
       "      <td>Information Technology Services</td>\n",
       "      <td>1.470267e+10</td>\n",
       "    </tr>\n",
       "  </tbody>\n",
       "</table>\n",
       "</div>"
      ],
      "text/plain": [
       "    ticker  name           sector  \\\n",
       "17     ALB  None  Basic Materials   \n",
       "64   BRK.B  None             None   \n",
       "80    BF.B  None             None   \n",
       "227   PEAK  None      Real Estate   \n",
       "262   JKHY  None       Technology   \n",
       "\n",
       "                                      business_summary  \\\n",
       "17   Albemarle Corporation develops, manufactures, ...   \n",
       "64                                                None   \n",
       "80                                                None   \n",
       "227  Healthpeak Properties, Inc. is a fully integra...   \n",
       "262  Jack Henry & Associates, Inc. provides technol...   \n",
       "\n",
       "                            industry  market_capitalization  \n",
       "17               Specialty Chemicals           3.281486e+10  \n",
       "64                              None                    NaN  \n",
       "80                              None                    NaN  \n",
       "227       REIT—Healthcare Facilities           1.282584e+10  \n",
       "262  Information Technology Services           1.470267e+10  "
      ]
     },
     "execution_count": 80,
     "metadata": {},
     "output_type": "execute_result"
    }
   ],
   "source": [
    "df2[df2.name.isna()]"
   ]
  },
  {
   "cell_type": "code",
   "execution_count": 87,
   "metadata": {},
   "outputs": [],
   "source": [
    "df2.name = df2.name.fillna(df['Security'])"
   ]
  },
  {
   "cell_type": "code",
   "execution_count": 127,
   "metadata": {},
   "outputs": [
    {
     "data": {
      "text/plain": [
       "dict_keys(['zip', 'sector', 'fullTimeEmployees', 'longBusinessSummary', 'city', 'phone', 'state', 'country', 'companyOfficers', 'website', 'maxAge', 'address1', 'industry', 'ebitdaMargins', 'profitMargins', 'grossMargins', 'operatingCashflow', 'revenueGrowth', 'operatingMargins', 'ebitda', 'targetLowPrice', 'recommendationKey', 'grossProfits', 'freeCashflow', 'targetMedianPrice', 'currentPrice', 'earningsGrowth', 'currentRatio', 'returnOnAssets', 'numberOfAnalystOpinions', 'targetMeanPrice', 'debtToEquity', 'returnOnEquity', 'targetHighPrice', 'totalCash', 'totalDebt', 'totalRevenue', 'totalCashPerShare', 'financialCurrency', 'revenuePerShare', 'quickRatio', 'recommendationMean', 'exchange', 'shortName', 'longName', 'exchangeTimezoneName', 'exchangeTimezoneShortName', 'isEsgPopulated', 'gmtOffSetMilliseconds', 'quoteType', 'symbol', 'messageBoardId', 'market', 'annualHoldingsTurnover', 'enterpriseToRevenue', 'beta3Year', 'enterpriseToEbitda', '52WeekChange', 'morningStarRiskRating', 'forwardEps', 'revenueQuarterlyGrowth', 'sharesOutstanding', 'fundInceptionDate', 'annualReportExpenseRatio', 'totalAssets', 'bookValue', 'sharesShort', 'sharesPercentSharesOut', 'fundFamily', 'lastFiscalYearEnd', 'heldPercentInstitutions', 'netIncomeToCommon', 'trailingEps', 'lastDividendValue', 'SandP52WeekChange', 'priceToBook', 'heldPercentInsiders', 'nextFiscalYearEnd', 'yield', 'mostRecentQuarter', 'shortRatio', 'sharesShortPreviousMonthDate', 'floatShares', 'beta', 'enterpriseValue', 'priceHint', 'threeYearAverageReturn', 'lastSplitDate', 'lastSplitFactor', 'legalType', 'lastDividendDate', 'morningStarOverallRating', 'earningsQuarterlyGrowth', 'priceToSalesTrailing12Months', 'dateShortInterest', 'pegRatio', 'ytdReturn', 'forwardPE', 'lastCapGain', 'shortPercentOfFloat', 'sharesShortPriorMonth', 'impliedSharesOutstanding', 'category', 'fiveYearAverageReturn', 'previousClose', 'regularMarketOpen', 'twoHundredDayAverage', 'trailingAnnualDividendYield', 'payoutRatio', 'volume24Hr', 'regularMarketDayHigh', 'navPrice', 'averageDailyVolume10Day', 'regularMarketPreviousClose', 'fiftyDayAverage', 'trailingAnnualDividendRate', 'open', 'toCurrency', 'averageVolume10days', 'expireDate', 'algorithm', 'dividendRate', 'exDividendDate', 'circulatingSupply', 'startDate', 'regularMarketDayLow', 'currency', 'trailingPE', 'regularMarketVolume', 'lastMarket', 'maxSupply', 'openInterest', 'marketCap', 'volumeAllCurrencies', 'strikePrice', 'averageVolume', 'dayLow', 'ask', 'askSize', 'volume', 'fiftyTwoWeekHigh', 'fromCurrency', 'fiveYearAvgDividendYield', 'fiftyTwoWeekLow', 'bid', 'tradeable', 'dividendYield', 'bidSize', 'dayHigh', 'coinMarketCapLink', 'regularMarketPrice', 'preMarketPrice', 'logo_url'])"
      ]
     },
     "execution_count": 127,
     "metadata": {},
     "output_type": "execute_result"
    }
   ],
   "source": [
    "brk = yf.Ticker(\"BF-B\")\n",
    "brk.info.keys()\n",
    "# the issue is the dot instead of dash\n",
    "#might try an str.contains ., if just 2 then eplace with -"
   ]
  },
  {
   "cell_type": "code",
   "execution_count": 128,
   "metadata": {},
   "outputs": [
    {
     "data": {
      "text/plain": [
       "'Brown-Forman Corporation'"
      ]
     },
     "execution_count": 128,
     "metadata": {},
     "output_type": "execute_result"
    }
   ],
   "source": [
    "brk.info['longName']"
   ]
  },
  {
   "cell_type": "code",
   "execution_count": null,
   "metadata": {},
   "outputs": [],
   "source": [
    "df2.isna().sum()"
   ]
  },
  {
   "cell_type": "code",
   "execution_count": 70,
   "metadata": {},
   "outputs": [
    {
     "data": {
      "text/plain": [
       "[286,\n",
       " 415,\n",
       " 14,\n",
       " 130,\n",
       " 210,\n",
       " 24,\n",
       " 23,\n",
       " 309,\n",
       " 151,\n",
       " 433,\n",
       " 26,\n",
       " 234,\n",
       " 443,\n",
       " 305,\n",
       " 337,\n",
       " 479,\n",
       " 380,\n",
       " 117,\n",
       " 367,\n",
       " 132,\n",
       " 190,\n",
       " 104,\n",
       " 123,\n",
       " 174,\n",
       " 410,\n",
       " 266,\n",
       " 302,\n",
       " 59,\n",
       " 484,\n",
       " 102,\n",
       " 463,\n",
       " 264,\n",
       " 170,\n",
       " 369,\n",
       " 3,\n",
       " 461,\n",
       " 394,\n",
       " 235,\n",
       " 459,\n",
       " 289,\n",
       " 34,\n",
       " 382,\n",
       " 134,\n",
       " 386,\n",
       " 178,\n",
       " 45,\n",
       " 315,\n",
       " 347,\n",
       " 356,\n",
       " 77,\n",
       " 336,\n",
       " 159,\n",
       " 422,\n",
       " 154,\n",
       " 413]"
      ]
     },
     "execution_count": 70,
     "metadata": {},
     "output_type": "execute_result"
    }
   ],
   "source": [
    "sector_group = df2.groupby('sector')\n",
    "[x[-1] for x in sector_group['market_capitalization'].nlargest(5).index.tolist()]"
   ]
  },
  {
   "cell_type": "code",
   "execution_count": 57,
   "metadata": {},
   "outputs": [],
   "source": [
    "indexes = [x[-1] for x in sector_group['market_capitalization'].nlargest(5).index.tolist()]\n",
    "# we can use this indexes to get the tickers and market cap of top 5 per sector"
   ]
  },
  {
   "cell_type": "code",
   "execution_count": 58,
   "metadata": {},
   "outputs": [
    {
     "data": {
      "text/html": [
       "<div>\n",
       "<style scoped>\n",
       "    .dataframe tbody tr th:only-of-type {\n",
       "        vertical-align: middle;\n",
       "    }\n",
       "\n",
       "    .dataframe tbody tr th {\n",
       "        vertical-align: top;\n",
       "    }\n",
       "\n",
       "    .dataframe thead th {\n",
       "        text-align: right;\n",
       "    }\n",
       "</style>\n",
       "<table border=\"1\" class=\"dataframe\">\n",
       "  <thead>\n",
       "    <tr style=\"text-align: right;\">\n",
       "      <th></th>\n",
       "      <th>ticker</th>\n",
       "      <th>name</th>\n",
       "      <th>sector</th>\n",
       "      <th>business_summary</th>\n",
       "      <th>industry</th>\n",
       "      <th>market_capitalization</th>\n",
       "    </tr>\n",
       "  </thead>\n",
       "  <tbody>\n",
       "    <tr>\n",
       "      <th>286</th>\n",
       "      <td>LIN</td>\n",
       "      <td>Linde plc</td>\n",
       "      <td>Basic Materials</td>\n",
       "      <td>Linde plc operates as an industrial gas and en...</td>\n",
       "      <td>Specialty Chemicals</td>\n",
       "      <td>1.492039e+11</td>\n",
       "    </tr>\n",
       "    <tr>\n",
       "      <th>415</th>\n",
       "      <td>SHW</td>\n",
       "      <td>The Sherwin-Williams Company</td>\n",
       "      <td>Basic Materials</td>\n",
       "      <td>The Sherwin-Williams Company develops, manufac...</td>\n",
       "      <td>Specialty Chemicals</td>\n",
       "      <td>5.931660e+10</td>\n",
       "    </tr>\n",
       "    <tr>\n",
       "      <th>14</th>\n",
       "      <td>APD</td>\n",
       "      <td>Air Products and Chemicals, Inc.</td>\n",
       "      <td>Basic Materials</td>\n",
       "      <td>Air Products and Chemicals, Inc. provides atmo...</td>\n",
       "      <td>Specialty Chemicals</td>\n",
       "      <td>5.643454e+10</td>\n",
       "    </tr>\n",
       "    <tr>\n",
       "      <th>130</th>\n",
       "      <td>CTVA</td>\n",
       "      <td>Corteva, Inc.</td>\n",
       "      <td>Basic Materials</td>\n",
       "      <td>Corteva, Inc. operates in the agriculture busi...</td>\n",
       "      <td>Agricultural Inputs</td>\n",
       "      <td>4.812257e+10</td>\n",
       "    </tr>\n",
       "    <tr>\n",
       "      <th>210</th>\n",
       "      <td>FCX</td>\n",
       "      <td>Freeport-McMoRan Inc.</td>\n",
       "      <td>Basic Materials</td>\n",
       "      <td>Freeport-McMoRan Inc. engages in the mining of...</td>\n",
       "      <td>Copper</td>\n",
       "      <td>4.728474e+10</td>\n",
       "    </tr>\n",
       "    <tr>\n",
       "      <th>24</th>\n",
       "      <td>GOOG</td>\n",
       "      <td>Alphabet Inc.</td>\n",
       "      <td>Communication Services</td>\n",
       "      <td>Alphabet Inc. provides various products and pl...</td>\n",
       "      <td>Internet Content &amp; Information</td>\n",
       "      <td>1.248045e+12</td>\n",
       "    </tr>\n",
       "    <tr>\n",
       "      <th>23</th>\n",
       "      <td>GOOGL</td>\n",
       "      <td>Alphabet Inc.</td>\n",
       "      <td>Communication Services</td>\n",
       "      <td>Alphabet Inc. provides various products and pl...</td>\n",
       "      <td>Internet Content &amp; Information</td>\n",
       "      <td>1.248044e+12</td>\n",
       "    </tr>\n",
       "    <tr>\n",
       "      <th>309</th>\n",
       "      <td>META</td>\n",
       "      <td>Meta Platforms, Inc.</td>\n",
       "      <td>Communication Services</td>\n",
       "      <td>Meta Platforms, Inc. develops products that en...</td>\n",
       "      <td>Internet Content &amp; Information</td>\n",
       "      <td>2.630337e+11</td>\n",
       "    </tr>\n",
       "    <tr>\n",
       "      <th>151</th>\n",
       "      <td>DIS</td>\n",
       "      <td>The Walt Disney Company</td>\n",
       "      <td>Communication Services</td>\n",
       "      <td>The Walt Disney Company, together with its sub...</td>\n",
       "      <td>Entertainment</td>\n",
       "      <td>1.925811e+11</td>\n",
       "    </tr>\n",
       "    <tr>\n",
       "      <th>433</th>\n",
       "      <td>TMUS</td>\n",
       "      <td>T-Mobile US, Inc.</td>\n",
       "      <td>Communication Services</td>\n",
       "      <td>T-Mobile US, Inc., together with its subsidiar...</td>\n",
       "      <td>Telecom Services</td>\n",
       "      <td>1.886065e+11</td>\n",
       "    </tr>\n",
       "    <tr>\n",
       "      <th>26</th>\n",
       "      <td>AMZN</td>\n",
       "      <td>Amazon.com, Inc.</td>\n",
       "      <td>Consumer Cyclical</td>\n",
       "      <td>Amazon.com, Inc. engages in the retail sale of...</td>\n",
       "      <td>Internet Retail</td>\n",
       "      <td>1.053500e+12</td>\n",
       "    </tr>\n",
       "    <tr>\n",
       "      <th>234</th>\n",
       "      <td>HD</td>\n",
       "      <td>The Home Depot, Inc.</td>\n",
       "      <td>Consumer Cyclical</td>\n",
       "      <td>The Home Depot, Inc. operates as a home improv...</td>\n",
       "      <td>Home Improvement Retail</td>\n",
       "      <td>3.057369e+11</td>\n",
       "    </tr>\n",
       "    <tr>\n",
       "      <th>443</th>\n",
       "      <td>TSLA</td>\n",
       "      <td>Tesla, Inc.</td>\n",
       "      <td>Consumer Cyclical</td>\n",
       "      <td>Tesla, Inc. designs, develops, manufactures, l...</td>\n",
       "      <td>Auto Manufacturers</td>\n",
       "      <td>2.294935e+11</td>\n",
       "    </tr>\n",
       "    <tr>\n",
       "      <th>305</th>\n",
       "      <td>MCD</td>\n",
       "      <td>McDonald's Corporation</td>\n",
       "      <td>Consumer Cyclical</td>\n",
       "      <td>McDonald's Corporation operates and franchises...</td>\n",
       "      <td>Restaurants</td>\n",
       "      <td>2.019690e+11</td>\n",
       "    </tr>\n",
       "    <tr>\n",
       "      <th>337</th>\n",
       "      <td>NKE</td>\n",
       "      <td>NIKE, Inc.</td>\n",
       "      <td>Consumer Cyclical</td>\n",
       "      <td>NIKE, Inc., together with its subsidiaries, de...</td>\n",
       "      <td>Footwear &amp; Accessories</td>\n",
       "      <td>1.468055e+11</td>\n",
       "    </tr>\n",
       "    <tr>\n",
       "      <th>479</th>\n",
       "      <td>WMT</td>\n",
       "      <td>Walmart Inc.</td>\n",
       "      <td>Consumer Defensive</td>\n",
       "      <td>Walmart Inc. engages in the operation of retai...</td>\n",
       "      <td>Discount Stores</td>\n",
       "      <td>3.953056e+11</td>\n",
       "    </tr>\n",
       "    <tr>\n",
       "      <th>380</th>\n",
       "      <td>PG</td>\n",
       "      <td>The Procter &amp; Gamble Company</td>\n",
       "      <td>Consumer Defensive</td>\n",
       "      <td>The Procter &amp; Gamble Company provides branded ...</td>\n",
       "      <td>Household &amp; Personal Products</td>\n",
       "      <td>3.272256e+11</td>\n",
       "    </tr>\n",
       "    <tr>\n",
       "      <th>117</th>\n",
       "      <td>KO</td>\n",
       "      <td>The Coca-Cola Company</td>\n",
       "      <td>Consumer Defensive</td>\n",
       "      <td>The Coca-Cola Company, a beverage company, man...</td>\n",
       "      <td>Beverages—Non-Alcoholic</td>\n",
       "      <td>2.624479e+11</td>\n",
       "    </tr>\n",
       "    <tr>\n",
       "      <th>367</th>\n",
       "      <td>PEP</td>\n",
       "      <td>PepsiCo, Inc.</td>\n",
       "      <td>Consumer Defensive</td>\n",
       "      <td>PepsiCo, Inc. manufactures, markets, distribut...</td>\n",
       "      <td>Beverages—Non-Alcoholic</td>\n",
       "      <td>2.519603e+11</td>\n",
       "    </tr>\n",
       "    <tr>\n",
       "      <th>132</th>\n",
       "      <td>COST</td>\n",
       "      <td>Costco Wholesale Corporation</td>\n",
       "      <td>Consumer Defensive</td>\n",
       "      <td>Costco Wholesale Corporation, together with it...</td>\n",
       "      <td>Discount Stores</td>\n",
       "      <td>2.265361e+11</td>\n",
       "    </tr>\n",
       "    <tr>\n",
       "      <th>190</th>\n",
       "      <td>XOM</td>\n",
       "      <td>Exxon Mobil Corporation</td>\n",
       "      <td>Energy</td>\n",
       "      <td>Exxon Mobil Corporation explores for and produ...</td>\n",
       "      <td>Oil &amp; Gas Integrated</td>\n",
       "      <td>4.716573e+11</td>\n",
       "    </tr>\n",
       "    <tr>\n",
       "      <th>104</th>\n",
       "      <td>CVX</td>\n",
       "      <td>Chevron Corporation</td>\n",
       "      <td>Energy</td>\n",
       "      <td>Chevron Corporation, through its subsidiaries,...</td>\n",
       "      <td>Oil &amp; Gas Integrated</td>\n",
       "      <td>3.469457e+11</td>\n",
       "    </tr>\n",
       "    <tr>\n",
       "      <th>123</th>\n",
       "      <td>COP</td>\n",
       "      <td>ConocoPhillips</td>\n",
       "      <td>Energy</td>\n",
       "      <td>ConocoPhillips explores for, produces, transpo...</td>\n",
       "      <td>Oil &amp; Gas E&amp;P</td>\n",
       "      <td>1.677309e+11</td>\n",
       "    </tr>\n",
       "    <tr>\n",
       "      <th>174</th>\n",
       "      <td>EOG</td>\n",
       "      <td>EOG Resources, Inc.</td>\n",
       "      <td>Energy</td>\n",
       "      <td>EOG Resources, Inc., together with its subsidi...</td>\n",
       "      <td>Oil &amp; Gas E&amp;P</td>\n",
       "      <td>7.822068e+10</td>\n",
       "    </tr>\n",
       "    <tr>\n",
       "      <th>410</th>\n",
       "      <td>SLB</td>\n",
       "      <td>Schlumberger Limited</td>\n",
       "      <td>Energy</td>\n",
       "      <td>Schlumberger Limited provides technology for t...</td>\n",
       "      <td>Oil &amp; Gas Equipment &amp; Services</td>\n",
       "      <td>7.076268e+10</td>\n",
       "    </tr>\n",
       "    <tr>\n",
       "      <th>266</th>\n",
       "      <td>JPM</td>\n",
       "      <td>JPMorgan Chase &amp; Co.</td>\n",
       "      <td>Financial Services</td>\n",
       "      <td>JPMorgan Chase &amp; Co. operates as a financial s...</td>\n",
       "      <td>Banks—Diversified</td>\n",
       "      <td>3.698178e+11</td>\n",
       "    </tr>\n",
       "    <tr>\n",
       "      <th>302</th>\n",
       "      <td>MA</td>\n",
       "      <td>Mastercard Incorporated</td>\n",
       "      <td>Financial Services</td>\n",
       "      <td>Mastercard Incorporated, a technology company,...</td>\n",
       "      <td>Credit Services</td>\n",
       "      <td>3.167722e+11</td>\n",
       "    </tr>\n",
       "    <tr>\n",
       "      <th>59</th>\n",
       "      <td>BAC</td>\n",
       "      <td>Bank of America Corporation</td>\n",
       "      <td>Financial Services</td>\n",
       "      <td>Bank of America Corporation, through its subsi...</td>\n",
       "      <td>Banks—Diversified</td>\n",
       "      <td>2.961000e+11</td>\n",
       "    </tr>\n",
       "    <tr>\n",
       "      <th>484</th>\n",
       "      <td>WFC</td>\n",
       "      <td>Wells Fargo &amp; Company</td>\n",
       "      <td>Financial Services</td>\n",
       "      <td>Wells Fargo &amp; Company, a diversified financial...</td>\n",
       "      <td>Banks—Diversified</td>\n",
       "      <td>1.848081e+11</td>\n",
       "    </tr>\n",
       "    <tr>\n",
       "      <th>102</th>\n",
       "      <td>SCHW</td>\n",
       "      <td>The Charles Schwab Corporation</td>\n",
       "      <td>Financial Services</td>\n",
       "      <td>The Charles Schwab Corporation, together with ...</td>\n",
       "      <td>Capital Markets</td>\n",
       "      <td>1.516072e+11</td>\n",
       "    </tr>\n",
       "    <tr>\n",
       "      <th>463</th>\n",
       "      <td>UNH</td>\n",
       "      <td>UnitedHealth Group Incorporated</td>\n",
       "      <td>Healthcare</td>\n",
       "      <td>UnitedHealth Group Incorporated operates as a ...</td>\n",
       "      <td>Healthcare Plans</td>\n",
       "      <td>5.191859e+11</td>\n",
       "    </tr>\n",
       "    <tr>\n",
       "      <th>264</th>\n",
       "      <td>JNJ</td>\n",
       "      <td>Johnson &amp; Johnson</td>\n",
       "      <td>Healthcare</td>\n",
       "      <td>Johnson &amp; Johnson, together with its subsidiar...</td>\n",
       "      <td>Drug Manufacturers—General</td>\n",
       "      <td>4.571941e+11</td>\n",
       "    </tr>\n",
       "    <tr>\n",
       "      <th>170</th>\n",
       "      <td>LLY</td>\n",
       "      <td>Eli Lilly and Company</td>\n",
       "      <td>Healthcare</td>\n",
       "      <td>Eli Lilly and Company discovers, develops, and...</td>\n",
       "      <td>Drug Manufacturers—General</td>\n",
       "      <td>3.442775e+11</td>\n",
       "    </tr>\n",
       "    <tr>\n",
       "      <th>369</th>\n",
       "      <td>PFE</td>\n",
       "      <td>Pfizer Inc.</td>\n",
       "      <td>Healthcare</td>\n",
       "      <td>Pfizer Inc. discovers, develops, manufactures,...</td>\n",
       "      <td>Drug Manufacturers—General</td>\n",
       "      <td>2.662184e+11</td>\n",
       "    </tr>\n",
       "    <tr>\n",
       "      <th>3</th>\n",
       "      <td>ABBV</td>\n",
       "      <td>AbbVie Inc.</td>\n",
       "      <td>Healthcare</td>\n",
       "      <td>AbbVie Inc. discovers, develops, manufactures,...</td>\n",
       "      <td>Drug Manufacturers—General</td>\n",
       "      <td>2.609892e+11</td>\n",
       "    </tr>\n",
       "    <tr>\n",
       "      <th>461</th>\n",
       "      <td>UPS</td>\n",
       "      <td>United Parcel Service, Inc.</td>\n",
       "      <td>Industrials</td>\n",
       "      <td>United Parcel Service, Inc. provides letter an...</td>\n",
       "      <td>Integrated Freight &amp; Logistics</td>\n",
       "      <td>1.452945e+11</td>\n",
       "    </tr>\n",
       "    <tr>\n",
       "      <th>394</th>\n",
       "      <td>RTX</td>\n",
       "      <td>Raytheon Technologies Corporation</td>\n",
       "      <td>Industrials</td>\n",
       "      <td>Raytheon Technologies Corporation, an aerospac...</td>\n",
       "      <td>Aerospace &amp; Defense</td>\n",
       "      <td>1.423138e+11</td>\n",
       "    </tr>\n",
       "    <tr>\n",
       "      <th>235</th>\n",
       "      <td>HON</td>\n",
       "      <td>Honeywell International Inc.</td>\n",
       "      <td>Industrials</td>\n",
       "      <td>Honeywell International Inc. operates as a div...</td>\n",
       "      <td>Conglomerates</td>\n",
       "      <td>1.377789e+11</td>\n",
       "    </tr>\n",
       "    <tr>\n",
       "      <th>459</th>\n",
       "      <td>UNP</td>\n",
       "      <td>Union Pacific Corporation</td>\n",
       "      <td>Industrials</td>\n",
       "      <td>Union Pacific Corporation, through its subsidi...</td>\n",
       "      <td>Railroads</td>\n",
       "      <td>1.277073e+11</td>\n",
       "    </tr>\n",
       "    <tr>\n",
       "      <th>289</th>\n",
       "      <td>LMT</td>\n",
       "      <td>Lockheed Martin Corporation</td>\n",
       "      <td>Industrials</td>\n",
       "      <td>Lockheed Martin Corporation, a security and ae...</td>\n",
       "      <td>Aerospace &amp; Defense</td>\n",
       "      <td>1.270718e+11</td>\n",
       "    </tr>\n",
       "    <tr>\n",
       "      <th>34</th>\n",
       "      <td>AMT</td>\n",
       "      <td>American Tower Corporation</td>\n",
       "      <td>Real Estate</td>\n",
       "      <td>American Tower Corporation, one of the largest...</td>\n",
       "      <td>REIT—Specialty</td>\n",
       "      <td>9.531421e+10</td>\n",
       "    </tr>\n",
       "    <tr>\n",
       "      <th>382</th>\n",
       "      <td>PLD</td>\n",
       "      <td>Prologis, Inc.</td>\n",
       "      <td>Real Estate</td>\n",
       "      <td>Prologis, Inc. is the global leader in logisti...</td>\n",
       "      <td>REIT—Industrial</td>\n",
       "      <td>8.352916e+10</td>\n",
       "    </tr>\n",
       "    <tr>\n",
       "      <th>134</th>\n",
       "      <td>CCI</td>\n",
       "      <td>Crown Castle Inc.</td>\n",
       "      <td>Real Estate</td>\n",
       "      <td>Crown Castle owns, operates and leases more th...</td>\n",
       "      <td>REIT—Specialty</td>\n",
       "      <td>5.726690e+10</td>\n",
       "    </tr>\n",
       "    <tr>\n",
       "      <th>386</th>\n",
       "      <td>PSA</td>\n",
       "      <td>Public Storage</td>\n",
       "      <td>Real Estate</td>\n",
       "      <td>Public Storage, a member of the S&amp;P 500 and FT...</td>\n",
       "      <td>REIT—Industrial</td>\n",
       "      <td>5.463010e+10</td>\n",
       "    </tr>\n",
       "    <tr>\n",
       "      <th>178</th>\n",
       "      <td>EQIX</td>\n",
       "      <td>Equinix, Inc.</td>\n",
       "      <td>Real Estate</td>\n",
       "      <td>Equinix (Nasdaq: EQIX) is the world's digital ...</td>\n",
       "      <td>REIT—Specialty</td>\n",
       "      <td>5.114790e+10</td>\n",
       "    </tr>\n",
       "    <tr>\n",
       "      <th>45</th>\n",
       "      <td>AAPL</td>\n",
       "      <td>Apple Inc.</td>\n",
       "      <td>Technology</td>\n",
       "      <td>Apple Inc. designs, manufactures, and markets ...</td>\n",
       "      <td>Consumer Electronics</td>\n",
       "      <td>2.502867e+12</td>\n",
       "    </tr>\n",
       "    <tr>\n",
       "      <th>315</th>\n",
       "      <td>MSFT</td>\n",
       "      <td>Microsoft Corporation</td>\n",
       "      <td>Technology</td>\n",
       "      <td>Microsoft Corporation develops, licenses, and ...</td>\n",
       "      <td>Software—Infrastructure</td>\n",
       "      <td>1.758286e+12</td>\n",
       "    </tr>\n",
       "    <tr>\n",
       "      <th>347</th>\n",
       "      <td>NVDA</td>\n",
       "      <td>NVIDIA Corporation</td>\n",
       "      <td>Technology</td>\n",
       "      <td>NVIDIA Corporation provides graphics, and comp...</td>\n",
       "      <td>Semiconductors</td>\n",
       "      <td>3.447433e+11</td>\n",
       "    </tr>\n",
       "    <tr>\n",
       "      <th>356</th>\n",
       "      <td>ORCL</td>\n",
       "      <td>Oracle Corporation</td>\n",
       "      <td>Technology</td>\n",
       "      <td>Oracle Corporation offers products and service...</td>\n",
       "      <td>Software—Infrastructure</td>\n",
       "      <td>2.065860e+11</td>\n",
       "    </tr>\n",
       "    <tr>\n",
       "      <th>77</th>\n",
       "      <td>AVGO</td>\n",
       "      <td>Broadcom Inc.</td>\n",
       "      <td>Technology</td>\n",
       "      <td>Broadcom Inc. designs, develops, and supplies ...</td>\n",
       "      <td>Semiconductors</td>\n",
       "      <td>1.952481e+11</td>\n",
       "    </tr>\n",
       "    <tr>\n",
       "      <th>336</th>\n",
       "      <td>NEE</td>\n",
       "      <td>NextEra Energy, Inc.</td>\n",
       "      <td>Utilities</td>\n",
       "      <td>NextEra Energy, Inc., through its subsidiaries...</td>\n",
       "      <td>Utilities—Regulated Electric</td>\n",
       "      <td>1.552766e+11</td>\n",
       "    </tr>\n",
       "    <tr>\n",
       "      <th>159</th>\n",
       "      <td>DUK</td>\n",
       "      <td>Duke Energy Corporation</td>\n",
       "      <td>Utilities</td>\n",
       "      <td>Duke Energy Corporation, together with its sub...</td>\n",
       "      <td>Utilities—Regulated Electric</td>\n",
       "      <td>7.231824e+10</td>\n",
       "    </tr>\n",
       "    <tr>\n",
       "      <th>422</th>\n",
       "      <td>SO</td>\n",
       "      <td>The Southern Company</td>\n",
       "      <td>Utilities</td>\n",
       "      <td>The Southern Company, through its subsidiaries...</td>\n",
       "      <td>Utilities—Regulated Electric</td>\n",
       "      <td>7.030713e+10</td>\n",
       "    </tr>\n",
       "    <tr>\n",
       "      <th>154</th>\n",
       "      <td>D</td>\n",
       "      <td>Dominion Energy, Inc.</td>\n",
       "      <td>Utilities</td>\n",
       "      <td>Dominion Energy, Inc. produces and distributes...</td>\n",
       "      <td>Utilities—Regulated Electric</td>\n",
       "      <td>5.621572e+10</td>\n",
       "    </tr>\n",
       "    <tr>\n",
       "      <th>413</th>\n",
       "      <td>SRE</td>\n",
       "      <td>Sempra</td>\n",
       "      <td>Utilities</td>\n",
       "      <td>Sempra operates as an energy-services holding ...</td>\n",
       "      <td>Utilities—Diversified</td>\n",
       "      <td>4.866376e+10</td>\n",
       "    </tr>\n",
       "  </tbody>\n",
       "</table>\n",
       "</div>"
      ],
      "text/plain": [
       "    ticker                               name                  sector  \\\n",
       "286    LIN                          Linde plc         Basic Materials   \n",
       "415    SHW       The Sherwin-Williams Company         Basic Materials   \n",
       "14     APD   Air Products and Chemicals, Inc.         Basic Materials   \n",
       "130   CTVA                      Corteva, Inc.         Basic Materials   \n",
       "210    FCX              Freeport-McMoRan Inc.         Basic Materials   \n",
       "24    GOOG                      Alphabet Inc.  Communication Services   \n",
       "23   GOOGL                      Alphabet Inc.  Communication Services   \n",
       "309   META               Meta Platforms, Inc.  Communication Services   \n",
       "151    DIS            The Walt Disney Company  Communication Services   \n",
       "433   TMUS                  T-Mobile US, Inc.  Communication Services   \n",
       "26    AMZN                   Amazon.com, Inc.       Consumer Cyclical   \n",
       "234     HD               The Home Depot, Inc.       Consumer Cyclical   \n",
       "443   TSLA                        Tesla, Inc.       Consumer Cyclical   \n",
       "305    MCD             McDonald's Corporation       Consumer Cyclical   \n",
       "337    NKE                         NIKE, Inc.       Consumer Cyclical   \n",
       "479    WMT                       Walmart Inc.      Consumer Defensive   \n",
       "380     PG       The Procter & Gamble Company      Consumer Defensive   \n",
       "117     KO              The Coca-Cola Company      Consumer Defensive   \n",
       "367    PEP                      PepsiCo, Inc.      Consumer Defensive   \n",
       "132   COST       Costco Wholesale Corporation      Consumer Defensive   \n",
       "190    XOM            Exxon Mobil Corporation                  Energy   \n",
       "104    CVX                Chevron Corporation                  Energy   \n",
       "123    COP                     ConocoPhillips                  Energy   \n",
       "174    EOG                EOG Resources, Inc.                  Energy   \n",
       "410    SLB               Schlumberger Limited                  Energy   \n",
       "266    JPM               JPMorgan Chase & Co.      Financial Services   \n",
       "302     MA            Mastercard Incorporated      Financial Services   \n",
       "59     BAC        Bank of America Corporation      Financial Services   \n",
       "484    WFC              Wells Fargo & Company      Financial Services   \n",
       "102   SCHW     The Charles Schwab Corporation      Financial Services   \n",
       "463    UNH    UnitedHealth Group Incorporated              Healthcare   \n",
       "264    JNJ                  Johnson & Johnson              Healthcare   \n",
       "170    LLY              Eli Lilly and Company              Healthcare   \n",
       "369    PFE                        Pfizer Inc.              Healthcare   \n",
       "3     ABBV                        AbbVie Inc.              Healthcare   \n",
       "461    UPS        United Parcel Service, Inc.             Industrials   \n",
       "394    RTX  Raytheon Technologies Corporation             Industrials   \n",
       "235    HON       Honeywell International Inc.             Industrials   \n",
       "459    UNP          Union Pacific Corporation             Industrials   \n",
       "289    LMT        Lockheed Martin Corporation             Industrials   \n",
       "34     AMT         American Tower Corporation             Real Estate   \n",
       "382    PLD                     Prologis, Inc.             Real Estate   \n",
       "134    CCI                  Crown Castle Inc.             Real Estate   \n",
       "386    PSA                     Public Storage             Real Estate   \n",
       "178   EQIX                      Equinix, Inc.             Real Estate   \n",
       "45    AAPL                         Apple Inc.              Technology   \n",
       "315   MSFT              Microsoft Corporation              Technology   \n",
       "347   NVDA                 NVIDIA Corporation              Technology   \n",
       "356   ORCL                 Oracle Corporation              Technology   \n",
       "77    AVGO                      Broadcom Inc.              Technology   \n",
       "336    NEE               NextEra Energy, Inc.               Utilities   \n",
       "159    DUK            Duke Energy Corporation               Utilities   \n",
       "422     SO               The Southern Company               Utilities   \n",
       "154      D              Dominion Energy, Inc.               Utilities   \n",
       "413    SRE                             Sempra               Utilities   \n",
       "\n",
       "                                      business_summary  \\\n",
       "286  Linde plc operates as an industrial gas and en...   \n",
       "415  The Sherwin-Williams Company develops, manufac...   \n",
       "14   Air Products and Chemicals, Inc. provides atmo...   \n",
       "130  Corteva, Inc. operates in the agriculture busi...   \n",
       "210  Freeport-McMoRan Inc. engages in the mining of...   \n",
       "24   Alphabet Inc. provides various products and pl...   \n",
       "23   Alphabet Inc. provides various products and pl...   \n",
       "309  Meta Platforms, Inc. develops products that en...   \n",
       "151  The Walt Disney Company, together with its sub...   \n",
       "433  T-Mobile US, Inc., together with its subsidiar...   \n",
       "26   Amazon.com, Inc. engages in the retail sale of...   \n",
       "234  The Home Depot, Inc. operates as a home improv...   \n",
       "443  Tesla, Inc. designs, develops, manufactures, l...   \n",
       "305  McDonald's Corporation operates and franchises...   \n",
       "337  NIKE, Inc., together with its subsidiaries, de...   \n",
       "479  Walmart Inc. engages in the operation of retai...   \n",
       "380  The Procter & Gamble Company provides branded ...   \n",
       "117  The Coca-Cola Company, a beverage company, man...   \n",
       "367  PepsiCo, Inc. manufactures, markets, distribut...   \n",
       "132  Costco Wholesale Corporation, together with it...   \n",
       "190  Exxon Mobil Corporation explores for and produ...   \n",
       "104  Chevron Corporation, through its subsidiaries,...   \n",
       "123  ConocoPhillips explores for, produces, transpo...   \n",
       "174  EOG Resources, Inc., together with its subsidi...   \n",
       "410  Schlumberger Limited provides technology for t...   \n",
       "266  JPMorgan Chase & Co. operates as a financial s...   \n",
       "302  Mastercard Incorporated, a technology company,...   \n",
       "59   Bank of America Corporation, through its subsi...   \n",
       "484  Wells Fargo & Company, a diversified financial...   \n",
       "102  The Charles Schwab Corporation, together with ...   \n",
       "463  UnitedHealth Group Incorporated operates as a ...   \n",
       "264  Johnson & Johnson, together with its subsidiar...   \n",
       "170  Eli Lilly and Company discovers, develops, and...   \n",
       "369  Pfizer Inc. discovers, develops, manufactures,...   \n",
       "3    AbbVie Inc. discovers, develops, manufactures,...   \n",
       "461  United Parcel Service, Inc. provides letter an...   \n",
       "394  Raytheon Technologies Corporation, an aerospac...   \n",
       "235  Honeywell International Inc. operates as a div...   \n",
       "459  Union Pacific Corporation, through its subsidi...   \n",
       "289  Lockheed Martin Corporation, a security and ae...   \n",
       "34   American Tower Corporation, one of the largest...   \n",
       "382  Prologis, Inc. is the global leader in logisti...   \n",
       "134  Crown Castle owns, operates and leases more th...   \n",
       "386  Public Storage, a member of the S&P 500 and FT...   \n",
       "178  Equinix (Nasdaq: EQIX) is the world's digital ...   \n",
       "45   Apple Inc. designs, manufactures, and markets ...   \n",
       "315  Microsoft Corporation develops, licenses, and ...   \n",
       "347  NVIDIA Corporation provides graphics, and comp...   \n",
       "356  Oracle Corporation offers products and service...   \n",
       "77   Broadcom Inc. designs, develops, and supplies ...   \n",
       "336  NextEra Energy, Inc., through its subsidiaries...   \n",
       "159  Duke Energy Corporation, together with its sub...   \n",
       "422  The Southern Company, through its subsidiaries...   \n",
       "154  Dominion Energy, Inc. produces and distributes...   \n",
       "413  Sempra operates as an energy-services holding ...   \n",
       "\n",
       "                           industry  market_capitalization  \n",
       "286             Specialty Chemicals           1.492039e+11  \n",
       "415             Specialty Chemicals           5.931660e+10  \n",
       "14              Specialty Chemicals           5.643454e+10  \n",
       "130             Agricultural Inputs           4.812257e+10  \n",
       "210                          Copper           4.728474e+10  \n",
       "24   Internet Content & Information           1.248045e+12  \n",
       "23   Internet Content & Information           1.248044e+12  \n",
       "309  Internet Content & Information           2.630337e+11  \n",
       "151                   Entertainment           1.925811e+11  \n",
       "433                Telecom Services           1.886065e+11  \n",
       "26                  Internet Retail           1.053500e+12  \n",
       "234         Home Improvement Retail           3.057369e+11  \n",
       "443              Auto Manufacturers           2.294935e+11  \n",
       "305                     Restaurants           2.019690e+11  \n",
       "337          Footwear & Accessories           1.468055e+11  \n",
       "479                 Discount Stores           3.953056e+11  \n",
       "380   Household & Personal Products           3.272256e+11  \n",
       "117         Beverages—Non-Alcoholic           2.624479e+11  \n",
       "367         Beverages—Non-Alcoholic           2.519603e+11  \n",
       "132                 Discount Stores           2.265361e+11  \n",
       "190            Oil & Gas Integrated           4.716573e+11  \n",
       "104            Oil & Gas Integrated           3.469457e+11  \n",
       "123                   Oil & Gas E&P           1.677309e+11  \n",
       "174                   Oil & Gas E&P           7.822068e+10  \n",
       "410  Oil & Gas Equipment & Services           7.076268e+10  \n",
       "266               Banks—Diversified           3.698178e+11  \n",
       "302                 Credit Services           3.167722e+11  \n",
       "59                Banks—Diversified           2.961000e+11  \n",
       "484               Banks—Diversified           1.848081e+11  \n",
       "102                 Capital Markets           1.516072e+11  \n",
       "463                Healthcare Plans           5.191859e+11  \n",
       "264      Drug Manufacturers—General           4.571941e+11  \n",
       "170      Drug Manufacturers—General           3.442775e+11  \n",
       "369      Drug Manufacturers—General           2.662184e+11  \n",
       "3        Drug Manufacturers—General           2.609892e+11  \n",
       "461  Integrated Freight & Logistics           1.452945e+11  \n",
       "394             Aerospace & Defense           1.423138e+11  \n",
       "235                   Conglomerates           1.377789e+11  \n",
       "459                       Railroads           1.277073e+11  \n",
       "289             Aerospace & Defense           1.270718e+11  \n",
       "34                   REIT—Specialty           9.531421e+10  \n",
       "382                 REIT—Industrial           8.352916e+10  \n",
       "134                  REIT—Specialty           5.726690e+10  \n",
       "386                 REIT—Industrial           5.463010e+10  \n",
       "178                  REIT—Specialty           5.114790e+10  \n",
       "45             Consumer Electronics           2.502867e+12  \n",
       "315         Software—Infrastructure           1.758286e+12  \n",
       "347                  Semiconductors           3.447433e+11  \n",
       "356         Software—Infrastructure           2.065860e+11  \n",
       "77                   Semiconductors           1.952481e+11  \n",
       "336    Utilities—Regulated Electric           1.552766e+11  \n",
       "159    Utilities—Regulated Electric           7.231824e+10  \n",
       "422    Utilities—Regulated Electric           7.030713e+10  \n",
       "154    Utilities—Regulated Electric           5.621572e+10  \n",
       "413           Utilities—Diversified           4.866376e+10  "
      ]
     },
     "execution_count": 58,
     "metadata": {},
     "output_type": "execute_result"
    }
   ],
   "source": [
    "df2.loc[indexes]"
   ]
  },
  {
   "cell_type": "code",
   "execution_count": 98,
   "metadata": {},
   "outputs": [
    {
     "name": "stdout",
     "output_type": "stream",
     "text": [
      "[*********************100%***********************]  55 of 55 completed\n"
     ]
    },
    {
     "data": {
      "text/plain": [
       "              Date                     \n",
       "AAPL  Open    2022-01-03 00:00:00-05:00    1.770972e+02\n",
       "              2022-01-04 00:00:00-05:00    1.818774e+02\n",
       "              2022-01-05 00:00:00-05:00    1.788698e+02\n",
       "              2022-01-06 00:00:00-05:00    1.719883e+02\n",
       "              2022-01-07 00:00:00-05:00    1.721775e+02\n",
       "                                               ...     \n",
       "SO    Volume  2022-01-03 00:00:00-05:00    3.616600e+06\n",
       "              2022-01-04 00:00:00-05:00    5.259900e+06\n",
       "              2022-01-05 00:00:00-05:00    4.542900e+06\n",
       "              2022-01-06 00:00:00-05:00    4.015300e+06\n",
       "              2022-01-07 00:00:00-05:00    4.380300e+06\n",
       "Length: 1375, dtype: float64"
      ]
     },
     "execution_count": 98,
     "metadata": {},
     "output_type": "execute_result"
    }
   ],
   "source": [
    "history_df = ticker_history(df2.loc[indexes, 'ticker'].tolist())"
   ]
  },
  {
   "cell_type": "code",
   "execution_count": 100,
   "metadata": {},
   "outputs": [
    {
     "data": {
      "text/html": [
       "<div>\n",
       "<style scoped>\n",
       "    .dataframe tbody tr th:only-of-type {\n",
       "        vertical-align: middle;\n",
       "    }\n",
       "\n",
       "    .dataframe tbody tr th {\n",
       "        vertical-align: top;\n",
       "    }\n",
       "\n",
       "    .dataframe thead tr th {\n",
       "        text-align: left;\n",
       "    }\n",
       "\n",
       "    .dataframe thead tr:last-of-type th {\n",
       "        text-align: right;\n",
       "    }\n",
       "</style>\n",
       "<table border=\"1\" class=\"dataframe\">\n",
       "  <thead>\n",
       "    <tr>\n",
       "      <th></th>\n",
       "      <th colspan=\"5\" halign=\"left\">AAPL</th>\n",
       "      <th colspan=\"5\" halign=\"left\">PEP</th>\n",
       "      <th>...</th>\n",
       "      <th colspan=\"5\" halign=\"left\">ABBV</th>\n",
       "      <th colspan=\"5\" halign=\"left\">SO</th>\n",
       "    </tr>\n",
       "    <tr>\n",
       "      <th></th>\n",
       "      <th>Open</th>\n",
       "      <th>High</th>\n",
       "      <th>Low</th>\n",
       "      <th>Close</th>\n",
       "      <th>Volume</th>\n",
       "      <th>Open</th>\n",
       "      <th>High</th>\n",
       "      <th>Low</th>\n",
       "      <th>Close</th>\n",
       "      <th>Volume</th>\n",
       "      <th>...</th>\n",
       "      <th>Open</th>\n",
       "      <th>High</th>\n",
       "      <th>Low</th>\n",
       "      <th>Close</th>\n",
       "      <th>Volume</th>\n",
       "      <th>Open</th>\n",
       "      <th>High</th>\n",
       "      <th>Low</th>\n",
       "      <th>Close</th>\n",
       "      <th>Volume</th>\n",
       "    </tr>\n",
       "    <tr>\n",
       "      <th>Date</th>\n",
       "      <th></th>\n",
       "      <th></th>\n",
       "      <th></th>\n",
       "      <th></th>\n",
       "      <th></th>\n",
       "      <th></th>\n",
       "      <th></th>\n",
       "      <th></th>\n",
       "      <th></th>\n",
       "      <th></th>\n",
       "      <th></th>\n",
       "      <th></th>\n",
       "      <th></th>\n",
       "      <th></th>\n",
       "      <th></th>\n",
       "      <th></th>\n",
       "      <th></th>\n",
       "      <th></th>\n",
       "      <th></th>\n",
       "      <th></th>\n",
       "      <th></th>\n",
       "    </tr>\n",
       "  </thead>\n",
       "  <tbody>\n",
       "    <tr>\n",
       "      <th>2022-01-03 00:00:00-05:00</th>\n",
       "      <td>177.097152</td>\n",
       "      <td>182.126343</td>\n",
       "      <td>176.977651</td>\n",
       "      <td>181.259918</td>\n",
       "      <td>104487900</td>\n",
       "      <td>168.759010</td>\n",
       "      <td>169.729232</td>\n",
       "      <td>167.161591</td>\n",
       "      <td>169.523422</td>\n",
       "      <td>5488900</td>\n",
       "      <td>...</td>\n",
       "      <td>130.332162</td>\n",
       "      <td>130.611281</td>\n",
       "      <td>128.503403</td>\n",
       "      <td>130.341782</td>\n",
       "      <td>6839800</td>\n",
       "      <td>66.593400</td>\n",
       "      <td>66.632287</td>\n",
       "      <td>65.485131</td>\n",
       "      <td>66.272583</td>\n",
       "      <td>3616600</td>\n",
       "    </tr>\n",
       "    <tr>\n",
       "      <th>2022-01-04 00:00:00-05:00</th>\n",
       "      <td>181.877375</td>\n",
       "      <td>182.186095</td>\n",
       "      <td>178.381831</td>\n",
       "      <td>178.959442</td>\n",
       "      <td>99310400</td>\n",
       "      <td>169.209830</td>\n",
       "      <td>170.964055</td>\n",
       "      <td>168.759016</td>\n",
       "      <td>169.768433</td>\n",
       "      <td>4717600</td>\n",
       "      <td>...</td>\n",
       "      <td>130.255191</td>\n",
       "      <td>131.111816</td>\n",
       "      <td>129.340819</td>\n",
       "      <td>130.091568</td>\n",
       "      <td>6298300</td>\n",
       "      <td>66.126757</td>\n",
       "      <td>67.196146</td>\n",
       "      <td>66.039265</td>\n",
       "      <td>66.272583</td>\n",
       "      <td>5259900</td>\n",
       "    </tr>\n",
       "    <tr>\n",
       "      <th>2022-01-05 00:00:00-05:00</th>\n",
       "      <td>178.869833</td>\n",
       "      <td>179.427523</td>\n",
       "      <td>173.920313</td>\n",
       "      <td>174.199158</td>\n",
       "      <td>94537600</td>\n",
       "      <td>169.895835</td>\n",
       "      <td>171.855870</td>\n",
       "      <td>169.768427</td>\n",
       "      <td>170.346649</td>\n",
       "      <td>6564600</td>\n",
       "      <td>...</td>\n",
       "      <td>129.937547</td>\n",
       "      <td>132.969417</td>\n",
       "      <td>129.937547</td>\n",
       "      <td>130.774918</td>\n",
       "      <td>7724900</td>\n",
       "      <td>65.767074</td>\n",
       "      <td>67.050333</td>\n",
       "      <td>65.767074</td>\n",
       "      <td>66.350372</td>\n",
       "      <td>4542900</td>\n",
       "    </tr>\n",
       "    <tr>\n",
       "      <th>2022-01-06 00:00:00-05:00</th>\n",
       "      <td>171.988296</td>\n",
       "      <td>174.577587</td>\n",
       "      <td>170.932666</td>\n",
       "      <td>171.291183</td>\n",
       "      <td>96904000</td>\n",
       "      <td>170.434838</td>\n",
       "      <td>172.091069</td>\n",
       "      <td>169.768418</td>\n",
       "      <td>170.385834</td>\n",
       "      <td>4288700</td>\n",
       "      <td>...</td>\n",
       "      <td>131.285029</td>\n",
       "      <td>131.535288</td>\n",
       "      <td>130.091538</td>\n",
       "      <td>130.158905</td>\n",
       "      <td>4667000</td>\n",
       "      <td>66.428133</td>\n",
       "      <td>66.787830</td>\n",
       "      <td>65.922603</td>\n",
       "      <td>66.272583</td>\n",
       "      <td>4015300</td>\n",
       "    </tr>\n",
       "    <tr>\n",
       "      <th>2022-01-07 00:00:00-05:00</th>\n",
       "      <td>172.177529</td>\n",
       "      <td>173.422378</td>\n",
       "      <td>170.325193</td>\n",
       "      <td>171.460495</td>\n",
       "      <td>86709100</td>\n",
       "      <td>170.611235</td>\n",
       "      <td>171.199252</td>\n",
       "      <td>169.160814</td>\n",
       "      <td>170.601440</td>\n",
       "      <td>4916000</td>\n",
       "      <td>...</td>\n",
       "      <td>130.178188</td>\n",
       "      <td>130.746059</td>\n",
       "      <td>129.100192</td>\n",
       "      <td>129.822067</td>\n",
       "      <td>8630300</td>\n",
       "      <td>65.990666</td>\n",
       "      <td>67.215598</td>\n",
       "      <td>65.592082</td>\n",
       "      <td>66.729515</td>\n",
       "      <td>4380300</td>\n",
       "    </tr>\n",
       "  </tbody>\n",
       "</table>\n",
       "<p>5 rows × 275 columns</p>\n",
       "</div>"
      ],
      "text/plain": [
       "                                 AAPL                                      \\\n",
       "                                 Open        High         Low       Close   \n",
       "Date                                                                        \n",
       "2022-01-03 00:00:00-05:00  177.097152  182.126343  176.977651  181.259918   \n",
       "2022-01-04 00:00:00-05:00  181.877375  182.186095  178.381831  178.959442   \n",
       "2022-01-05 00:00:00-05:00  178.869833  179.427523  173.920313  174.199158   \n",
       "2022-01-06 00:00:00-05:00  171.988296  174.577587  170.932666  171.291183   \n",
       "2022-01-07 00:00:00-05:00  172.177529  173.422378  170.325193  171.460495   \n",
       "\n",
       "                                             PEP                          \\\n",
       "                              Volume        Open        High         Low   \n",
       "Date                                                                       \n",
       "2022-01-03 00:00:00-05:00  104487900  168.759010  169.729232  167.161591   \n",
       "2022-01-04 00:00:00-05:00   99310400  169.209830  170.964055  168.759016   \n",
       "2022-01-05 00:00:00-05:00   94537600  169.895835  171.855870  169.768427   \n",
       "2022-01-06 00:00:00-05:00   96904000  170.434838  172.091069  169.768418   \n",
       "2022-01-07 00:00:00-05:00   86709100  170.611235  171.199252  169.160814   \n",
       "\n",
       "                                                ...        ABBV              \\\n",
       "                                Close   Volume  ...        Open        High   \n",
       "Date                                            ...                           \n",
       "2022-01-03 00:00:00-05:00  169.523422  5488900  ...  130.332162  130.611281   \n",
       "2022-01-04 00:00:00-05:00  169.768433  4717600  ...  130.255191  131.111816   \n",
       "2022-01-05 00:00:00-05:00  170.346649  6564600  ...  129.937547  132.969417   \n",
       "2022-01-06 00:00:00-05:00  170.385834  4288700  ...  131.285029  131.535288   \n",
       "2022-01-07 00:00:00-05:00  170.601440  4916000  ...  130.178188  130.746059   \n",
       "\n",
       "                                                                   SO  \\\n",
       "                                  Low       Close   Volume       Open   \n",
       "Date                                                                    \n",
       "2022-01-03 00:00:00-05:00  128.503403  130.341782  6839800  66.593400   \n",
       "2022-01-04 00:00:00-05:00  129.340819  130.091568  6298300  66.126757   \n",
       "2022-01-05 00:00:00-05:00  129.937547  130.774918  7724900  65.767074   \n",
       "2022-01-06 00:00:00-05:00  130.091538  130.158905  4667000  66.428133   \n",
       "2022-01-07 00:00:00-05:00  129.100192  129.822067  8630300  65.990666   \n",
       "\n",
       "                                                                     \n",
       "                                High        Low      Close   Volume  \n",
       "Date                                                                 \n",
       "2022-01-03 00:00:00-05:00  66.632287  65.485131  66.272583  3616600  \n",
       "2022-01-04 00:00:00-05:00  67.196146  66.039265  66.272583  5259900  \n",
       "2022-01-05 00:00:00-05:00  67.050333  65.767074  66.350372  4542900  \n",
       "2022-01-06 00:00:00-05:00  66.787830  65.922603  66.272583  4015300  \n",
       "2022-01-07 00:00:00-05:00  67.215598  65.592082  66.729515  4380300  \n",
       "\n",
       "[5 rows x 275 columns]"
      ]
     },
     "execution_count": 100,
     "metadata": {},
     "output_type": "execute_result"
    }
   ],
   "source": [
    "history_df.head()"
   ]
  },
  {
   "cell_type": "code",
   "execution_count": null,
   "metadata": {},
   "outputs": [],
   "source": [
    "# we want top 5 stocks by market cap per sector - done\n",
    "# we want the ticker where the top 5 largest caps are\n",
    "# we still need the history of those ticjkers that are top 5 - done"
   ]
  },
  {
   "cell_type": "code",
   "execution_count": null,
   "metadata": {},
   "outputs": [],
   "source": [
    "# we have the indexes of the copanies that are in top 5\n",
    "# but we also want to know how to do the where sql - different"
   ]
  },
  {
   "cell_type": "code",
   "execution_count": 90,
   "metadata": {},
   "outputs": [
    {
     "data": {
      "text/html": [
       "<div>\n",
       "<style scoped>\n",
       "    .dataframe tbody tr th:only-of-type {\n",
       "        vertical-align: middle;\n",
       "    }\n",
       "\n",
       "    .dataframe tbody tr th {\n",
       "        vertical-align: top;\n",
       "    }\n",
       "\n",
       "    .dataframe thead th {\n",
       "        text-align: right;\n",
       "    }\n",
       "</style>\n",
       "<table border=\"1\" class=\"dataframe\">\n",
       "  <thead>\n",
       "    <tr style=\"text-align: right;\">\n",
       "      <th></th>\n",
       "      <th>ticker</th>\n",
       "      <th>name</th>\n",
       "      <th>sector</th>\n",
       "      <th>business_summary</th>\n",
       "      <th>industry</th>\n",
       "      <th>market_capitalization</th>\n",
       "    </tr>\n",
       "  </thead>\n",
       "  <tbody>\n",
       "    <tr>\n",
       "      <th>45</th>\n",
       "      <td>AAPL</td>\n",
       "      <td>Apple Inc.</td>\n",
       "      <td>Technology</td>\n",
       "      <td>Apple Inc. designs, manufactures, and markets ...</td>\n",
       "      <td>Consumer Electronics</td>\n",
       "      <td>2.502867e+12</td>\n",
       "    </tr>\n",
       "    <tr>\n",
       "      <th>315</th>\n",
       "      <td>MSFT</td>\n",
       "      <td>Microsoft Corporation</td>\n",
       "      <td>Technology</td>\n",
       "      <td>Microsoft Corporation develops, licenses, and ...</td>\n",
       "      <td>Software—Infrastructure</td>\n",
       "      <td>1.758286e+12</td>\n",
       "    </tr>\n",
       "    <tr>\n",
       "      <th>24</th>\n",
       "      <td>GOOG</td>\n",
       "      <td>Alphabet Inc.</td>\n",
       "      <td>Communication Services</td>\n",
       "      <td>Alphabet Inc. provides various products and pl...</td>\n",
       "      <td>Internet Content &amp; Information</td>\n",
       "      <td>1.248045e+12</td>\n",
       "    </tr>\n",
       "    <tr>\n",
       "      <th>23</th>\n",
       "      <td>GOOGL</td>\n",
       "      <td>Alphabet Inc.</td>\n",
       "      <td>Communication Services</td>\n",
       "      <td>Alphabet Inc. provides various products and pl...</td>\n",
       "      <td>Internet Content &amp; Information</td>\n",
       "      <td>1.248044e+12</td>\n",
       "    </tr>\n",
       "    <tr>\n",
       "      <th>26</th>\n",
       "      <td>AMZN</td>\n",
       "      <td>Amazon.com, Inc.</td>\n",
       "      <td>Consumer Cyclical</td>\n",
       "      <td>Amazon.com, Inc. engages in the retail sale of...</td>\n",
       "      <td>Internet Retail</td>\n",
       "      <td>1.053500e+12</td>\n",
       "    </tr>\n",
       "    <tr>\n",
       "      <th>463</th>\n",
       "      <td>UNH</td>\n",
       "      <td>UnitedHealth Group Incorporated</td>\n",
       "      <td>Healthcare</td>\n",
       "      <td>UnitedHealth Group Incorporated operates as a ...</td>\n",
       "      <td>Healthcare Plans</td>\n",
       "      <td>5.191859e+11</td>\n",
       "    </tr>\n",
       "    <tr>\n",
       "      <th>190</th>\n",
       "      <td>XOM</td>\n",
       "      <td>Exxon Mobil Corporation</td>\n",
       "      <td>Energy</td>\n",
       "      <td>Exxon Mobil Corporation explores for and produ...</td>\n",
       "      <td>Oil &amp; Gas Integrated</td>\n",
       "      <td>4.716573e+11</td>\n",
       "    </tr>\n",
       "    <tr>\n",
       "      <th>264</th>\n",
       "      <td>JNJ</td>\n",
       "      <td>Johnson &amp; Johnson</td>\n",
       "      <td>Healthcare</td>\n",
       "      <td>Johnson &amp; Johnson, together with its subsidiar...</td>\n",
       "      <td>Drug Manufacturers—General</td>\n",
       "      <td>4.571941e+11</td>\n",
       "    </tr>\n",
       "    <tr>\n",
       "      <th>479</th>\n",
       "      <td>WMT</td>\n",
       "      <td>Walmart Inc.</td>\n",
       "      <td>Consumer Defensive</td>\n",
       "      <td>Walmart Inc. engages in the operation of retai...</td>\n",
       "      <td>Discount Stores</td>\n",
       "      <td>3.953056e+11</td>\n",
       "    </tr>\n",
       "    <tr>\n",
       "      <th>266</th>\n",
       "      <td>JPM</td>\n",
       "      <td>JPMorgan Chase &amp; Co.</td>\n",
       "      <td>Financial Services</td>\n",
       "      <td>JPMorgan Chase &amp; Co. operates as a financial s...</td>\n",
       "      <td>Banks—Diversified</td>\n",
       "      <td>3.698178e+11</td>\n",
       "    </tr>\n",
       "  </tbody>\n",
       "</table>\n",
       "</div>"
      ],
      "text/plain": [
       "    ticker                             name                  sector  \\\n",
       "45    AAPL                       Apple Inc.              Technology   \n",
       "315   MSFT            Microsoft Corporation              Technology   \n",
       "24    GOOG                    Alphabet Inc.  Communication Services   \n",
       "23   GOOGL                    Alphabet Inc.  Communication Services   \n",
       "26    AMZN                 Amazon.com, Inc.       Consumer Cyclical   \n",
       "463    UNH  UnitedHealth Group Incorporated              Healthcare   \n",
       "190    XOM          Exxon Mobil Corporation                  Energy   \n",
       "264    JNJ                Johnson & Johnson              Healthcare   \n",
       "479    WMT                     Walmart Inc.      Consumer Defensive   \n",
       "266    JPM             JPMorgan Chase & Co.      Financial Services   \n",
       "\n",
       "                                      business_summary  \\\n",
       "45   Apple Inc. designs, manufactures, and markets ...   \n",
       "315  Microsoft Corporation develops, licenses, and ...   \n",
       "24   Alphabet Inc. provides various products and pl...   \n",
       "23   Alphabet Inc. provides various products and pl...   \n",
       "26   Amazon.com, Inc. engages in the retail sale of...   \n",
       "463  UnitedHealth Group Incorporated operates as a ...   \n",
       "190  Exxon Mobil Corporation explores for and produ...   \n",
       "264  Johnson & Johnson, together with its subsidiar...   \n",
       "479  Walmart Inc. engages in the operation of retai...   \n",
       "266  JPMorgan Chase & Co. operates as a financial s...   \n",
       "\n",
       "                           industry  market_capitalization  \n",
       "45             Consumer Electronics           2.502867e+12  \n",
       "315         Software—Infrastructure           1.758286e+12  \n",
       "24   Internet Content & Information           1.248045e+12  \n",
       "23   Internet Content & Information           1.248044e+12  \n",
       "26                  Internet Retail           1.053500e+12  \n",
       "463                Healthcare Plans           5.191859e+11  \n",
       "190            Oil & Gas Integrated           4.716573e+11  \n",
       "264      Drug Manufacturers—General           4.571941e+11  \n",
       "479                 Discount Stores           3.953056e+11  \n",
       "266               Banks—Diversified           3.698178e+11  "
      ]
     },
     "execution_count": 90,
     "metadata": {},
     "output_type": "execute_result"
    }
   ],
   "source": [
    "df2_sorted = df2.sort_values(\n",
    "    by='market_capitalization',\n",
    "    ascending=False\n",
    ")\n",
    "df2_sorted.head(10)"
   ]
  },
  {
   "cell_type": "code",
   "execution_count": 22,
   "metadata": {},
   "outputs": [
    {
     "data": {
      "application/vnd.plotly.v1+json": {
       "config": {
        "plotlyServerURL": "https://plot.ly"
       },
       "data": [
        {
         "hovertemplate": "Date=%{x}<br>Open=%{y}<extra></extra>",
         "legendgroup": "",
         "line": {
          "color": "#636efa",
          "dash": "solid"
         },
         "marker": {
          "symbol": "circle"
         },
         "mode": "lines",
         "name": "",
         "orientation": "v",
         "showlegend": false,
         "type": "scatter",
         "x": [
          "2022-01-03T00:00:00-05:00",
          "2022-01-04T00:00:00-05:00",
          "2022-01-05T00:00:00-05:00",
          "2022-01-06T00:00:00-05:00",
          "2022-01-07T00:00:00-05:00",
          "2022-01-10T00:00:00-05:00",
          "2022-01-11T00:00:00-05:00",
          "2022-01-12T00:00:00-05:00",
          "2022-01-13T00:00:00-05:00",
          "2022-01-14T00:00:00-05:00",
          "2022-01-18T00:00:00-05:00",
          "2022-01-19T00:00:00-05:00",
          "2022-01-20T00:00:00-05:00",
          "2022-01-21T00:00:00-05:00",
          "2022-01-24T00:00:00-05:00",
          "2022-01-25T00:00:00-05:00",
          "2022-01-26T00:00:00-05:00",
          "2022-01-27T00:00:00-05:00",
          "2022-01-28T00:00:00-05:00",
          "2022-01-31T00:00:00-05:00",
          "2022-02-01T00:00:00-05:00",
          "2022-02-02T00:00:00-05:00",
          "2022-02-03T00:00:00-05:00",
          "2022-02-04T00:00:00-05:00",
          "2022-02-07T00:00:00-05:00",
          "2022-02-08T00:00:00-05:00",
          "2022-02-09T00:00:00-05:00",
          "2022-02-10T00:00:00-05:00",
          "2022-02-11T00:00:00-05:00",
          "2022-02-14T00:00:00-05:00",
          "2022-02-15T00:00:00-05:00",
          "2022-02-16T00:00:00-05:00",
          "2022-02-17T00:00:00-05:00",
          "2022-02-18T00:00:00-05:00",
          "2022-02-22T00:00:00-05:00",
          "2022-02-23T00:00:00-05:00",
          "2022-02-24T00:00:00-05:00",
          "2022-02-25T00:00:00-05:00",
          "2022-02-28T00:00:00-05:00",
          "2022-03-01T00:00:00-05:00",
          "2022-03-02T00:00:00-05:00",
          "2022-03-03T00:00:00-05:00",
          "2022-03-04T00:00:00-05:00",
          "2022-03-07T00:00:00-05:00",
          "2022-03-08T00:00:00-05:00",
          "2022-03-09T00:00:00-05:00",
          "2022-03-10T00:00:00-05:00",
          "2022-03-11T00:00:00-05:00",
          "2022-03-14T00:00:00-04:00",
          "2022-03-15T00:00:00-04:00",
          "2022-03-16T00:00:00-04:00",
          "2022-03-17T00:00:00-04:00",
          "2022-03-18T00:00:00-04:00",
          "2022-03-21T00:00:00-04:00",
          "2022-03-22T00:00:00-04:00",
          "2022-03-23T00:00:00-04:00",
          "2022-03-24T00:00:00-04:00",
          "2022-03-25T00:00:00-04:00",
          "2022-03-28T00:00:00-04:00",
          "2022-03-29T00:00:00-04:00",
          "2022-03-30T00:00:00-04:00",
          "2022-03-31T00:00:00-04:00",
          "2022-04-01T00:00:00-04:00",
          "2022-04-04T00:00:00-04:00",
          "2022-04-05T00:00:00-04:00",
          "2022-04-06T00:00:00-04:00",
          "2022-04-07T00:00:00-04:00",
          "2022-04-08T00:00:00-04:00",
          "2022-04-11T00:00:00-04:00",
          "2022-04-12T00:00:00-04:00",
          "2022-04-13T00:00:00-04:00",
          "2022-04-14T00:00:00-04:00",
          "2022-04-18T00:00:00-04:00",
          "2022-04-19T00:00:00-04:00",
          "2022-04-20T00:00:00-04:00",
          "2022-04-21T00:00:00-04:00",
          "2022-04-22T00:00:00-04:00",
          "2022-04-25T00:00:00-04:00",
          "2022-04-26T00:00:00-04:00",
          "2022-04-27T00:00:00-04:00",
          "2022-04-28T00:00:00-04:00",
          "2022-04-29T00:00:00-04:00",
          "2022-05-02T00:00:00-04:00",
          "2022-05-03T00:00:00-04:00",
          "2022-05-04T00:00:00-04:00",
          "2022-05-05T00:00:00-04:00",
          "2022-05-06T00:00:00-04:00",
          "2022-05-09T00:00:00-04:00",
          "2022-05-10T00:00:00-04:00",
          "2022-05-11T00:00:00-04:00",
          "2022-05-12T00:00:00-04:00",
          "2022-05-13T00:00:00-04:00",
          "2022-05-16T00:00:00-04:00",
          "2022-05-17T00:00:00-04:00",
          "2022-05-18T00:00:00-04:00",
          "2022-05-19T00:00:00-04:00",
          "2022-05-20T00:00:00-04:00",
          "2022-05-23T00:00:00-04:00",
          "2022-05-24T00:00:00-04:00",
          "2022-05-25T00:00:00-04:00",
          "2022-05-26T00:00:00-04:00",
          "2022-05-27T00:00:00-04:00",
          "2022-05-31T00:00:00-04:00",
          "2022-06-01T00:00:00-04:00",
          "2022-06-02T00:00:00-04:00",
          "2022-06-03T00:00:00-04:00",
          "2022-06-06T00:00:00-04:00",
          "2022-06-07T00:00:00-04:00",
          "2022-06-08T00:00:00-04:00",
          "2022-06-09T00:00:00-04:00",
          "2022-06-10T00:00:00-04:00",
          "2022-06-13T00:00:00-04:00",
          "2022-06-14T00:00:00-04:00",
          "2022-06-15T00:00:00-04:00",
          "2022-06-16T00:00:00-04:00",
          "2022-06-17T00:00:00-04:00",
          "2022-06-21T00:00:00-04:00",
          "2022-06-22T00:00:00-04:00",
          "2022-06-23T00:00:00-04:00",
          "2022-06-24T00:00:00-04:00",
          "2022-06-27T00:00:00-04:00",
          "2022-06-28T00:00:00-04:00",
          "2022-06-29T00:00:00-04:00",
          "2022-06-30T00:00:00-04:00",
          "2022-07-01T00:00:00-04:00",
          "2022-07-05T00:00:00-04:00",
          "2022-07-06T00:00:00-04:00",
          "2022-07-07T00:00:00-04:00",
          "2022-07-08T00:00:00-04:00",
          "2022-07-11T00:00:00-04:00",
          "2022-07-12T00:00:00-04:00",
          "2022-07-13T00:00:00-04:00",
          "2022-07-14T00:00:00-04:00",
          "2022-07-15T00:00:00-04:00",
          "2022-07-18T00:00:00-04:00",
          "2022-07-19T00:00:00-04:00",
          "2022-07-20T00:00:00-04:00",
          "2022-07-21T00:00:00-04:00",
          "2022-07-22T00:00:00-04:00",
          "2022-07-25T00:00:00-04:00",
          "2022-07-26T00:00:00-04:00",
          "2022-07-27T00:00:00-04:00",
          "2022-07-28T00:00:00-04:00",
          "2022-07-29T00:00:00-04:00",
          "2022-08-01T00:00:00-04:00",
          "2022-08-02T00:00:00-04:00",
          "2022-08-03T00:00:00-04:00",
          "2022-08-04T00:00:00-04:00",
          "2022-08-05T00:00:00-04:00",
          "2022-08-08T00:00:00-04:00",
          "2022-08-09T00:00:00-04:00",
          "2022-08-10T00:00:00-04:00",
          "2022-08-11T00:00:00-04:00",
          "2022-08-12T00:00:00-04:00",
          "2022-08-15T00:00:00-04:00",
          "2022-08-16T00:00:00-04:00",
          "2022-08-17T00:00:00-04:00",
          "2022-08-18T00:00:00-04:00",
          "2022-08-19T00:00:00-04:00",
          "2022-08-22T00:00:00-04:00",
          "2022-08-23T00:00:00-04:00",
          "2022-08-24T00:00:00-04:00",
          "2022-08-25T00:00:00-04:00",
          "2022-08-26T00:00:00-04:00",
          "2022-08-29T00:00:00-04:00",
          "2022-08-30T00:00:00-04:00",
          "2022-08-31T00:00:00-04:00",
          "2022-09-01T00:00:00-04:00",
          "2022-09-02T00:00:00-04:00",
          "2022-09-06T00:00:00-04:00",
          "2022-09-07T00:00:00-04:00",
          "2022-09-08T00:00:00-04:00",
          "2022-09-09T00:00:00-04:00",
          "2022-09-12T00:00:00-04:00",
          "2022-09-13T00:00:00-04:00",
          "2022-09-14T00:00:00-04:00",
          "2022-09-15T00:00:00-04:00",
          "2022-09-16T00:00:00-04:00",
          "2022-09-19T00:00:00-04:00",
          "2022-09-20T00:00:00-04:00",
          "2022-09-21T00:00:00-04:00",
          "2022-09-22T00:00:00-04:00",
          "2022-09-23T00:00:00-04:00",
          "2022-09-26T00:00:00-04:00",
          "2022-09-27T00:00:00-04:00",
          "2022-09-28T00:00:00-04:00",
          "2022-09-29T00:00:00-04:00",
          "2022-09-30T00:00:00-04:00",
          "2022-10-03T00:00:00-04:00",
          "2022-10-04T00:00:00-04:00",
          "2022-10-05T00:00:00-04:00",
          "2022-10-06T00:00:00-04:00",
          "2022-10-07T00:00:00-04:00",
          "2022-10-10T00:00:00-04:00",
          "2022-10-11T00:00:00-04:00",
          "2022-10-12T00:00:00-04:00",
          "2022-10-13T00:00:00-04:00",
          "2022-10-14T00:00:00-04:00",
          "2022-10-17T00:00:00-04:00",
          "2022-10-18T00:00:00-04:00",
          "2022-10-19T00:00:00-04:00",
          "2022-10-20T00:00:00-04:00",
          "2022-10-21T00:00:00-04:00",
          "2022-10-24T00:00:00-04:00",
          "2022-10-25T00:00:00-04:00",
          "2022-10-26T00:00:00-04:00",
          "2022-10-27T00:00:00-04:00",
          "2022-10-28T00:00:00-04:00"
         ],
         "xaxis": "x",
         "y": [
          173.0697149449214,
          173.22497226752782,
          171.9147463814622,
          175.55431780550796,
          172.8852820034167,
          174.16642236171592,
          172.75912451821807,
          173.72966650675355,
          174.58376661630118,
          175.53490108884213,
          172.93382217478106,
          174.53523320539284,
          173.322033130933,
          168.29455277325926,
          166.79989347003215,
          168.4207231418317,
          169.14864604925603,
          164.12117544862915,
          163.43206003449995,
          157.90958041581374,
          160.71449944917103,
          162.85944018305798,
          161.36477172122457,
          158.96749052684459,
          156.01700476414675,
          156.67697175742975,
          158.7345528644572,
          157.2399118361037,
          155.44439143666017,
          154.65823869794295,
          154.04677053226465,
          152.3774180910033,
          147.82376754668243,
          145.22692034877625,
          145.22692324572245,
          143.8060009059311,
          139.24930663050995,
          141.51295290048662,
          146.29505267193852,
          145.5992974802427,
          142.68888429259556,
          145.54050837705216,
          143.22785016298585,
          142.81628031933815,
          142.3262991782615,
          144.89372915487758,
          142.42428919777575,
          140.59181248994759,
          138.61233380140692,
          141.96372609222436,
          141.8559272891863,
          142.39489856337144,
          144.1195895831781,
          145.7070827919092,
          146.45184671273498,
          146.68704809833176,
          145.148524042712,
          146.27545986278906,
          146.92221427146492,
          147.9707476334981,
          148.29413545620127,
          147.4317914493534,
          146.62823304773423,
          146.06967050231665,
          145.66788762960502,
          144.37437089518275,
          146.39303970677156,
          147.97075600726345,
          147.431780015084,
          148.30391427844617,
          145.54051302516694,
          145.66788174414557,
          144.49196289858475,
          143.9040053491683,
          147.78455744332493,
          148.93109004745466,
          147.77478006972123,
          145.72669033924768,
          142.49289646648515,
          141.8755434449734,
          141.84613363812196,
          144.34498009600418,
          141.61094117958862,
          143.2768485797162,
          146.010880111504,
          150.09721911436358,
          146.2754642229679,
          145.46211320019313,
          150.91056969967852,
          146.98102195742112,
          143.64921876391787,
          147.19660317942225,
          146.22645358960347,
          148.94088967658752,
          148.5489012251147,
          144.71487362300672,
          146.0412623873728,
          143.1113259303447,
          142.8836672442612,
          143.95269258574606,
          145.2494004664062,
          146.70445920354715,
          146.76385546316854,
          147.81307566751636,
          146.021474765324,
          145.50674901137222,
          144.90294149709044,
          143.96260042734278,
          144.0813720496328,
          144.0318845613451,
          140.5575423205554,
          135.3410696162305,
          135.2915651060627,
          134.38092066082228,
          131.20353977586325,
          129.44161786720295,
          129.01598067148308,
          127.4619313147462,
          128.8873145754306,
          130.19389397212112,
          133.04465005131354,
          132.5002287284889,
          128.6794416249922,
          127.40254224105614,
          128.0954366193047,
          125.6901179792649,
          128.18451453803968,
          128.80811676783736,
          128.50126945821222,
          127.42233128181331,
          127.84796683317829,
          126.6997500016641,
          125.6901155666827,
          128.5507521881993,
          128.8675059350878,
          129.07537396733528,
          130.77790060909714,
          131.68855000499556,
          133.28219858850127,
          132.63880742979728,
          142.05219419269622,
          138.20170670051397,
          138.4788649319777,
          139.3400322113178,
          140.70600185120458,
          141.1415373319415,
          140.4585496789036,
          142.03241415555948,
          145.51663661780842,
          146.52628440380332,
          146.80343792332317,
          148.35750026722036,
          148.47626731244463,
          148.84251270953362,
          149.85215186464268,
          148.94150074843725,
          146.93212295680215,
          145.90267448303464,
          144.61000061035156,
          143.27999877929688,
          141,
          140.91000366210938,
          141.07000732421875,
          143.63999938964844,
          128.7899932861328,
          126.88999938964844,
          124.8499984741211,
          124.30000305175781,
          126.02999877929688,
          121.36000061035156,
          116.63999938964844,
          118.38999938964844,
          121.2699966430664,
          124.31999969482422,
          122.11000061035156,
          120.58999633789062,
          117.81999969482422,
          114.69999694824219,
          116.01000213623047,
          115.30000305175781,
          116.83000183105469,
          114.16000366210938,
          113.7300033569336,
          112.76000213623047,
          114.12999725341797,
          113.51000213623047,
          112.95999908447266,
          112,
          111.69000244140625,
          114.73999786376953,
          114.33999633789062,
          114.3499984741211,
          110.37000274658203,
          108.52999877929688,
          108.5,
          108.56999969482422,
          107.5,
          114.26000213623047,
          115.30999755859375,
          115.73999786376953,
          115.0999984741211,
          113.9800033569336,
          113.1500015258789,
          117.52999877929688,
          113.51000213623047,
          119.58999633789062,
          123.48999786376953,
          122.9800033569336
         ],
         "yaxis": "y"
        }
       ],
       "layout": {
        "legend": {
         "tracegroupgap": 0
        },
        "margin": {
         "t": 60
        },
        "template": {
         "data": {
          "bar": [
           {
            "error_x": {
             "color": "#2a3f5f"
            },
            "error_y": {
             "color": "#2a3f5f"
            },
            "marker": {
             "line": {
              "color": "#E5ECF6",
              "width": 0.5
             },
             "pattern": {
              "fillmode": "overlay",
              "size": 10,
              "solidity": 0.2
             }
            },
            "type": "bar"
           }
          ],
          "barpolar": [
           {
            "marker": {
             "line": {
              "color": "#E5ECF6",
              "width": 0.5
             },
             "pattern": {
              "fillmode": "overlay",
              "size": 10,
              "solidity": 0.2
             }
            },
            "type": "barpolar"
           }
          ],
          "carpet": [
           {
            "aaxis": {
             "endlinecolor": "#2a3f5f",
             "gridcolor": "white",
             "linecolor": "white",
             "minorgridcolor": "white",
             "startlinecolor": "#2a3f5f"
            },
            "baxis": {
             "endlinecolor": "#2a3f5f",
             "gridcolor": "white",
             "linecolor": "white",
             "minorgridcolor": "white",
             "startlinecolor": "#2a3f5f"
            },
            "type": "carpet"
           }
          ],
          "choropleth": [
           {
            "colorbar": {
             "outlinewidth": 0,
             "ticks": ""
            },
            "type": "choropleth"
           }
          ],
          "contour": [
           {
            "colorbar": {
             "outlinewidth": 0,
             "ticks": ""
            },
            "colorscale": [
             [
              0,
              "#0d0887"
             ],
             [
              0.1111111111111111,
              "#46039f"
             ],
             [
              0.2222222222222222,
              "#7201a8"
             ],
             [
              0.3333333333333333,
              "#9c179e"
             ],
             [
              0.4444444444444444,
              "#bd3786"
             ],
             [
              0.5555555555555556,
              "#d8576b"
             ],
             [
              0.6666666666666666,
              "#ed7953"
             ],
             [
              0.7777777777777778,
              "#fb9f3a"
             ],
             [
              0.8888888888888888,
              "#fdca26"
             ],
             [
              1,
              "#f0f921"
             ]
            ],
            "type": "contour"
           }
          ],
          "contourcarpet": [
           {
            "colorbar": {
             "outlinewidth": 0,
             "ticks": ""
            },
            "type": "contourcarpet"
           }
          ],
          "heatmap": [
           {
            "colorbar": {
             "outlinewidth": 0,
             "ticks": ""
            },
            "colorscale": [
             [
              0,
              "#0d0887"
             ],
             [
              0.1111111111111111,
              "#46039f"
             ],
             [
              0.2222222222222222,
              "#7201a8"
             ],
             [
              0.3333333333333333,
              "#9c179e"
             ],
             [
              0.4444444444444444,
              "#bd3786"
             ],
             [
              0.5555555555555556,
              "#d8576b"
             ],
             [
              0.6666666666666666,
              "#ed7953"
             ],
             [
              0.7777777777777778,
              "#fb9f3a"
             ],
             [
              0.8888888888888888,
              "#fdca26"
             ],
             [
              1,
              "#f0f921"
             ]
            ],
            "type": "heatmap"
           }
          ],
          "heatmapgl": [
           {
            "colorbar": {
             "outlinewidth": 0,
             "ticks": ""
            },
            "colorscale": [
             [
              0,
              "#0d0887"
             ],
             [
              0.1111111111111111,
              "#46039f"
             ],
             [
              0.2222222222222222,
              "#7201a8"
             ],
             [
              0.3333333333333333,
              "#9c179e"
             ],
             [
              0.4444444444444444,
              "#bd3786"
             ],
             [
              0.5555555555555556,
              "#d8576b"
             ],
             [
              0.6666666666666666,
              "#ed7953"
             ],
             [
              0.7777777777777778,
              "#fb9f3a"
             ],
             [
              0.8888888888888888,
              "#fdca26"
             ],
             [
              1,
              "#f0f921"
             ]
            ],
            "type": "heatmapgl"
           }
          ],
          "histogram": [
           {
            "marker": {
             "pattern": {
              "fillmode": "overlay",
              "size": 10,
              "solidity": 0.2
             }
            },
            "type": "histogram"
           }
          ],
          "histogram2d": [
           {
            "colorbar": {
             "outlinewidth": 0,
             "ticks": ""
            },
            "colorscale": [
             [
              0,
              "#0d0887"
             ],
             [
              0.1111111111111111,
              "#46039f"
             ],
             [
              0.2222222222222222,
              "#7201a8"
             ],
             [
              0.3333333333333333,
              "#9c179e"
             ],
             [
              0.4444444444444444,
              "#bd3786"
             ],
             [
              0.5555555555555556,
              "#d8576b"
             ],
             [
              0.6666666666666666,
              "#ed7953"
             ],
             [
              0.7777777777777778,
              "#fb9f3a"
             ],
             [
              0.8888888888888888,
              "#fdca26"
             ],
             [
              1,
              "#f0f921"
             ]
            ],
            "type": "histogram2d"
           }
          ],
          "histogram2dcontour": [
           {
            "colorbar": {
             "outlinewidth": 0,
             "ticks": ""
            },
            "colorscale": [
             [
              0,
              "#0d0887"
             ],
             [
              0.1111111111111111,
              "#46039f"
             ],
             [
              0.2222222222222222,
              "#7201a8"
             ],
             [
              0.3333333333333333,
              "#9c179e"
             ],
             [
              0.4444444444444444,
              "#bd3786"
             ],
             [
              0.5555555555555556,
              "#d8576b"
             ],
             [
              0.6666666666666666,
              "#ed7953"
             ],
             [
              0.7777777777777778,
              "#fb9f3a"
             ],
             [
              0.8888888888888888,
              "#fdca26"
             ],
             [
              1,
              "#f0f921"
             ]
            ],
            "type": "histogram2dcontour"
           }
          ],
          "mesh3d": [
           {
            "colorbar": {
             "outlinewidth": 0,
             "ticks": ""
            },
            "type": "mesh3d"
           }
          ],
          "parcoords": [
           {
            "line": {
             "colorbar": {
              "outlinewidth": 0,
              "ticks": ""
             }
            },
            "type": "parcoords"
           }
          ],
          "pie": [
           {
            "automargin": true,
            "type": "pie"
           }
          ],
          "scatter": [
           {
            "fillpattern": {
             "fillmode": "overlay",
             "size": 10,
             "solidity": 0.2
            },
            "type": "scatter"
           }
          ],
          "scatter3d": [
           {
            "line": {
             "colorbar": {
              "outlinewidth": 0,
              "ticks": ""
             }
            },
            "marker": {
             "colorbar": {
              "outlinewidth": 0,
              "ticks": ""
             }
            },
            "type": "scatter3d"
           }
          ],
          "scattercarpet": [
           {
            "marker": {
             "colorbar": {
              "outlinewidth": 0,
              "ticks": ""
             }
            },
            "type": "scattercarpet"
           }
          ],
          "scattergeo": [
           {
            "marker": {
             "colorbar": {
              "outlinewidth": 0,
              "ticks": ""
             }
            },
            "type": "scattergeo"
           }
          ],
          "scattergl": [
           {
            "marker": {
             "colorbar": {
              "outlinewidth": 0,
              "ticks": ""
             }
            },
            "type": "scattergl"
           }
          ],
          "scattermapbox": [
           {
            "marker": {
             "colorbar": {
              "outlinewidth": 0,
              "ticks": ""
             }
            },
            "type": "scattermapbox"
           }
          ],
          "scatterpolar": [
           {
            "marker": {
             "colorbar": {
              "outlinewidth": 0,
              "ticks": ""
             }
            },
            "type": "scatterpolar"
           }
          ],
          "scatterpolargl": [
           {
            "marker": {
             "colorbar": {
              "outlinewidth": 0,
              "ticks": ""
             }
            },
            "type": "scatterpolargl"
           }
          ],
          "scatterternary": [
           {
            "marker": {
             "colorbar": {
              "outlinewidth": 0,
              "ticks": ""
             }
            },
            "type": "scatterternary"
           }
          ],
          "surface": [
           {
            "colorbar": {
             "outlinewidth": 0,
             "ticks": ""
            },
            "colorscale": [
             [
              0,
              "#0d0887"
             ],
             [
              0.1111111111111111,
              "#46039f"
             ],
             [
              0.2222222222222222,
              "#7201a8"
             ],
             [
              0.3333333333333333,
              "#9c179e"
             ],
             [
              0.4444444444444444,
              "#bd3786"
             ],
             [
              0.5555555555555556,
              "#d8576b"
             ],
             [
              0.6666666666666666,
              "#ed7953"
             ],
             [
              0.7777777777777778,
              "#fb9f3a"
             ],
             [
              0.8888888888888888,
              "#fdca26"
             ],
             [
              1,
              "#f0f921"
             ]
            ],
            "type": "surface"
           }
          ],
          "table": [
           {
            "cells": {
             "fill": {
              "color": "#EBF0F8"
             },
             "line": {
              "color": "white"
             }
            },
            "header": {
             "fill": {
              "color": "#C8D4E3"
             },
             "line": {
              "color": "white"
             }
            },
            "type": "table"
           }
          ]
         },
         "layout": {
          "annotationdefaults": {
           "arrowcolor": "#2a3f5f",
           "arrowhead": 0,
           "arrowwidth": 1
          },
          "autotypenumbers": "strict",
          "coloraxis": {
           "colorbar": {
            "outlinewidth": 0,
            "ticks": ""
           }
          },
          "colorscale": {
           "diverging": [
            [
             0,
             "#8e0152"
            ],
            [
             0.1,
             "#c51b7d"
            ],
            [
             0.2,
             "#de77ae"
            ],
            [
             0.3,
             "#f1b6da"
            ],
            [
             0.4,
             "#fde0ef"
            ],
            [
             0.5,
             "#f7f7f7"
            ],
            [
             0.6,
             "#e6f5d0"
            ],
            [
             0.7,
             "#b8e186"
            ],
            [
             0.8,
             "#7fbc41"
            ],
            [
             0.9,
             "#4d9221"
            ],
            [
             1,
             "#276419"
            ]
           ],
           "sequential": [
            [
             0,
             "#0d0887"
            ],
            [
             0.1111111111111111,
             "#46039f"
            ],
            [
             0.2222222222222222,
             "#7201a8"
            ],
            [
             0.3333333333333333,
             "#9c179e"
            ],
            [
             0.4444444444444444,
             "#bd3786"
            ],
            [
             0.5555555555555556,
             "#d8576b"
            ],
            [
             0.6666666666666666,
             "#ed7953"
            ],
            [
             0.7777777777777778,
             "#fb9f3a"
            ],
            [
             0.8888888888888888,
             "#fdca26"
            ],
            [
             1,
             "#f0f921"
            ]
           ],
           "sequentialminus": [
            [
             0,
             "#0d0887"
            ],
            [
             0.1111111111111111,
             "#46039f"
            ],
            [
             0.2222222222222222,
             "#7201a8"
            ],
            [
             0.3333333333333333,
             "#9c179e"
            ],
            [
             0.4444444444444444,
             "#bd3786"
            ],
            [
             0.5555555555555556,
             "#d8576b"
            ],
            [
             0.6666666666666666,
             "#ed7953"
            ],
            [
             0.7777777777777778,
             "#fb9f3a"
            ],
            [
             0.8888888888888888,
             "#fdca26"
            ],
            [
             1,
             "#f0f921"
            ]
           ]
          },
          "colorway": [
           "#636efa",
           "#EF553B",
           "#00cc96",
           "#ab63fa",
           "#FFA15A",
           "#19d3f3",
           "#FF6692",
           "#B6E880",
           "#FF97FF",
           "#FECB52"
          ],
          "font": {
           "color": "#2a3f5f"
          },
          "geo": {
           "bgcolor": "white",
           "lakecolor": "white",
           "landcolor": "#E5ECF6",
           "showlakes": true,
           "showland": true,
           "subunitcolor": "white"
          },
          "hoverlabel": {
           "align": "left"
          },
          "hovermode": "closest",
          "mapbox": {
           "style": "light"
          },
          "paper_bgcolor": "white",
          "plot_bgcolor": "#E5ECF6",
          "polar": {
           "angularaxis": {
            "gridcolor": "white",
            "linecolor": "white",
            "ticks": ""
           },
           "bgcolor": "#E5ECF6",
           "radialaxis": {
            "gridcolor": "white",
            "linecolor": "white",
            "ticks": ""
           }
          },
          "scene": {
           "xaxis": {
            "backgroundcolor": "#E5ECF6",
            "gridcolor": "white",
            "gridwidth": 2,
            "linecolor": "white",
            "showbackground": true,
            "ticks": "",
            "zerolinecolor": "white"
           },
           "yaxis": {
            "backgroundcolor": "#E5ECF6",
            "gridcolor": "white",
            "gridwidth": 2,
            "linecolor": "white",
            "showbackground": true,
            "ticks": "",
            "zerolinecolor": "white"
           },
           "zaxis": {
            "backgroundcolor": "#E5ECF6",
            "gridcolor": "white",
            "gridwidth": 2,
            "linecolor": "white",
            "showbackground": true,
            "ticks": "",
            "zerolinecolor": "white"
           }
          },
          "shapedefaults": {
           "line": {
            "color": "#2a3f5f"
           }
          },
          "ternary": {
           "aaxis": {
            "gridcolor": "white",
            "linecolor": "white",
            "ticks": ""
           },
           "baxis": {
            "gridcolor": "white",
            "linecolor": "white",
            "ticks": ""
           },
           "bgcolor": "#E5ECF6",
           "caxis": {
            "gridcolor": "white",
            "linecolor": "white",
            "ticks": ""
           }
          },
          "title": {
           "x": 0.05
          },
          "xaxis": {
           "automargin": true,
           "gridcolor": "white",
           "linecolor": "white",
           "ticks": "",
           "title": {
            "standoff": 15
           },
           "zerolinecolor": "white",
           "zerolinewidth": 2
          },
          "yaxis": {
           "automargin": true,
           "gridcolor": "white",
           "linecolor": "white",
           "ticks": "",
           "title": {
            "standoff": 15
           },
           "zerolinecolor": "white",
           "zerolinewidth": 2
          }
         }
        },
        "xaxis": {
         "anchor": "y",
         "domain": [
          0,
          1
         ],
         "title": {
          "text": "Date"
         }
        },
        "yaxis": {
         "anchor": "x",
         "domain": [
          0,
          1
         ],
         "title": {
          "text": "Open"
         }
        }
       }
      }
     },
     "metadata": {},
     "output_type": "display_data"
    }
   ],
   "source": [
    "fig = px.line(test['MMM'], x=test['MMM'].index, y=\"Open\")\n",
    "fig.show()"
   ]
  },
  {
   "cell_type": "code",
   "execution_count": 23,
   "metadata": {},
   "outputs": [
    {
     "data": {
      "application/vnd.plotly.v1+json": {
       "config": {
        "plotlyServerURL": "https://plot.ly"
       },
       "data": [
        {
         "hovertemplate": "Date=%{x}<br>Open=%{y}<extra></extra>",
         "legendgroup": "",
         "line": {
          "color": "#636efa",
          "dash": "solid"
         },
         "marker": {
          "symbol": "circle"
         },
         "mode": "lines",
         "name": "",
         "orientation": "v",
         "showlegend": false,
         "type": "scatter",
         "x": [
          "2022-01-03T00:00:00-05:00",
          "2022-01-04T00:00:00-05:00",
          "2022-01-05T00:00:00-05:00",
          "2022-01-06T00:00:00-05:00",
          "2022-01-07T00:00:00-05:00",
          "2022-01-10T00:00:00-05:00",
          "2022-01-11T00:00:00-05:00",
          "2022-01-12T00:00:00-05:00",
          "2022-01-13T00:00:00-05:00",
          "2022-01-14T00:00:00-05:00",
          "2022-01-18T00:00:00-05:00",
          "2022-01-19T00:00:00-05:00",
          "2022-01-20T00:00:00-05:00",
          "2022-01-21T00:00:00-05:00",
          "2022-01-24T00:00:00-05:00",
          "2022-01-25T00:00:00-05:00",
          "2022-01-26T00:00:00-05:00",
          "2022-01-27T00:00:00-05:00",
          "2022-01-28T00:00:00-05:00",
          "2022-01-31T00:00:00-05:00",
          "2022-02-01T00:00:00-05:00",
          "2022-02-02T00:00:00-05:00",
          "2022-02-03T00:00:00-05:00",
          "2022-02-04T00:00:00-05:00",
          "2022-02-07T00:00:00-05:00",
          "2022-02-08T00:00:00-05:00",
          "2022-02-09T00:00:00-05:00",
          "2022-02-10T00:00:00-05:00",
          "2022-02-11T00:00:00-05:00",
          "2022-02-14T00:00:00-05:00",
          "2022-02-15T00:00:00-05:00",
          "2022-02-16T00:00:00-05:00",
          "2022-02-17T00:00:00-05:00",
          "2022-02-18T00:00:00-05:00",
          "2022-02-22T00:00:00-05:00",
          "2022-02-23T00:00:00-05:00",
          "2022-02-24T00:00:00-05:00",
          "2022-02-25T00:00:00-05:00",
          "2022-02-28T00:00:00-05:00",
          "2022-03-01T00:00:00-05:00",
          "2022-03-02T00:00:00-05:00",
          "2022-03-03T00:00:00-05:00",
          "2022-03-04T00:00:00-05:00",
          "2022-03-07T00:00:00-05:00",
          "2022-03-08T00:00:00-05:00",
          "2022-03-09T00:00:00-05:00",
          "2022-03-10T00:00:00-05:00",
          "2022-03-11T00:00:00-05:00",
          "2022-03-14T00:00:00-04:00",
          "2022-03-15T00:00:00-04:00",
          "2022-03-16T00:00:00-04:00",
          "2022-03-17T00:00:00-04:00",
          "2022-03-18T00:00:00-04:00",
          "2022-03-21T00:00:00-04:00",
          "2022-03-22T00:00:00-04:00",
          "2022-03-23T00:00:00-04:00",
          "2022-03-24T00:00:00-04:00",
          "2022-03-25T00:00:00-04:00",
          "2022-03-28T00:00:00-04:00",
          "2022-03-29T00:00:00-04:00",
          "2022-03-30T00:00:00-04:00",
          "2022-03-31T00:00:00-04:00",
          "2022-04-01T00:00:00-04:00",
          "2022-04-04T00:00:00-04:00",
          "2022-04-05T00:00:00-04:00",
          "2022-04-06T00:00:00-04:00",
          "2022-04-07T00:00:00-04:00",
          "2022-04-08T00:00:00-04:00",
          "2022-04-11T00:00:00-04:00",
          "2022-04-12T00:00:00-04:00",
          "2022-04-13T00:00:00-04:00",
          "2022-04-14T00:00:00-04:00",
          "2022-04-18T00:00:00-04:00",
          "2022-04-19T00:00:00-04:00",
          "2022-04-20T00:00:00-04:00",
          "2022-04-21T00:00:00-04:00",
          "2022-04-22T00:00:00-04:00",
          "2022-04-25T00:00:00-04:00",
          "2022-04-26T00:00:00-04:00",
          "2022-04-27T00:00:00-04:00",
          "2022-04-28T00:00:00-04:00",
          "2022-04-29T00:00:00-04:00",
          "2022-05-02T00:00:00-04:00",
          "2022-05-03T00:00:00-04:00",
          "2022-05-04T00:00:00-04:00",
          "2022-05-05T00:00:00-04:00",
          "2022-05-06T00:00:00-04:00",
          "2022-05-09T00:00:00-04:00",
          "2022-05-10T00:00:00-04:00",
          "2022-05-11T00:00:00-04:00",
          "2022-05-12T00:00:00-04:00",
          "2022-05-13T00:00:00-04:00",
          "2022-05-16T00:00:00-04:00",
          "2022-05-17T00:00:00-04:00",
          "2022-05-18T00:00:00-04:00",
          "2022-05-19T00:00:00-04:00",
          "2022-05-20T00:00:00-04:00",
          "2022-05-23T00:00:00-04:00",
          "2022-05-24T00:00:00-04:00",
          "2022-05-25T00:00:00-04:00",
          "2022-05-26T00:00:00-04:00",
          "2022-05-27T00:00:00-04:00",
          "2022-05-31T00:00:00-04:00",
          "2022-06-01T00:00:00-04:00",
          "2022-06-02T00:00:00-04:00",
          "2022-06-03T00:00:00-04:00",
          "2022-06-06T00:00:00-04:00",
          "2022-06-07T00:00:00-04:00",
          "2022-06-08T00:00:00-04:00",
          "2022-06-09T00:00:00-04:00",
          "2022-06-10T00:00:00-04:00",
          "2022-06-13T00:00:00-04:00",
          "2022-06-14T00:00:00-04:00",
          "2022-06-15T00:00:00-04:00",
          "2022-06-16T00:00:00-04:00",
          "2022-06-17T00:00:00-04:00",
          "2022-06-21T00:00:00-04:00",
          "2022-06-22T00:00:00-04:00",
          "2022-06-23T00:00:00-04:00",
          "2022-06-24T00:00:00-04:00",
          "2022-06-27T00:00:00-04:00",
          "2022-06-28T00:00:00-04:00",
          "2022-06-29T00:00:00-04:00",
          "2022-06-30T00:00:00-04:00",
          "2022-07-01T00:00:00-04:00",
          "2022-07-05T00:00:00-04:00",
          "2022-07-06T00:00:00-04:00",
          "2022-07-07T00:00:00-04:00",
          "2022-07-08T00:00:00-04:00",
          "2022-07-11T00:00:00-04:00",
          "2022-07-12T00:00:00-04:00",
          "2022-07-13T00:00:00-04:00",
          "2022-07-14T00:00:00-04:00",
          "2022-07-15T00:00:00-04:00",
          "2022-07-18T00:00:00-04:00",
          "2022-07-19T00:00:00-04:00",
          "2022-07-20T00:00:00-04:00",
          "2022-07-21T00:00:00-04:00",
          "2022-07-22T00:00:00-04:00",
          "2022-07-25T00:00:00-04:00",
          "2022-07-26T00:00:00-04:00",
          "2022-07-27T00:00:00-04:00",
          "2022-07-28T00:00:00-04:00",
          "2022-07-29T00:00:00-04:00",
          "2022-08-01T00:00:00-04:00",
          "2022-08-02T00:00:00-04:00",
          "2022-08-03T00:00:00-04:00",
          "2022-08-04T00:00:00-04:00",
          "2022-08-05T00:00:00-04:00",
          "2022-08-08T00:00:00-04:00",
          "2022-08-09T00:00:00-04:00",
          "2022-08-10T00:00:00-04:00",
          "2022-08-11T00:00:00-04:00",
          "2022-08-12T00:00:00-04:00",
          "2022-08-15T00:00:00-04:00",
          "2022-08-16T00:00:00-04:00",
          "2022-08-17T00:00:00-04:00",
          "2022-08-18T00:00:00-04:00",
          "2022-08-19T00:00:00-04:00",
          "2022-08-22T00:00:00-04:00",
          "2022-08-23T00:00:00-04:00",
          "2022-08-24T00:00:00-04:00",
          "2022-08-25T00:00:00-04:00",
          "2022-08-26T00:00:00-04:00",
          "2022-08-29T00:00:00-04:00",
          "2022-08-30T00:00:00-04:00",
          "2022-08-31T00:00:00-04:00",
          "2022-09-01T00:00:00-04:00",
          "2022-09-02T00:00:00-04:00",
          "2022-09-06T00:00:00-04:00",
          "2022-09-07T00:00:00-04:00",
          "2022-09-08T00:00:00-04:00",
          "2022-09-09T00:00:00-04:00",
          "2022-09-12T00:00:00-04:00",
          "2022-09-13T00:00:00-04:00",
          "2022-09-14T00:00:00-04:00",
          "2022-09-15T00:00:00-04:00",
          "2022-09-16T00:00:00-04:00",
          "2022-09-19T00:00:00-04:00",
          "2022-09-20T00:00:00-04:00",
          "2022-09-21T00:00:00-04:00",
          "2022-09-22T00:00:00-04:00",
          "2022-09-23T00:00:00-04:00",
          "2022-09-26T00:00:00-04:00",
          "2022-09-27T00:00:00-04:00",
          "2022-09-28T00:00:00-04:00",
          "2022-09-29T00:00:00-04:00",
          "2022-09-30T00:00:00-04:00",
          "2022-10-03T00:00:00-04:00",
          "2022-10-04T00:00:00-04:00",
          "2022-10-05T00:00:00-04:00",
          "2022-10-06T00:00:00-04:00",
          "2022-10-07T00:00:00-04:00",
          "2022-10-10T00:00:00-04:00",
          "2022-10-11T00:00:00-04:00",
          "2022-10-12T00:00:00-04:00",
          "2022-10-13T00:00:00-04:00",
          "2022-10-14T00:00:00-04:00",
          "2022-10-17T00:00:00-04:00",
          "2022-10-18T00:00:00-04:00",
          "2022-10-19T00:00:00-04:00",
          "2022-10-20T00:00:00-04:00",
          "2022-10-21T00:00:00-04:00",
          "2022-10-24T00:00:00-04:00",
          "2022-10-25T00:00:00-04:00",
          "2022-10-26T00:00:00-04:00",
          "2022-10-27T00:00:00-04:00",
          "2022-10-28T00:00:00-04:00"
         ],
         "xaxis": "x",
         "y": [
          84.25868971291176,
          82.22681680358404,
          83.44398193295622,
          82.35443802705761,
          82.77651083327021,
          81.43175493714836,
          81.88327081015906,
          82.68815785912304,
          82.55073634763197,
          80.4894347988835,
          78.03549101290281,
          79.58638572915787,
          78.56553149862137,
          76.78889075516794,
          74.2073234571105,
          75.66987933867033,
          75.19872670364452,
          75.5913629344557,
          74.2852385137446,
          74.13744586194689,
          75.79262183110407,
          74.27538148525903,
          73.41824894444487,
          72.6399331631197,
          72.52169393334432,
          72.94534820756805,
          73.96996857498122,
          72.16701800644765,
          71.42811550204007,
          70.11777710724876,
          71.07344138121137,
          71.11284864207761,
          70.79757956743693,
          69.85177873441924,
          69.7532494879877,
          69.35916121580047,
          65.4577127650206,
          66.91582225309561,
          67.30991246080532,
          67.50695391071983,
          66.314843142877,
          68.31482713511653,
          66.75819278127915,
          67.46755285615177,
          66.67937743508813,
          66.81730424147496,
          65.69416314156128,
          66.1867733152684,
          65.2803772790967,
          65.13258463598319,
          65.54637546048687,
          65.92076303565409,
          67.16212055333727,
          66.95523440620023,
          67.33946369302738,
          66.22618093727118,
          64.63012586021756,
          65.50696697859068,
          65.81239091772302,
          66.37395604026743,
          66.12766321231348,
          65.26065847267459,
          63.66462455585313,
          64.84686999780408,
          65.66460651442802,
          63.68431842027682,
          63.33949400987648,
          62.52176410452228,
          61.654777714603654,
          62.886295158530636,
          63.4478671948384,
          64.147373486515,
          62.73851110524878,
          62.78777750924005,
          65.0242108410124,
          65.97001664216285,
          64.80746561201092,
          63.62521273379085,
          63.14244762283777,
          61.67448027651203,
          61.61382500030441,
          59.11998325544254,
          57.724615053063154,
          58.58558625942939,
          58.06108278238944,
          60.32731619726972,
          58.110569267818576,
          58.090772894652225,
          59.63458291026252,
          58.40745097382162,
          56.457895768249884,
          58.75382321745151,
          58.912157501224684,
          59.347594669383454,
          58.73402517329269,
          56.63602927799991,
          58.28869858920717,
          57.892850138337515,
          57.714716406862856,
          57.36835399845171,
          58.10067002903344,
          59.20905205837995,
          60.00074554927487,
          59.58510116332167,
          60.41638289886379,
          59.97105396665338,
          60.94088362308435,
          60.55493021436587,
          60.733063544858986,
          60.198671665222385,
          59.22883980164309,
          56.17090658851337,
          55.4781772851444,
          55.26045662676587,
          54.35000412817094,
          53.06349735718827,
          52.92494882427923,
          51.49989741744677,
          52.479620995293736,
          54.12239221316275,
          55.45838188425726,
          55.3594180133467,
          54.6963740186639,
          53.23173678233216,
          54.42917374050309,
          54.59740813610014,
          57.39803760280629,
          57.66524016395327,
          58.89236618986134,
          56.03236178427858,
          56.24018754513738,
          54.54793038236505,
          53.43955494964536,
          54.7953319959981,
          56.14121898727917,
          55.68599568341387,
          56.91312280926707,
          57.33866084379646,
          58.43714129383072,
          58.26890876647354,
          58.16005167036247,
          58.67465160855603,
          61.532254220701056,
          60.84624342645159,
          61.62173552471502,
          61.303584360333346,
          60.3590765423287,
          61.00531742212582,
          60.16023016159887,
          60.63745801001967,
          60.81641660134166,
          60.975493062278154,
          61.770868026172955,
          62.20832391444537,
          63.182659534949856,
          63.32184900055676,
          63.30196476560878,
          64.16693659388066,
          63.41132900714187,
          61.39306247302669,
          60.85618581602478,
          60.32924758528347,
          60.90589470490739,
          60.915838605406655,
          57.575259366376876,
          57.664739372292345,
          57.098033976004224,
          55.72601185363635,
          56.89919025147452,
          56.00439557299426,
          55.49734204943701,
          56.35236967401555,
          56.86936606312305,
          56.3722568521978,
          54.55283148664975,
          53.78728114937882,
          51.967860920954756,
          52.156763840074625,
          51.261965732062016,
          51.68948069895274,
          51.520463534178056,
          50.61572281383612,
          49.71098482725845,
          49.41271807602749,
          49.81040281609071,
          49.45248737007729,
          49.56184722396978,
          48.45826933455015,
          48.756531933262,
          51.092948235726226,
          51.25202269393309,
          50.913987840388984,
          49.94959905867951,
          49.61156123422644,
          49.293410761808104,
          48.955376883016235,
          47.25525793670765,
          48.865899349293386,
          49.79052119582106,
          52.31583731251428,
          50.904046734459605,
          50.54612814700808,
          48.786358639275626,
          50.118614031083446,
          50.566013114637805,
          51.81872712902369,
          52.763237479965476,
          51.959999084472656
         ],
         "yaxis": "y"
        }
       ],
       "layout": {
        "legend": {
         "tracegroupgap": 0
        },
        "margin": {
         "t": 60
        },
        "template": {
         "data": {
          "bar": [
           {
            "error_x": {
             "color": "#2a3f5f"
            },
            "error_y": {
             "color": "#2a3f5f"
            },
            "marker": {
             "line": {
              "color": "#E5ECF6",
              "width": 0.5
             },
             "pattern": {
              "fillmode": "overlay",
              "size": 10,
              "solidity": 0.2
             }
            },
            "type": "bar"
           }
          ],
          "barpolar": [
           {
            "marker": {
             "line": {
              "color": "#E5ECF6",
              "width": 0.5
             },
             "pattern": {
              "fillmode": "overlay",
              "size": 10,
              "solidity": 0.2
             }
            },
            "type": "barpolar"
           }
          ],
          "carpet": [
           {
            "aaxis": {
             "endlinecolor": "#2a3f5f",
             "gridcolor": "white",
             "linecolor": "white",
             "minorgridcolor": "white",
             "startlinecolor": "#2a3f5f"
            },
            "baxis": {
             "endlinecolor": "#2a3f5f",
             "gridcolor": "white",
             "linecolor": "white",
             "minorgridcolor": "white",
             "startlinecolor": "#2a3f5f"
            },
            "type": "carpet"
           }
          ],
          "choropleth": [
           {
            "colorbar": {
             "outlinewidth": 0,
             "ticks": ""
            },
            "type": "choropleth"
           }
          ],
          "contour": [
           {
            "colorbar": {
             "outlinewidth": 0,
             "ticks": ""
            },
            "colorscale": [
             [
              0,
              "#0d0887"
             ],
             [
              0.1111111111111111,
              "#46039f"
             ],
             [
              0.2222222222222222,
              "#7201a8"
             ],
             [
              0.3333333333333333,
              "#9c179e"
             ],
             [
              0.4444444444444444,
              "#bd3786"
             ],
             [
              0.5555555555555556,
              "#d8576b"
             ],
             [
              0.6666666666666666,
              "#ed7953"
             ],
             [
              0.7777777777777778,
              "#fb9f3a"
             ],
             [
              0.8888888888888888,
              "#fdca26"
             ],
             [
              1,
              "#f0f921"
             ]
            ],
            "type": "contour"
           }
          ],
          "contourcarpet": [
           {
            "colorbar": {
             "outlinewidth": 0,
             "ticks": ""
            },
            "type": "contourcarpet"
           }
          ],
          "heatmap": [
           {
            "colorbar": {
             "outlinewidth": 0,
             "ticks": ""
            },
            "colorscale": [
             [
              0,
              "#0d0887"
             ],
             [
              0.1111111111111111,
              "#46039f"
             ],
             [
              0.2222222222222222,
              "#7201a8"
             ],
             [
              0.3333333333333333,
              "#9c179e"
             ],
             [
              0.4444444444444444,
              "#bd3786"
             ],
             [
              0.5555555555555556,
              "#d8576b"
             ],
             [
              0.6666666666666666,
              "#ed7953"
             ],
             [
              0.7777777777777778,
              "#fb9f3a"
             ],
             [
              0.8888888888888888,
              "#fdca26"
             ],
             [
              1,
              "#f0f921"
             ]
            ],
            "type": "heatmap"
           }
          ],
          "heatmapgl": [
           {
            "colorbar": {
             "outlinewidth": 0,
             "ticks": ""
            },
            "colorscale": [
             [
              0,
              "#0d0887"
             ],
             [
              0.1111111111111111,
              "#46039f"
             ],
             [
              0.2222222222222222,
              "#7201a8"
             ],
             [
              0.3333333333333333,
              "#9c179e"
             ],
             [
              0.4444444444444444,
              "#bd3786"
             ],
             [
              0.5555555555555556,
              "#d8576b"
             ],
             [
              0.6666666666666666,
              "#ed7953"
             ],
             [
              0.7777777777777778,
              "#fb9f3a"
             ],
             [
              0.8888888888888888,
              "#fdca26"
             ],
             [
              1,
              "#f0f921"
             ]
            ],
            "type": "heatmapgl"
           }
          ],
          "histogram": [
           {
            "marker": {
             "pattern": {
              "fillmode": "overlay",
              "size": 10,
              "solidity": 0.2
             }
            },
            "type": "histogram"
           }
          ],
          "histogram2d": [
           {
            "colorbar": {
             "outlinewidth": 0,
             "ticks": ""
            },
            "colorscale": [
             [
              0,
              "#0d0887"
             ],
             [
              0.1111111111111111,
              "#46039f"
             ],
             [
              0.2222222222222222,
              "#7201a8"
             ],
             [
              0.3333333333333333,
              "#9c179e"
             ],
             [
              0.4444444444444444,
              "#bd3786"
             ],
             [
              0.5555555555555556,
              "#d8576b"
             ],
             [
              0.6666666666666666,
              "#ed7953"
             ],
             [
              0.7777777777777778,
              "#fb9f3a"
             ],
             [
              0.8888888888888888,
              "#fdca26"
             ],
             [
              1,
              "#f0f921"
             ]
            ],
            "type": "histogram2d"
           }
          ],
          "histogram2dcontour": [
           {
            "colorbar": {
             "outlinewidth": 0,
             "ticks": ""
            },
            "colorscale": [
             [
              0,
              "#0d0887"
             ],
             [
              0.1111111111111111,
              "#46039f"
             ],
             [
              0.2222222222222222,
              "#7201a8"
             ],
             [
              0.3333333333333333,
              "#9c179e"
             ],
             [
              0.4444444444444444,
              "#bd3786"
             ],
             [
              0.5555555555555556,
              "#d8576b"
             ],
             [
              0.6666666666666666,
              "#ed7953"
             ],
             [
              0.7777777777777778,
              "#fb9f3a"
             ],
             [
              0.8888888888888888,
              "#fdca26"
             ],
             [
              1,
              "#f0f921"
             ]
            ],
            "type": "histogram2dcontour"
           }
          ],
          "mesh3d": [
           {
            "colorbar": {
             "outlinewidth": 0,
             "ticks": ""
            },
            "type": "mesh3d"
           }
          ],
          "parcoords": [
           {
            "line": {
             "colorbar": {
              "outlinewidth": 0,
              "ticks": ""
             }
            },
            "type": "parcoords"
           }
          ],
          "pie": [
           {
            "automargin": true,
            "type": "pie"
           }
          ],
          "scatter": [
           {
            "fillpattern": {
             "fillmode": "overlay",
             "size": 10,
             "solidity": 0.2
            },
            "type": "scatter"
           }
          ],
          "scatter3d": [
           {
            "line": {
             "colorbar": {
              "outlinewidth": 0,
              "ticks": ""
             }
            },
            "marker": {
             "colorbar": {
              "outlinewidth": 0,
              "ticks": ""
             }
            },
            "type": "scatter3d"
           }
          ],
          "scattercarpet": [
           {
            "marker": {
             "colorbar": {
              "outlinewidth": 0,
              "ticks": ""
             }
            },
            "type": "scattercarpet"
           }
          ],
          "scattergeo": [
           {
            "marker": {
             "colorbar": {
              "outlinewidth": 0,
              "ticks": ""
             }
            },
            "type": "scattergeo"
           }
          ],
          "scattergl": [
           {
            "marker": {
             "colorbar": {
              "outlinewidth": 0,
              "ticks": ""
             }
            },
            "type": "scattergl"
           }
          ],
          "scattermapbox": [
           {
            "marker": {
             "colorbar": {
              "outlinewidth": 0,
              "ticks": ""
             }
            },
            "type": "scattermapbox"
           }
          ],
          "scatterpolar": [
           {
            "marker": {
             "colorbar": {
              "outlinewidth": 0,
              "ticks": ""
             }
            },
            "type": "scatterpolar"
           }
          ],
          "scatterpolargl": [
           {
            "marker": {
             "colorbar": {
              "outlinewidth": 0,
              "ticks": ""
             }
            },
            "type": "scatterpolargl"
           }
          ],
          "scatterternary": [
           {
            "marker": {
             "colorbar": {
              "outlinewidth": 0,
              "ticks": ""
             }
            },
            "type": "scatterternary"
           }
          ],
          "surface": [
           {
            "colorbar": {
             "outlinewidth": 0,
             "ticks": ""
            },
            "colorscale": [
             [
              0,
              "#0d0887"
             ],
             [
              0.1111111111111111,
              "#46039f"
             ],
             [
              0.2222222222222222,
              "#7201a8"
             ],
             [
              0.3333333333333333,
              "#9c179e"
             ],
             [
              0.4444444444444444,
              "#bd3786"
             ],
             [
              0.5555555555555556,
              "#d8576b"
             ],
             [
              0.6666666666666666,
              "#ed7953"
             ],
             [
              0.7777777777777778,
              "#fb9f3a"
             ],
             [
              0.8888888888888888,
              "#fdca26"
             ],
             [
              1,
              "#f0f921"
             ]
            ],
            "type": "surface"
           }
          ],
          "table": [
           {
            "cells": {
             "fill": {
              "color": "#EBF0F8"
             },
             "line": {
              "color": "white"
             }
            },
            "header": {
             "fill": {
              "color": "#C8D4E3"
             },
             "line": {
              "color": "white"
             }
            },
            "type": "table"
           }
          ]
         },
         "layout": {
          "annotationdefaults": {
           "arrowcolor": "#2a3f5f",
           "arrowhead": 0,
           "arrowwidth": 1
          },
          "autotypenumbers": "strict",
          "coloraxis": {
           "colorbar": {
            "outlinewidth": 0,
            "ticks": ""
           }
          },
          "colorscale": {
           "diverging": [
            [
             0,
             "#8e0152"
            ],
            [
             0.1,
             "#c51b7d"
            ],
            [
             0.2,
             "#de77ae"
            ],
            [
             0.3,
             "#f1b6da"
            ],
            [
             0.4,
             "#fde0ef"
            ],
            [
             0.5,
             "#f7f7f7"
            ],
            [
             0.6,
             "#e6f5d0"
            ],
            [
             0.7,
             "#b8e186"
            ],
            [
             0.8,
             "#7fbc41"
            ],
            [
             0.9,
             "#4d9221"
            ],
            [
             1,
             "#276419"
            ]
           ],
           "sequential": [
            [
             0,
             "#0d0887"
            ],
            [
             0.1111111111111111,
             "#46039f"
            ],
            [
             0.2222222222222222,
             "#7201a8"
            ],
            [
             0.3333333333333333,
             "#9c179e"
            ],
            [
             0.4444444444444444,
             "#bd3786"
            ],
            [
             0.5555555555555556,
             "#d8576b"
            ],
            [
             0.6666666666666666,
             "#ed7953"
            ],
            [
             0.7777777777777778,
             "#fb9f3a"
            ],
            [
             0.8888888888888888,
             "#fdca26"
            ],
            [
             1,
             "#f0f921"
            ]
           ],
           "sequentialminus": [
            [
             0,
             "#0d0887"
            ],
            [
             0.1111111111111111,
             "#46039f"
            ],
            [
             0.2222222222222222,
             "#7201a8"
            ],
            [
             0.3333333333333333,
             "#9c179e"
            ],
            [
             0.4444444444444444,
             "#bd3786"
            ],
            [
             0.5555555555555556,
             "#d8576b"
            ],
            [
             0.6666666666666666,
             "#ed7953"
            ],
            [
             0.7777777777777778,
             "#fb9f3a"
            ],
            [
             0.8888888888888888,
             "#fdca26"
            ],
            [
             1,
             "#f0f921"
            ]
           ]
          },
          "colorway": [
           "#636efa",
           "#EF553B",
           "#00cc96",
           "#ab63fa",
           "#FFA15A",
           "#19d3f3",
           "#FF6692",
           "#B6E880",
           "#FF97FF",
           "#FECB52"
          ],
          "font": {
           "color": "#2a3f5f"
          },
          "geo": {
           "bgcolor": "white",
           "lakecolor": "white",
           "landcolor": "#E5ECF6",
           "showlakes": true,
           "showland": true,
           "subunitcolor": "white"
          },
          "hoverlabel": {
           "align": "left"
          },
          "hovermode": "closest",
          "mapbox": {
           "style": "light"
          },
          "paper_bgcolor": "white",
          "plot_bgcolor": "#E5ECF6",
          "polar": {
           "angularaxis": {
            "gridcolor": "white",
            "linecolor": "white",
            "ticks": ""
           },
           "bgcolor": "#E5ECF6",
           "radialaxis": {
            "gridcolor": "white",
            "linecolor": "white",
            "ticks": ""
           }
          },
          "scene": {
           "xaxis": {
            "backgroundcolor": "#E5ECF6",
            "gridcolor": "white",
            "gridwidth": 2,
            "linecolor": "white",
            "showbackground": true,
            "ticks": "",
            "zerolinecolor": "white"
           },
           "yaxis": {
            "backgroundcolor": "#E5ECF6",
            "gridcolor": "white",
            "gridwidth": 2,
            "linecolor": "white",
            "showbackground": true,
            "ticks": "",
            "zerolinecolor": "white"
           },
           "zaxis": {
            "backgroundcolor": "#E5ECF6",
            "gridcolor": "white",
            "gridwidth": 2,
            "linecolor": "white",
            "showbackground": true,
            "ticks": "",
            "zerolinecolor": "white"
           }
          },
          "shapedefaults": {
           "line": {
            "color": "#2a3f5f"
           }
          },
          "ternary": {
           "aaxis": {
            "gridcolor": "white",
            "linecolor": "white",
            "ticks": ""
           },
           "baxis": {
            "gridcolor": "white",
            "linecolor": "white",
            "ticks": ""
           },
           "bgcolor": "#E5ECF6",
           "caxis": {
            "gridcolor": "white",
            "linecolor": "white",
            "ticks": ""
           }
          },
          "title": {
           "x": 0.05
          },
          "xaxis": {
           "automargin": true,
           "gridcolor": "white",
           "linecolor": "white",
           "ticks": "",
           "title": {
            "standoff": 15
           },
           "zerolinecolor": "white",
           "zerolinewidth": 2
          },
          "yaxis": {
           "automargin": true,
           "gridcolor": "white",
           "linecolor": "white",
           "ticks": "",
           "title": {
            "standoff": 15
           },
           "zerolinecolor": "white",
           "zerolinewidth": 2
          }
         }
        },
        "xaxis": {
         "anchor": "y",
         "domain": [
          0,
          1
         ],
         "title": {
          "text": "Date"
         }
        },
        "yaxis": {
         "anchor": "x",
         "domain": [
          0,
          1
         ],
         "title": {
          "text": "Open"
         }
        }
       }
      }
     },
     "metadata": {},
     "output_type": "display_data"
    }
   ],
   "source": [
    "fig = px.line(test['AOS'], x=test['AOS'].index, y=\"Open\")\n",
    "fig.show()"
   ]
  },
  {
   "cell_type": "code",
   "execution_count": 24,
   "metadata": {},
   "outputs": [
    {
     "data": {
      "application/vnd.plotly.v1+json": {
       "config": {
        "plotlyServerURL": "https://plot.ly"
       },
       "data": [
        {
         "mode": "lines",
         "name": "AOS",
         "type": "scatter",
         "x": [
          "2022-01-03T00:00:00-05:00",
          "2022-01-04T00:00:00-05:00",
          "2022-01-05T00:00:00-05:00",
          "2022-01-06T00:00:00-05:00",
          "2022-01-07T00:00:00-05:00",
          "2022-01-10T00:00:00-05:00",
          "2022-01-11T00:00:00-05:00",
          "2022-01-12T00:00:00-05:00",
          "2022-01-13T00:00:00-05:00",
          "2022-01-14T00:00:00-05:00",
          "2022-01-18T00:00:00-05:00",
          "2022-01-19T00:00:00-05:00",
          "2022-01-20T00:00:00-05:00",
          "2022-01-21T00:00:00-05:00",
          "2022-01-24T00:00:00-05:00",
          "2022-01-25T00:00:00-05:00",
          "2022-01-26T00:00:00-05:00",
          "2022-01-27T00:00:00-05:00",
          "2022-01-28T00:00:00-05:00",
          "2022-01-31T00:00:00-05:00",
          "2022-02-01T00:00:00-05:00",
          "2022-02-02T00:00:00-05:00",
          "2022-02-03T00:00:00-05:00",
          "2022-02-04T00:00:00-05:00",
          "2022-02-07T00:00:00-05:00",
          "2022-02-08T00:00:00-05:00",
          "2022-02-09T00:00:00-05:00",
          "2022-02-10T00:00:00-05:00",
          "2022-02-11T00:00:00-05:00",
          "2022-02-14T00:00:00-05:00",
          "2022-02-15T00:00:00-05:00",
          "2022-02-16T00:00:00-05:00",
          "2022-02-17T00:00:00-05:00",
          "2022-02-18T00:00:00-05:00",
          "2022-02-22T00:00:00-05:00",
          "2022-02-23T00:00:00-05:00",
          "2022-02-24T00:00:00-05:00",
          "2022-02-25T00:00:00-05:00",
          "2022-02-28T00:00:00-05:00",
          "2022-03-01T00:00:00-05:00",
          "2022-03-02T00:00:00-05:00",
          "2022-03-03T00:00:00-05:00",
          "2022-03-04T00:00:00-05:00",
          "2022-03-07T00:00:00-05:00",
          "2022-03-08T00:00:00-05:00",
          "2022-03-09T00:00:00-05:00",
          "2022-03-10T00:00:00-05:00",
          "2022-03-11T00:00:00-05:00",
          "2022-03-14T00:00:00-04:00",
          "2022-03-15T00:00:00-04:00",
          "2022-03-16T00:00:00-04:00",
          "2022-03-17T00:00:00-04:00",
          "2022-03-18T00:00:00-04:00",
          "2022-03-21T00:00:00-04:00",
          "2022-03-22T00:00:00-04:00",
          "2022-03-23T00:00:00-04:00",
          "2022-03-24T00:00:00-04:00",
          "2022-03-25T00:00:00-04:00",
          "2022-03-28T00:00:00-04:00",
          "2022-03-29T00:00:00-04:00",
          "2022-03-30T00:00:00-04:00",
          "2022-03-31T00:00:00-04:00",
          "2022-04-01T00:00:00-04:00",
          "2022-04-04T00:00:00-04:00",
          "2022-04-05T00:00:00-04:00",
          "2022-04-06T00:00:00-04:00",
          "2022-04-07T00:00:00-04:00",
          "2022-04-08T00:00:00-04:00",
          "2022-04-11T00:00:00-04:00",
          "2022-04-12T00:00:00-04:00",
          "2022-04-13T00:00:00-04:00",
          "2022-04-14T00:00:00-04:00",
          "2022-04-18T00:00:00-04:00",
          "2022-04-19T00:00:00-04:00",
          "2022-04-20T00:00:00-04:00",
          "2022-04-21T00:00:00-04:00",
          "2022-04-22T00:00:00-04:00",
          "2022-04-25T00:00:00-04:00",
          "2022-04-26T00:00:00-04:00",
          "2022-04-27T00:00:00-04:00",
          "2022-04-28T00:00:00-04:00",
          "2022-04-29T00:00:00-04:00",
          "2022-05-02T00:00:00-04:00",
          "2022-05-03T00:00:00-04:00",
          "2022-05-04T00:00:00-04:00",
          "2022-05-05T00:00:00-04:00",
          "2022-05-06T00:00:00-04:00",
          "2022-05-09T00:00:00-04:00",
          "2022-05-10T00:00:00-04:00",
          "2022-05-11T00:00:00-04:00",
          "2022-05-12T00:00:00-04:00",
          "2022-05-13T00:00:00-04:00",
          "2022-05-16T00:00:00-04:00",
          "2022-05-17T00:00:00-04:00",
          "2022-05-18T00:00:00-04:00",
          "2022-05-19T00:00:00-04:00",
          "2022-05-20T00:00:00-04:00",
          "2022-05-23T00:00:00-04:00",
          "2022-05-24T00:00:00-04:00",
          "2022-05-25T00:00:00-04:00",
          "2022-05-26T00:00:00-04:00",
          "2022-05-27T00:00:00-04:00",
          "2022-05-31T00:00:00-04:00",
          "2022-06-01T00:00:00-04:00",
          "2022-06-02T00:00:00-04:00",
          "2022-06-03T00:00:00-04:00",
          "2022-06-06T00:00:00-04:00",
          "2022-06-07T00:00:00-04:00",
          "2022-06-08T00:00:00-04:00",
          "2022-06-09T00:00:00-04:00",
          "2022-06-10T00:00:00-04:00",
          "2022-06-13T00:00:00-04:00",
          "2022-06-14T00:00:00-04:00",
          "2022-06-15T00:00:00-04:00",
          "2022-06-16T00:00:00-04:00",
          "2022-06-17T00:00:00-04:00",
          "2022-06-21T00:00:00-04:00",
          "2022-06-22T00:00:00-04:00",
          "2022-06-23T00:00:00-04:00",
          "2022-06-24T00:00:00-04:00",
          "2022-06-27T00:00:00-04:00",
          "2022-06-28T00:00:00-04:00",
          "2022-06-29T00:00:00-04:00",
          "2022-06-30T00:00:00-04:00",
          "2022-07-01T00:00:00-04:00",
          "2022-07-05T00:00:00-04:00",
          "2022-07-06T00:00:00-04:00",
          "2022-07-07T00:00:00-04:00",
          "2022-07-08T00:00:00-04:00",
          "2022-07-11T00:00:00-04:00",
          "2022-07-12T00:00:00-04:00",
          "2022-07-13T00:00:00-04:00",
          "2022-07-14T00:00:00-04:00",
          "2022-07-15T00:00:00-04:00",
          "2022-07-18T00:00:00-04:00",
          "2022-07-19T00:00:00-04:00",
          "2022-07-20T00:00:00-04:00",
          "2022-07-21T00:00:00-04:00",
          "2022-07-22T00:00:00-04:00",
          "2022-07-25T00:00:00-04:00",
          "2022-07-26T00:00:00-04:00",
          "2022-07-27T00:00:00-04:00",
          "2022-07-28T00:00:00-04:00",
          "2022-07-29T00:00:00-04:00",
          "2022-08-01T00:00:00-04:00",
          "2022-08-02T00:00:00-04:00",
          "2022-08-03T00:00:00-04:00",
          "2022-08-04T00:00:00-04:00",
          "2022-08-05T00:00:00-04:00",
          "2022-08-08T00:00:00-04:00",
          "2022-08-09T00:00:00-04:00",
          "2022-08-10T00:00:00-04:00",
          "2022-08-11T00:00:00-04:00",
          "2022-08-12T00:00:00-04:00",
          "2022-08-15T00:00:00-04:00",
          "2022-08-16T00:00:00-04:00",
          "2022-08-17T00:00:00-04:00",
          "2022-08-18T00:00:00-04:00",
          "2022-08-19T00:00:00-04:00",
          "2022-08-22T00:00:00-04:00",
          "2022-08-23T00:00:00-04:00",
          "2022-08-24T00:00:00-04:00",
          "2022-08-25T00:00:00-04:00",
          "2022-08-26T00:00:00-04:00",
          "2022-08-29T00:00:00-04:00",
          "2022-08-30T00:00:00-04:00",
          "2022-08-31T00:00:00-04:00",
          "2022-09-01T00:00:00-04:00",
          "2022-09-02T00:00:00-04:00",
          "2022-09-06T00:00:00-04:00",
          "2022-09-07T00:00:00-04:00",
          "2022-09-08T00:00:00-04:00",
          "2022-09-09T00:00:00-04:00",
          "2022-09-12T00:00:00-04:00",
          "2022-09-13T00:00:00-04:00",
          "2022-09-14T00:00:00-04:00",
          "2022-09-15T00:00:00-04:00",
          "2022-09-16T00:00:00-04:00",
          "2022-09-19T00:00:00-04:00",
          "2022-09-20T00:00:00-04:00",
          "2022-09-21T00:00:00-04:00",
          "2022-09-22T00:00:00-04:00",
          "2022-09-23T00:00:00-04:00",
          "2022-09-26T00:00:00-04:00",
          "2022-09-27T00:00:00-04:00",
          "2022-09-28T00:00:00-04:00",
          "2022-09-29T00:00:00-04:00",
          "2022-09-30T00:00:00-04:00",
          "2022-10-03T00:00:00-04:00",
          "2022-10-04T00:00:00-04:00",
          "2022-10-05T00:00:00-04:00",
          "2022-10-06T00:00:00-04:00",
          "2022-10-07T00:00:00-04:00",
          "2022-10-10T00:00:00-04:00",
          "2022-10-11T00:00:00-04:00",
          "2022-10-12T00:00:00-04:00",
          "2022-10-13T00:00:00-04:00",
          "2022-10-14T00:00:00-04:00",
          "2022-10-17T00:00:00-04:00",
          "2022-10-18T00:00:00-04:00",
          "2022-10-19T00:00:00-04:00",
          "2022-10-20T00:00:00-04:00",
          "2022-10-21T00:00:00-04:00",
          "2022-10-24T00:00:00-04:00",
          "2022-10-25T00:00:00-04:00",
          "2022-10-26T00:00:00-04:00",
          "2022-10-27T00:00:00-04:00",
          "2022-10-28T00:00:00-04:00"
         ],
         "y": [
          84.25868971291176,
          82.22681680358404,
          83.44398193295622,
          82.35443802705761,
          82.77651083327021,
          81.43175493714836,
          81.88327081015906,
          82.68815785912304,
          82.55073634763197,
          80.4894347988835,
          78.03549101290281,
          79.58638572915787,
          78.56553149862137,
          76.78889075516794,
          74.2073234571105,
          75.66987933867033,
          75.19872670364452,
          75.5913629344557,
          74.2852385137446,
          74.13744586194689,
          75.79262183110407,
          74.27538148525903,
          73.41824894444487,
          72.6399331631197,
          72.52169393334432,
          72.94534820756805,
          73.96996857498122,
          72.16701800644765,
          71.42811550204007,
          70.11777710724876,
          71.07344138121137,
          71.11284864207761,
          70.79757956743693,
          69.85177873441924,
          69.7532494879877,
          69.35916121580047,
          65.4577127650206,
          66.91582225309561,
          67.30991246080532,
          67.50695391071983,
          66.314843142877,
          68.31482713511653,
          66.75819278127915,
          67.46755285615177,
          66.67937743508813,
          66.81730424147496,
          65.69416314156128,
          66.1867733152684,
          65.2803772790967,
          65.13258463598319,
          65.54637546048687,
          65.92076303565409,
          67.16212055333727,
          66.95523440620023,
          67.33946369302738,
          66.22618093727118,
          64.63012586021756,
          65.50696697859068,
          65.81239091772302,
          66.37395604026743,
          66.12766321231348,
          65.26065847267459,
          63.66462455585313,
          64.84686999780408,
          65.66460651442802,
          63.68431842027682,
          63.33949400987648,
          62.52176410452228,
          61.654777714603654,
          62.886295158530636,
          63.4478671948384,
          64.147373486515,
          62.73851110524878,
          62.78777750924005,
          65.0242108410124,
          65.97001664216285,
          64.80746561201092,
          63.62521273379085,
          63.14244762283777,
          61.67448027651203,
          61.61382500030441,
          59.11998325544254,
          57.724615053063154,
          58.58558625942939,
          58.06108278238944,
          60.32731619726972,
          58.110569267818576,
          58.090772894652225,
          59.63458291026252,
          58.40745097382162,
          56.457895768249884,
          58.75382321745151,
          58.912157501224684,
          59.347594669383454,
          58.73402517329269,
          56.63602927799991,
          58.28869858920717,
          57.892850138337515,
          57.714716406862856,
          57.36835399845171,
          58.10067002903344,
          59.20905205837995,
          60.00074554927487,
          59.58510116332167,
          60.41638289886379,
          59.97105396665338,
          60.94088362308435,
          60.55493021436587,
          60.733063544858986,
          60.198671665222385,
          59.22883980164309,
          56.17090658851337,
          55.4781772851444,
          55.26045662676587,
          54.35000412817094,
          53.06349735718827,
          52.92494882427923,
          51.49989741744677,
          52.479620995293736,
          54.12239221316275,
          55.45838188425726,
          55.3594180133467,
          54.6963740186639,
          53.23173678233216,
          54.42917374050309,
          54.59740813610014,
          57.39803760280629,
          57.66524016395327,
          58.89236618986134,
          56.03236178427858,
          56.24018754513738,
          54.54793038236505,
          53.43955494964536,
          54.7953319959981,
          56.14121898727917,
          55.68599568341387,
          56.91312280926707,
          57.33866084379646,
          58.43714129383072,
          58.26890876647354,
          58.16005167036247,
          58.67465160855603,
          61.532254220701056,
          60.84624342645159,
          61.62173552471502,
          61.303584360333346,
          60.3590765423287,
          61.00531742212582,
          60.16023016159887,
          60.63745801001967,
          60.81641660134166,
          60.975493062278154,
          61.770868026172955,
          62.20832391444537,
          63.182659534949856,
          63.32184900055676,
          63.30196476560878,
          64.16693659388066,
          63.41132900714187,
          61.39306247302669,
          60.85618581602478,
          60.32924758528347,
          60.90589470490739,
          60.915838605406655,
          57.575259366376876,
          57.664739372292345,
          57.098033976004224,
          55.72601185363635,
          56.89919025147452,
          56.00439557299426,
          55.49734204943701,
          56.35236967401555,
          56.86936606312305,
          56.3722568521978,
          54.55283148664975,
          53.78728114937882,
          51.967860920954756,
          52.156763840074625,
          51.261965732062016,
          51.68948069895274,
          51.520463534178056,
          50.61572281383612,
          49.71098482725845,
          49.41271807602749,
          49.81040281609071,
          49.45248737007729,
          49.56184722396978,
          48.45826933455015,
          48.756531933262,
          51.092948235726226,
          51.25202269393309,
          50.913987840388984,
          49.94959905867951,
          49.61156123422644,
          49.293410761808104,
          48.955376883016235,
          47.25525793670765,
          48.865899349293386,
          49.79052119582106,
          52.31583731251428,
          50.904046734459605,
          50.54612814700808,
          48.786358639275626,
          50.118614031083446,
          50.566013114637805,
          51.81872712902369,
          52.763237479965476,
          51.959999084472656
         ]
        },
        {
         "mode": "lines",
         "name": "MMM",
         "type": "scatter",
         "x": [
          "2022-01-03T00:00:00-05:00",
          "2022-01-04T00:00:00-05:00",
          "2022-01-05T00:00:00-05:00",
          "2022-01-06T00:00:00-05:00",
          "2022-01-07T00:00:00-05:00",
          "2022-01-10T00:00:00-05:00",
          "2022-01-11T00:00:00-05:00",
          "2022-01-12T00:00:00-05:00",
          "2022-01-13T00:00:00-05:00",
          "2022-01-14T00:00:00-05:00",
          "2022-01-18T00:00:00-05:00",
          "2022-01-19T00:00:00-05:00",
          "2022-01-20T00:00:00-05:00",
          "2022-01-21T00:00:00-05:00",
          "2022-01-24T00:00:00-05:00",
          "2022-01-25T00:00:00-05:00",
          "2022-01-26T00:00:00-05:00",
          "2022-01-27T00:00:00-05:00",
          "2022-01-28T00:00:00-05:00",
          "2022-01-31T00:00:00-05:00",
          "2022-02-01T00:00:00-05:00",
          "2022-02-02T00:00:00-05:00",
          "2022-02-03T00:00:00-05:00",
          "2022-02-04T00:00:00-05:00",
          "2022-02-07T00:00:00-05:00",
          "2022-02-08T00:00:00-05:00",
          "2022-02-09T00:00:00-05:00",
          "2022-02-10T00:00:00-05:00",
          "2022-02-11T00:00:00-05:00",
          "2022-02-14T00:00:00-05:00",
          "2022-02-15T00:00:00-05:00",
          "2022-02-16T00:00:00-05:00",
          "2022-02-17T00:00:00-05:00",
          "2022-02-18T00:00:00-05:00",
          "2022-02-22T00:00:00-05:00",
          "2022-02-23T00:00:00-05:00",
          "2022-02-24T00:00:00-05:00",
          "2022-02-25T00:00:00-05:00",
          "2022-02-28T00:00:00-05:00",
          "2022-03-01T00:00:00-05:00",
          "2022-03-02T00:00:00-05:00",
          "2022-03-03T00:00:00-05:00",
          "2022-03-04T00:00:00-05:00",
          "2022-03-07T00:00:00-05:00",
          "2022-03-08T00:00:00-05:00",
          "2022-03-09T00:00:00-05:00",
          "2022-03-10T00:00:00-05:00",
          "2022-03-11T00:00:00-05:00",
          "2022-03-14T00:00:00-04:00",
          "2022-03-15T00:00:00-04:00",
          "2022-03-16T00:00:00-04:00",
          "2022-03-17T00:00:00-04:00",
          "2022-03-18T00:00:00-04:00",
          "2022-03-21T00:00:00-04:00",
          "2022-03-22T00:00:00-04:00",
          "2022-03-23T00:00:00-04:00",
          "2022-03-24T00:00:00-04:00",
          "2022-03-25T00:00:00-04:00",
          "2022-03-28T00:00:00-04:00",
          "2022-03-29T00:00:00-04:00",
          "2022-03-30T00:00:00-04:00",
          "2022-03-31T00:00:00-04:00",
          "2022-04-01T00:00:00-04:00",
          "2022-04-04T00:00:00-04:00",
          "2022-04-05T00:00:00-04:00",
          "2022-04-06T00:00:00-04:00",
          "2022-04-07T00:00:00-04:00",
          "2022-04-08T00:00:00-04:00",
          "2022-04-11T00:00:00-04:00",
          "2022-04-12T00:00:00-04:00",
          "2022-04-13T00:00:00-04:00",
          "2022-04-14T00:00:00-04:00",
          "2022-04-18T00:00:00-04:00",
          "2022-04-19T00:00:00-04:00",
          "2022-04-20T00:00:00-04:00",
          "2022-04-21T00:00:00-04:00",
          "2022-04-22T00:00:00-04:00",
          "2022-04-25T00:00:00-04:00",
          "2022-04-26T00:00:00-04:00",
          "2022-04-27T00:00:00-04:00",
          "2022-04-28T00:00:00-04:00",
          "2022-04-29T00:00:00-04:00",
          "2022-05-02T00:00:00-04:00",
          "2022-05-03T00:00:00-04:00",
          "2022-05-04T00:00:00-04:00",
          "2022-05-05T00:00:00-04:00",
          "2022-05-06T00:00:00-04:00",
          "2022-05-09T00:00:00-04:00",
          "2022-05-10T00:00:00-04:00",
          "2022-05-11T00:00:00-04:00",
          "2022-05-12T00:00:00-04:00",
          "2022-05-13T00:00:00-04:00",
          "2022-05-16T00:00:00-04:00",
          "2022-05-17T00:00:00-04:00",
          "2022-05-18T00:00:00-04:00",
          "2022-05-19T00:00:00-04:00",
          "2022-05-20T00:00:00-04:00",
          "2022-05-23T00:00:00-04:00",
          "2022-05-24T00:00:00-04:00",
          "2022-05-25T00:00:00-04:00",
          "2022-05-26T00:00:00-04:00",
          "2022-05-27T00:00:00-04:00",
          "2022-05-31T00:00:00-04:00",
          "2022-06-01T00:00:00-04:00",
          "2022-06-02T00:00:00-04:00",
          "2022-06-03T00:00:00-04:00",
          "2022-06-06T00:00:00-04:00",
          "2022-06-07T00:00:00-04:00",
          "2022-06-08T00:00:00-04:00",
          "2022-06-09T00:00:00-04:00",
          "2022-06-10T00:00:00-04:00",
          "2022-06-13T00:00:00-04:00",
          "2022-06-14T00:00:00-04:00",
          "2022-06-15T00:00:00-04:00",
          "2022-06-16T00:00:00-04:00",
          "2022-06-17T00:00:00-04:00",
          "2022-06-21T00:00:00-04:00",
          "2022-06-22T00:00:00-04:00",
          "2022-06-23T00:00:00-04:00",
          "2022-06-24T00:00:00-04:00",
          "2022-06-27T00:00:00-04:00",
          "2022-06-28T00:00:00-04:00",
          "2022-06-29T00:00:00-04:00",
          "2022-06-30T00:00:00-04:00",
          "2022-07-01T00:00:00-04:00",
          "2022-07-05T00:00:00-04:00",
          "2022-07-06T00:00:00-04:00",
          "2022-07-07T00:00:00-04:00",
          "2022-07-08T00:00:00-04:00",
          "2022-07-11T00:00:00-04:00",
          "2022-07-12T00:00:00-04:00",
          "2022-07-13T00:00:00-04:00",
          "2022-07-14T00:00:00-04:00",
          "2022-07-15T00:00:00-04:00",
          "2022-07-18T00:00:00-04:00",
          "2022-07-19T00:00:00-04:00",
          "2022-07-20T00:00:00-04:00",
          "2022-07-21T00:00:00-04:00",
          "2022-07-22T00:00:00-04:00",
          "2022-07-25T00:00:00-04:00",
          "2022-07-26T00:00:00-04:00",
          "2022-07-27T00:00:00-04:00",
          "2022-07-28T00:00:00-04:00",
          "2022-07-29T00:00:00-04:00",
          "2022-08-01T00:00:00-04:00",
          "2022-08-02T00:00:00-04:00",
          "2022-08-03T00:00:00-04:00",
          "2022-08-04T00:00:00-04:00",
          "2022-08-05T00:00:00-04:00",
          "2022-08-08T00:00:00-04:00",
          "2022-08-09T00:00:00-04:00",
          "2022-08-10T00:00:00-04:00",
          "2022-08-11T00:00:00-04:00",
          "2022-08-12T00:00:00-04:00",
          "2022-08-15T00:00:00-04:00",
          "2022-08-16T00:00:00-04:00",
          "2022-08-17T00:00:00-04:00",
          "2022-08-18T00:00:00-04:00",
          "2022-08-19T00:00:00-04:00",
          "2022-08-22T00:00:00-04:00",
          "2022-08-23T00:00:00-04:00",
          "2022-08-24T00:00:00-04:00",
          "2022-08-25T00:00:00-04:00",
          "2022-08-26T00:00:00-04:00",
          "2022-08-29T00:00:00-04:00",
          "2022-08-30T00:00:00-04:00",
          "2022-08-31T00:00:00-04:00",
          "2022-09-01T00:00:00-04:00",
          "2022-09-02T00:00:00-04:00",
          "2022-09-06T00:00:00-04:00",
          "2022-09-07T00:00:00-04:00",
          "2022-09-08T00:00:00-04:00",
          "2022-09-09T00:00:00-04:00",
          "2022-09-12T00:00:00-04:00",
          "2022-09-13T00:00:00-04:00",
          "2022-09-14T00:00:00-04:00",
          "2022-09-15T00:00:00-04:00",
          "2022-09-16T00:00:00-04:00",
          "2022-09-19T00:00:00-04:00",
          "2022-09-20T00:00:00-04:00",
          "2022-09-21T00:00:00-04:00",
          "2022-09-22T00:00:00-04:00",
          "2022-09-23T00:00:00-04:00",
          "2022-09-26T00:00:00-04:00",
          "2022-09-27T00:00:00-04:00",
          "2022-09-28T00:00:00-04:00",
          "2022-09-29T00:00:00-04:00",
          "2022-09-30T00:00:00-04:00",
          "2022-10-03T00:00:00-04:00",
          "2022-10-04T00:00:00-04:00",
          "2022-10-05T00:00:00-04:00",
          "2022-10-06T00:00:00-04:00",
          "2022-10-07T00:00:00-04:00",
          "2022-10-10T00:00:00-04:00",
          "2022-10-11T00:00:00-04:00",
          "2022-10-12T00:00:00-04:00",
          "2022-10-13T00:00:00-04:00",
          "2022-10-14T00:00:00-04:00",
          "2022-10-17T00:00:00-04:00",
          "2022-10-18T00:00:00-04:00",
          "2022-10-19T00:00:00-04:00",
          "2022-10-20T00:00:00-04:00",
          "2022-10-21T00:00:00-04:00",
          "2022-10-24T00:00:00-04:00",
          "2022-10-25T00:00:00-04:00",
          "2022-10-26T00:00:00-04:00",
          "2022-10-27T00:00:00-04:00",
          "2022-10-28T00:00:00-04:00"
         ],
         "y": [
          173.0697149449214,
          173.22497226752782,
          171.9147463814622,
          175.55431780550796,
          172.8852820034167,
          174.16642236171592,
          172.75912451821807,
          173.72966650675355,
          174.58376661630118,
          175.53490108884213,
          172.93382217478106,
          174.53523320539284,
          173.322033130933,
          168.29455277325926,
          166.79989347003215,
          168.4207231418317,
          169.14864604925603,
          164.12117544862915,
          163.43206003449995,
          157.90958041581374,
          160.71449944917103,
          162.85944018305798,
          161.36477172122457,
          158.96749052684459,
          156.01700476414675,
          156.67697175742975,
          158.7345528644572,
          157.2399118361037,
          155.44439143666017,
          154.65823869794295,
          154.04677053226465,
          152.3774180910033,
          147.82376754668243,
          145.22692034877625,
          145.22692324572245,
          143.8060009059311,
          139.24930663050995,
          141.51295290048662,
          146.29505267193852,
          145.5992974802427,
          142.68888429259556,
          145.54050837705216,
          143.22785016298585,
          142.81628031933815,
          142.3262991782615,
          144.89372915487758,
          142.42428919777575,
          140.59181248994759,
          138.61233380140692,
          141.96372609222436,
          141.8559272891863,
          142.39489856337144,
          144.1195895831781,
          145.7070827919092,
          146.45184671273498,
          146.68704809833176,
          145.148524042712,
          146.27545986278906,
          146.92221427146492,
          147.9707476334981,
          148.29413545620127,
          147.4317914493534,
          146.62823304773423,
          146.06967050231665,
          145.66788762960502,
          144.37437089518275,
          146.39303970677156,
          147.97075600726345,
          147.431780015084,
          148.30391427844617,
          145.54051302516694,
          145.66788174414557,
          144.49196289858475,
          143.9040053491683,
          147.78455744332493,
          148.93109004745466,
          147.77478006972123,
          145.72669033924768,
          142.49289646648515,
          141.8755434449734,
          141.84613363812196,
          144.34498009600418,
          141.61094117958862,
          143.2768485797162,
          146.010880111504,
          150.09721911436358,
          146.2754642229679,
          145.46211320019313,
          150.91056969967852,
          146.98102195742112,
          143.64921876391787,
          147.19660317942225,
          146.22645358960347,
          148.94088967658752,
          148.5489012251147,
          144.71487362300672,
          146.0412623873728,
          143.1113259303447,
          142.8836672442612,
          143.95269258574606,
          145.2494004664062,
          146.70445920354715,
          146.76385546316854,
          147.81307566751636,
          146.021474765324,
          145.50674901137222,
          144.90294149709044,
          143.96260042734278,
          144.0813720496328,
          144.0318845613451,
          140.5575423205554,
          135.3410696162305,
          135.2915651060627,
          134.38092066082228,
          131.20353977586325,
          129.44161786720295,
          129.01598067148308,
          127.4619313147462,
          128.8873145754306,
          130.19389397212112,
          133.04465005131354,
          132.5002287284889,
          128.6794416249922,
          127.40254224105614,
          128.0954366193047,
          125.6901179792649,
          128.18451453803968,
          128.80811676783736,
          128.50126945821222,
          127.42233128181331,
          127.84796683317829,
          126.6997500016641,
          125.6901155666827,
          128.5507521881993,
          128.8675059350878,
          129.07537396733528,
          130.77790060909714,
          131.68855000499556,
          133.28219858850127,
          132.63880742979728,
          142.05219419269622,
          138.20170670051397,
          138.4788649319777,
          139.3400322113178,
          140.70600185120458,
          141.1415373319415,
          140.4585496789036,
          142.03241415555948,
          145.51663661780842,
          146.52628440380332,
          146.80343792332317,
          148.35750026722036,
          148.47626731244463,
          148.84251270953362,
          149.85215186464268,
          148.94150074843725,
          146.93212295680215,
          145.90267448303464,
          144.61000061035156,
          143.27999877929688,
          141,
          140.91000366210938,
          141.07000732421875,
          143.63999938964844,
          128.7899932861328,
          126.88999938964844,
          124.8499984741211,
          124.30000305175781,
          126.02999877929688,
          121.36000061035156,
          116.63999938964844,
          118.38999938964844,
          121.2699966430664,
          124.31999969482422,
          122.11000061035156,
          120.58999633789062,
          117.81999969482422,
          114.69999694824219,
          116.01000213623047,
          115.30000305175781,
          116.83000183105469,
          114.16000366210938,
          113.7300033569336,
          112.76000213623047,
          114.12999725341797,
          113.51000213623047,
          112.95999908447266,
          112,
          111.69000244140625,
          114.73999786376953,
          114.33999633789062,
          114.3499984741211,
          110.37000274658203,
          108.52999877929688,
          108.5,
          108.56999969482422,
          107.5,
          114.26000213623047,
          115.30999755859375,
          115.73999786376953,
          115.0999984741211,
          113.9800033569336,
          113.1500015258789,
          117.52999877929688,
          113.51000213623047,
          119.58999633789062,
          123.48999786376953,
          122.9800033569336
         ]
        }
       ],
       "layout": {
        "template": {
         "data": {
          "bar": [
           {
            "error_x": {
             "color": "#2a3f5f"
            },
            "error_y": {
             "color": "#2a3f5f"
            },
            "marker": {
             "line": {
              "color": "#E5ECF6",
              "width": 0.5
             },
             "pattern": {
              "fillmode": "overlay",
              "size": 10,
              "solidity": 0.2
             }
            },
            "type": "bar"
           }
          ],
          "barpolar": [
           {
            "marker": {
             "line": {
              "color": "#E5ECF6",
              "width": 0.5
             },
             "pattern": {
              "fillmode": "overlay",
              "size": 10,
              "solidity": 0.2
             }
            },
            "type": "barpolar"
           }
          ],
          "carpet": [
           {
            "aaxis": {
             "endlinecolor": "#2a3f5f",
             "gridcolor": "white",
             "linecolor": "white",
             "minorgridcolor": "white",
             "startlinecolor": "#2a3f5f"
            },
            "baxis": {
             "endlinecolor": "#2a3f5f",
             "gridcolor": "white",
             "linecolor": "white",
             "minorgridcolor": "white",
             "startlinecolor": "#2a3f5f"
            },
            "type": "carpet"
           }
          ],
          "choropleth": [
           {
            "colorbar": {
             "outlinewidth": 0,
             "ticks": ""
            },
            "type": "choropleth"
           }
          ],
          "contour": [
           {
            "colorbar": {
             "outlinewidth": 0,
             "ticks": ""
            },
            "colorscale": [
             [
              0,
              "#0d0887"
             ],
             [
              0.1111111111111111,
              "#46039f"
             ],
             [
              0.2222222222222222,
              "#7201a8"
             ],
             [
              0.3333333333333333,
              "#9c179e"
             ],
             [
              0.4444444444444444,
              "#bd3786"
             ],
             [
              0.5555555555555556,
              "#d8576b"
             ],
             [
              0.6666666666666666,
              "#ed7953"
             ],
             [
              0.7777777777777778,
              "#fb9f3a"
             ],
             [
              0.8888888888888888,
              "#fdca26"
             ],
             [
              1,
              "#f0f921"
             ]
            ],
            "type": "contour"
           }
          ],
          "contourcarpet": [
           {
            "colorbar": {
             "outlinewidth": 0,
             "ticks": ""
            },
            "type": "contourcarpet"
           }
          ],
          "heatmap": [
           {
            "colorbar": {
             "outlinewidth": 0,
             "ticks": ""
            },
            "colorscale": [
             [
              0,
              "#0d0887"
             ],
             [
              0.1111111111111111,
              "#46039f"
             ],
             [
              0.2222222222222222,
              "#7201a8"
             ],
             [
              0.3333333333333333,
              "#9c179e"
             ],
             [
              0.4444444444444444,
              "#bd3786"
             ],
             [
              0.5555555555555556,
              "#d8576b"
             ],
             [
              0.6666666666666666,
              "#ed7953"
             ],
             [
              0.7777777777777778,
              "#fb9f3a"
             ],
             [
              0.8888888888888888,
              "#fdca26"
             ],
             [
              1,
              "#f0f921"
             ]
            ],
            "type": "heatmap"
           }
          ],
          "heatmapgl": [
           {
            "colorbar": {
             "outlinewidth": 0,
             "ticks": ""
            },
            "colorscale": [
             [
              0,
              "#0d0887"
             ],
             [
              0.1111111111111111,
              "#46039f"
             ],
             [
              0.2222222222222222,
              "#7201a8"
             ],
             [
              0.3333333333333333,
              "#9c179e"
             ],
             [
              0.4444444444444444,
              "#bd3786"
             ],
             [
              0.5555555555555556,
              "#d8576b"
             ],
             [
              0.6666666666666666,
              "#ed7953"
             ],
             [
              0.7777777777777778,
              "#fb9f3a"
             ],
             [
              0.8888888888888888,
              "#fdca26"
             ],
             [
              1,
              "#f0f921"
             ]
            ],
            "type": "heatmapgl"
           }
          ],
          "histogram": [
           {
            "marker": {
             "pattern": {
              "fillmode": "overlay",
              "size": 10,
              "solidity": 0.2
             }
            },
            "type": "histogram"
           }
          ],
          "histogram2d": [
           {
            "colorbar": {
             "outlinewidth": 0,
             "ticks": ""
            },
            "colorscale": [
             [
              0,
              "#0d0887"
             ],
             [
              0.1111111111111111,
              "#46039f"
             ],
             [
              0.2222222222222222,
              "#7201a8"
             ],
             [
              0.3333333333333333,
              "#9c179e"
             ],
             [
              0.4444444444444444,
              "#bd3786"
             ],
             [
              0.5555555555555556,
              "#d8576b"
             ],
             [
              0.6666666666666666,
              "#ed7953"
             ],
             [
              0.7777777777777778,
              "#fb9f3a"
             ],
             [
              0.8888888888888888,
              "#fdca26"
             ],
             [
              1,
              "#f0f921"
             ]
            ],
            "type": "histogram2d"
           }
          ],
          "histogram2dcontour": [
           {
            "colorbar": {
             "outlinewidth": 0,
             "ticks": ""
            },
            "colorscale": [
             [
              0,
              "#0d0887"
             ],
             [
              0.1111111111111111,
              "#46039f"
             ],
             [
              0.2222222222222222,
              "#7201a8"
             ],
             [
              0.3333333333333333,
              "#9c179e"
             ],
             [
              0.4444444444444444,
              "#bd3786"
             ],
             [
              0.5555555555555556,
              "#d8576b"
             ],
             [
              0.6666666666666666,
              "#ed7953"
             ],
             [
              0.7777777777777778,
              "#fb9f3a"
             ],
             [
              0.8888888888888888,
              "#fdca26"
             ],
             [
              1,
              "#f0f921"
             ]
            ],
            "type": "histogram2dcontour"
           }
          ],
          "mesh3d": [
           {
            "colorbar": {
             "outlinewidth": 0,
             "ticks": ""
            },
            "type": "mesh3d"
           }
          ],
          "parcoords": [
           {
            "line": {
             "colorbar": {
              "outlinewidth": 0,
              "ticks": ""
             }
            },
            "type": "parcoords"
           }
          ],
          "pie": [
           {
            "automargin": true,
            "type": "pie"
           }
          ],
          "scatter": [
           {
            "fillpattern": {
             "fillmode": "overlay",
             "size": 10,
             "solidity": 0.2
            },
            "type": "scatter"
           }
          ],
          "scatter3d": [
           {
            "line": {
             "colorbar": {
              "outlinewidth": 0,
              "ticks": ""
             }
            },
            "marker": {
             "colorbar": {
              "outlinewidth": 0,
              "ticks": ""
             }
            },
            "type": "scatter3d"
           }
          ],
          "scattercarpet": [
           {
            "marker": {
             "colorbar": {
              "outlinewidth": 0,
              "ticks": ""
             }
            },
            "type": "scattercarpet"
           }
          ],
          "scattergeo": [
           {
            "marker": {
             "colorbar": {
              "outlinewidth": 0,
              "ticks": ""
             }
            },
            "type": "scattergeo"
           }
          ],
          "scattergl": [
           {
            "marker": {
             "colorbar": {
              "outlinewidth": 0,
              "ticks": ""
             }
            },
            "type": "scattergl"
           }
          ],
          "scattermapbox": [
           {
            "marker": {
             "colorbar": {
              "outlinewidth": 0,
              "ticks": ""
             }
            },
            "type": "scattermapbox"
           }
          ],
          "scatterpolar": [
           {
            "marker": {
             "colorbar": {
              "outlinewidth": 0,
              "ticks": ""
             }
            },
            "type": "scatterpolar"
           }
          ],
          "scatterpolargl": [
           {
            "marker": {
             "colorbar": {
              "outlinewidth": 0,
              "ticks": ""
             }
            },
            "type": "scatterpolargl"
           }
          ],
          "scatterternary": [
           {
            "marker": {
             "colorbar": {
              "outlinewidth": 0,
              "ticks": ""
             }
            },
            "type": "scatterternary"
           }
          ],
          "surface": [
           {
            "colorbar": {
             "outlinewidth": 0,
             "ticks": ""
            },
            "colorscale": [
             [
              0,
              "#0d0887"
             ],
             [
              0.1111111111111111,
              "#46039f"
             ],
             [
              0.2222222222222222,
              "#7201a8"
             ],
             [
              0.3333333333333333,
              "#9c179e"
             ],
             [
              0.4444444444444444,
              "#bd3786"
             ],
             [
              0.5555555555555556,
              "#d8576b"
             ],
             [
              0.6666666666666666,
              "#ed7953"
             ],
             [
              0.7777777777777778,
              "#fb9f3a"
             ],
             [
              0.8888888888888888,
              "#fdca26"
             ],
             [
              1,
              "#f0f921"
             ]
            ],
            "type": "surface"
           }
          ],
          "table": [
           {
            "cells": {
             "fill": {
              "color": "#EBF0F8"
             },
             "line": {
              "color": "white"
             }
            },
            "header": {
             "fill": {
              "color": "#C8D4E3"
             },
             "line": {
              "color": "white"
             }
            },
            "type": "table"
           }
          ]
         },
         "layout": {
          "annotationdefaults": {
           "arrowcolor": "#2a3f5f",
           "arrowhead": 0,
           "arrowwidth": 1
          },
          "autotypenumbers": "strict",
          "coloraxis": {
           "colorbar": {
            "outlinewidth": 0,
            "ticks": ""
           }
          },
          "colorscale": {
           "diverging": [
            [
             0,
             "#8e0152"
            ],
            [
             0.1,
             "#c51b7d"
            ],
            [
             0.2,
             "#de77ae"
            ],
            [
             0.3,
             "#f1b6da"
            ],
            [
             0.4,
             "#fde0ef"
            ],
            [
             0.5,
             "#f7f7f7"
            ],
            [
             0.6,
             "#e6f5d0"
            ],
            [
             0.7,
             "#b8e186"
            ],
            [
             0.8,
             "#7fbc41"
            ],
            [
             0.9,
             "#4d9221"
            ],
            [
             1,
             "#276419"
            ]
           ],
           "sequential": [
            [
             0,
             "#0d0887"
            ],
            [
             0.1111111111111111,
             "#46039f"
            ],
            [
             0.2222222222222222,
             "#7201a8"
            ],
            [
             0.3333333333333333,
             "#9c179e"
            ],
            [
             0.4444444444444444,
             "#bd3786"
            ],
            [
             0.5555555555555556,
             "#d8576b"
            ],
            [
             0.6666666666666666,
             "#ed7953"
            ],
            [
             0.7777777777777778,
             "#fb9f3a"
            ],
            [
             0.8888888888888888,
             "#fdca26"
            ],
            [
             1,
             "#f0f921"
            ]
           ],
           "sequentialminus": [
            [
             0,
             "#0d0887"
            ],
            [
             0.1111111111111111,
             "#46039f"
            ],
            [
             0.2222222222222222,
             "#7201a8"
            ],
            [
             0.3333333333333333,
             "#9c179e"
            ],
            [
             0.4444444444444444,
             "#bd3786"
            ],
            [
             0.5555555555555556,
             "#d8576b"
            ],
            [
             0.6666666666666666,
             "#ed7953"
            ],
            [
             0.7777777777777778,
             "#fb9f3a"
            ],
            [
             0.8888888888888888,
             "#fdca26"
            ],
            [
             1,
             "#f0f921"
            ]
           ]
          },
          "colorway": [
           "#636efa",
           "#EF553B",
           "#00cc96",
           "#ab63fa",
           "#FFA15A",
           "#19d3f3",
           "#FF6692",
           "#B6E880",
           "#FF97FF",
           "#FECB52"
          ],
          "font": {
           "color": "#2a3f5f"
          },
          "geo": {
           "bgcolor": "white",
           "lakecolor": "white",
           "landcolor": "#E5ECF6",
           "showlakes": true,
           "showland": true,
           "subunitcolor": "white"
          },
          "hoverlabel": {
           "align": "left"
          },
          "hovermode": "closest",
          "mapbox": {
           "style": "light"
          },
          "paper_bgcolor": "white",
          "plot_bgcolor": "#E5ECF6",
          "polar": {
           "angularaxis": {
            "gridcolor": "white",
            "linecolor": "white",
            "ticks": ""
           },
           "bgcolor": "#E5ECF6",
           "radialaxis": {
            "gridcolor": "white",
            "linecolor": "white",
            "ticks": ""
           }
          },
          "scene": {
           "xaxis": {
            "backgroundcolor": "#E5ECF6",
            "gridcolor": "white",
            "gridwidth": 2,
            "linecolor": "white",
            "showbackground": true,
            "ticks": "",
            "zerolinecolor": "white"
           },
           "yaxis": {
            "backgroundcolor": "#E5ECF6",
            "gridcolor": "white",
            "gridwidth": 2,
            "linecolor": "white",
            "showbackground": true,
            "ticks": "",
            "zerolinecolor": "white"
           },
           "zaxis": {
            "backgroundcolor": "#E5ECF6",
            "gridcolor": "white",
            "gridwidth": 2,
            "linecolor": "white",
            "showbackground": true,
            "ticks": "",
            "zerolinecolor": "white"
           }
          },
          "shapedefaults": {
           "line": {
            "color": "#2a3f5f"
           }
          },
          "ternary": {
           "aaxis": {
            "gridcolor": "white",
            "linecolor": "white",
            "ticks": ""
           },
           "baxis": {
            "gridcolor": "white",
            "linecolor": "white",
            "ticks": ""
           },
           "bgcolor": "#E5ECF6",
           "caxis": {
            "gridcolor": "white",
            "linecolor": "white",
            "ticks": ""
           }
          },
          "title": {
           "x": 0.05
          },
          "xaxis": {
           "automargin": true,
           "gridcolor": "white",
           "linecolor": "white",
           "ticks": "",
           "title": {
            "standoff": 15
           },
           "zerolinecolor": "white",
           "zerolinewidth": 2
          },
          "yaxis": {
           "automargin": true,
           "gridcolor": "white",
           "linecolor": "white",
           "ticks": "",
           "title": {
            "standoff": 15
           },
           "zerolinecolor": "white",
           "zerolinewidth": 2
          }
         }
        }
       }
      }
     },
     "metadata": {},
     "output_type": "display_data"
    }
   ],
   "source": [
    "fig = go.Figure()\n",
    "\n",
    "fig.add_trace(go.Scatter(\n",
    "    name=\"AOS\",\n",
    "    mode='lines',\n",
    "    x=test['AOS'].index ,\n",
    "    y=test['AOS'][\"Open\"]\n",
    "))\n",
    "\n",
    "fig.add_trace(go.Scatter(\n",
    "    name=\"MMM\",\n",
    "    mode='lines',\n",
    "    x=test['MMM'].index ,\n",
    "    y=test['MMM'][\"Open\"]\n",
    "))\n",
    "\n",
    "fig.show()"
   ]
  },
  {
   "cell_type": "code",
   "execution_count": 55,
   "metadata": {},
   "outputs": [
    {
     "data": {
      "application/vnd.plotly.v1+json": {
       "config": {
        "plotlyServerURL": "https://plot.ly"
       },
       "data": [
        {
         "close": [
          172.5067901611328,
          174.92344665527344,
          174.20526123046875,
          172.7591094970703,
          174.6516876220703,
          172.18649291992188,
          173.71026611328125,
          174.13729858398438,
          175.69020080566406,
          173.47732543945312,
          173.0308837890625,
          173.2249755859375,
          168.4595489501953,
          167.56663513183594,
          167.71221923828125,
          168.63424682617188,
          164.31527709960938,
          165.14996337890625,
          158.29782104492188,
          161.1318359375,
          162.5003204345703,
          161.7530059814453,
          159.54983520507812,
          155.99758911132812,
          156.4246368408203,
          157.6281280517578,
          158.8218994140625,
          155.03675842285156,
          154.84263610839844,
          153.35768127441406,
          152.7073974609375,
          151.04776000976562,
          145.65809631347656,
          144.65855407714844,
          143.80601501464844,
          141.48355102539062,
          140.81719970703125,
          147.49057006835938,
          145.6678924560547,
          141.84613037109375,
          144.26658630371094,
          145.32492065429688,
          143.78640747070312,
          140.40562438964844,
          142.4830780029297,
          143.6590118408203,
          141.04257202148438,
          138.13217163085938,
          140.6016082763672,
          141.4149627685547,
          142.59088134765625,
          144.72715759277344,
          145.34451293945312,
          145.5992889404297,
          146.93202209472656,
          144.7173614501953,
          145.99127197265625,
          147.44158935546875,
          146.47145080566406,
          149.02908325195312,
          148.39212036132812,
          145.89329528808594,
          146.68702697753906,
          146.53024291992188,
          145.91287231445312,
          147.2847900390625,
          146.94180297851562,
          146.80462646484375,
          147.1083984375,
          145.5992889404297,
          145.67770385742188,
          144.42337036132812,
          143.2474365234375,
          147.08880615234375,
          147.5689697265625,
          148.72531127929688,
          146.17747497558594,
          145.618896484375,
          141.32676696777344,
          141.31698608398438,
          144.1881866455078,
          141.32676696777344,
          142.9828643798828,
          145.1093292236328,
          151.13595581054688,
          146.46165466308594,
          146.53024291992188,
          149.3230743408203,
          146.1284637451172,
          143.47283935546875,
          146.5890350341797,
          146.3048553466797,
          147.48077392578125,
          149.2838592529297,
          145.9422607421875,
          145.4671630859375,
          142.36895751953125,
          142.91336059570312,
          144.26943969726562,
          144.3090362548828,
          145.5463409423828,
          147.99124145507812,
          147.7734832763672,
          144.93263244628906,
          146.6747589111328,
          144.48721313476562,
          144.7247772216797,
          145.37806701660156,
          143.9427947998047,
          142.71539306640625,
          136.25172424316406,
          134.98472595214844,
          133.8760986328125,
          132.9654541015625,
          129.60989379882812,
          128.52105712890625,
          128.6893310546875,
          129.0753631591797,
          128.82791137695312,
          132.9654541015625,
          131.4510040283203,
          129.00608825683594,
          128.4517822265625,
          128.09542846679688,
          127.18478393554688,
          127.89746856689453,
          128.52105712890625,
          128.7289276123047,
          127.41243743896484,
          127.6994857788086,
          128.8773956298828,
          127.06598663330078,
          127.00659942626953,
          128.80812072753906,
          127.60050964355469,
          130.78781127929688,
          131.6588592529297,
          132.5893096923828,
          132.75758361816406,
          132.75758361816406,
          139.3202362060547,
          137.44943237304688,
          138.944091796875,
          141.78494262695312,
          141.90371704101562,
          140.31007385253906,
          142.03240966796875,
          146.61537170410156,
          145.91258239746094,
          146.97171020507812,
          146.3382110595703,
          147.86257934570312,
          148.1397247314453,
          150.6935272216797,
          149.89173889160156,
          148.73362731933594,
          145.932373046875,
          145.1899871826172,
          145.1999969482422,
          141.58999633789062,
          141.75,
          141.0399932861328,
          142.75999450683594,
          129.13999938964844,
          126.44000244140625,
          124.86000061035156,
          124.3499984741211,
          125.62999725341797,
          121.6500015258789,
          116.5999984741211,
          120.55000305175781,
          119.2699966430664,
          123.0999984741211,
          124.25,
          120.47000122070312,
          117.52999877929688,
          116.41999816894531,
          116.61000061035156,
          116.63999938964844,
          116.5199966430664,
          114.80999755859375,
          114.13999938964844,
          112.98999786376953,
          113,
          112.41000366210938,
          114.27999877929688,
          112.30000305175781,
          110.5,
          113.22000122070312,
          115.62000274658203,
          115.16999816894531,
          111.12000274658203,
          107.5199966430664,
          108.45999908447266,
          108.83999633789062,
          108.94999694824219,
          114.26000213623047,
          113.62999725341797,
          113.86000061035156,
          115.94999694824219,
          114.19999694824219,
          113.11000061035156,
          116.80999755859375,
          118.37999725341797,
          118.5,
          122.69999694824219,
          122.80000305175781,
          126.5999984741211
         ],
         "high": [
          173.81703310123248,
          175.92311896729916,
          176.4278299887163,
          175.94253459967035,
          175.17579657066935,
          174.53523870077956,
          174.26349064306217,
          174.70992353941423,
          176.00077128906182,
          175.53490108884213,
          173.29293830000387,
          175.54460577325702,
          173.9431888834196,
          170.83742180443986,
          168.11015108349997,
          169.42039547782366,
          170.09008737526753,
          167.0522465833183,
          163.7814610771788,
          161.3938755973985,
          163.01472917130465,
          164.2667446345664,
          161.8209346118371,
          159.88953132733354,
          157.53107099451177,
          158.30751482662,
          159.42363983514804,
          157.9969450034848,
          156.8419956952361,
          154.89116286193095,
          154.39617155915343,
          153.34797489413072,
          148.4313247914618,
          146.7066374369951,
          145.53070187308626,
          144.37436713313448,
          141.00339046767522,
          148.71549345759698,
          146.62824321840728,
          146.03047291145037,
          145.3935099033595,
          146.981019546063,
          144.7271552424882,
          142.81628031933815,
          146.47143560535167,
          146.26563728160787,
          143.0318613686764,
          141.58154523625544,
          142.37529502917306,
          142.56148934536722,
          143.3356443632868,
          144.74676055468777,
          145.4718948006849,
          146.73602138281763,
          147.81396100982718,
          146.77523900573723,
          146.23625666214377,
          148.14713149159343,
          147.11821398982616,
          149.85222819319205,
          150.18541009988564,
          148.21574549041716,
          146.8536147628788,
          147.00060934225186,
          147.60817709953045,
          147.37298093368236,
          147.451375281997,
          148.60771023417007,
          149.16627576660596,
          148.4901050176087,
          146.1774672564907,
          146.58902651438572,
          145.35431376674074,
          147.56896654987779,
          149.44065628905514,
          150.02863163745238,
          147.9609708417591,
          146.04026294717318,
          144.03139252039023,
          143.1494669219961,
          144.7663469176352,
          145.57969753145733,
          144.54096337953462,
          145.8638862339955,
          151.5573372667988,
          150.567585535671,
          146.76543360742636,
          150.68518863103702,
          150.94976067107115,
          147.11821278754533,
          146.618432000668,
          147.33379400348431,
          147.8041554901724,
          149.44065303492053,
          148.6665040347829,
          147.3874435635225,
          146.4372081963803,
          144.4872053962158,
          144.7346665430143,
          144.6752880089157,
          147.29836526958584,
          148.0011495394601,
          148.3178993151241,
          147.9714539781335,
          146.78364211939893,
          145.97197587977962,
          145.80370116621097,
          145.49685830863834,
          145.12070897523742,
          145.69482675108455,
          141.02276919710252,
          136.9347155717381,
          136.94461414391475,
          135.29157332693532,
          131.20353977586325,
          130.5403428816805,
          129.74846906403562,
          130.25327730392078,
          129.7385791748175,
          133.18322051126208,
          133.30200350146453,
          133.20302307748946,
          129.01598423202535,
          128.88730491212354,
          128.511168381208,
          128.1251279570731,
          129.65938427394894,
          128.9862810399456,
          128.83781204460243,
          129.18424848576353,
          130.68880788420105,
          128.17461971639062,
          127.23425881207824,
          129.01597905138846,
          129.49111110025024,
          130.92638853711802,
          132.11419315036346,
          132.62891182357987,
          133.57915416320617,
          133.72763950245258,
          144.21995019574103,
          138.78572483893166,
          139.20146033715974,
          142.26006245437839,
          142.59660326067265,
          142.10168507736591,
          142.34915119969708,
          146.82324514070027,
          146.981613346842,
          148.62474424327698,
          147.53592630756518,
          149.08008058357493,
          149.90164189525,
          150.75291531549837,
          150.55494619940913,
          149.77296425726726,
          147.2785585333673,
          145.9422766129396,
          145.64999389648438,
          143.67999267578125,
          142.4199981689453,
          141.58999633789062,
          143.27000427246094,
          144.00999450683594,
          128.7899932861328,
          127.73999786376953,
          126.45999908447266,
          126.38999938964844,
          126.37000274658203,
          121.5,
          121.25,
          119.79000091552734,
          123.29000091552734,
          126.5199966430664,
          124.5999984741211,
          120.58999633789062,
          118.73999786376953,
          117.30999755859375,
          116.91000366210938,
          117.19999694824219,
          118.02999877929688,
          115.05000305175781,
          114.16999816894531,
          113.80999755859375,
          114.12999725341797,
          114.70999908447266,
          113.4000015258789,
          113.1500015258789,
          114.0199966430664,
          115.9800033569336,
          116.0999984741211,
          114.94000244140625,
          110.76000213623047,
          109.12000274658203,
          110.44999694824219,
          109.69999694824219,
          114.83000183105469,
          115.16000366210938,
          115.72000122070312,
          116.4000015258789,
          115.68000030517578,
          115.6500015258789,
          116.94000244140625,
          119.13999938964844,
          118.5999984741211,
          123.29000091552734,
          124.44999694824219,
          126.66999816894531
         ],
         "low": [
          170.66272315019987,
          172.78822467258323,
          171.7885692469228,
          172.31264685521433,
          172.0020717893294,
          171.57503737032098,
          171.22564287175635,
          173.3317346660563,
          173.75878739031506,
          172.43882256879505,
          170.9830081277183,
          172.4000111817989,
          168.20719470699927,
          167.4792885691505,
          163.85910752911434,
          163.06324536937873,
          163.24765864448642,
          163.4806043491847,
          155.81318318058254,
          156.832261829891,
          159.9089355155403,
          160.9183265093851,
          159.2683802431896,
          155.38614840252973,
          155.29878740456684,
          155.59966796341175,
          157.1622409239613,
          154.33795629765015,
          154.12443350461874,
          150.78571156689907,
          151.64949414407346,
          149.57250952234594,
          145.50130252363712,
          144.28618751845895,
          142.95347306653986,
          141.2385663560449,
          136.9366505114128,
          141.4541589702317,
          143.80601477059054,
          141.2581611553236,
          142.01272415173483,
          144.5605696200477,
          142.8162776855419,
          139.70987624328563,
          140.38600982713197,
          143.55121799138598,
          140.4546177643046,
          138.00477480956127,
          138.61233380140692,
          139.72946687289547,
          139.9744466938246,
          141.25816601520248,
          142.30669703482002,
          144.44295353795164,
          145.52090786842228,
          144.59977357365466,
          144.44296694077363,
          145.92268131838745,
          144.2371915809943,
          147.02999987731198,
          147.74537213891833,
          145.8148983887116,
          143.90400464713767,
          143.14945715769454,
          145.53069680419722,
          144.09998925458004,
          144.59975011702932,
          146.3832599660826,
          146.95161960359016,
          145.1191136106251,
          144.60957416681717,
          144.25678257668355,
          142.82607004638388,
          143.9040053491683,
          147.51017579520519,
          148.27453286601013,
          145.26613903162806,
          142.95346202995762,
          140.00384368125472,
          140.84660467689048,
          141.22876744261183,
          140.98378242603047,
          140.89559008995175,
          142.99265797394656,
          144.91335344854338,
          145.25631921400975,
          143.747220404841,
          144.972143815904,
          145.16812794286932,
          143.23764866696482,
          143.08085249067912,
          145.001535041751,
          143.37482839216327,
          147.50037857898747,
          145.4914973219385,
          142.64610780752272,
          139.65678536703578,
          142.54710886764002,
          139.56769123371836,
          142.0918001836212,
          145.2097983337505,
          146.36790151409147,
          144.44761405316527,
          144.12097003600363,
          143.03214813238918,
          143.84382198677463,
          144.17045312267584,
          142.35906147083136,
          142.82426871661434,
          142.67580603741192,
          136.18244316782085,
          134.2423445772931,
          133.0347270915722,
          131.70835075534893,
          129.00608966830455,
          127.41243913368112,
          127.95685776592268,
          126.8878212650494,
          127.19467835784236,
          129.90684648867398,
          130.9461750056167,
          128.8279088724436,
          127.5015273965881,
          126.00686170534391,
          125.32387643616164,
          124.32413143061835,
          126.66015724271142,
          126.27411665404641,
          126.83832738370597,
          127.24416700679663,
          127.74897661451254,
          126.37310039623661,
          124.60128354101096,
          126.94721327478248,
          127.21447194697488,
          128.7388313560251,
          130.5106541838743,
          131.02535779342764,
          132.12408544056132,
          132.4210410152662,
          137.11289317586474,
          136.17254310209307,
          136.89512707818457,
          138.39968553694737,
          140.141799895122,
          140.1912976708493,
          140.11211410056913,
          141.74535155757974,
          144.90293953908093,
          146.0808586025285,
          145.6948199180164,
          147.3280562923433,
          147.85266215652055,
          148.4762760617933,
          148.95139218750697,
          147.36765587019738,
          145.5760444894209,
          143.90320493266242,
          143.2100067138672,
          141.02999877929688,
          140.7100067138672,
          139.7100067138672,
          140.63999938964844,
          128.67999267578125,
          125.2699966430664,
          123.02999877929688,
          123.61000061035156,
          123.66999816894531,
          121.1500015258789,
          115.9800033569336,
          116.0199966430664,
          117.16000366210938,
          119.87000274658203,
          123.97000122070312,
          120.2300033569336,
          116.30999755859375,
          116.06999969482422,
          114.11000061035156,
          115.27999877929688,
          114.75,
          114.80000305175781,
          113.43000030517578,
          111.62000274658203,
          112.2300033569336,
          111.41999816894531,
          113.05999755859375,
          111.5999984741211,
          110.38999938964844,
          110.91000366210938,
          114.69000244140625,
          113.41999816894531,
          110.20999908447266,
          107.08999633789062,
          107.19000244140625,
          107.94999694824219,
          108.25,
          107.06999969482422,
          112.8499984741211,
          113.29000091552734,
          114.44999694824219,
          113.23999786376953,
          112.88999938964844,
          113.05000305175781,
          117.19000244140625,
          113.1500015258789,
          119.58999633789062,
          122.02999877929688,
          122.51000213623047
         ],
         "open": [
          173.0697149449214,
          173.22497226752782,
          171.9147463814622,
          175.55431780550796,
          172.8852820034167,
          174.16642236171592,
          172.75912451821807,
          173.72966650675355,
          174.58376661630118,
          175.53490108884213,
          172.93382217478106,
          174.53523320539284,
          173.322033130933,
          168.29455277325926,
          166.79989347003215,
          168.4207231418317,
          169.14864604925603,
          164.12117544862915,
          163.43206003449995,
          157.90958041581374,
          160.71449944917103,
          162.85944018305798,
          161.36477172122457,
          158.96749052684459,
          156.01700476414675,
          156.67697175742975,
          158.7345528644572,
          157.2399118361037,
          155.44439143666017,
          154.65823869794295,
          154.04677053226465,
          152.3774180910033,
          147.82376754668243,
          145.22692034877625,
          145.22692324572245,
          143.8060009059311,
          139.24930663050995,
          141.51295290048662,
          146.29505267193852,
          145.5992974802427,
          142.68888429259556,
          145.54050837705216,
          143.22785016298585,
          142.81628031933815,
          142.3262991782615,
          144.89372915487758,
          142.42428919777575,
          140.59181248994759,
          138.61233380140692,
          141.96372609222436,
          141.8559272891863,
          142.39489856337144,
          144.1195895831781,
          145.7070827919092,
          146.45184671273498,
          146.68704809833176,
          145.148524042712,
          146.27545986278906,
          146.92221427146492,
          147.9707476334981,
          148.29413545620127,
          147.4317914493534,
          146.62823304773423,
          146.06967050231665,
          145.66788762960502,
          144.37437089518275,
          146.39303970677156,
          147.97075600726345,
          147.431780015084,
          148.30391427844617,
          145.54051302516694,
          145.66788174414557,
          144.49196289858475,
          143.9040053491683,
          147.78455744332493,
          148.93109004745466,
          147.77478006972123,
          145.72669033924768,
          142.49289646648515,
          141.8755434449734,
          141.84613363812196,
          144.34498009600418,
          141.61094117958862,
          143.2768485797162,
          146.010880111504,
          150.09721911436358,
          146.2754642229679,
          145.46211320019313,
          150.91056969967852,
          146.98102195742112,
          143.64921876391787,
          147.19660317942225,
          146.22645358960347,
          148.94088967658752,
          148.5489012251147,
          144.71487362300672,
          146.0412623873728,
          143.1113259303447,
          142.8836672442612,
          143.95269258574606,
          145.2494004664062,
          146.70445920354715,
          146.76385546316854,
          147.81307566751636,
          146.021474765324,
          145.50674901137222,
          144.90294149709044,
          143.96260042734278,
          144.0813720496328,
          144.0318845613451,
          140.5575423205554,
          135.3410696162305,
          135.2915651060627,
          134.38092066082228,
          131.20353977586325,
          129.44161786720295,
          129.01598067148308,
          127.4619313147462,
          128.8873145754306,
          130.19389397212112,
          133.04465005131354,
          132.5002287284889,
          128.6794416249922,
          127.40254224105614,
          128.0954366193047,
          125.6901179792649,
          128.18451453803968,
          128.80811676783736,
          128.50126945821222,
          127.42233128181331,
          127.84796683317829,
          126.6997500016641,
          125.6901155666827,
          128.5507521881993,
          128.8675059350878,
          129.07537396733528,
          130.77790060909714,
          131.68855000499556,
          133.28219858850127,
          132.63880742979728,
          142.05219419269622,
          138.20170670051397,
          138.4788649319777,
          139.3400322113178,
          140.70600185120458,
          141.1415373319415,
          140.4585496789036,
          142.03241415555948,
          145.51663661780842,
          146.52628440380332,
          146.80343792332317,
          148.35750026722036,
          148.47626731244463,
          148.84251270953362,
          149.85215186464268,
          148.94150074843725,
          146.93212295680215,
          145.90267448303464,
          144.61000061035156,
          143.27999877929688,
          141,
          140.91000366210938,
          141.07000732421875,
          143.63999938964844,
          128.7899932861328,
          126.88999938964844,
          124.8499984741211,
          124.30000305175781,
          126.02999877929688,
          121.36000061035156,
          116.63999938964844,
          118.38999938964844,
          121.2699966430664,
          124.31999969482422,
          122.11000061035156,
          120.58999633789062,
          117.81999969482422,
          114.69999694824219,
          116.01000213623047,
          115.30000305175781,
          116.83000183105469,
          114.16000366210938,
          113.7300033569336,
          112.76000213623047,
          114.12999725341797,
          113.51000213623047,
          112.95999908447266,
          112,
          111.69000244140625,
          114.73999786376953,
          114.33999633789062,
          114.3499984741211,
          110.37000274658203,
          108.52999877929688,
          108.5,
          108.56999969482422,
          107.5,
          114.26000213623047,
          115.30999755859375,
          115.73999786376953,
          115.0999984741211,
          113.9800033569336,
          113.1500015258789,
          117.52999877929688,
          113.51000213623047,
          119.58999633789062,
          123.48999786376953,
          122.9800033569336
         ],
         "type": "candlestick",
         "x": [
          "2022-01-03T00:00:00-05:00",
          "2022-01-04T00:00:00-05:00",
          "2022-01-05T00:00:00-05:00",
          "2022-01-06T00:00:00-05:00",
          "2022-01-07T00:00:00-05:00",
          "2022-01-10T00:00:00-05:00",
          "2022-01-11T00:00:00-05:00",
          "2022-01-12T00:00:00-05:00",
          "2022-01-13T00:00:00-05:00",
          "2022-01-14T00:00:00-05:00",
          "2022-01-18T00:00:00-05:00",
          "2022-01-19T00:00:00-05:00",
          "2022-01-20T00:00:00-05:00",
          "2022-01-21T00:00:00-05:00",
          "2022-01-24T00:00:00-05:00",
          "2022-01-25T00:00:00-05:00",
          "2022-01-26T00:00:00-05:00",
          "2022-01-27T00:00:00-05:00",
          "2022-01-28T00:00:00-05:00",
          "2022-01-31T00:00:00-05:00",
          "2022-02-01T00:00:00-05:00",
          "2022-02-02T00:00:00-05:00",
          "2022-02-03T00:00:00-05:00",
          "2022-02-04T00:00:00-05:00",
          "2022-02-07T00:00:00-05:00",
          "2022-02-08T00:00:00-05:00",
          "2022-02-09T00:00:00-05:00",
          "2022-02-10T00:00:00-05:00",
          "2022-02-11T00:00:00-05:00",
          "2022-02-14T00:00:00-05:00",
          "2022-02-15T00:00:00-05:00",
          "2022-02-16T00:00:00-05:00",
          "2022-02-17T00:00:00-05:00",
          "2022-02-18T00:00:00-05:00",
          "2022-02-22T00:00:00-05:00",
          "2022-02-23T00:00:00-05:00",
          "2022-02-24T00:00:00-05:00",
          "2022-02-25T00:00:00-05:00",
          "2022-02-28T00:00:00-05:00",
          "2022-03-01T00:00:00-05:00",
          "2022-03-02T00:00:00-05:00",
          "2022-03-03T00:00:00-05:00",
          "2022-03-04T00:00:00-05:00",
          "2022-03-07T00:00:00-05:00",
          "2022-03-08T00:00:00-05:00",
          "2022-03-09T00:00:00-05:00",
          "2022-03-10T00:00:00-05:00",
          "2022-03-11T00:00:00-05:00",
          "2022-03-14T00:00:00-04:00",
          "2022-03-15T00:00:00-04:00",
          "2022-03-16T00:00:00-04:00",
          "2022-03-17T00:00:00-04:00",
          "2022-03-18T00:00:00-04:00",
          "2022-03-21T00:00:00-04:00",
          "2022-03-22T00:00:00-04:00",
          "2022-03-23T00:00:00-04:00",
          "2022-03-24T00:00:00-04:00",
          "2022-03-25T00:00:00-04:00",
          "2022-03-28T00:00:00-04:00",
          "2022-03-29T00:00:00-04:00",
          "2022-03-30T00:00:00-04:00",
          "2022-03-31T00:00:00-04:00",
          "2022-04-01T00:00:00-04:00",
          "2022-04-04T00:00:00-04:00",
          "2022-04-05T00:00:00-04:00",
          "2022-04-06T00:00:00-04:00",
          "2022-04-07T00:00:00-04:00",
          "2022-04-08T00:00:00-04:00",
          "2022-04-11T00:00:00-04:00",
          "2022-04-12T00:00:00-04:00",
          "2022-04-13T00:00:00-04:00",
          "2022-04-14T00:00:00-04:00",
          "2022-04-18T00:00:00-04:00",
          "2022-04-19T00:00:00-04:00",
          "2022-04-20T00:00:00-04:00",
          "2022-04-21T00:00:00-04:00",
          "2022-04-22T00:00:00-04:00",
          "2022-04-25T00:00:00-04:00",
          "2022-04-26T00:00:00-04:00",
          "2022-04-27T00:00:00-04:00",
          "2022-04-28T00:00:00-04:00",
          "2022-04-29T00:00:00-04:00",
          "2022-05-02T00:00:00-04:00",
          "2022-05-03T00:00:00-04:00",
          "2022-05-04T00:00:00-04:00",
          "2022-05-05T00:00:00-04:00",
          "2022-05-06T00:00:00-04:00",
          "2022-05-09T00:00:00-04:00",
          "2022-05-10T00:00:00-04:00",
          "2022-05-11T00:00:00-04:00",
          "2022-05-12T00:00:00-04:00",
          "2022-05-13T00:00:00-04:00",
          "2022-05-16T00:00:00-04:00",
          "2022-05-17T00:00:00-04:00",
          "2022-05-18T00:00:00-04:00",
          "2022-05-19T00:00:00-04:00",
          "2022-05-20T00:00:00-04:00",
          "2022-05-23T00:00:00-04:00",
          "2022-05-24T00:00:00-04:00",
          "2022-05-25T00:00:00-04:00",
          "2022-05-26T00:00:00-04:00",
          "2022-05-27T00:00:00-04:00",
          "2022-05-31T00:00:00-04:00",
          "2022-06-01T00:00:00-04:00",
          "2022-06-02T00:00:00-04:00",
          "2022-06-03T00:00:00-04:00",
          "2022-06-06T00:00:00-04:00",
          "2022-06-07T00:00:00-04:00",
          "2022-06-08T00:00:00-04:00",
          "2022-06-09T00:00:00-04:00",
          "2022-06-10T00:00:00-04:00",
          "2022-06-13T00:00:00-04:00",
          "2022-06-14T00:00:00-04:00",
          "2022-06-15T00:00:00-04:00",
          "2022-06-16T00:00:00-04:00",
          "2022-06-17T00:00:00-04:00",
          "2022-06-21T00:00:00-04:00",
          "2022-06-22T00:00:00-04:00",
          "2022-06-23T00:00:00-04:00",
          "2022-06-24T00:00:00-04:00",
          "2022-06-27T00:00:00-04:00",
          "2022-06-28T00:00:00-04:00",
          "2022-06-29T00:00:00-04:00",
          "2022-06-30T00:00:00-04:00",
          "2022-07-01T00:00:00-04:00",
          "2022-07-05T00:00:00-04:00",
          "2022-07-06T00:00:00-04:00",
          "2022-07-07T00:00:00-04:00",
          "2022-07-08T00:00:00-04:00",
          "2022-07-11T00:00:00-04:00",
          "2022-07-12T00:00:00-04:00",
          "2022-07-13T00:00:00-04:00",
          "2022-07-14T00:00:00-04:00",
          "2022-07-15T00:00:00-04:00",
          "2022-07-18T00:00:00-04:00",
          "2022-07-19T00:00:00-04:00",
          "2022-07-20T00:00:00-04:00",
          "2022-07-21T00:00:00-04:00",
          "2022-07-22T00:00:00-04:00",
          "2022-07-25T00:00:00-04:00",
          "2022-07-26T00:00:00-04:00",
          "2022-07-27T00:00:00-04:00",
          "2022-07-28T00:00:00-04:00",
          "2022-07-29T00:00:00-04:00",
          "2022-08-01T00:00:00-04:00",
          "2022-08-02T00:00:00-04:00",
          "2022-08-03T00:00:00-04:00",
          "2022-08-04T00:00:00-04:00",
          "2022-08-05T00:00:00-04:00",
          "2022-08-08T00:00:00-04:00",
          "2022-08-09T00:00:00-04:00",
          "2022-08-10T00:00:00-04:00",
          "2022-08-11T00:00:00-04:00",
          "2022-08-12T00:00:00-04:00",
          "2022-08-15T00:00:00-04:00",
          "2022-08-16T00:00:00-04:00",
          "2022-08-17T00:00:00-04:00",
          "2022-08-18T00:00:00-04:00",
          "2022-08-19T00:00:00-04:00",
          "2022-08-22T00:00:00-04:00",
          "2022-08-23T00:00:00-04:00",
          "2022-08-24T00:00:00-04:00",
          "2022-08-25T00:00:00-04:00",
          "2022-08-26T00:00:00-04:00",
          "2022-08-29T00:00:00-04:00",
          "2022-08-30T00:00:00-04:00",
          "2022-08-31T00:00:00-04:00",
          "2022-09-01T00:00:00-04:00",
          "2022-09-02T00:00:00-04:00",
          "2022-09-06T00:00:00-04:00",
          "2022-09-07T00:00:00-04:00",
          "2022-09-08T00:00:00-04:00",
          "2022-09-09T00:00:00-04:00",
          "2022-09-12T00:00:00-04:00",
          "2022-09-13T00:00:00-04:00",
          "2022-09-14T00:00:00-04:00",
          "2022-09-15T00:00:00-04:00",
          "2022-09-16T00:00:00-04:00",
          "2022-09-19T00:00:00-04:00",
          "2022-09-20T00:00:00-04:00",
          "2022-09-21T00:00:00-04:00",
          "2022-09-22T00:00:00-04:00",
          "2022-09-23T00:00:00-04:00",
          "2022-09-26T00:00:00-04:00",
          "2022-09-27T00:00:00-04:00",
          "2022-09-28T00:00:00-04:00",
          "2022-09-29T00:00:00-04:00",
          "2022-09-30T00:00:00-04:00",
          "2022-10-03T00:00:00-04:00",
          "2022-10-04T00:00:00-04:00",
          "2022-10-05T00:00:00-04:00",
          "2022-10-06T00:00:00-04:00",
          "2022-10-07T00:00:00-04:00",
          "2022-10-10T00:00:00-04:00",
          "2022-10-11T00:00:00-04:00",
          "2022-10-12T00:00:00-04:00",
          "2022-10-13T00:00:00-04:00",
          "2022-10-14T00:00:00-04:00",
          "2022-10-17T00:00:00-04:00",
          "2022-10-18T00:00:00-04:00",
          "2022-10-19T00:00:00-04:00",
          "2022-10-20T00:00:00-04:00",
          "2022-10-21T00:00:00-04:00",
          "2022-10-24T00:00:00-04:00",
          "2022-10-25T00:00:00-04:00",
          "2022-10-26T00:00:00-04:00",
          "2022-10-27T00:00:00-04:00",
          "2022-10-28T00:00:00-04:00"
         ]
        }
       ],
       "layout": {
        "template": {
         "data": {
          "bar": [
           {
            "error_x": {
             "color": "#2a3f5f"
            },
            "error_y": {
             "color": "#2a3f5f"
            },
            "marker": {
             "line": {
              "color": "#E5ECF6",
              "width": 0.5
             },
             "pattern": {
              "fillmode": "overlay",
              "size": 10,
              "solidity": 0.2
             }
            },
            "type": "bar"
           }
          ],
          "barpolar": [
           {
            "marker": {
             "line": {
              "color": "#E5ECF6",
              "width": 0.5
             },
             "pattern": {
              "fillmode": "overlay",
              "size": 10,
              "solidity": 0.2
             }
            },
            "type": "barpolar"
           }
          ],
          "carpet": [
           {
            "aaxis": {
             "endlinecolor": "#2a3f5f",
             "gridcolor": "white",
             "linecolor": "white",
             "minorgridcolor": "white",
             "startlinecolor": "#2a3f5f"
            },
            "baxis": {
             "endlinecolor": "#2a3f5f",
             "gridcolor": "white",
             "linecolor": "white",
             "minorgridcolor": "white",
             "startlinecolor": "#2a3f5f"
            },
            "type": "carpet"
           }
          ],
          "choropleth": [
           {
            "colorbar": {
             "outlinewidth": 0,
             "ticks": ""
            },
            "type": "choropleth"
           }
          ],
          "contour": [
           {
            "colorbar": {
             "outlinewidth": 0,
             "ticks": ""
            },
            "colorscale": [
             [
              0,
              "#0d0887"
             ],
             [
              0.1111111111111111,
              "#46039f"
             ],
             [
              0.2222222222222222,
              "#7201a8"
             ],
             [
              0.3333333333333333,
              "#9c179e"
             ],
             [
              0.4444444444444444,
              "#bd3786"
             ],
             [
              0.5555555555555556,
              "#d8576b"
             ],
             [
              0.6666666666666666,
              "#ed7953"
             ],
             [
              0.7777777777777778,
              "#fb9f3a"
             ],
             [
              0.8888888888888888,
              "#fdca26"
             ],
             [
              1,
              "#f0f921"
             ]
            ],
            "type": "contour"
           }
          ],
          "contourcarpet": [
           {
            "colorbar": {
             "outlinewidth": 0,
             "ticks": ""
            },
            "type": "contourcarpet"
           }
          ],
          "heatmap": [
           {
            "colorbar": {
             "outlinewidth": 0,
             "ticks": ""
            },
            "colorscale": [
             [
              0,
              "#0d0887"
             ],
             [
              0.1111111111111111,
              "#46039f"
             ],
             [
              0.2222222222222222,
              "#7201a8"
             ],
             [
              0.3333333333333333,
              "#9c179e"
             ],
             [
              0.4444444444444444,
              "#bd3786"
             ],
             [
              0.5555555555555556,
              "#d8576b"
             ],
             [
              0.6666666666666666,
              "#ed7953"
             ],
             [
              0.7777777777777778,
              "#fb9f3a"
             ],
             [
              0.8888888888888888,
              "#fdca26"
             ],
             [
              1,
              "#f0f921"
             ]
            ],
            "type": "heatmap"
           }
          ],
          "heatmapgl": [
           {
            "colorbar": {
             "outlinewidth": 0,
             "ticks": ""
            },
            "colorscale": [
             [
              0,
              "#0d0887"
             ],
             [
              0.1111111111111111,
              "#46039f"
             ],
             [
              0.2222222222222222,
              "#7201a8"
             ],
             [
              0.3333333333333333,
              "#9c179e"
             ],
             [
              0.4444444444444444,
              "#bd3786"
             ],
             [
              0.5555555555555556,
              "#d8576b"
             ],
             [
              0.6666666666666666,
              "#ed7953"
             ],
             [
              0.7777777777777778,
              "#fb9f3a"
             ],
             [
              0.8888888888888888,
              "#fdca26"
             ],
             [
              1,
              "#f0f921"
             ]
            ],
            "type": "heatmapgl"
           }
          ],
          "histogram": [
           {
            "marker": {
             "pattern": {
              "fillmode": "overlay",
              "size": 10,
              "solidity": 0.2
             }
            },
            "type": "histogram"
           }
          ],
          "histogram2d": [
           {
            "colorbar": {
             "outlinewidth": 0,
             "ticks": ""
            },
            "colorscale": [
             [
              0,
              "#0d0887"
             ],
             [
              0.1111111111111111,
              "#46039f"
             ],
             [
              0.2222222222222222,
              "#7201a8"
             ],
             [
              0.3333333333333333,
              "#9c179e"
             ],
             [
              0.4444444444444444,
              "#bd3786"
             ],
             [
              0.5555555555555556,
              "#d8576b"
             ],
             [
              0.6666666666666666,
              "#ed7953"
             ],
             [
              0.7777777777777778,
              "#fb9f3a"
             ],
             [
              0.8888888888888888,
              "#fdca26"
             ],
             [
              1,
              "#f0f921"
             ]
            ],
            "type": "histogram2d"
           }
          ],
          "histogram2dcontour": [
           {
            "colorbar": {
             "outlinewidth": 0,
             "ticks": ""
            },
            "colorscale": [
             [
              0,
              "#0d0887"
             ],
             [
              0.1111111111111111,
              "#46039f"
             ],
             [
              0.2222222222222222,
              "#7201a8"
             ],
             [
              0.3333333333333333,
              "#9c179e"
             ],
             [
              0.4444444444444444,
              "#bd3786"
             ],
             [
              0.5555555555555556,
              "#d8576b"
             ],
             [
              0.6666666666666666,
              "#ed7953"
             ],
             [
              0.7777777777777778,
              "#fb9f3a"
             ],
             [
              0.8888888888888888,
              "#fdca26"
             ],
             [
              1,
              "#f0f921"
             ]
            ],
            "type": "histogram2dcontour"
           }
          ],
          "mesh3d": [
           {
            "colorbar": {
             "outlinewidth": 0,
             "ticks": ""
            },
            "type": "mesh3d"
           }
          ],
          "parcoords": [
           {
            "line": {
             "colorbar": {
              "outlinewidth": 0,
              "ticks": ""
             }
            },
            "type": "parcoords"
           }
          ],
          "pie": [
           {
            "automargin": true,
            "type": "pie"
           }
          ],
          "scatter": [
           {
            "fillpattern": {
             "fillmode": "overlay",
             "size": 10,
             "solidity": 0.2
            },
            "type": "scatter"
           }
          ],
          "scatter3d": [
           {
            "line": {
             "colorbar": {
              "outlinewidth": 0,
              "ticks": ""
             }
            },
            "marker": {
             "colorbar": {
              "outlinewidth": 0,
              "ticks": ""
             }
            },
            "type": "scatter3d"
           }
          ],
          "scattercarpet": [
           {
            "marker": {
             "colorbar": {
              "outlinewidth": 0,
              "ticks": ""
             }
            },
            "type": "scattercarpet"
           }
          ],
          "scattergeo": [
           {
            "marker": {
             "colorbar": {
              "outlinewidth": 0,
              "ticks": ""
             }
            },
            "type": "scattergeo"
           }
          ],
          "scattergl": [
           {
            "marker": {
             "colorbar": {
              "outlinewidth": 0,
              "ticks": ""
             }
            },
            "type": "scattergl"
           }
          ],
          "scattermapbox": [
           {
            "marker": {
             "colorbar": {
              "outlinewidth": 0,
              "ticks": ""
             }
            },
            "type": "scattermapbox"
           }
          ],
          "scatterpolar": [
           {
            "marker": {
             "colorbar": {
              "outlinewidth": 0,
              "ticks": ""
             }
            },
            "type": "scatterpolar"
           }
          ],
          "scatterpolargl": [
           {
            "marker": {
             "colorbar": {
              "outlinewidth": 0,
              "ticks": ""
             }
            },
            "type": "scatterpolargl"
           }
          ],
          "scatterternary": [
           {
            "marker": {
             "colorbar": {
              "outlinewidth": 0,
              "ticks": ""
             }
            },
            "type": "scatterternary"
           }
          ],
          "surface": [
           {
            "colorbar": {
             "outlinewidth": 0,
             "ticks": ""
            },
            "colorscale": [
             [
              0,
              "#0d0887"
             ],
             [
              0.1111111111111111,
              "#46039f"
             ],
             [
              0.2222222222222222,
              "#7201a8"
             ],
             [
              0.3333333333333333,
              "#9c179e"
             ],
             [
              0.4444444444444444,
              "#bd3786"
             ],
             [
              0.5555555555555556,
              "#d8576b"
             ],
             [
              0.6666666666666666,
              "#ed7953"
             ],
             [
              0.7777777777777778,
              "#fb9f3a"
             ],
             [
              0.8888888888888888,
              "#fdca26"
             ],
             [
              1,
              "#f0f921"
             ]
            ],
            "type": "surface"
           }
          ],
          "table": [
           {
            "cells": {
             "fill": {
              "color": "#EBF0F8"
             },
             "line": {
              "color": "white"
             }
            },
            "header": {
             "fill": {
              "color": "#C8D4E3"
             },
             "line": {
              "color": "white"
             }
            },
            "type": "table"
           }
          ]
         },
         "layout": {
          "annotationdefaults": {
           "arrowcolor": "#2a3f5f",
           "arrowhead": 0,
           "arrowwidth": 1
          },
          "autotypenumbers": "strict",
          "coloraxis": {
           "colorbar": {
            "outlinewidth": 0,
            "ticks": ""
           }
          },
          "colorscale": {
           "diverging": [
            [
             0,
             "#8e0152"
            ],
            [
             0.1,
             "#c51b7d"
            ],
            [
             0.2,
             "#de77ae"
            ],
            [
             0.3,
             "#f1b6da"
            ],
            [
             0.4,
             "#fde0ef"
            ],
            [
             0.5,
             "#f7f7f7"
            ],
            [
             0.6,
             "#e6f5d0"
            ],
            [
             0.7,
             "#b8e186"
            ],
            [
             0.8,
             "#7fbc41"
            ],
            [
             0.9,
             "#4d9221"
            ],
            [
             1,
             "#276419"
            ]
           ],
           "sequential": [
            [
             0,
             "#0d0887"
            ],
            [
             0.1111111111111111,
             "#46039f"
            ],
            [
             0.2222222222222222,
             "#7201a8"
            ],
            [
             0.3333333333333333,
             "#9c179e"
            ],
            [
             0.4444444444444444,
             "#bd3786"
            ],
            [
             0.5555555555555556,
             "#d8576b"
            ],
            [
             0.6666666666666666,
             "#ed7953"
            ],
            [
             0.7777777777777778,
             "#fb9f3a"
            ],
            [
             0.8888888888888888,
             "#fdca26"
            ],
            [
             1,
             "#f0f921"
            ]
           ],
           "sequentialminus": [
            [
             0,
             "#0d0887"
            ],
            [
             0.1111111111111111,
             "#46039f"
            ],
            [
             0.2222222222222222,
             "#7201a8"
            ],
            [
             0.3333333333333333,
             "#9c179e"
            ],
            [
             0.4444444444444444,
             "#bd3786"
            ],
            [
             0.5555555555555556,
             "#d8576b"
            ],
            [
             0.6666666666666666,
             "#ed7953"
            ],
            [
             0.7777777777777778,
             "#fb9f3a"
            ],
            [
             0.8888888888888888,
             "#fdca26"
            ],
            [
             1,
             "#f0f921"
            ]
           ]
          },
          "colorway": [
           "#636efa",
           "#EF553B",
           "#00cc96",
           "#ab63fa",
           "#FFA15A",
           "#19d3f3",
           "#FF6692",
           "#B6E880",
           "#FF97FF",
           "#FECB52"
          ],
          "font": {
           "color": "#2a3f5f"
          },
          "geo": {
           "bgcolor": "white",
           "lakecolor": "white",
           "landcolor": "#E5ECF6",
           "showlakes": true,
           "showland": true,
           "subunitcolor": "white"
          },
          "hoverlabel": {
           "align": "left"
          },
          "hovermode": "closest",
          "mapbox": {
           "style": "light"
          },
          "paper_bgcolor": "white",
          "plot_bgcolor": "#E5ECF6",
          "polar": {
           "angularaxis": {
            "gridcolor": "white",
            "linecolor": "white",
            "ticks": ""
           },
           "bgcolor": "#E5ECF6",
           "radialaxis": {
            "gridcolor": "white",
            "linecolor": "white",
            "ticks": ""
           }
          },
          "scene": {
           "xaxis": {
            "backgroundcolor": "#E5ECF6",
            "gridcolor": "white",
            "gridwidth": 2,
            "linecolor": "white",
            "showbackground": true,
            "ticks": "",
            "zerolinecolor": "white"
           },
           "yaxis": {
            "backgroundcolor": "#E5ECF6",
            "gridcolor": "white",
            "gridwidth": 2,
            "linecolor": "white",
            "showbackground": true,
            "ticks": "",
            "zerolinecolor": "white"
           },
           "zaxis": {
            "backgroundcolor": "#E5ECF6",
            "gridcolor": "white",
            "gridwidth": 2,
            "linecolor": "white",
            "showbackground": true,
            "ticks": "",
            "zerolinecolor": "white"
           }
          },
          "shapedefaults": {
           "line": {
            "color": "#2a3f5f"
           }
          },
          "ternary": {
           "aaxis": {
            "gridcolor": "white",
            "linecolor": "white",
            "ticks": ""
           },
           "baxis": {
            "gridcolor": "white",
            "linecolor": "white",
            "ticks": ""
           },
           "bgcolor": "#E5ECF6",
           "caxis": {
            "gridcolor": "white",
            "linecolor": "white",
            "ticks": ""
           }
          },
          "title": {
           "x": 0.05
          },
          "xaxis": {
           "automargin": true,
           "gridcolor": "white",
           "linecolor": "white",
           "ticks": "",
           "title": {
            "standoff": 15
           },
           "zerolinecolor": "white",
           "zerolinewidth": 2
          },
          "yaxis": {
           "automargin": true,
           "gridcolor": "white",
           "linecolor": "white",
           "ticks": "",
           "title": {
            "standoff": 15
           },
           "zerolinecolor": "white",
           "zerolinewidth": 2
          }
         }
        },
        "title": {
         "text": "MMM, Feb - 2022"
        },
        "yaxis": {
         "title": {
          "text": "MMM Stock"
         }
        }
       }
      }
     },
     "metadata": {},
     "output_type": "display_data"
    }
   ],
   "source": [
    "candlestick = go.Candlestick(\n",
    "                            x=test['MMM'].index,\n",
    "                            open=test['MMM'][\"Open\"],\n",
    "                            high=test['MMM']['High'],\n",
    "                            low=test['MMM']['Low'],\n",
    "                            close=test['MMM']['Close']\n",
    "                            )\n",
    "\n",
    "fig = go.Figure(data=[candlestick])\n",
    "\n",
    "fig.update_layout(\n",
    "    title=\"MMM, Feb - 2022\",\n",
    "    yaxis_title='MMM Stock'\n",
    ")\n",
    "\n",
    "fig.show()"
   ]
  }
 ],
 "metadata": {
  "kernelspec": {
   "display_name": "Python 3.10.6 ('bulkenv')",
   "language": "python",
   "name": "python3"
  },
  "language_info": {
   "codemirror_mode": {
    "name": "ipython",
    "version": 3
   },
   "file_extension": ".py",
   "mimetype": "text/x-python",
   "name": "python",
   "nbconvert_exporter": "python",
   "pygments_lexer": "ipython3",
   "version": "3.10.6"
  },
  "orig_nbformat": 4,
  "vscode": {
   "interpreter": {
    "hash": "cc5465cf5904b5ae53dbe7fef49c06f7e9de627182621c3de1ab98783b77d35d"
   }
  }
 },
 "nbformat": 4,
 "nbformat_minor": 2
}
